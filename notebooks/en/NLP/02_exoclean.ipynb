{
  "cells": [
    {
      "cell_type": "markdown",
      "metadata": {},
      "source": [
        "# L’analyse fréquentiste par l’approche bag-of-words : intérêt et\n",
        "\n",
        "limites\n",
        "\n",
        "Lino Galiana  \n",
        "2024-10-31\n",
        "\n",
        "Pour avancer dans ce chapitre, nous avons besoin de quelques installations préalables:"
      ],
      "id": "d856dcd9-53ab-4595-b9fe-11c7a0c20a69"
    },
    {
      "cell_type": "code",
      "execution_count": 1,
      "metadata": {},
      "outputs": [],
      "source": [
        "!pip install spacy\n",
        "!python -m spacy download en_core_web_sm\n",
        "!python -m spacy download fr_core_news_sm"
      ],
      "id": "9bc802d9"
    },
    {
      "cell_type": "markdown",
      "metadata": {},
      "source": [
        "Il est également utile de définir la fonction suivante, issue de notre chapitre précédent :"
      ],
      "id": "96873bcf-920b-4549-acb1-64b2b0b3dbe0"
    },
    {
      "cell_type": "code",
      "execution_count": 2,
      "metadata": {},
      "outputs": [],
      "source": [
        "def clean_text(doc):\n",
        "    # Tokenize, remove stop words and punctuation, and lemmatize\n",
        "    cleaned_tokens = [\n",
        "        token.lemma_ for token in doc if not token.is_stop and not token.is_punct\n",
        "    ]\n",
        "    # Join tokens back into a single string\n",
        "    cleaned_text = \" \".join(cleaned_tokens)\n",
        "    return cleaned_text\n"
      ],
      "id": "07400da7"
    },
    {
      "cell_type": "markdown",
      "metadata": {},
      "source": [
        "# 1. Introduction\n",
        "\n",
        "Nous avons vu, précédemment, l’intérêt de nettoyer les données pour dégrossir le volume d’information présent dans nos données non structurées. L’objectif de ce chapitre est d’approfondir notre compréhension de l’approche fréquentiste appliquée aux données textuelles. Nous allons évoquer la manière dont cette analyse fréquentiste permet de synthétiser l’information présente dans un corpus textuel. Nous allons également voir la manière dont on peut raffiner l’approche *bag of words* en tenant compte de l’ordre de la proximité des termes dans une phrase.\n",
        "\n",
        "## 1.1 Données\n",
        "\n",
        "Nous allons reprendre le jeu de données anglo-saxon du chapitre précédent, à savoir\n",
        "des textes des auteurs fantastiques [Edgar Allan Poe](https://fr.wikipedia.org/wiki/Edgar_Allan_Poe) (*EAP*), [HP Lovecraft](https://fr.wikipedia.org/wiki/H._P._Lovecraft) (*HPL*) et [Mary Wollstonecraft Shelley](https://fr.wikipedia.org/wiki/Mary_Shelley) (*MWS*)."
      ],
      "id": "98085121-8352-4e77-921c-b17c04935e91"
    },
    {
      "cell_type": "code",
      "execution_count": 3,
      "metadata": {},
      "outputs": [],
      "source": [
        "import pandas as pd\n",
        "\n",
        "url = \"https://github.com/GU4243-ADS/spring2018-project1-ginnyqg/raw/master/data/spooky.csv\"\n",
        "# 1. Import des données\n",
        "horror = pd.read_csv(url, encoding=\"latin-1\")\n",
        "# 2. Majuscules aux noms des colonnes\n",
        "horror.columns = horror.columns.str.capitalize()\n",
        "# 3. Retirer le prefixe id\n",
        "horror[\"ID\"] = horror[\"Id\"].str.replace(\"id\", \"\")\n",
        "horror = horror.set_index(\"Id\")\n"
      ],
      "id": "b0dc7ff8"
    },
    {
      "cell_type": "markdown",
      "metadata": {},
      "source": [
        "``` python\n",
        "```\n",
        "\n",
        "# 2. La mesure TF-IDF (*term frequency - inverse document frequency*)\n",
        "\n",
        "## 2.1 La matrice documents - termes\n",
        "\n",
        "Comme nous l’avons évoqué précédemment, nous construisons une représentation synthétique de notre corpus comme un sac de mots dans lesquels on pioche plus ou moins fréquemment des mots selon leur fréquence d’apparition. C’est bien sûr une représentation simpliste de la réalité : les séquences de mots ne sont pas une suite aléatoire indépendante de mots.\n",
        "\n",
        "Cependant, avant d’évoquer ces enjeux, il nous reste à aller au bout de l’approche sac de mots. La représentation la plus caractéristique de ce paradigme est la matrice document-terme, principalement utilisée pour comparer des corpus. Celle-ci consiste à créer une matrice où chaque document est représenté par la présence ou l’absence des termes de notre corpus. L’idée est de compter le nombre de fois où les mots (les termes, en colonne) sont présents dans chaque phrase ou libellé (le document, en ligne). Cette matrice fournit alors une représentation numérique des données textuelles.\n",
        "\n",
        "Considérons un corpus constitué des trois phrases suivantes :\n",
        "\n",
        "-   *“La pratique du tricot et du crochet”*\n",
        "-   *“Transmettre la passion du timbre”*\n",
        "-   *“Vivre de sa passion”*\n",
        "\n",
        "La matrice document-terme associée à ce corpus est la suivante :\n",
        "\n",
        "|  | crochet | de | du | et | la | passion | pratique | sa | timbre | transmettre | tricot | vivre |\n",
        "|-------------------|:----:|:-:|:-:|:-:|:-:|:----:|:----:|:-:|:---:|:------:|:---:|:---:|\n",
        "| La pratique du tricot et du crochet | 1 | 0 | 2 | 1 | 1 | 0 | 1 | 0 | 0 | 0 | 1 | 0 |\n",
        "| Transmettre sa passion du timbre | 0 | 0 | 1 | 0 | 0 | 1 | 0 | 1 | 1 | 1 | 0 | 0 |\n",
        "| Vivre de sa passion | 0 | 1 | 0 | 0 | 0 | 1 | 0 | 1 | 0 | 0 | 0 | 1 |\n",
        "\n",
        "Chaque phrase du corpus est associée à un vecteur numérique. Par exemple,\n",
        "la phrase *“La pratique du tricot et du crochet”*, qui n’a pas de sens en soi pour une machine, devient un vecteur numérique intelligible pour elle égal à `[1, 0, 2, 1, 1, 0, 1, 0, 0, 0, 1, 0]`. Ce vecteur numérique est une représentation creuse (*sparse*) du langage puisque chaque document (ligne) ne comportera qu’une petite partie du vocabulaire total (l’ensemble des colonnes). Pour tous les mots qui n’apparaîtront pas dans le document, on aura des 0, d’où un vecteur *sparse*. Comme nous le verrons par la suite, cette représentation numérique diffère grandement des approches modernes d’*embeddings*, basées sur l’idée de représentation denses.\n",
        "\n",
        "## 2.2 Utilisation pour l’extraction d’informations\n",
        "\n",
        "Différents documents peuvent alors être rapprochés sur la base de ces mesures. C’est l’une des manières de procéder des moteurs de recherche même si les meilleurs utilisent des approches bien plus sophistiquées. La métrique [tf-idf](https://fr.wikipedia.org/wiki/TF-IDF) (*term frequency–inverse document frequency*)\n",
        "permet de calculer un score de proximité entre un terme de recherche et un\n",
        "document à partir de deux composantes :\n",
        "\n",
        "$$\n",
        "\\text{tf-idf}(t, d, D) = \\text{tf}(t, d) \\times \\text{idf}(t, D)\n",
        "$$\n",
        "\n",
        "avec $t$ un terme particulier (par exemple un mot), $d$ un document particulier et $D$ l’ensemble de documents dans le corpus.\n",
        "\n",
        "-   La partie `tf` calcule une fonction croissante de la fréquence du terme de recherche dans le document à l’étude ;\n",
        "\n",
        "-   La partie `idf` calcule une fonction inversement proportionnelle à la fréquence du terme dans l’ensemble des documents (ou corpus).\n",
        "\n",
        "-   La première partie (*term-frequency*, TF) est la fréquence d’apparition du terme terme $t$ dans le document $d$. Il existe des mesures de normalisation pour éviter de biaiser la mesure en cas de documents longs.\n",
        "\n",
        "$$\n",
        "\\text{tf}(t, d) = \\frac{f_{t,d}}{\\sum_{t' \\in d} f_{t',d}}\n",
        "$$\n",
        "\n",
        "où $f_{t,d}$ est le nombre brut de fois que le terme $t$ apparaît dans le document $d$ et le dénominateur est le nombre de termes dans le document $d$.\n",
        "\n",
        "-   La seconde partie (*inverse document frequency*, IDF) mesure la rareté, ou au contraire l’aspect commun, d’un terme dans l’ensemble du corpus. Si $N$ est le nombre total de documents dans le corpus $D$, cette partie de la mesure sera\n",
        "\n",
        "$$\n",
        "\\text{idf}(t, D) = \\log \\left( \\frac{N}{|\\{d \\in D : t \\in d\\}|} \\right)\n",
        "$$\n",
        "\n",
        "Le dénominateur $( |\\{d \\in D : t \\in d\\}| )$ correspond au nombre de documents contenant le terme $t$, s’il apparaît. Plus le mot est rare, plus sa présence dans un document sera surpondérée.\n",
        "\n",
        "De nombreux moteurs de recherche utilisent cette logique pour rechercher les documents les plus pertinents pour répondre à des termes de recherche. C’est notamment le cas d’ [`ElasticSearch`](https://www.elastic.co/fr/elasticsearch), le logiciel qui permet d’implémenter des moteurs de recherche efficaces. Pour classer les documents les plus pertinents par rapport à des termes de recherche, ce logiciel utilise notamment la mesure de distance [BM25](https://en.wikipedia.org/wiki/Okapi_BM25) qui est une version sophistiquée de la mesure TF-IDF.\n",
        "\n",
        "## 2.3 Exemple\n",
        "\n",
        "Prenons une illustration à partir d’un petit corpus. Le code suivant implémente une mesure TF-IDF. Celle-ci est légèrement différente de celle définie ci-dessus pour s’assurer de ne pas effectuer de division par zéro."
      ],
      "id": "9db3a905-8ef2-4383-86a1-3ef31535d1f8"
    },
    {
      "cell_type": "code",
      "execution_count": 8,
      "metadata": {},
      "outputs": [],
      "source": [
        "import numpy as np\n",
        "\n",
        "# Documents d'exemple\n",
        "documents = [\n",
        "    \"Le corbeau et le renard\",\n",
        "    \"Rusé comme un renard\",\n",
        "    \"Le chat est orange comme un renard\",\n",
        "]\n",
        "\n",
        "\n",
        "# Tokenisation\n",
        "def preprocess(doc):\n",
        "    return doc.lower().split()\n",
        "\n",
        "\n",
        "tokenized_docs = [preprocess(doc) for doc in documents]\n",
        "\n",
        "\n",
        "# Term frequency (TF)\n",
        "def term_frequency(term, tokenized_doc):\n",
        "    term_count = tokenized_doc.count(term)\n",
        "    return term_count / len(tokenized_doc)\n",
        "\n",
        "\n",
        "# Inverse document frequency (DF)\n",
        "def document_frequency(term, tokenized_docs):\n",
        "    return sum(1 for doc in tokenized_docs if term in doc)\n",
        "\n",
        "\n",
        "# Calculate inverse document frequency (IDF)\n",
        "def inverse_document_frequency(word, corpus):\n",
        "    # Normalisation avec + 1 pour éviter la division par zéro\n",
        "    count_of_documents = len(corpus) + 1\n",
        "    count_of_documents_with_word = sum([1 for doc in corpus if word in doc]) + 1\n",
        "    idf = np.log10(count_of_documents / count_of_documents_with_word) + 1\n",
        "    return idf\n",
        "\n",
        "\n",
        "# Calculate TF-IDF scores in each document\n",
        "def tf_idf_term(term):\n",
        "    tf_idf_scores = pd.DataFrame(\n",
        "        [\n",
        "            [\n",
        "                term_frequency(term, doc),\n",
        "                inverse_document_frequency(term, tokenized_docs),\n",
        "            ]\n",
        "            for doc in tokenized_docs\n",
        "        ],\n",
        "        columns=[\"TF\", \"IDF\"],\n",
        "    )\n",
        "    tf_idf_scores[\"TF-IDF\"] = tf_idf_scores[\"TF\"] * tf_idf_scores[\"IDF\"]\n",
        "    return tf_idf_scores\n"
      ],
      "id": "19c1cf94"
    },
    {
      "cell_type": "markdown",
      "metadata": {},
      "source": [
        "Commençons par calculer TF-IDF du mot “chat” pour chaque document. De manière\n",
        "naturelle, c’est le troisième document, le seul où apparaît le mot qui a la valeur maximale :"
      ],
      "id": "f6c81d59-57ac-46c0-88e8-0dd25e5e75b3"
    },
    {
      "cell_type": "code",
      "execution_count": 9,
      "metadata": {},
      "outputs": [
        {
          "output_type": "display_data",
          "metadata": {},
          "data": {
            "text/html": [
              "\n",
              "</div>"
            ]
          }
        }
      ],
      "source": [
        "tf_idf_term(\"chat\")\n"
      ],
      "id": "9a421f45"
    },
    {
      "cell_type": "markdown",
      "metadata": {},
      "source": [
        "Qu’en est-il du terme renard qui apparaît dans tous les documents (dont la partie $\\text{idf}$ est donc égale à 1) ? Dans ce cas, c’est le document où le mot est le plus fréquent, en l’occurrence le 2e, qui a la mesure maximale."
      ],
      "id": "a8fbe412-3054-45e2-84a5-9840194a92f6"
    },
    {
      "cell_type": "code",
      "execution_count": 10,
      "metadata": {},
      "outputs": [
        {
          "output_type": "display_data",
          "metadata": {},
          "data": {
            "text/html": [
              "\n",
              "</div>"
            ]
          }
        }
      ],
      "source": [
        "tf_idf_term(\"renard\")\n"
      ],
      "id": "e10661d3"
    },
    {
      "cell_type": "markdown",
      "metadata": {},
      "source": [
        "## 2.4 Application\n",
        "\n",
        "L’exemple précédent ne passait pas très bien à l’échelle. Heureusement, `Scikit` propose une implémentation de la recherche par vecteur TF-IDF que nous pouvons explorer avec un nouvel exercice."
      ],
      "id": "cdf925cd-ba58-410e-b8f9-92fed2ee234e"
    },
    {
      "cell_type": "markdown",
      "metadata": {},
      "source": [
        "<div class=\"alert alert-success\" role=\"alert\">\n",
        "<h3 class=\"alert-heading\"><i class=\"fa-solid fa-pencil\"></i> Exercice 6 : TF-IDF : calcul de fréquence</h3>\n",
        "\n",
        "1.  Utiliser le vectoriseur TF-IdF de `scikit-learn` pour transformer notre corpus en une matrice `document x terms`. Au passage, utiliser l’option `stop_words` pour ne pas provoquer une inflation de la taille de la matrice. Nommer le modèle `tfidf` et le jeu entraîné `tfs`.\n",
        "2.  Après avoir construit la matrice de documents x terms avec le code suivant, rechercher les lignes où les termes ayant la structure `abandon` sont non-nuls.\n",
        "3.  Trouver les 50 extraits où le score TF-IDF du mot *“fear”* est le plus élevé et l’auteur associé. Déterminer la répartition des auteurs dans ces 50 documents.\n",
        "4.  Observer les 10 scores où TF-IDF de *“fear”* sont les plus élevés\n",
        "\n",
        "<details>\n",
        "\n",
        "<summary>\n",
        "\n",
        "Aide pour la question 2\n",
        "\n",
        "</summary>\n",
        "\n",
        "``` python\n",
        "feature_names = tfidf.get_feature_names_out()\n",
        "corpus_index = [n for n in list(tfidf.vocabulary_.keys())]\n",
        "horror_dense = pd.DataFrame(tfs.todense(), columns=feature_names)\n",
        "```\n",
        "\n",
        "</details>\n",
        "\n",
        "</div>"
      ],
      "id": "37d234d5-dd99-4628-942e-f906f77e39d0"
    },
    {
      "cell_type": "markdown",
      "metadata": {},
      "source": [
        "Le vectoriseur obtenu à l’issue de la question 1 est\n",
        "le suivant :"
      ],
      "id": "e1a4eb14-a733-4eaa-90b2-9f20c6fd5ce0"
    },
    {
      "cell_type": "code",
      "execution_count": 11,
      "metadata": {},
      "outputs": [
        {
          "output_type": "display_data",
          "metadata": {},
          "data": {
            "text/html": [
              "<style>#sk-container-id-1 {\n",
              "  /* Definition of color scheme common for light and dark mode */\n",
              "  --sklearn-color-text: black;\n",
              "  --sklearn-color-line: gray;\n",
              "  /* Definition of color scheme for unfitted estimators */\n",
              "  --sklearn-color-unfitted-level-0: #fff5e6;\n",
              "  --sklearn-color-unfitted-level-1: #f6e4d2;\n",
              "  --sklearn-color-unfitted-level-2: #ffe0b3;\n",
              "  --sklearn-color-unfitted-level-3: chocolate;\n",
              "  /* Definition of color scheme for fitted estimators */\n",
              "  --sklearn-color-fitted-level-0: #f0f8ff;\n",
              "  --sklearn-color-fitted-level-1: #d4ebff;\n",
              "  --sklearn-color-fitted-level-2: #b3dbfd;\n",
              "  --sklearn-color-fitted-level-3: cornflowerblue;\n",
              "\n",
              "  /* Specific color for light theme */\n",
              "  --sklearn-color-text-on-default-background: var(--sg-text-color, var(--theme-code-foreground, var(--jp-content-font-color1, black)));\n",
              "  --sklearn-color-background: var(--sg-background-color, var(--theme-background, var(--jp-layout-color0, white)));\n",
              "  --sklearn-color-border-box: var(--sg-text-color, var(--theme-code-foreground, var(--jp-content-font-color1, black)));\n",
              "  --sklearn-color-icon: #696969;\n",
              "\n",
              "  @media (prefers-color-scheme: dark) {\n",
              "    /* Redefinition of color scheme for dark theme */\n",
              "    --sklearn-color-text-on-default-background: var(--sg-text-color, var(--theme-code-foreground, var(--jp-content-font-color1, white)));\n",
              "    --sklearn-color-background: var(--sg-background-color, var(--theme-background, var(--jp-layout-color0, #111)));\n",
              "    --sklearn-color-border-box: var(--sg-text-color, var(--theme-code-foreground, var(--jp-content-font-color1, white)));\n",
              "    --sklearn-color-icon: #878787;\n",
              "  }\n",
              "}\n",
              "\n",
              "#sk-container-id-1 {\n",
              "  color: var(--sklearn-color-text);\n",
              "}\n",
              "\n",
              "#sk-container-id-1 pre {\n",
              "  padding: 0;\n",
              "}\n",
              "\n",
              "#sk-container-id-1 input.sk-hidden--visually {\n",
              "  border: 0;\n",
              "  clip: rect(1px 1px 1px 1px);\n",
              "  clip: rect(1px, 1px, 1px, 1px);\n",
              "  height: 1px;\n",
              "  margin: -1px;\n",
              "  overflow: hidden;\n",
              "  padding: 0;\n",
              "  position: absolute;\n",
              "  width: 1px;\n",
              "}\n",
              "\n",
              "#sk-container-id-1 div.sk-dashed-wrapped {\n",
              "  border: 1px dashed var(--sklearn-color-line);\n",
              "  margin: 0 0.4em 0.5em 0.4em;\n",
              "  box-sizing: border-box;\n",
              "  padding-bottom: 0.4em;\n",
              "  background-color: var(--sklearn-color-background);\n",
              "}\n",
              "\n",
              "#sk-container-id-1 div.sk-container {\n",
              "  /* jupyter's `normalize.less` sets `[hidden] { display: none; }`\n",
              "     but bootstrap.min.css set `[hidden] { display: none !important; }`\n",
              "     so we also need the `!important` here to be able to override the\n",
              "     default hidden behavior on the sphinx rendered scikit-learn.org.\n",
              "     See: https://github.com/scikit-learn/scikit-learn/issues/21755 */\n",
              "  display: inline-block !important;\n",
              "  position: relative;\n",
              "}\n",
              "\n",
              "#sk-container-id-1 div.sk-text-repr-fallback {\n",
              "  display: none;\n",
              "}\n",
              "\n",
              "div.sk-parallel-item,\n",
              "div.sk-serial,\n",
              "div.sk-item {\n",
              "  /* draw centered vertical line to link estimators */\n",
              "  background-image: linear-gradient(var(--sklearn-color-text-on-default-background), var(--sklearn-color-text-on-default-background));\n",
              "  background-size: 2px 100%;\n",
              "  background-repeat: no-repeat;\n",
              "  background-position: center center;\n",
              "}\n",
              "\n",
              "/* Parallel-specific style estimator block */\n",
              "\n",
              "#sk-container-id-1 div.sk-parallel-item::after {\n",
              "  content: \"\";\n",
              "  width: 100%;\n",
              "  border-bottom: 2px solid var(--sklearn-color-text-on-default-background);\n",
              "  flex-grow: 1;\n",
              "}\n",
              "\n",
              "#sk-container-id-1 div.sk-parallel {\n",
              "  display: flex;\n",
              "  align-items: stretch;\n",
              "  justify-content: center;\n",
              "  background-color: var(--sklearn-color-background);\n",
              "  position: relative;\n",
              "}\n",
              "\n",
              "#sk-container-id-1 div.sk-parallel-item {\n",
              "  display: flex;\n",
              "  flex-direction: column;\n",
              "}\n",
              "\n",
              "#sk-container-id-1 div.sk-parallel-item:first-child::after {\n",
              "  align-self: flex-end;\n",
              "  width: 50%;\n",
              "}\n",
              "\n",
              "#sk-container-id-1 div.sk-parallel-item:last-child::after {\n",
              "  align-self: flex-start;\n",
              "  width: 50%;\n",
              "}\n",
              "\n",
              "#sk-container-id-1 div.sk-parallel-item:only-child::after {\n",
              "  width: 0;\n",
              "}\n",
              "\n",
              "/* Serial-specific style estimator block */\n",
              "\n",
              "#sk-container-id-1 div.sk-serial {\n",
              "  display: flex;\n",
              "  flex-direction: column;\n",
              "  align-items: center;\n",
              "  background-color: var(--sklearn-color-background);\n",
              "  padding-right: 1em;\n",
              "  padding-left: 1em;\n",
              "}\n",
              "\n",
              "\n",
              "/* Toggleable style: style used for estimator/Pipeline/ColumnTransformer box that is\n",
              "clickable and can be expanded/collapsed.\n",
              "- Pipeline and ColumnTransformer use this feature and define the default style\n",
              "- Estimators will overwrite some part of the style using the `sk-estimator` class\n",
              "*/\n",
              "\n",
              "/* Pipeline and ColumnTransformer style (default) */\n",
              "\n",
              "#sk-container-id-1 div.sk-toggleable {\n",
              "  /* Default theme specific background. It is overwritten whether we have a\n",
              "  specific estimator or a Pipeline/ColumnTransformer */\n",
              "  background-color: var(--sklearn-color-background);\n",
              "}\n",
              "\n",
              "/* Toggleable label */\n",
              "#sk-container-id-1 label.sk-toggleable__label {\n",
              "  cursor: pointer;\n",
              "  display: block;\n",
              "  width: 100%;\n",
              "  margin-bottom: 0;\n",
              "  padding: 0.5em;\n",
              "  box-sizing: border-box;\n",
              "  text-align: center;\n",
              "}\n",
              "\n",
              "#sk-container-id-1 label.sk-toggleable__label-arrow:before {\n",
              "  /* Arrow on the left of the label */\n",
              "  content: \"▸\";\n",
              "  float: left;\n",
              "  margin-right: 0.25em;\n",
              "  color: var(--sklearn-color-icon);\n",
              "}\n",
              "\n",
              "#sk-container-id-1 label.sk-toggleable__label-arrow:hover:before {\n",
              "  color: var(--sklearn-color-text);\n",
              "}\n",
              "\n",
              "/* Toggleable content - dropdown */\n",
              "\n",
              "#sk-container-id-1 div.sk-toggleable__content {\n",
              "  max-height: 0;\n",
              "  max-width: 0;\n",
              "  overflow: hidden;\n",
              "  text-align: left;\n",
              "  /* unfitted */\n",
              "  background-color: var(--sklearn-color-unfitted-level-0);\n",
              "}\n",
              "\n",
              "#sk-container-id-1 div.sk-toggleable__content.fitted {\n",
              "  /* fitted */\n",
              "  background-color: var(--sklearn-color-fitted-level-0);\n",
              "}\n",
              "\n",
              "#sk-container-id-1 div.sk-toggleable__content pre {\n",
              "  margin: 0.2em;\n",
              "  border-radius: 0.25em;\n",
              "  color: var(--sklearn-color-text);\n",
              "  /* unfitted */\n",
              "  background-color: var(--sklearn-color-unfitted-level-0);\n",
              "}\n",
              "\n",
              "#sk-container-id-1 div.sk-toggleable__content.fitted pre {\n",
              "  /* unfitted */\n",
              "  background-color: var(--sklearn-color-fitted-level-0);\n",
              "}\n",
              "\n",
              "#sk-container-id-1 input.sk-toggleable__control:checked~div.sk-toggleable__content {\n",
              "  /* Expand drop-down */\n",
              "  max-height: 200px;\n",
              "  max-width: 100%;\n",
              "  overflow: auto;\n",
              "}\n",
              "\n",
              "#sk-container-id-1 input.sk-toggleable__control:checked~label.sk-toggleable__label-arrow:before {\n",
              "  content: \"▾\";\n",
              "}\n",
              "\n",
              "/* Pipeline/ColumnTransformer-specific style */\n",
              "\n",
              "#sk-container-id-1 div.sk-label input.sk-toggleable__control:checked~label.sk-toggleable__label {\n",
              "  color: var(--sklearn-color-text);\n",
              "  background-color: var(--sklearn-color-unfitted-level-2);\n",
              "}\n",
              "\n",
              "#sk-container-id-1 div.sk-label.fitted input.sk-toggleable__control:checked~label.sk-toggleable__label {\n",
              "  background-color: var(--sklearn-color-fitted-level-2);\n",
              "}\n",
              "\n",
              "/* Estimator-specific style */\n",
              "\n",
              "/* Colorize estimator box */\n",
              "#sk-container-id-1 div.sk-estimator input.sk-toggleable__control:checked~label.sk-toggleable__label {\n",
              "  /* unfitted */\n",
              "  background-color: var(--sklearn-color-unfitted-level-2);\n",
              "}\n",
              "\n",
              "#sk-container-id-1 div.sk-estimator.fitted input.sk-toggleable__control:checked~label.sk-toggleable__label {\n",
              "  /* fitted */\n",
              "  background-color: var(--sklearn-color-fitted-level-2);\n",
              "}\n",
              "\n",
              "#sk-container-id-1 div.sk-label label.sk-toggleable__label,\n",
              "#sk-container-id-1 div.sk-label label {\n",
              "  /* The background is the default theme color */\n",
              "  color: var(--sklearn-color-text-on-default-background);\n",
              "}\n",
              "\n",
              "/* On hover, darken the color of the background */\n",
              "#sk-container-id-1 div.sk-label:hover label.sk-toggleable__label {\n",
              "  color: var(--sklearn-color-text);\n",
              "  background-color: var(--sklearn-color-unfitted-level-2);\n",
              "}\n",
              "\n",
              "/* Label box, darken color on hover, fitted */\n",
              "#sk-container-id-1 div.sk-label.fitted:hover label.sk-toggleable__label.fitted {\n",
              "  color: var(--sklearn-color-text);\n",
              "  background-color: var(--sklearn-color-fitted-level-2);\n",
              "}\n",
              "\n",
              "/* Estimator label */\n",
              "\n",
              "#sk-container-id-1 div.sk-label label {\n",
              "  font-family: monospace;\n",
              "  font-weight: bold;\n",
              "  display: inline-block;\n",
              "  line-height: 1.2em;\n",
              "}\n",
              "\n",
              "#sk-container-id-1 div.sk-label-container {\n",
              "  text-align: center;\n",
              "}\n",
              "\n",
              "/* Estimator-specific */\n",
              "#sk-container-id-1 div.sk-estimator {\n",
              "  font-family: monospace;\n",
              "  border: 1px dotted var(--sklearn-color-border-box);\n",
              "  border-radius: 0.25em;\n",
              "  box-sizing: border-box;\n",
              "  margin-bottom: 0.5em;\n",
              "  /* unfitted */\n",
              "  background-color: var(--sklearn-color-unfitted-level-0);\n",
              "}\n",
              "\n",
              "#sk-container-id-1 div.sk-estimator.fitted {\n",
              "  /* fitted */\n",
              "  background-color: var(--sklearn-color-fitted-level-0);\n",
              "}\n",
              "\n",
              "/* on hover */\n",
              "#sk-container-id-1 div.sk-estimator:hover {\n",
              "  /* unfitted */\n",
              "  background-color: var(--sklearn-color-unfitted-level-2);\n",
              "}\n",
              "\n",
              "#sk-container-id-1 div.sk-estimator.fitted:hover {\n",
              "  /* fitted */\n",
              "  background-color: var(--sklearn-color-fitted-level-2);\n",
              "}\n",
              "\n",
              "/* Specification for estimator info (e.g. \"i\" and \"?\") */\n",
              "\n",
              "/* Common style for \"i\" and \"?\" */\n",
              "\n",
              ".sk-estimator-doc-link,\n",
              "a:link.sk-estimator-doc-link,\n",
              "a:visited.sk-estimator-doc-link {\n",
              "  float: right;\n",
              "  font-size: smaller;\n",
              "  line-height: 1em;\n",
              "  font-family: monospace;\n",
              "  background-color: var(--sklearn-color-background);\n",
              "  border-radius: 1em;\n",
              "  height: 1em;\n",
              "  width: 1em;\n",
              "  text-decoration: none !important;\n",
              "  margin-left: 1ex;\n",
              "  /* unfitted */\n",
              "  border: var(--sklearn-color-unfitted-level-1) 1pt solid;\n",
              "  color: var(--sklearn-color-unfitted-level-1);\n",
              "}\n",
              "\n",
              ".sk-estimator-doc-link.fitted,\n",
              "a:link.sk-estimator-doc-link.fitted,\n",
              "a:visited.sk-estimator-doc-link.fitted {\n",
              "  /* fitted */\n",
              "  border: var(--sklearn-color-fitted-level-1) 1pt solid;\n",
              "  color: var(--sklearn-color-fitted-level-1);\n",
              "}\n",
              "\n",
              "/* On hover */\n",
              "div.sk-estimator:hover .sk-estimator-doc-link:hover,\n",
              ".sk-estimator-doc-link:hover,\n",
              "div.sk-label-container:hover .sk-estimator-doc-link:hover,\n",
              ".sk-estimator-doc-link:hover {\n",
              "  /* unfitted */\n",
              "  background-color: var(--sklearn-color-unfitted-level-3);\n",
              "  color: var(--sklearn-color-background);\n",
              "  text-decoration: none;\n",
              "}\n",
              "\n",
              "div.sk-estimator.fitted:hover .sk-estimator-doc-link.fitted:hover,\n",
              ".sk-estimator-doc-link.fitted:hover,\n",
              "div.sk-label-container:hover .sk-estimator-doc-link.fitted:hover,\n",
              ".sk-estimator-doc-link.fitted:hover {\n",
              "  /* fitted */\n",
              "  background-color: var(--sklearn-color-fitted-level-3);\n",
              "  color: var(--sklearn-color-background);\n",
              "  text-decoration: none;\n",
              "}\n",
              "\n",
              "/* Span, style for the box shown on hovering the info icon */\n",
              ".sk-estimator-doc-link span {\n",
              "  display: none;\n",
              "  z-index: 9999;\n",
              "  position: relative;\n",
              "  font-weight: normal;\n",
              "  right: .2ex;\n",
              "  padding: .5ex;\n",
              "  margin: .5ex;\n",
              "  width: min-content;\n",
              "  min-width: 20ex;\n",
              "  max-width: 50ex;\n",
              "  color: var(--sklearn-color-text);\n",
              "  box-shadow: 2pt 2pt 4pt #999;\n",
              "  /* unfitted */\n",
              "  background: var(--sklearn-color-unfitted-level-0);\n",
              "  border: .5pt solid var(--sklearn-color-unfitted-level-3);\n",
              "}\n",
              "\n",
              ".sk-estimator-doc-link.fitted span {\n",
              "  /* fitted */\n",
              "  background: var(--sklearn-color-fitted-level-0);\n",
              "  border: var(--sklearn-color-fitted-level-3);\n",
              "}\n",
              "\n",
              ".sk-estimator-doc-link:hover span {\n",
              "  display: block;\n",
              "}\n",
              "\n",
              "/* \"?\"-specific style due to the `<a>` HTML tag */\n",
              "\n",
              "#sk-container-id-1 a.estimator_doc_link {\n",
              "  float: right;\n",
              "  font-size: 1rem;\n",
              "  line-height: 1em;\n",
              "  font-family: monospace;\n",
              "  background-color: var(--sklearn-color-background);\n",
              "  border-radius: 1rem;\n",
              "  height: 1rem;\n",
              "  width: 1rem;\n",
              "  text-decoration: none;\n",
              "  /* unfitted */\n",
              "  color: var(--sklearn-color-unfitted-level-1);\n",
              "  border: var(--sklearn-color-unfitted-level-1) 1pt solid;\n",
              "}\n",
              "\n",
              "#sk-container-id-1 a.estimator_doc_link.fitted {\n",
              "  /* fitted */\n",
              "  border: var(--sklearn-color-fitted-level-1) 1pt solid;\n",
              "  color: var(--sklearn-color-fitted-level-1);\n",
              "}\n",
              "\n",
              "/* On hover */\n",
              "#sk-container-id-1 a.estimator_doc_link:hover {\n",
              "  /* unfitted */\n",
              "  background-color: var(--sklearn-color-unfitted-level-3);\n",
              "  color: var(--sklearn-color-background);\n",
              "  text-decoration: none;\n",
              "}\n",
              "\n",
              "#sk-container-id-1 a.estimator_doc_link.fitted:hover {\n",
              "  /* fitted */\n",
              "  background-color: var(--sklearn-color-fitted-level-3);\n",
              "}\n",
              "</style><div id=\"sk-container-id-1\" class=\"sk-top-container\"><div class=\"sk-text-repr-fallback\"><pre>TfidfVectorizer(stop_words=[&#x27;much&#x27;, &#x27;may&#x27;, &#x27;ten&#x27;, &#x27;last&#x27;, &#x27;until&#x27;, &quot;&#x27;re&quot;,\n",
              "                            &#x27;herself&#x27;, &#x27;whether&#x27;, &#x27;ourselves&#x27;, &#x27;somewhere&#x27;,\n",
              "                            &#x27;please&#x27;, &#x27;seem&#x27;, &#x27;part&#x27;, &#x27;whence&#x27;, &#x27;our&#x27;, &#x27;down&#x27;,\n",
              "                            &#x27;move&#x27;, &quot;&#x27;ve&quot;, &#x27;more&#x27;, &#x27;see&#x27;, &#x27;herein&#x27;, &#x27;again&#x27;,\n",
              "                            &#x27;hereby&#x27;, &#x27;ours&#x27;, &#x27;hundred&#x27;, &#x27;being&#x27;, &#x27;must&#x27;,\n",
              "                            &#x27;among&#x27;, &#x27;them&#x27;, &quot;&#x27;d&quot;, ...])</pre><b>In a Jupyter environment, please rerun this cell to show the HTML representation or trust the notebook. <br />On GitHub, the HTML representation is unable to render, please try loading this page with nbviewer.org.</b></div><div class=\"sk-container\" hidden><div class=\"sk-item\"><div class=\"sk-estimator  sk-toggleable\"><input class=\"sk-toggleable__control sk-hidden--visually\" id=\"sk-estimator-id-1\" type=\"checkbox\" checked><label for=\"sk-estimator-id-1\" class=\"sk-toggleable__label  sk-toggleable__label-arrow \">&nbsp;&nbsp;TfidfVectorizer<a class=\"sk-estimator-doc-link \" rel=\"noreferrer\" target=\"_blank\" href=\"https://scikit-learn.org/1.5/modules/generated/sklearn.feature_extraction.text.TfidfVectorizer.html\">?<span>Documentation for TfidfVectorizer</span></a><span class=\"sk-estimator-doc-link \">i<span>Not fitted</span></span></label><div class=\"sk-toggleable__content \"><pre>TfidfVectorizer(stop_words=[&#x27;much&#x27;, &#x27;may&#x27;, &#x27;ten&#x27;, &#x27;last&#x27;, &#x27;until&#x27;, &quot;&#x27;re&quot;,\n",
              "                            &#x27;herself&#x27;, &#x27;whether&#x27;, &#x27;ourselves&#x27;, &#x27;somewhere&#x27;,\n",
              "                            &#x27;please&#x27;, &#x27;seem&#x27;, &#x27;part&#x27;, &#x27;whence&#x27;, &#x27;our&#x27;, &#x27;down&#x27;,\n",
              "                            &#x27;move&#x27;, &quot;&#x27;ve&quot;, &#x27;more&#x27;, &#x27;see&#x27;, &#x27;herein&#x27;, &#x27;again&#x27;,\n",
              "                            &#x27;hereby&#x27;, &#x27;ours&#x27;, &#x27;hundred&#x27;, &#x27;being&#x27;, &#x27;must&#x27;,\n",
              "                            &#x27;among&#x27;, &#x27;them&#x27;, &quot;&#x27;d&quot;, ...])</pre></div> </div></div></div></div>"
            ]
          }
        }
      ],
      "source": [],
      "id": "c2db81cb"
    },
    {
      "cell_type": "code",
      "execution_count": 12,
      "metadata": {},
      "outputs": [
        {
          "output_type": "stream",
          "name": "stderr",
          "text": [
            "/opt/conda/lib/python3.12/site-packages/sklearn/feature_extraction/text.py:406: UserWarning:\n",
            "\n",
            "Your stop_words may be inconsistent with your preprocessing. Tokenizing the stop words generated tokens ['ll', 've'] not in stop_words.\n"
          ]
        }
      ],
      "source": [],
      "id": "b1548670"
    },
    {
      "cell_type": "code",
      "execution_count": 13,
      "metadata": {},
      "outputs": [
        {
          "output_type": "display_data",
          "metadata": {},
          "data": {
            "text/html": [
              "\n",
              "<p>5 rows × 24783 columns</p>\n",
              "</div>"
            ]
          }
        }
      ],
      "source": [],
      "id": "43a900b1"
    },
    {
      "cell_type": "markdown",
      "metadata": {},
      "source": [
        "Les lignes où le terme *“abandon”* apparait\n",
        "sont les suivantes (question 2) :"
      ],
      "id": "4463258b-d347-4d18-99c9-1b969837a223"
    },
    {
      "cell_type": "code",
      "execution_count": 14,
      "metadata": {},
      "outputs": [
        {
          "output_type": "stream",
          "name": "stdout",
          "text": [
            "Index([    4,   116,   215,   571,   839,  1042,  1052,  1069,  2247,  2317,\n",
            "        2505,  3023,  3058,  3245,  3380,  3764,  3886,  4425,  5289,  5576,\n",
            "        5694,  6812,  7500,  9013,  9021,  9077,  9560, 11229, 11395, 11451,\n",
            "       11588, 11827, 11989, 11998, 12122, 12158, 12189, 13666, 15259, 16516,\n",
            "       16524, 16759, 17547, 18019, 18072, 18126, 18204, 18251],\n",
            "      dtype='int64')"
          ]
        }
      ],
      "source": [],
      "id": "26327450"
    },
    {
      "cell_type": "markdown",
      "metadata": {},
      "source": [
        "La matrice document-terme associée à celles-ci est la suivante :"
      ],
      "id": "305709cc-6cce-4a3d-8f58-670463fb8a0d"
    },
    {
      "cell_type": "code",
      "execution_count": 15,
      "metadata": {},
      "outputs": [
        {
          "output_type": "display_data",
          "metadata": {},
          "data": {
            "text/html": [
              "\n",
              "<p>5 rows × 24783 columns</p>\n",
              "</div>"
            ]
          }
        }
      ],
      "source": [],
      "id": "0b15535e"
    },
    {
      "cell_type": "markdown",
      "metadata": {},
      "source": [
        "On remarque ici l’inconvénient de ne pas avoir fait de racinisation. Les variations\n",
        "de *“abandon”* sont éclatées sur de nombreuses colonnes. *“abandoned”* est aussi différent d’*“abandon”* que de *“fear”*. C’est l’un des problèmes de l’approche *bag of words*."
      ],
      "id": "aa4b187c-b019-4088-935a-776b5a08f60c"
    },
    {
      "cell_type": "code",
      "execution_count": 16,
      "metadata": {},
      "outputs": [
        {
          "output_type": "display_data",
          "metadata": {},
          "data": {
            "text/plain": [
              "Text    50\n",
              "dtype: int64"
            ]
          }
        }
      ],
      "source": [],
      "id": "cb7415a7"
    },
    {
      "cell_type": "markdown",
      "metadata": {},
      "source": [
        "Les 10 scores les plus élevés sont les suivants :"
      ],
      "id": "a544a4a9-929a-4526-b1d6-916a9208a280"
    },
    {
      "cell_type": "code",
      "execution_count": 17,
      "metadata": {},
      "outputs": [
        {
          "output_type": "display_data",
          "metadata": {},
          "data": {
            "text/plain": [
              "['We could not fear we did not.',\n",
              " '\"And now I do not fear death.',\n",
              " 'Be of heart and fear nothing.',\n",
              " 'Indeed I had no fear on her account.',\n",
              " 'I smiled, for what had I to fear?',\n",
              " 'I did not like everything about what I saw, and felt again the fear I had had.',\n",
              " 'At length, in an abrupt manner she asked, \"Where is he?\" \"O, fear not,\" she continued, \"fear not that I should entertain hope Yet tell me, have you found him?',\n",
              " 'I have not the slightest fear for the result.',\n",
              " '\"I fear you are right there,\" said the Prefect.']"
            ]
          }
        }
      ],
      "source": [],
      "id": "178418c2"
    },
    {
      "cell_type": "markdown",
      "metadata": {},
      "source": [
        "On remarque que les scores les plus élevés sont soient des extraits courts où le mot apparait une seule fois, soit des extraits plus longs où le mot *“fear”* apparaît plusieurs fois.\n",
        "\n",
        "# 3. Un premier enrichissement de l’approche sac de mots : les *n-grams*\n",
        "\n",
        "Nous avons évoqué deux principales limites à l’approche sac de mot : l’absence de prise en compte du contexte et la représentation *sparse* du langage qui rend les rapprochements entre texte parfois moyennement pertinents. Dans le paradigme du sac de mots, il est néanmoins possible de prendre en compte la séquence d’enchainement de sèmes (*tokens*) par le biais des *ngrams*.\n",
        "\n",
        "Pour rappel, jusqu’à présent, dans l’approche *bag of words*, l’ordre des mots n’avait pas d’importance.\n",
        "On considère qu’un texte est une collection de\n",
        "mots tirés indépendamment, de manière plus ou moins fréquente en fonction de leur probabilité\n",
        "d’occurrence. Cependant, tirer un mot particulier n’affecte pas les chances de tirer certains mots\n",
        "ensuite, de manière conditionnelle.\n",
        "\n",
        "Une manière d’introduire des liens entre les séries de *tokens* sont les *n-grams*.\n",
        "On s’intéresse non seulement aux mots et à leur fréquence, mais aussi aux mots qui suivent. Cette approche est essentielle pour désambiguiser les homonymes. Le calcul de *n-grams* [1] constitue la méthode la plus simple pour tenir compte du contexte.\n",
        "\n",
        "Pour être en mesure de mener cette analyse, il est nécessaire de télécharger un corpus supplémentaire :\n",
        "\n",
        "[1] On parle de *bigrams* pour les co-occurences de mots deux-à-deux, *trigrams* pour les co-occurences trois-à-trois, etc."
      ],
      "id": "d917398f-f9cb-4032-a78a-0f768925350b"
    },
    {
      "cell_type": "code",
      "execution_count": 18,
      "metadata": {},
      "outputs": [
        {
          "output_type": "stream",
          "name": "stderr",
          "text": [
            "[nltk_data] Downloading package genesis to /github/home/nltk_data...\n",
            "[nltk_data]   Package genesis is already up-to-date!"
          ]
        },
        {
          "output_type": "display_data",
          "metadata": {},
          "data": {
            "text/plain": [
              "['In', 'the', 'beginning', 'God', 'created', 'the', ...]"
            ]
          }
        }
      ],
      "source": [
        "import nltk\n",
        "\n",
        "nltk.download(\"genesis\")\n",
        "nltk.corpus.genesis.words(\"english-web.txt\")\n"
      ],
      "id": "02432f7b"
    },
    {
      "cell_type": "markdown",
      "metadata": {},
      "source": [
        "`NLTK` offre des methodes pour tenir compte du contexte. Pour ce faire, nous calculons les n-grams, c’est-à-dire l’ensemble des co-occurrences successives de mots n-à-n. En général, on se contente de bi-grams, au mieux de tri-grams :\n",
        "\n",
        "-   les modèles de classification, analyse du sentiment, comparaison de documents, etc. qui comparent des n-grams avec n trop grands sont rapidement confrontés au problème de données sparse, cela réduit la capacité prédictive des modèles ;\n",
        "-   les performances décroissent très rapidement en fonction de n, et les coûts de stockage des données augmentent rapidement (environ n fois plus élevé que la base de données initiale).\n",
        "\n",
        "On va, rapidement, regarder dans quel contexte apparaît le mot `fear` dans\n",
        "l’oeuvre d’Edgar Allan Poe (EAP). Pour cela, on transforme d’abord\n",
        "le corpus EAP en tokens `NLTK` :"
      ],
      "id": "a84bfc5d-4017-480a-9b0c-657842cf687b"
    },
    {
      "cell_type": "code",
      "execution_count": 19,
      "metadata": {},
      "outputs": [
        {
          "output_type": "stream",
          "name": "stdout",
          "text": [
            "['This', 'process,', 'however,', 'afforded', 'me', 'no', 'means', 'of', 'ascertaining', 'the']\n",
            "<Text: This process, however, afforded me no means of...>"
          ]
        }
      ],
      "source": [
        "eap_clean = horror.loc[horror[\"Author\"] == \"EAP\"]\n",
        "eap_clean = \" \".join(eap_clean[\"Text\"])\n",
        "tokens = eap_clean.split()\n",
        "print(tokens[:10])\n",
        "text = nltk.Text(tokens)\n",
        "print(text)\n"
      ],
      "id": "fa1bf48e"
    },
    {
      "cell_type": "markdown",
      "metadata": {},
      "source": [
        "Vous aurez besoin des fonctions `BigramCollocationFinder.from_words` et `BigramAssocMeasures.likelihood_ratio` :"
      ],
      "id": "82f9cb27-1ac1-4d67-a928-100a4c29abd4"
    },
    {
      "cell_type": "markdown",
      "metadata": {},
      "source": [
        "<div class=\"alert alert-success\" role=\"alert\">\n",
        "<h3 class=\"alert-heading\"><i class=\"fa-solid fa-pencil\"></i> Exercice 7  : n-grams et contexte du mot fear</h3>\n",
        "\n",
        "1.  Utiliser la méthode `concordance` pour afficher le contexte dans lequel apparaît le terme `fear`.\n",
        "2.  Sélectionner et afficher les meilleures collocations, par exemple selon le critère du ratio de vraisemblance.\n",
        "\n",
        "Lorsque deux mots sont fortement associés, cela est parfois dû au fait qu’ils apparaissent rarement. Il est donc parfois nécessaire d’appliquer des filtres, par exemple ignorer les bigrammes qui apparaissent moins de 5 fois dans le corpus.\n",
        "\n",
        "1.  Refaire la question précédente en utilisant toujours un modèle `BigramCollocationFinder` suivi de la méthode `apply_freq_filter` pour ne conserver que les bigrammes présents au moins 5 fois. Puis, au lieu d’utiliser la méthode de maximum de vraisemblance, testez la méthode `nltk.collocations.BigramAssocMeasures().jaccard`.\n",
        "\n",
        "2.  Ne s’intéresser qu’aux *collocations* qui concernent le mot *fear*\n",
        "\n",
        "</div>"
      ],
      "id": "74448d56-73e3-4693-9822-15f7b3a66e3a"
    },
    {
      "cell_type": "markdown",
      "metadata": {},
      "source": [
        "Avec la méthode `concordance` (question 1),\n",
        "la liste devrait ressembler à celle-ci :"
      ],
      "id": "a454cd79-d4db-44f5-b924-be9e3675fede"
    },
    {
      "cell_type": "code",
      "execution_count": 21,
      "metadata": {},
      "outputs": [
        {
          "output_type": "stream",
          "name": "stdout",
          "text": [
            "Exemples d'occurences du terme 'fear' :\n",
            "Displaying 13 of 13 matches:\n",
            "d quick unequal spoken apparently in fear as well as in anger. What he said wa\n",
            "hutters were close fastened, through fear of robbers, and so I knew that he co\n",
            "to details. I even went so far as to fear that, as I occasioned much trouble, \n",
            "years of age, was heard to express a fear \"that she should never see Marie aga\n",
            "ich must be entirely remodelled, for fear of serious accident I mean the steel\n",
            " my arm, and I attended her home. 'I fear that I shall never see Marie again.'\n",
            "clusion here is absurd. \"I very much fear it is so,\" replied Monsieur Maillard\n",
            "bt of ultimately seeing the Pole. \"I fear you are right there,\" said the Prefe\n",
            "er occurred before.' Indeed I had no fear on her account. For a moment there w\n",
            "erhaps so,\" said I; \"but, Legrand, I fear you are no artist. It is my firm int\n",
            " raps with a hammer. Be of heart and fear nothing. My daughter, Mademoiselle M\n",
            "e splendor. I have not the slightest fear for the result. The face was so far \n",
            "arriers of iron that hemmed me in. I fear you have mesmerized\" adding immediat\n",
            "\n"
          ]
        }
      ],
      "source": [],
      "id": "ba647a61"
    },
    {
      "cell_type": "markdown",
      "metadata": {},
      "source": [
        "Même si on peut facilement voir le mot avant et après, cette liste est assez difficile à interpréter car elle recoupe beaucoup d’informations.\n",
        "\n",
        "La `collocation` consiste à trouver les bi-grammes qui\n",
        "apparaissent le plus fréquemment ensemble. Parmi toutes les paires de deux mots observées,\n",
        "il s’agit de sélectionner, à partir d’un modèle statistique, les “meilleures”.\n",
        "On obtient donc avec cette méthode (question 2):"
      ],
      "id": "a64c7a59-64b0-4cb6-abf1-008afc30ac4e"
    },
    {
      "cell_type": "code",
      "execution_count": 22,
      "metadata": {},
      "outputs": [
        {
          "output_type": "display_data",
          "metadata": {},
          "data": {
            "text/plain": [
              "[('of', 'the'),\n",
              " ('in', 'the'),\n",
              " ('had', 'been'),\n",
              " ('to', 'be'),\n",
              " ('have', 'been'),\n",
              " ('I', 'had'),\n",
              " ('It', 'was'),\n",
              " ('it', 'is'),\n",
              " ('could', 'not'),\n",
              " ('from', 'the'),\n",
              " ('upon', 'the'),\n",
              " ('more', 'than'),\n",
              " ('it', 'was'),\n",
              " ('would', 'have'),\n",
              " ('with', 'a'),\n",
              " ('did', 'not'),\n",
              " ('I', 'am'),\n",
              " ('the', 'a'),\n",
              " ('at', 'once'),\n",
              " ('might', 'have')]"
            ]
          }
        }
      ],
      "source": [],
      "id": "11ed6b6d"
    },
    {
      "cell_type": "markdown",
      "metadata": {},
      "source": [
        "Si on modélise les meilleures collocations :"
      ],
      "id": "bd3bd3cb-f2e8-4764-8409-e5d8d9cf0cc4"
    },
    {
      "cell_type": "code",
      "execution_count": 23,
      "metadata": {},
      "outputs": [
        {
          "output_type": "stream",
          "name": "stdout",
          "text": [
            "\"Gad Fly\"\n",
            "'Hum Drum,'\n",
            "'Rowdy Dow,'\n",
            "Brevet Brigadier\n",
            "BarriÃ¨re du\n",
            "ugh ugh\n",
            "Ourang Outang\n",
            "Chess Player\n",
            "John A.\n",
            "A. B.\n",
            "hu hu\n",
            "General John\n",
            "'Oppodeldoc,' whoever\n",
            "mille, mille,\n",
            "Brigadier General"
          ]
        }
      ],
      "source": [],
      "id": "91bd13d2"
    },
    {
      "cell_type": "markdown",
      "metadata": {},
      "source": [
        "Cette liste a un peu plus de sens,\n",
        "on a des noms de personnages, de lieux mais aussi des termes fréquemment employés ensemble\n",
        "(*Chess Player* par exemple).\n",
        "\n",
        "En ce qui concerne les *collocations* du mot fear :"
      ],
      "id": "6d70f66b-9af1-4dd2-ac9b-1139f3e9676d"
    },
    {
      "cell_type": "code",
      "execution_count": 24,
      "metadata": {},
      "outputs": [
        {
          "output_type": "stream",
          "name": "stdout",
          "text": [
            "[('fear', 'of'), ('fear', 'God'), ('I', 'fear'), ('the', 'fear'), ('The', 'fear'), ('fear', 'him'), ('you', 'fear')]"
          ]
        }
      ],
      "source": [],
      "id": "ca3cd230"
    },
    {
      "cell_type": "markdown",
      "metadata": {},
      "source": [
        "Si on mène la même analyse pour le terme *love*, on remarque que de manière logique, on retrouve bien des sujets généralement accolés au verbe :"
      ],
      "id": "c241fd8f-a6df-4792-872a-f65a228ad822"
    },
    {
      "cell_type": "code",
      "execution_count": 25,
      "metadata": {},
      "outputs": [
        {
          "output_type": "stream",
          "name": "stdout",
          "text": [
            "[('love', 'me'), ('love', 'he'), ('will', 'love'), ('I', 'love'), ('love', ','), ('you', 'love'), ('the', 'love')]"
          ]
        }
      ],
      "source": [],
      "id": "af3a08bb"
    },
    {
      "cell_type": "markdown",
      "metadata": {},
      "source": [
        "# 4. Quelques applications\n",
        "\n",
        "Nous venons d’évoquer un premier cas d’application de l’approche *bag of words* qui est le rapprochement de textes par leurs termes communs. Ce n’est pas le seul cas d’application de l’approche précédente. Nous allons en évoquer deux qui nous amènent vers la modélisation du langage : la reconnaissance d’entités nommées et la classification.\n",
        "\n",
        "## 4.1 Reconnaissance des entités nommées\n",
        "\n",
        "La [reconnaissance d’entités nommées](https://fr.wikipedia.org/wiki/Reconnaissance_d%27entit%C3%A9s_nomm%C3%A9es), également connue sous l’acronyme NER pour *named entity recognition*, est une méthode d’extraction d’information permettant d’identifier, dans un texte, la nature de certains termes dans une certain classification : lieu, personne, quantité, etc.\n",
        "\n",
        "Pour illustrer cela,\n",
        "reprenons le *Comte de Monte Cristo* et regardons sur un petit morceau de cette oeuvre ce qu’implique la reconnaissance d’entités nommées :"
      ],
      "id": "aef29429-ce57-48be-9258-b99a588a740c"
    },
    {
      "cell_type": "code",
      "execution_count": 26,
      "metadata": {},
      "outputs": [
        {
          "output_type": "display_data",
          "metadata": {},
          "data": {
            "text/plain": [
              "\" mes yeux. --vous avez donc vu l'empereur aussi? --il est entré chez le maréchal pendant que j'y étais. --et vous lui avez parlé? --c'est-à-dire que c'est lui qui m'a parlé, monsieur, dit dantès en souriant. --et que vous a-t-il dit? --il m'a fait des questions sur le bâtiment, sur l'époque de son départ pour marseille, sur la route qu'il avait suivie et sur la cargaison qu'il portait. je crois que s'il eût été vide, et que j'en eusse été le maître, son intention eût été de l'acheter; mais je lu\""
            ]
          }
        }
      ],
      "source": [
        "from urllib import request\n",
        "\n",
        "url = \"https://www.gutenberg.org/files/17989/17989-0.txt\"\n",
        "response = request.urlopen(url)\n",
        "raw = response.read().decode(\"utf8\")\n",
        "\n",
        "dumas = raw.split(\n",
        "    \"*** START OF THE PROJECT GUTENBERG EBOOK LE COMTE DE MONTE-CRISTO, TOME I ***\"\n",
        ")[1].split(\n",
        "    \"*** END OF THE PROJECT GUTENBERG EBOOK LE COMTE DE MONTE-CRISTO, TOME I ***\"\n",
        ")[\n",
        "    0\n",
        "]\n",
        "\n",
        "import re\n",
        "\n",
        "\n",
        "def clean_text(text):\n",
        "    text = text.lower()  # mettre les mots en minuscule\n",
        "    text = \" \".join(text.split())\n",
        "    return text\n",
        "\n",
        "\n",
        "dumas = clean_text(dumas)\n",
        "\n",
        "dumas[10000:10500]"
      ],
      "id": "b0c08967"
    },
    {
      "cell_type": "code",
      "execution_count": 28,
      "metadata": {},
      "outputs": [
        {
          "output_type": "display_data",
          "metadata": {},
          "data": {
            "text/html": [
              "<span class=\"tex2jax_ignore\"><div class=\"entities\" style=\"line-height: 2.5; direction: ltr\">\n",
              "<mark class=\"entity\" style=\"background: #ff9561; padding: 0.45em 0.6em; margin: 0 0.25em; line-height: 1; border-radius: 0.35em;\">\n",
              "    us\n",
              "    <span style=\"font-size: 0.8em; font-weight: bold; line-height: 1; border-radius: 0.35em; vertical-align: middle; margin-left: 0.5rem\">LOC</span>\n",
              "</mark>\n",
              " donne tout loisir de faire les vôtres. \n",
              "<mark class=\"entity\" style=\"background: #ff9561; padding: 0.45em 0.6em; margin: 0 0.25em; line-height: 1; border-radius: 0.35em;\">\n",
              "    avez\n",
              "    <span style=\"font-size: 0.8em; font-weight: bold; line-height: 1; border-radius: 0.35em; vertical-align: middle; margin-left: 0.5rem\">LOC</span>\n",
              "</mark>\n",
              "-vous besoin d'argent? --non, monsieur; j'ai tous mes appointements du voyage, c'est-à-dire près de trois mois de solde. --vous êtes un garçon rangé, \n",
              "<mark class=\"entity\" style=\"background: #ddd; padding: 0.45em 0.6em; margin: 0 0.25em; line-height: 1; border-radius: 0.35em;\">\n",
              "    edmond.\n",
              "    <span style=\"font-size: 0.8em; font-weight: bold; line-height: 1; border-radius: 0.35em; vertical-align: middle; margin-left: 0.5rem\">PER</span>\n",
              "</mark>\n",
              " --ajoutez que j'ai un père pauvre, monsieur morrel. --oui, oui, je sais que vous êtes un bon fils. allez donc voir votre père: j'ai un fils aussi, et j'en voudrais fort à celui qui, après un voyage de trois mois, le retiendrait loin de moi. --alors, vous permettez? dit le jeune homme en saluant. --oui, si vous n'avez rien de plus à me dire. \n",
              "<mark class=\"entity\" style=\"background: #ddd; padding: 0.45em 0.6em; margin: 0 0.25em; line-height: 1; border-radius: 0.35em;\">\n",
              "    --non\n",
              "    <span style=\"font-size: 0.8em; font-weight: bold; line-height: 1; border-radius: 0.35em; vertical-align: middle; margin-left: 0.5rem\">MISC</span>\n",
              "</mark>\n",
              ". --le capitaine leclère ne vous a pas, en mourant, donné une lettre pour moi? --il lui eût été impossible d'écrire, monsieur; mais cela me rappelle que j'aurai un congé de quinze jours à vous demander. --pour vous marier? --d'abord; puis pour aller à \n",
              "<mark class=\"entity\" style=\"background: #ff9561; padding: 0.45em 0.6em; margin: 0 0.25em; line-height: 1; border-radius: 0.35em;\">\n",
              "    paris\n",
              "    <span style=\"font-size: 0.8em; font-weight: bold; line-height: 1; border-radius: 0.35em; vertical-align: middle; margin-left: 0.5rem\">LOC</span>\n",
              "</mark>\n",
              ". --bon, bon! vous prendrez le temps que vous voudrez, dantès; le temps de décharger le bâtiment nous prendra bien six semaines, et nous ne nous remettrons guère en mer avant trois mois.... seulement, dans trois mois, il faudra que vous soyez là. le _pharaon_, continua l'armateur en frappant sur l'épaule du jeune marin, ne pourrait pas repartir sans son capitaine. --sans son capitaine! s'écria dantès les yeux brillants de joie; faites bien attention à ce que vous dites là, monsieur, car vous venez de répondre aux plus secrètes espérances de mon coeur. votre intention serait-elle de me nommer capitaine du _pharaon_? --si j'étais seul, je vous tendrais la main, mon cher \n",
              "<mark class=\"entity\" style=\"background: #ff9561; padding: 0.45em 0.6em; margin: 0 0.25em; line-height: 1; border-radius: 0.35em;\">\n",
              "    dantès\n",
              "    <span style=\"font-size: 0.8em; font-weight: bold; line-height: 1; border-radius: 0.35em; vertical-align: middle; margin-left: 0.5rem\">LOC</span>\n",
              "</mark>\n",
              ", et je vous dirais: «c'est fait.» mais j'ai un associé, et vous savez le proverbe italien: _che a compagne a padrone_. mais la moitié de la \n",
              "<mark class=\"entity\" style=\"background: #ff9561; padding: 0.45em 0.6em; margin: 0 0.25em; line-height: 1; border-radius: 0.35em;\">\n",
              "    besogne\n",
              "    <span style=\"font-size: 0.8em; font-weight: bold; line-height: 1; border-radius: 0.35em; vertical-align: middle; margin-left: 0.5rem\">LOC</span>\n",
              "</mark>\n",
              " est faite au moins, puisque sur deux voix vous en avez déjà une. rapportez-vous-en à moi pour avoir l'autre, et je ferai de mon mieux. \n",
              "<mark class=\"entity\" style=\"background: #ddd; padding: 0.45em 0.6em; margin: 0 0.25em; line-height: 1; border-radius: 0.35em;\">\n",
              "    --oh!\n",
              "    <span style=\"font-size: 0.8em; font-weight: bold; line-height: 1; border-radius: 0.35em; vertical-align: middle; margin-left: 0.5rem\">MISC</span>\n",
              "</mark>\n",
              " monsieur morrel, s'écria le jeune marin, saisissant, les larmes aux yeux, les mains de l'armateur; monsieur morrel, je vous remercie, au nom de mon père et de mercédès. \n",
              "<mark class=\"entity\" style=\"background: #ddd; padding: 0.45em 0.6em; margin: 0 0.25em; line-height: 1; border-radius: 0.35em;\">\n",
              "    --c'\n",
              "    <span style=\"font-size: 0.8em; font-weight: bold; line-height: 1; border-radius: 0.35em; vertical-align: middle; margin-left: 0.5rem\">PER</span>\n",
              "</mark>\n",
              "est bien, c'est bien, edmond, il y a un dieu </div></span>"
            ]
          }
        }
      ],
      "source": [
        "import spacy\n",
        "from spacy import displacy\n",
        "\n",
        "nlp = spacy.load(\"fr_core_news_sm\")\n",
        "doc = nlp(dumas[15000:17000])\n",
        "displacy.render(doc, style=\"ent\", jupyter=True)\n"
      ],
      "id": "14cf810a"
    },
    {
      "cell_type": "markdown",
      "metadata": {},
      "source": [
        "La reconnaissance d’entités nommées disponible\n",
        "par défaut dans les librairies généralistes est souvent décevante ; il est\n",
        "souvent nécessaire d’enrichir les règles par défaut\n",
        "par des règles *ad hoc*, propres à chaque corpus.\n",
        "\n",
        "En pratique, récemment,\n",
        "l’approche de reconnaissance d’entités nommées a été utilisée\n",
        "par Etalab pour [pseudonymiser des documents administratifs](https://guides.etalab.gouv.fr/pseudonymisation/#sommaire). Il s’agit d’identifier certaines informations sensibles (état civil, adresse…) par reconnaissance d’entités pour les remplacer par des pseudonymes.\n",
        "\n",
        "## 4.2 Classification de données textuelles : l’algorithme `Fasttext`\n",
        "\n",
        "`Fasttext` est un réseau de neurone à une couche développé par Meta en 2016 pour faire de la classification de texte ou de la modélisation de langage. Comme nous allons pouvoir le voir, ce modèle va nous amener à faire la transition avec une modélisation plus raffinée du langage, bien que celle de `Fasttext` soit beaucoup plus frustre que celle des grands modèles de langage (LLM). L’un des principaux cas d’utilisation de `Fasttext` est la classification supervisée de données textuelles. Il s’agit, à partir d’un texte, de déterminer sa catégorie d’appartenance. Par exemple, à partir d’un texte de chanson, s’il s’agit de rap ou de rock. Ce modèle est supervisé puisqu’il apprend à reconnnaître les *features*, en l’occurrence des morceaux de texte, qui permettent d’avoir une bonne performance de prédiction sur le jeu d’entraînement puis de test.\n",
        "\n",
        "Le concept de *feature* peut sembler étonnant pour des données textuelles, qui sont, par essence, non structurées. Pour des données structurées, la démarche évoquée dans la partie [modélisation](../../content/course/modelisation/index.qmd) apparaîssait naturelle : nous avions des variables observées dans nos données pour les *features* et l’algorithme de classification consistait à trouver la combinaison entre elles permettant de prédire, au mieux, le *label*. Avec des données textuelles, ce concept de *feature* observé n’est plus naturel. Il est nécessaire de le construire à partir d’un texte. L’information destructurée devient de l’information structurée. C’est là qu’interviennent les concepts que nous avons vu jusqu’à présent.\n",
        "\n",
        "`FastText` est un *“sac de n-gram”*. Il considère donc que les *features* sont à construire à partir des mots de notre corpus mais aussi des *ngrams* à plusieurs niveaux. L’architecture générale de `FastText` ressemble à celle-ci :\n",
        "\n",
        "<figure>\n",
        "<img src=\"https://raw.githubusercontent.com/InseeFrLab/formation-mlops/main/slides/img/diag-fasttext.png\" alt=\"Illustration de l’architecture de FastText\" />\n",
        "<figcaption aria-hidden=\"true\">Illustration de l’architecture de <code>FastText</code></figcaption>\n",
        "</figure>\n",
        "\n",
        "Ce qui nous intéresse ici est la partie gauche de ce diagramme, la *“feature extraction”* car la partie *embedding* correspond à des concepts que nous verrons lors des prochains chapitres. Avec l’exemple de cette figure, on voit que le texte *“Business engineering and services”* est tokenisé comme nous avons pu le voir plus tôt en mots. Mais `Fasttext` créé également des ngrams à plusieurs niveaux. Par exemple, il va créer des bigrams de mots : *“Business engineering”*, *“engineering and”*, *“and services”*. mais aussi des quadrigrammes de caractères *“busi”*, *“usin”* et *“sine”*. Ensuite, `Fasttext` transformera tous ces termes en vecteurs numériques. Contrairement à ce que nous avons vu jusqu’à présent, ces vecteurs ne sont pas des fréquences d’apparition dans le corpus (principe de la matrice origine-document), ce sont des plongements de mots (*word embedding*). Nous découvrirons leurs principes dans les prochains chapitres.\n",
        "\n",
        "Ce modèle `Fasttext` est très utilisé dans la statistique publique car de nombreuses sources de données textuelles sont à hiérarchiser dans des nomenclatures agrégées.\n",
        "\n",
        "**TO DO**: plus d’éléments"
      ],
      "id": "65c6fb59-d39d-4040-9988-80220e658376"
    },
    {
      "cell_type": "code",
      "execution_count": 29,
      "metadata": {},
      "outputs": [
        {
          "output_type": "display_data",
          "metadata": {},
          "data": {
            "text/html": [
              "\n",
              "</div>"
            ]
          }
        }
      ],
      "source": [],
      "id": "f8770229"
    },
    {
      "cell_type": "markdown",
      "metadata": {},
      "source": [
        "Pour voir une démonstration interactive d’un tel modèle, se rendre sur la [page du site](../../content/NLP/02_exoclean.qmd) associée à ce notebook."
      ],
      "id": "c8455e4f-4a79-46c4-ab9e-7dd716828f21"
    }
  ],
  "nbformat": 4,
  "nbformat_minor": 5,
  "metadata": {
    "kernelspec": {
      "name": "python3",
      "display_name": "Python 3 (ipykernel)",
      "language": "python",
      "path": "/opt/conda/share/jupyter/kernels/python3"
    },
    "language_info": {
      "name": "python",
      "codemirror_mode": {
        "name": "ipython",
        "version": "3"
      },
      "file_extension": ".py",
      "mimetype": "text/x-python",
      "nbconvert_exporter": "python",
      "pygments_lexer": "ipython3",
      "version": "3.12.6"
    }
  }
}