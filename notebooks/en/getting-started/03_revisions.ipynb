{
  "cells": [
    {
      "cell_type": "markdown",
      "metadata": {},
      "source": [
        "# A few refresher exercises to get back in the saddle\n",
        "\n",
        "Lino Galiana  \n",
        "2024-10-31\n",
        "\n",
        "Le contenu de cette page est disponible sur [le site web du cours](pythonds.linogaliana.fr/content/getting-started/04_revisions.html)"
      ],
      "id": "3b98608d-ea68-477d-8136-8060632101f5"
    }
  ],
  "nbformat": 4,
  "nbformat_minor": 5,
  "metadata": {
    "kernelspec": {
      "display_name": "Python 3",
      "language": "python",
      "name": "python3"
    }
  }
}