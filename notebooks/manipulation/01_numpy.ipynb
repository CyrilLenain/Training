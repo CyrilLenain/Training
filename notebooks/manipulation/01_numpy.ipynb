{
 "cells": [
  {
   "cell_type": "markdown",
   "id": "b3cef85b-7279-47ad-a2c2-229eb91bd84f",
   "metadata": {},
   "source": [
    "# Numpy, la brique de base de la data science\n",
    "\n",
    "Lino Galiana  \n",
    "2024-10-31\n",
    "\n",
    "<div class=\"badge-container\"><div class=\"badge-text\">Pour essayer les exemples présents dans ce tutoriel :</div><a href=\"https://github.com/linogaliana/python-datascientist-notebooks/blob/main/notebooks/manipulation/01_numpy.ipynb\" target=\"_blank\" rel=\"noopener\"><img src=\"https://img.shields.io/static/v1?logo=github&label=&message=View%20on%20GitHub&color=181717\" alt=\"View on GitHub\"></a>\n",
    "<a href=\"https://datalab.sspcloud.fr/launcher/ide/vscode-python?autoLaunch=true&name=«01_numpy»&init.personalInit=«https%3A%2F%2Fraw.githubusercontent.com%2Flinogaliana%2Fpython-datascientist%2Fmain%2Fsspcloud%2Finit-vscode.sh»&init.personalInitArgs=«manipulation%2001_numpy%20correction»\" target=\"_blank\" rel=\"noopener\"><img src=\"https://img.shields.io/badge/SSP%20Cloud-Lancer_avec_VSCode-blue?logo=visualstudiocode&logoColor=blue\" alt=\"Onyxia\"></a>\n",
    "<a href=\"https://datalab.sspcloud.fr/launcher/ide/jupyter-python?autoLaunch=true&name=«01_numpy»&init.personalInit=«https%3A%2F%2Fraw.githubusercontent.com%2Flinogaliana%2Fpython-datascientist%2Fmain%2Fsspcloud%2Finit-jupyter.sh»&init.personalInitArgs=«manipulation%2001_numpy%20correction»\" target=\"_blank\" rel=\"noopener\"><img src=\"https://img.shields.io/badge/SSP%20Cloud-Lancer_avec_Jupyter-orange?logo=Jupyter&logoColor=orange\" alt=\"Onyxia\"></a>\n",
    "<a href=\"https://colab.research.google.com/github/linogaliana/python-datascientist-notebooks//blob/main//notebooks/manipulation/01_numpy.ipynb\" target=\"_blank\" rel=\"noopener\"><img src=\"https://colab.research.google.com/assets/colab-badge.svg\" alt=\"Open In Colab\"></a><br></div>\n",
    "\n",
    "<div class=\"alert alert-info\" role=\"alert\">\n",
    "<h3 class=\"alert-heading\">Version 🇫🇷</h3>\n",
    "This is the French version 🇫🇷 of that chapter,to see the English version go <a href=\"https://pythonds.linogaliana.fr/content/manipulation/01_numpy.html\">there</a>\n",
    "</div>\n",
    "\n",
    "# 1. Introduction\n",
    "\n",
    "Ce chapitre constitue une introduction à *Numpy* pour\n",
    "s’assurer que les bases du calcul vectoriel avec `Python`\n",
    "soient maîtrisées. La première partie du chapitre\n",
    "présente des petits exercices pour pratiquer\n",
    "quelques fonctions basiques de `Numpy`. La fin du chapitre présente\n",
    "des exercices pratiques d’utilisation de `Numpy` plus approfondis.\n",
    "\n",
    "Il est recommandé de régulièrement se référer à\n",
    "la [*cheatsheet numpy*](https://www.datacamp.com/community/blog/python-numpy-cheat-sheet) et à la\n",
    "[doc officielle](https://numpy.org/doc/stable/) en cas de doute\n",
    "sur une fonction.\n",
    "\n",
    "Dans ce chapitre, on ne dérogera pas à la convention qui s’est imposée\n",
    "d’importer `Numpy` de la\n",
    "manière suivante :"
   ]
  },
  {
   "cell_type": "code",
   "execution_count": 1,
   "id": "import-np",
   "metadata": {},
   "outputs": [],
   "source": [
    "import numpy as np\n"
   ]
  },
  {
   "cell_type": "markdown",
   "id": "7d293216-ec6f-4878-8be5-ebd583d587d5",
   "metadata": {},
   "source": [
    "Nous allons également fixer la racine du générateur aléatoire de nombres\n",
    "afin d’avoir des résultats reproductibles :"
   ]
  },
  {
   "cell_type": "code",
   "execution_count": 2,
   "id": "6a539690",
   "metadata": {},
   "outputs": [],
   "source": [
    "np.random.seed(12345)\n"
   ]
  },
  {
   "cell_type": "markdown",
   "id": "f7554a2a-8acf-4dda-95e1-fde8dc37ebd5",
   "metadata": {},
   "source": [
    "<div class=\"alert alert-info\" role=\"alert\">\n",
    "<h3 class=\"alert-heading\"><i class=\"fa-solid fa-comment\"></i> Note</h3>\n",
    "\n",
    "Les auteurs\n",
    "de `numpy` [préconisent désormais](https://numpy.org/doc/stable/reference/random/index.html)\n",
    "de privilégier l’utilisation de\n",
    "générateurs via la fonction `default_rng()` plutôt que la simple utilisation de `numpy.random`.\n",
    "\n",
    "Afin d’être en phase avec les codes qu’on peut trouver partout sur internet, nous\n",
    "conservons encore `np.random.seed` mais cela peut être amené à évoluer.\n",
    "\n",
    "</div>\n",
    "\n",
    "<div class=\"alert alert-info\" role=\"alert\">\n",
    "<h3 class=\"alert-heading\"><i class=\"fa-solid fa-comment\"></i> Note</h3>\n",
    "\n",
    "The authors of `numpy` [now recommend](https://numpy.org/doc/stable/reference/random/index.html) using generators via the `default_rng()` function rather than simply using `numpy.random`.\n",
    "\n",
    "To stay consistent with the codes found everywhere on the internet, we still use `np.random.seed`, but this may change in the future.\n",
    "\n",
    "</div>\n",
    "\n",
    "# 2. Le concept d’*array*\n",
    "\n",
    "Dans le monde de la science des données, comme cela sera évoqué\n",
    "plus en profondeur dans les prochains chapitres,\n",
    "l’objet central est le tableau à deux dimensions de données.\n",
    "La première correspond aux lignes et la seconde aux colonnes.\n",
    "Si on ne se préoccupe que d’une dimension, on se rapporte\n",
    "à une variable (une colonne) de notre tableau de données.\n",
    "Il est donc naturel de faire le lien entre les\n",
    "tableaux de données et l’objet mathématique\n",
    "que sont les matrices et les vecteurs.\n",
    "\n",
    "`NumPy` (`Numerical Python`) est la brique de base\n",
    "pour traiter des listes numériques ou des chaines\n",
    "de textes comme des matrices.\n",
    "`NumPy` intervient pour proposer\n",
    "ce type d’objets, et\n",
    "les opérations standardisées associées qui n’existent\n",
    "pas dans le langage `Python` de base.\n",
    "\n",
    "L’objet central de `NumPy` est\n",
    "l’**`array`** qui est un tableau de données multidimensionnel.\n",
    "L’array `Numpy` peut être unidimensionnel et s’apparenter à un\n",
    "vecteur (`1d-array`),\n",
    "bidimensionnel et ainsi s’apparenter à une matrice (`2d-array`) ou,\n",
    "de manière plus générale,\n",
    "prendre la forme d’un objet\n",
    "multidimensionnel (`Nd-array`), sorte de tableau emboîté.\n",
    "\n",
    "Les tableaux simples (uni ou bi-dimensionnels) sont faciles à se représenter\n",
    "et représentent la majorité des besoins liés à `Numpy`.\n",
    "Nous découvrirons lors du chapitre suivant, sur `Pandas`, qu’en pratique\n",
    "on manipule rarement directement `Numpy` qui est une librairie\n",
    "bas niveau.\n",
    "Un *DataFrame* `Pandas` sera construit à partir d’une collection\n",
    "d’array uni-dimensionnels (les variables de la table), ce qui permettra d’effectuer des opérations cohérentes\n",
    "(et optimisées) avec le type de la variable.\n",
    "Avoir quelques notions `Numpy` est utile pour comprendre\n",
    "la logique de manipulation vectorielle\n",
    "rendant les traitements sur des données plus lisibles,\n",
    "plus efficaces et plus fiables.\n",
    "\n",
    "Par rapport à une liste,\n",
    "\n",
    "-   un *array* ne peut contenir qu’un type de données (`integer`, `string`, etc.),\n",
    "    contrairement à une liste.\n",
    "-   les opérations implémentées par `Numpy` seront plus efficaces et demanderont moins\n",
    "    de mémoire\n",
    "\n",
    "Les données géographiques constitueront une construction un peu plus complexe qu’un `DataFrame` traditionnel.\n",
    "La dimension géographique prend la forme d’un tableau plus profond, au moins bidimensionnel\n",
    "(coordonnées d’un point). Néanmoins, les librairies de manipulation\n",
    "de données géographiques permettront de ne pas se préoccuper de\n",
    "cette complexité accrue.\n",
    "\n",
    "## 2.1 Créer un array\n",
    "\n",
    "On peut créer un *array* de plusieurs manières. Pour créer un *array* à partir d’une liste,\n",
    "il suffit d’utiliser la méthode `array`:"
   ]
  },
  {
   "cell_type": "code",
   "execution_count": null,
   "id": "0fff2f86",
   "metadata": {},
   "outputs": [
    {
     "data": {
      "text/plain": [
       "array([1, 2, 5])"
      ]
     },
     "metadata": {},
     "output_type": "display_data"
    }
   ],
   "source": [
    "np.array([1, 2, 5])\n"
   ]
  },
  {
   "cell_type": "markdown",
   "id": "bd5d2178-a87b-4863-b93f-3ad9d1823d9d",
   "metadata": {},
   "source": [
    "Il est possible d’ajouter un argument `dtype` pour contraindre le type du *array* :"
   ]
  },
  {
   "cell_type": "code",
   "execution_count": 4,
   "id": "5af1368a",
   "metadata": {},
   "outputs": [
    {
     "data": {
      "text/plain": [
       "array([list(['a', 'z', 'e']), list(['r', 't']), list(['y'])], dtype=object)"
      ]
     },
     "metadata": {},
     "output_type": "display_data"
    }
   ],
   "source": [
    "np.array([[\"a\", \"z\", \"e\"], [\"r\", \"t\"], [\"y\"]], dtype=\"object\")\n"
   ]
  },
  {
   "cell_type": "markdown",
   "id": "096e554c-9782-480d-84c3-476c182fa4c0",
   "metadata": {},
   "source": [
    "Il existe aussi des méthodes pratiques pour créer des array:\n",
    "\n",
    "-   séquences logiques : `np.arange` (suite) ou `np.linspace` (interpolation linéaire entre deux bornes)\n",
    "-   séquences ordonnées : *array* rempli de zéros, de 1 ou d’un nombre désiré : `np.zeros`, `np.ones` ou `np.full`\n",
    "-   séquences aléatoires : fonctions de génération de nombres aléatoires : `np.rand.uniform`, `np.rand.normal`, etc.\n",
    "-   tableau sous forme de matrice identité : `np.eye`\n",
    "\n",
    "Ceci donne ainsi, pour les séquences logiques:"
   ]
  },
  {
   "cell_type": "code",
   "execution_count": 1,
   "id": "19fd299a",
   "metadata": {},
   "outputs": [],
   "source": [
    "np.arange(0, 10)\n"
   ]
  },
  {
   "cell_type": "code",
   "execution_count": 6,
   "id": "0b793f7a",
   "metadata": {},
   "outputs": [
    {
     "data": {
      "text/plain": [
       "array([0, 3, 6, 9])"
      ]
     },
     "metadata": {},
     "output_type": "display_data"
    }
   ],
   "source": [
    "np.arange(0, 10, 3)\n"
   ]
  },
  {
   "cell_type": "code",
   "execution_count": 7,
   "id": "ec49324f",
   "metadata": {},
   "outputs": [
    {
     "data": {
      "text/plain": [
       "array([0.  , 0.25, 0.5 , 0.75, 1.  ])"
      ]
     },
     "metadata": {},
     "output_type": "display_data"
    }
   ],
   "source": [
    "np.linspace(0, 1, 5)\n"
   ]
  },
  {
   "cell_type": "markdown",
   "id": "cbce1b3f-3caa-49bb-b61f-f35107fe8b8e",
   "metadata": {},
   "source": [
    "Pour un *array* initialisé à 0:"
   ]
  },
  {
   "cell_type": "code",
   "execution_count": 8,
   "id": "1deceddc",
   "metadata": {},
   "outputs": [
    {
     "data": {
      "text/plain": [
       "array([0, 0, 0, 0, 0, 0, 0, 0, 0, 0])"
      ]
     },
     "metadata": {},
     "output_type": "display_data"
    }
   ],
   "source": [
    "np.zeros(10, dtype=int)\n"
   ]
  },
  {
   "cell_type": "markdown",
   "id": "b12ad55c-4da7-4b29-871d-80526880f3b9",
   "metadata": {},
   "source": [
    "ou initialisé à 1:"
   ]
  },
  {
   "cell_type": "code",
   "execution_count": 9,
   "id": "2724f3ff",
   "metadata": {},
   "outputs": [
    {
     "data": {
      "text/plain": [
       "array([[1., 1., 1., 1., 1.],\n",
       "       [1., 1., 1., 1., 1.],\n",
       "       [1., 1., 1., 1., 1.]])"
      ]
     },
     "metadata": {},
     "output_type": "display_data"
    }
   ],
   "source": [
    "np.ones((3, 5), dtype=float)\n"
   ]
  },
  {
   "cell_type": "markdown",
   "id": "f342b28b-fbd6-4d4c-aaf0-4801e8642149",
   "metadata": {},
   "source": [
    "ou encore initialisé à 3.14:"
   ]
  },
  {
   "cell_type": "code",
   "execution_count": 10,
   "id": "74cbe6f7",
   "metadata": {},
   "outputs": [
    {
     "data": {
      "text/plain": [
       "array([[3.14, 3.14, 3.14, 3.14, 3.14],\n",
       "       [3.14, 3.14, 3.14, 3.14, 3.14],\n",
       "       [3.14, 3.14, 3.14, 3.14, 3.14]])"
      ]
     },
     "metadata": {},
     "output_type": "display_data"
    }
   ],
   "source": [
    "np.full((3, 5), 3.14)\n"
   ]
  },
  {
   "cell_type": "markdown",
   "id": "10a465c8-9f4b-469c-8382-bef5a1e0ac0c",
   "metadata": {},
   "source": [
    "Enfin, pour créer la matrice $I_3$:"
   ]
  },
  {
   "cell_type": "code",
   "execution_count": 11,
   "id": "b1040db4",
   "metadata": {},
   "outputs": [
    {
     "data": {
      "text/plain": [
       "array([[1., 0., 0.],\n",
       "       [0., 1., 0.],\n",
       "       [0., 0., 1.]])"
      ]
     },
     "metadata": {},
     "output_type": "display_data"
    }
   ],
   "source": [
    "np.eye(3)\n"
   ]
  },
  {
   "cell_type": "markdown",
   "id": "454e88f0",
   "metadata": {},
   "source": [
    "Exercice 1 : "
   ]
  },
  {
   "cell_type": "code",
   "execution_count": 7,
   "id": "20ad8e6a",
   "metadata": {},
   "outputs": [
    {
     "data": {
      "text/plain": [
       "array([5.76588968e-01, 9.42816742e-01, 8.48730451e-01, 9.21406189e-01,\n",
       "       4.73022374e-01, 9.93321557e-01, 3.93816381e-01, 3.67697918e-01,\n",
       "       2.15503046e-01, 1.15538930e-01, 9.69696789e-01, 8.06392872e-01,\n",
       "       5.02466514e-02, 3.72959986e-01, 8.69416781e-01, 3.88437453e-01,\n",
       "       1.88283742e-01, 4.46478270e-01, 9.59945452e-01, 5.96294068e-01,\n",
       "       5.54282341e-01, 6.92164782e-02, 3.87239391e-01, 4.51584557e-02,\n",
       "       4.28231828e-01, 9.97165243e-01, 5.71414271e-01, 1.90284138e-01,\n",
       "       5.39316374e-01, 8.86666110e-01, 6.85094233e-02, 3.94097149e-01,\n",
       "       8.14247680e-01, 1.70440357e-01, 7.98764017e-01, 7.89013834e-01,\n",
       "       9.92656631e-01, 1.04315318e-01, 5.70472101e-01, 9.79091750e-01,\n",
       "       4.01154769e-01, 3.13242094e-03, 3.17374369e-01, 7.63328446e-01,\n",
       "       1.75126168e-01, 5.71383743e-01, 6.67913973e-01, 9.10062761e-01,\n",
       "       6.40260904e-01, 9.82457036e-03, 5.61869073e-01, 5.51022243e-01,\n",
       "       8.23996185e-01, 2.39318852e-01, 1.48110463e-01, 7.67203361e-01,\n",
       "       1.29020436e-01, 3.33541355e-01, 1.15131890e-01, 8.65260245e-02,\n",
       "       9.09058375e-01, 7.50831227e-01, 2.82146593e-01, 2.37687544e-01,\n",
       "       5.02209334e-01, 4.09066073e-01, 5.26711896e-01, 6.18392458e-01,\n",
       "       1.03506437e-01, 4.43013467e-01, 6.00236267e-02, 2.50120986e-01,\n",
       "       6.17419984e-01, 4.49951771e-01, 5.82496185e-01, 1.30058683e-01,\n",
       "       7.44107164e-01, 6.18025095e-01, 6.54908717e-01, 2.82498699e-01,\n",
       "       9.03596257e-02, 9.60166732e-01, 7.60111036e-01, 6.17326062e-01,\n",
       "       6.24269189e-01, 4.22868904e-01, 3.78033902e-02, 9.82696120e-01,\n",
       "       1.11750214e-02, 4.72404100e-02, 2.53156457e-01, 7.63352679e-01,\n",
       "       1.92803472e-01, 2.83798843e-01, 7.72067467e-01, 7.52064479e-02,\n",
       "       8.54097385e-01, 9.56107941e-01, 3.54547973e-01, 4.33917644e-01,\n",
       "       7.68951706e-01, 1.36564914e-02, 8.96325932e-01, 6.61653862e-01,\n",
       "       6.13833347e-01, 5.80038346e-01, 7.13044348e-03, 5.30892074e-01,\n",
       "       3.30847252e-01, 5.90063247e-01, 5.01370537e-01, 3.96664096e-01,\n",
       "       7.41036359e-01, 1.63416191e-01, 3.80648189e-01, 8.14017728e-01,\n",
       "       1.85161673e-01, 4.02835169e-01, 9.27677172e-01, 4.55957377e-01,\n",
       "       4.21017281e-01, 2.64450168e-01, 1.51947876e-01, 5.09679558e-01,\n",
       "       1.59911152e-01, 5.47474352e-01, 9.91929584e-01, 3.37332327e-01,\n",
       "       3.18412505e-01, 7.51262004e-01, 1.38189105e-02, 4.40775664e-01,\n",
       "       8.88366857e-01, 9.30490996e-01, 6.87133137e-01, 3.91166306e-01,\n",
       "       4.45518145e-01, 3.71493675e-02, 3.85977699e-02, 4.29826251e-01,\n",
       "       1.84325709e-01, 7.60694597e-01, 2.15330180e-01, 8.05240945e-01,\n",
       "       5.58824846e-01, 7.06200750e-01, 8.45639684e-01, 1.56892673e-01,\n",
       "       6.21971427e-01, 8.41902328e-01, 1.66490578e-01, 7.77306138e-01,\n",
       "       3.91951797e-01, 1.90825361e-01, 2.72593291e-01, 7.48264022e-01,\n",
       "       3.39597745e-01, 8.95751927e-01, 8.22775665e-01, 4.28082374e-01,\n",
       "       9.41593321e-01, 1.46239547e-01, 7.34901686e-01, 1.28876276e-01,\n",
       "       5.26935029e-03, 7.40063217e-01, 1.91894246e-01, 1.53431724e-01,\n",
       "       8.36928263e-01, 8.37802141e-01, 6.36799108e-01, 8.89675108e-02,\n",
       "       7.18647729e-02, 4.27196233e-01, 9.22612153e-01, 6.63357804e-01,\n",
       "       8.99003928e-01, 5.56557166e-01, 1.03306595e-01, 4.82421143e-01,\n",
       "       1.42158810e-02, 1.40587385e-01, 2.88024207e-01, 1.15506471e-01,\n",
       "       8.01944483e-01, 8.77046651e-01, 4.92406921e-01, 1.12925513e-01,\n",
       "       9.27971802e-01, 7.99996467e-01, 5.01687007e-01, 2.16595083e-01,\n",
       "       2.60684593e-01, 1.80601406e-01, 4.81952136e-01, 1.04770649e-01,\n",
       "       4.55116106e-01, 8.92941469e-03, 4.49956422e-01, 5.08737110e-01,\n",
       "       7.94395462e-01, 2.56494567e-01, 7.91095497e-01, 1.09926091e-01,\n",
       "       2.49963587e-01, 5.75888547e-01, 4.08435434e-01, 6.98195036e-01,\n",
       "       1.37456679e-01, 7.44488994e-01, 7.92377618e-01, 7.66398546e-01,\n",
       "       2.16723386e-01, 5.75994809e-01, 3.49950885e-01, 5.99633566e-01,\n",
       "       1.80503256e-01, 9.65482882e-01, 6.21383363e-01, 4.42682112e-01,\n",
       "       6.12317675e-01, 5.37405323e-01, 1.55295014e-01, 4.29497635e-01,\n",
       "       2.17435151e-01, 2.08472559e-01, 1.81450297e-02, 5.92974843e-01,\n",
       "       4.12243143e-01, 8.78789146e-01, 1.85189890e-01, 5.83815579e-01,\n",
       "       9.36413799e-01, 5.32286939e-01, 6.14099385e-01, 3.85886589e-02,\n",
       "       7.63325522e-01, 1.33541052e-01, 7.20060345e-01, 6.24875632e-01,\n",
       "       3.37578243e-02, 1.37021753e-01, 3.23195375e-01, 9.32300010e-01,\n",
       "       9.56639686e-01, 2.70041916e-01, 5.52172380e-01, 8.05464572e-02,\n",
       "       6.17271132e-01, 3.77801906e-01, 4.91315690e-01, 2.75692849e-01,\n",
       "       5.28033554e-01, 2.49811022e-01, 4.46575048e-02, 4.25763384e-01,\n",
       "       2.94535753e-01, 4.76619308e-01, 4.74613598e-01, 2.34368467e-01,\n",
       "       9.89489775e-01, 7.53065383e-01, 2.53261638e-02, 7.24374836e-01,\n",
       "       1.41128454e-01, 8.20776598e-01, 4.22472722e-01, 7.04372415e-01,\n",
       "       9.55503369e-01, 9.28390553e-01, 7.94577289e-01, 5.19039504e-01,\n",
       "       5.01839377e-01, 4.21067376e-01, 6.59411662e-01, 6.58544437e-01,\n",
       "       6.17107748e-01, 2.83809080e-01, 6.96166174e-01, 9.59219680e-01,\n",
       "       6.16248323e-01, 4.67731925e-01, 7.14773112e-01, 3.72878331e-01,\n",
       "       7.88597369e-01, 2.71262083e-01, 8.32862189e-01, 9.77221772e-01,\n",
       "       5.03233185e-01, 5.15738324e-02, 8.86476835e-01, 2.54782085e-01,\n",
       "       1.44658078e-01, 2.85261894e-01, 2.84689733e-01, 2.88946410e-01,\n",
       "       8.25249257e-01, 8.10749432e-01, 5.23796346e-01, 3.31093057e-01,\n",
       "       9.36562895e-01, 6.63855803e-01, 4.10982640e-01, 6.93928107e-02,\n",
       "       6.64123563e-01, 5.35314332e-01, 7.51478000e-02, 7.64180371e-01,\n",
       "       1.00490136e-01, 4.66917367e-01, 9.72932081e-01, 1.70187133e-01,\n",
       "       3.44446713e-01, 7.22109708e-01, 6.07228333e-01, 9.06814619e-01,\n",
       "       3.74557216e-01, 8.96291541e-01, 8.52745492e-01, 3.02847198e-01,\n",
       "       1.83449261e-01, 2.88054879e-02, 3.52388598e-01, 6.00483473e-01,\n",
       "       5.09078885e-01, 3.99631247e-01, 5.17053327e-02, 6.28017792e-01,\n",
       "       5.97337444e-01, 8.17437614e-01, 1.29305385e-01, 8.52865065e-01,\n",
       "       8.17179008e-01, 5.44841204e-01, 1.96567765e-01, 1.72074294e-01,\n",
       "       8.71026451e-01, 2.35607323e-01, 4.28878658e-01, 3.98407689e-03,\n",
       "       9.19027834e-01, 2.93040362e-01, 4.12237152e-01, 6.18002197e-01,\n",
       "       9.52175481e-01, 2.27919950e-01, 9.70588679e-01, 6.97175436e-01,\n",
       "       1.12382057e-01, 9.16678956e-01, 9.62786579e-01, 5.69677580e-01,\n",
       "       5.47798716e-01, 3.57213385e-01, 6.89226698e-02, 4.28602005e-02,\n",
       "       7.35927234e-01, 7.34112758e-01, 9.50697718e-01, 7.62495987e-01,\n",
       "       8.88526852e-02, 9.15788769e-01, 8.01683077e-01, 9.42321966e-01,\n",
       "       3.94776952e-01, 8.46398582e-02, 2.60121476e-01, 6.39278201e-01,\n",
       "       8.07851584e-01, 4.03268347e-01, 7.67264165e-01, 5.66337364e-01,\n",
       "       6.99480660e-02, 2.59270886e-01, 4.28592162e-01, 8.82819260e-01,\n",
       "       9.42374427e-01, 9.58076703e-01, 5.50248801e-01, 4.76979094e-03,\n",
       "       3.36068569e-01, 1.83698173e-01, 3.56703973e-01, 7.52973890e-02,\n",
       "       5.27874294e-01, 6.10528754e-02, 6.38511339e-01, 2.29096013e-01,\n",
       "       8.95552912e-01, 2.82919741e-01, 3.06046640e-01, 4.66791731e-01,\n",
       "       6.18747695e-01, 7.71821577e-01, 9.38324039e-01, 6.50999022e-02,\n",
       "       5.97153081e-01, 4.49371646e-01, 5.92937824e-01, 9.31897927e-01,\n",
       "       7.98622945e-01, 4.79602307e-02, 4.50930856e-01, 8.34881550e-01,\n",
       "       2.78390684e-01, 5.85807120e-01, 2.60312169e-01, 9.07480685e-01,\n",
       "       3.85161890e-01, 1.22591971e-01, 8.51774494e-01, 4.13616499e-01,\n",
       "       8.06935493e-01, 5.96148386e-01, 6.14487290e-01, 4.66775733e-01,\n",
       "       8.55493237e-01, 2.93135999e-01, 6.35744428e-01, 1.88578988e-01,\n",
       "       6.84745247e-01, 7.60842293e-01, 2.44028888e-01, 3.35045218e-01,\n",
       "       1.85179182e-01, 9.47241814e-01, 9.99721924e-01, 5.76675122e-01,\n",
       "       5.76678302e-01, 8.95578785e-01, 3.36470213e-01, 7.97678601e-01,\n",
       "       7.62566721e-01, 3.79792829e-01, 2.54762541e-01, 3.93406238e-01,\n",
       "       9.03761428e-01, 5.96774123e-01, 2.14924927e-01, 2.19753582e-02,\n",
       "       7.99408432e-01, 2.27321032e-01, 3.32882247e-01, 1.79136509e-01,\n",
       "       8.40263821e-01, 1.81921511e-01, 2.71811504e-01, 9.70834234e-02,\n",
       "       1.00835303e-01, 1.83976066e-01, 2.05999469e-01, 1.35579743e-01,\n",
       "       3.81467344e-01, 9.38891206e-01, 5.28857032e-01, 6.50832556e-01,\n",
       "       8.63959360e-01, 5.23053565e-01, 4.90752283e-01, 4.95547392e-01,\n",
       "       1.22385756e-01, 2.12049543e-01, 5.40172499e-03, 8.73475804e-01,\n",
       "       5.36722563e-01, 1.33174298e-01, 3.37594199e-01, 8.94408400e-01,\n",
       "       2.17839734e-01, 1.01759149e-01, 5.44410178e-01, 7.99500479e-02,\n",
       "       4.54113284e-01, 7.88981862e-01, 2.48885743e-01, 9.27561390e-01,\n",
       "       6.52058076e-01, 5.94991774e-01, 8.91475269e-01, 2.61252996e-01,\n",
       "       3.81120885e-01, 3.33761384e-01, 7.10067065e-02, 4.53433552e-01,\n",
       "       2.03274561e-01, 2.75642912e-01, 2.76069152e-02, 2.15558385e-01,\n",
       "       4.25852894e-01, 1.09206352e-01, 2.91285156e-01, 1.50936790e-01,\n",
       "       5.05283112e-01, 3.11457480e-01, 4.95323260e-01, 7.74060082e-01,\n",
       "       3.46334031e-01, 8.81033650e-01, 8.25931808e-01, 9.21040972e-01,\n",
       "       6.23265728e-01, 6.97755227e-01, 8.57663027e-01, 9.61606858e-02,\n",
       "       3.40442008e-01, 7.53709007e-01, 3.49973196e-01, 6.71564423e-01,\n",
       "       1.03604388e-01, 7.07528036e-01, 7.34860356e-01, 1.44686656e-01,\n",
       "       6.38043350e-01, 9.67395084e-01, 5.15498956e-01, 7.43130306e-02,\n",
       "       5.86454063e-01, 7.62509624e-01, 7.45148134e-01, 9.59152425e-01,\n",
       "       9.88074891e-01, 7.00827969e-01, 9.77287618e-01, 1.99818852e-02,\n",
       "       3.44540651e-01, 6.92489432e-01, 5.86044878e-01, 6.39070376e-02,\n",
       "       6.33487036e-01, 9.04405218e-02, 4.27687075e-02, 9.59675589e-01,\n",
       "       1.02591152e-01, 6.75829202e-01, 1.37759847e-02, 9.57007339e-01,\n",
       "       9.21810994e-01, 2.14178553e-02, 3.43275937e-01, 8.57322234e-01,\n",
       "       7.33359670e-01, 8.69560921e-01, 9.39115737e-01, 5.96084573e-01,\n",
       "       5.38036228e-01, 3.41650223e-01, 8.86310314e-01, 2.49280944e-01,\n",
       "       8.88837833e-01, 4.52811977e-01, 9.65660331e-01, 8.76716432e-01,\n",
       "       8.76614844e-01, 1.19374068e-01, 4.67263694e-01, 1.20845447e-01,\n",
       "       9.76750121e-01, 5.58849236e-01, 5.69859923e-01, 5.96254763e-02,\n",
       "       3.77813631e-01, 6.76768522e-01, 6.29897003e-01, 3.04707857e-01,\n",
       "       8.02883893e-01, 3.55159146e-01, 3.42980647e-01, 3.60819247e-01,\n",
       "       7.87915454e-01, 8.38658140e-01, 8.47210030e-01, 5.77885225e-01,\n",
       "       5.06043784e-01, 2.88391823e-01, 7.47639889e-01, 7.81776216e-01,\n",
       "       9.59003994e-01, 2.11273470e-01, 9.11046129e-01, 2.03187694e-01,\n",
       "       4.07219662e-01, 8.00628386e-01, 8.08235089e-01, 5.58968737e-01,\n",
       "       6.73522205e-04, 8.44257807e-01, 7.12102467e-01, 1.43537628e-01,\n",
       "       8.29405336e-01, 8.59557798e-03, 6.10284925e-02, 8.97110381e-01,\n",
       "       1.11799077e-01, 4.12872824e-01, 1.73392629e-01, 1.84202677e-01,\n",
       "       3.63889196e-01, 5.91732991e-02, 4.56799472e-01, 1.08125817e-01,\n",
       "       3.00209445e-01, 1.98353480e-01, 2.35145407e-01, 1.53149043e-01,\n",
       "       1.00960224e-01, 8.70637970e-01, 7.73998953e-01, 9.38582955e-01,\n",
       "       8.84996421e-01, 6.40539203e-01, 2.11445980e-01, 5.48011128e-01,\n",
       "       4.30593135e-01, 8.82753868e-01, 7.96738769e-01, 3.38864389e-01,\n",
       "       2.49999303e-01, 4.11604553e-01, 1.05768027e-01, 1.42615262e-01,\n",
       "       8.47520009e-01, 5.34104365e-01, 8.77665021e-01, 3.55391258e-01,\n",
       "       9.93694000e-01, 4.50237136e-01, 2.16299291e-01, 6.62302963e-01,\n",
       "       7.73982403e-01, 1.17633141e-01, 2.96073050e-01, 9.03209301e-01,\n",
       "       2.40800861e-01, 1.19210430e-01, 4.28105522e-02, 7.86859703e-01,\n",
       "       4.98159624e-01, 9.06756690e-01, 2.99079272e-01, 6.79909363e-01,\n",
       "       5.21330602e-01, 9.24620226e-01, 7.96559922e-01, 8.63377869e-01,\n",
       "       3.80244528e-01, 4.92771797e-01, 8.11091730e-02, 4.89589282e-01,\n",
       "       4.96264249e-01, 1.96471375e-01, 5.42113736e-01, 6.10507780e-01,\n",
       "       5.03556777e-01, 6.71041961e-01, 1.02289488e-01, 9.63513015e-01,\n",
       "       4.65465085e-02, 6.71267571e-01, 8.25227572e-01, 7.53490432e-01,\n",
       "       9.40189258e-01, 7.96088968e-01, 4.59040258e-01, 9.18285346e-01,\n",
       "       2.91139306e-01, 1.72123101e-02, 5.62356041e-01, 7.06062597e-01,\n",
       "       3.75113024e-01, 3.96615612e-01, 8.96402934e-01, 5.19710813e-01,\n",
       "       3.31212316e-01, 9.68479801e-02, 7.89878374e-01, 9.70210494e-01,\n",
       "       9.91304613e-01, 6.31497143e-02, 1.12427403e-01, 5.56807551e-01,\n",
       "       1.13944451e-01, 3.23388267e-01, 8.03283990e-01, 8.60763496e-01,\n",
       "       4.57579877e-01, 3.11212445e-02, 8.04696595e-01, 8.67079219e-01,\n",
       "       2.99527591e-01, 1.55291076e-01, 7.67180871e-01, 9.56907500e-01,\n",
       "       1.22938795e-01, 9.85786601e-01, 1.20961021e-02, 4.29093076e-01,\n",
       "       7.48278138e-02, 2.41105016e-01, 3.04064618e-01, 6.37306477e-02,\n",
       "       9.62056901e-01, 1.79751497e-01, 7.80412561e-01, 6.11121008e-01,\n",
       "       2.54308604e-01, 1.93697395e-01, 8.32400930e-02, 1.83226280e-01,\n",
       "       4.95085209e-01, 9.85130488e-01, 5.64986248e-01, 8.97552033e-01,\n",
       "       4.35213464e-01, 7.15658197e-01, 2.89352470e-01, 1.70261744e-01,\n",
       "       4.05462636e-01, 3.27341940e-01, 2.55920494e-03, 6.68131603e-01,\n",
       "       6.94699130e-01, 5.59135861e-01, 4.74159235e-01, 8.14424564e-01,\n",
       "       9.41518618e-01, 9.70546626e-01, 5.46295230e-01, 9.97158257e-01,\n",
       "       2.33782388e-01, 7.49759943e-02, 7.67599246e-01, 9.85280664e-01,\n",
       "       7.96498136e-01, 3.81922833e-01, 6.95488716e-01, 1.57584851e-01,\n",
       "       4.72718236e-01, 5.94930624e-01, 9.13876794e-01, 3.86268642e-01,\n",
       "       1.20687348e-01, 9.87577921e-01, 5.48968057e-01, 3.20293708e-01,\n",
       "       5.85748469e-01, 5.76245100e-01, 4.51708151e-01, 9.77238758e-02,\n",
       "       7.06591965e-01, 1.06364808e-01, 2.81418366e-01, 2.14463961e-01,\n",
       "       9.64597157e-01, 3.37559331e-01, 1.71296015e-01, 5.73161506e-01,\n",
       "       2.26291468e-01, 7.67852606e-01, 3.19921927e-03, 7.09568846e-01,\n",
       "       2.73786685e-01, 4.89516710e-01, 4.16363325e-01, 3.21637218e-01,\n",
       "       3.61523528e-01, 9.44331903e-02, 8.95590815e-01, 8.40432955e-02,\n",
       "       9.86330249e-01, 7.27536990e-01, 4.50489240e-01, 8.04619125e-01,\n",
       "       9.56885448e-01, 4.28876667e-01, 6.90642680e-01, 3.38228452e-01,\n",
       "       2.95925583e-01, 9.21888827e-01, 1.62382113e-01, 5.92866919e-01,\n",
       "       9.63113605e-01, 9.32807744e-01, 3.20366297e-01, 9.35849312e-01,\n",
       "       4.31257280e-01, 8.55662125e-01, 8.21997034e-01, 4.84042483e-01,\n",
       "       2.00927474e-01, 8.17773557e-01, 8.66652360e-01, 8.50276725e-01,\n",
       "       4.48099694e-01, 4.45703384e-01, 2.19207764e-01, 4.56131937e-01,\n",
       "       6.75654185e-01, 9.83318339e-01, 1.15623487e-01, 6.88866255e-01,\n",
       "       9.56227100e-01, 1.69635592e-01, 7.39517253e-01, 4.17793869e-01,\n",
       "       5.43340478e-01, 6.52533897e-01, 2.95890578e-01, 4.80446433e-01,\n",
       "       9.14168835e-01, 7.23940202e-01, 9.27020697e-01, 6.29355136e-01,\n",
       "       5.83960651e-01, 7.32184556e-01, 1.65886610e-01, 2.86077132e-02,\n",
       "       5.68101626e-01, 6.31274277e-01, 3.03180350e-01, 4.54976823e-01,\n",
       "       7.30757045e-01, 7.43934693e-01, 9.19538646e-01, 4.69756207e-01,\n",
       "       9.23575975e-01, 7.56220762e-01, 8.31372174e-01, 8.68248995e-01,\n",
       "       2.66647910e-01, 6.48334011e-02, 6.56690081e-01, 6.27340996e-01,\n",
       "       3.44000913e-01, 8.46101616e-01, 7.65754921e-01, 7.86151624e-01,\n",
       "       5.69743954e-01, 9.15961753e-01, 9.22913328e-01, 2.67396492e-01,\n",
       "       5.26524246e-01, 6.03151255e-02, 3.71532298e-01, 1.55339928e-01,\n",
       "       8.43406757e-01, 4.57501051e-01, 7.84735885e-01, 3.40096687e-01,\n",
       "       1.71530160e-01, 3.07515379e-01, 2.10002483e-01, 5.02632745e-01,\n",
       "       5.03730849e-01, 7.05618351e-01, 4.05050947e-01, 1.70565872e-01,\n",
       "       6.74750125e-01, 8.22886894e-02, 7.26575592e-02, 3.85118844e-01,\n",
       "       3.81850625e-01, 3.60462468e-01, 2.83228220e-01, 5.24697351e-02,\n",
       "       3.47560430e-01, 6.04358653e-01, 5.55490327e-02, 8.84509760e-01,\n",
       "       8.05159523e-01, 2.35106152e-01, 6.48318324e-01, 2.03532845e-01,\n",
       "       5.17654582e-01, 8.98891735e-01, 9.06580392e-01, 1.92713613e-01,\n",
       "       1.32688485e-01, 9.30783374e-01, 5.24641031e-01, 9.93514036e-01,\n",
       "       6.48576439e-01, 9.84522099e-02, 1.05503935e-01, 5.73877733e-02,\n",
       "       9.97364629e-01, 5.27022612e-01, 3.80221787e-01, 6.70850323e-01,\n",
       "       6.85659851e-01, 9.78649591e-01, 8.24632441e-01, 4.95576938e-01,\n",
       "       7.50591942e-02, 5.74708044e-02, 3.24222891e-01, 4.02532154e-01,\n",
       "       1.89407422e-01, 7.91828082e-01, 1.36966557e-01, 9.57048212e-01,\n",
       "       4.53569420e-01, 7.79599822e-01, 8.51096283e-01, 6.11919088e-01,\n",
       "       3.32372506e-04, 9.96897625e-01, 3.82083846e-01, 2.25751801e-01,\n",
       "       6.19591478e-02, 5.96299025e-01, 9.97583449e-02, 9.74424961e-01,\n",
       "       4.52563065e-01, 4.29968037e-01, 6.41712695e-02, 9.62007919e-01,\n",
       "       4.92444601e-01, 2.11538781e-02, 6.52778497e-01, 9.33551527e-01,\n",
       "       6.13651942e-01, 5.78124529e-01, 1.16961513e-01, 6.20795198e-01,\n",
       "       7.88301731e-01, 4.01737083e-01, 7.23170806e-01, 8.16334169e-01,\n",
       "       1.74479866e-01, 1.83518604e-01, 5.02657597e-01, 7.18026712e-01,\n",
       "       3.25026069e-02, 5.40714497e-01, 4.98535054e-01, 1.70766002e-01,\n",
       "       8.58047823e-01, 6.09656265e-01, 3.32871797e-02, 7.77780538e-01,\n",
       "       8.67040690e-01, 1.33993378e-01, 6.85530527e-01, 9.68756635e-01,\n",
       "       7.84148885e-01, 1.24995966e-01, 8.39827664e-01, 5.09531854e-01,\n",
       "       2.32772426e-01, 6.17899969e-01, 9.36822543e-01, 6.32435980e-01,\n",
       "       6.04927226e-01, 9.99513241e-01, 9.95689514e-01, 6.94813201e-02,\n",
       "       3.07671183e-01, 8.24496248e-01, 4.77584365e-01, 1.46301981e-02,\n",
       "       7.85296587e-01, 7.31283867e-02, 6.88099065e-01, 7.25513408e-01,\n",
       "       3.87044152e-01, 8.81730275e-01, 8.54316576e-01, 7.32369500e-01,\n",
       "       9.78603528e-01, 8.77955974e-01, 4.08127908e-01, 2.50940328e-01,\n",
       "       9.69944295e-01, 6.12434555e-01, 7.33136121e-01, 4.93574175e-01,\n",
       "       4.44343467e-01, 7.49520882e-01, 3.78954392e-01, 1.81264094e-01,\n",
       "       6.49831718e-01, 6.85655238e-01, 6.19180188e-01, 5.04644338e-01,\n",
       "       1.26980055e-01, 9.95679111e-01, 2.69884784e-01, 9.51776187e-01,\n",
       "       9.70034784e-01, 7.50056464e-01, 3.00230502e-01, 5.25756466e-01,\n",
       "       9.18275567e-01, 7.28408666e-01, 1.81015460e-01, 2.41719154e-01,\n",
       "       5.00242925e-01, 1.24962825e-01, 3.37650287e-01, 9.95433415e-01])"
      ]
     },
     "execution_count": 7,
     "metadata": {},
     "output_type": "execute_result"
    }
   ],
   "source": [
    "import numpy as np\n",
    "np.random.uniform(0,1,1000)"
   ]
  },
  {
   "cell_type": "code",
   "execution_count": 25,
   "id": "1b9dd724",
   "metadata": {},
   "outputs": [
    {
     "name": "stdout",
     "output_type": "stream",
     "text": [
      "variance :  0.9991277193792663\n",
      "moy: 0.001680489819818672  sig:  0.9995637645389444\n"
     ]
    },
    {
     "data": {
      "image/png": "[encoded data removed]",
      "text/plain": [
       "<Figure size 640x480 with 1 Axes>"
      ]
     },
     "metadata": {},
     "output_type": "display_data"
    }
   ],
   "source": [
    "import numpy as np\n",
    "import matplotlib.pyplot as plt\n",
    "import scipy.stats as stats\n",
    "\n",
    "data = np.random.normal(0,1,1000000)\n",
    "variance = np.var(data)\n",
    "print(\"variance : \", np.var(data))\n",
    "counts, bins, _= plt.hist(data, bins=150, color='skyblue')\n",
    "plt.title(\"Normal Distribution Generated\")\n",
    "\n",
    "mu, std = stats.norm.fit(data)\n",
    "print(\"moy:\",mu,\" sig: \", std)\n",
    "xmin, xmax = plt.xlim()\n",
    "bin_width = bins[1] - bins[0]\n",
    "\n",
    "x = np.linspace(xmin,xmax,100)\n",
    "p = stats.norm.pdf(x, mu, std) * len(data) * bin_width\n",
    "plt.plot(x,p,'k', linewidth=2)\n",
    "plt.title(\"Histogramme et distribution normale ajustée\\nVariance: {:.2f}\".format(variance))\n",
    "plt.xlabel(\"Valeur\")\n",
    "plt.ylabel(\"Densité\")\n",
    "plt.show()\n"
   ]
  },
  {
   "cell_type": "markdown",
   "id": "ab184dd0-aa19-4786-b30e-192126b3387f",
   "metadata": {},
   "source": [
    "<div class=\"alert alert-success\" role=\"alert\">\n",
    "<h3 class=\"alert-heading\"><i class=\"fa-solid fa-pencil\"></i> Exercice 1</h3>\n",
    "\n",
    "Générer:\n",
    "\n",
    "-   $X$ une variable aléatoire, 1000 répétitions d’une loi $U(0,1)$\n",
    "-   $Y$ une variable aléatoire, 1000 répétitions d’une loi normale de moyenne nulle et de variance égale à 2\n",
    "-   Vérifier la variance de $Y$ avec `np.var`\n",
    "\n",
    "</div>\n",
    "\n",
    "# 3. Indexation et *slicing*\n",
    "\n",
    "## 3.1 Logique dans le cas d’un array unidimensionnel\n",
    "\n",
    "La structure la plus simple est l’*array* unidimensionnel:"
   ]
  },
  {
   "cell_type": "code",
   "execution_count": 14,
   "id": "58c0b56c",
   "metadata": {},
   "outputs": [
    {
     "name": "stdout",
     "output_type": "stream",
     "text": [
      "[0 1 2 3 4 5 6 7 8 9]"
     ]
    }
   ],
   "source": [
    "x = np.arange(10)\n",
    "print(x)\n"
   ]
  },
  {
   "cell_type": "markdown",
   "id": "bb7a6ab0-3fba-45fa-b157-05f1c09aebdc",
   "metadata": {},
   "source": [
    "L’indexation est dans ce cas similaire à celle d’une liste:\n",
    "\n",
    "-   le premier élément est 0\n",
    "-   le énième élément est accessible à la position $n-1$\n",
    "\n",
    "La logique d’accès aux éléments est ainsi la suivante :\n",
    "\n",
    "``` python\n",
    "x[start:stop:step]\n",
    "```\n",
    "\n",
    "Avec un *array* unidimensionnel, l’opération de *slicing* (garder une coupe du *array*) est très simple.\n",
    "Par exemple, pour garder les *K* premiers éléments d’un *array*, on fera:\n",
    "\n",
    "``` python\n",
    "x[: (K - 1)]\n",
    "```\n",
    "\n",
    "En l’occurrence, on sélectionne le K$^{eme}$ élément en utilisant\n",
    "\n",
    "``` python\n",
    "x[K - 1]\n",
    "```\n",
    "\n",
    "Pour sélectionner uniquement un élément, on fera ainsi:"
   ]
  },
  {
   "cell_type": "code",
   "execution_count": 15,
   "id": "51623647",
   "metadata": {},
   "outputs": [
    {
     "data": {
      "text/plain": [
       "2"
      ]
     },
     "metadata": {},
     "output_type": "display_data"
    }
   ],
   "source": [
    "x = np.arange(10)\n",
    "x[2]\n"
   ]
  },
  {
   "cell_type": "markdown",
   "id": "5f38d2f5-d6d3-43e0-963a-56dd1ae73101",
   "metadata": {},
   "source": [
    "Les syntaxes qui permettent de sélectionner des indices particuliers d’une liste fonctionnent également\n",
    "avec les *arrays*.\n",
    "\n",
    "<div class=\"alert alert-success\" role=\"alert\">\n",
    "<h3 class=\"alert-heading\"><i class=\"fa-solid fa-pencil\"></i> Exercice 2</h3>\n",
    "\n",
    "Prenez `x = np.arange(10)` et…\n",
    "\n",
    "-   Sélectionner les éléments 0, 3, 5 de `x`\n",
    "-   Sélectionner les éléments pairs\n",
    "-   Sélectionner tous les éléments sauf le premier\n",
    "-   Sélectionner les 5 premiers éléments\n",
    "\n",
    "</div>"
   ]
  },
  {
   "cell_type": "code",
   "execution_count": 32,
   "id": "52b0b3c7",
   "metadata": {},
   "outputs": [
    {
     "name": "stdout",
     "output_type": "stream",
     "text": [
      "0 3 5\n",
      "method 1 :  [0, 2, 4, 6, 8]\n",
      "method 2 :  [0, 2, 4, 6, 8]\n"
     ]
    }
   ],
   "source": [
    "x= np.arange(10)\n",
    "print(x[0],x[3],x[5])\n",
    "\n",
    "pairs = [x for x in x if x%2==0]\n",
    "print(\"method 1 : \", pairs)\n",
    "pairs2= []\n",
    "for x in x:\n",
    "    if x % 2 ==0:\n",
    "        pairs2.append(x)\n",
    "print(\"method 2 : \", pairs2)\n"
   ]
  },
  {
   "cell_type": "markdown",
   "id": "d1aa97c0-bd9a-478c-bce1-9572f56451a2",
   "metadata": {},
   "source": [
    "## 3.2 Sur la performance\n",
    "\n",
    "Un élément déterminant dans la performance de `Numpy` par rapport aux listes,\n",
    "lorsqu’il est question de\n",
    "*slicing* est qu’un array ne renvoie pas une\n",
    "copie de l’élément en question (copie qui coûte de la mémoire et du temps)\n",
    "mais simplement une vue de celui-ci.\n",
    "\n",
    "Lorsqu’il est nécessaire d’effectuer une copie,\n",
    "par exemple pour ne pas altérer l’*array* sous-jacent, on peut\n",
    "utiliser la méthode `copy`:\n",
    "\n",
    "``` python\n",
    "x_sub_copy = x[:2, :2].copy()\n",
    "```\n",
    "\n",
    "## 3.3 Filtres logiques\n",
    "\n",
    "Il est également possible, et plus pratique, de sélectionner des données à partir de conditions logiques\n",
    "(opération qu’on appelle un ***boolean mask***).\n",
    "Cette fonctionalité servira principalement à\n",
    "effectuer des opérations de filtre sur les données.\n",
    "\n",
    "Pour des opérations de comparaison simples, les comparateurs logiques peuvent être suffisants.\n",
    "Ces comparaisons fonctionnent aussi sur les tableaux multidimensionnels grâce au\n",
    "*broadcasting* sur lequel nous reviendrons :"
   ]
  },
  {
   "cell_type": "code",
   "execution_count": 46,
   "id": "f486c3f6",
   "metadata": {},
   "outputs": [
    {
     "name": "stdout",
     "output_type": "stream",
     "text": [
      "[0 1 2 3 4 5 6 7 8 9]\n",
      "[[-1  1 -2]\n",
      " [-3  2  0]]\n"
     ]
    }
   ],
   "source": [
    "# x = np.arange(10)\n",
    "x2 = np.array([[-1, 1, -2], [-3, 2, 0]])\n",
    "print(x)\n",
    "print(x2)\n"
   ]
  },
  {
   "cell_type": "code",
   "execution_count": 72,
   "id": "c6ab48ac",
   "metadata": {},
   "outputs": [
    {
     "name": "stdout",
     "output_type": "stream",
     "text": [
      "[False False  True False False False False False False False]\n",
      "[[ True False  True]\n",
      " [ True False False]]\n",
      "[0, 1]\n",
      "[-1  1 -2 -3  2  0]\n"
     ]
    }
   ],
   "source": [
    "x = np.arange(10)\n",
    "\n",
    "print(x == 2)\n",
    "print(x2 < 0)\n",
    "\n",
    "list = [val for val in x if val<2]\n",
    "print([val for val in x if val<2])\n",
    "list2 = x[x<2]\n",
    "print(x2[x2<5])"
   ]
  },
  {
   "cell_type": "markdown",
   "id": "1a1e6896-08d0-4fbe-aa41-fa62b948da2e",
   "metadata": {},
   "source": [
    "Pour sélectionner les observations relatives à la condition logique,\n",
    "il suffit d’utiliser la logique de *slicing* de `numpy` qui fonctionne avec les conditions logiques\n",
    "\n",
    "<div class=\"alert alert-success\" role=\"alert\">\n",
    "<h3 class=\"alert-heading\"><i class=\"fa-solid fa-pencil\"></i> Exercice 3</h3>\n",
    "\n",
    "Soit\n",
    "\n",
    "``` python\n",
    "x = np.random.normal(size=10000)\n",
    "```\n",
    "\n",
    "1.  Ne conserver que les valeurs dont la valeur absolue est supérieure à 1.96\n",
    "2.  Compter le nombre de valeurs supérieures à 1.96 en valeur absolue et leur proportion dans l’ensemble\n",
    "3.  Sommer les valeurs absolues de toutes les observations supérieures (en valeur absolue) à 1.96\n",
    "    et rapportez les à la somme des valeurs de `x` (en valeur absolue)\n",
    "\n",
    "</div>\n",
    "\n",
    "Lorsque c’est possible, il est recommandé d’utiliser les fonctions logiques de `numpy` (optimisées et\n",
    "qui gèrent bien la dimension).\n",
    "Parmi elles, on peut retrouver:\n",
    "\n",
    "-   `count_nonzero` ;\n",
    "-   `isnan` ;\n",
    "-   `any` ou `all`, notamment avec l’argument `axis` ;\n",
    "-   `np.array_equal` pour vérifier, élément par élément, l’égalité.\n",
    "\n",
    "Soient `x` un *array* multidimensionnel et `y` un *array* unidimensionnel présentant une valeur manquante."
   ]
  },
  {
   "cell_type": "code",
   "execution_count": 120,
   "id": "21e10fad",
   "metadata": {},
   "outputs": [
    {
     "name": "stdout",
     "output_type": "stream",
     "text": [
      "proportion  0.04992\n",
      "11695.020393574416\n",
      "-49.692067029013295\n",
      "0.14633684245061368\n"
     ]
    },
    {
     "data": {
      "image/png": "[encoded data removed]",
      "text/plain": [
       "<Figure size 640x480 with 1 Axes>"
      ]
     },
     "metadata": {},
     "output_type": "display_data"
    }
   ],
   "source": [
    "x = np.random.normal(size=100000)\n",
    "list1 = x[np.abs(x)>1.96]\n",
    "plt.hist(list1,100)\n",
    "prop = list1.size/x.size\n",
    "print(\"proportion \", prop)\n",
    "sum = np.sum(abs(list1))\n",
    "print(sum)\n",
    "sum2 = np.sum(list1)\n",
    "print(sum2)\n",
    "prop2 = sum / np.sum(np.abs(x))\n",
    "print(prop2)"
   ]
  },
  {
   "cell_type": "code",
   "execution_count": 25,
   "id": "6128fbfb",
   "metadata": {},
   "outputs": [],
   "source": [
    "x = np.random.normal(0, size=(3, 4))\n",
    "y = np.array([np.nan, 0, 1])\n"
   ]
  },
  {
   "cell_type": "markdown",
   "id": "2c0c18c2-f455-42bc-8cb0-c5c3888525ef",
   "metadata": {},
   "source": [
    "<div class=\"alert alert-success\" role=\"alert\">\n",
    "<h3 class=\"alert-heading\"><i class=\"fa-solid fa-pencil\"></i> Exercice 4</h3>\n",
    "\n",
    "1.  Utiliser `count_nonzero` sur `y`\n",
    "2.  Utiliser `isnan` sur `y` et compter le nombre de valeurs non NaN\n",
    "3.  Vérifier que `x` comporte au moins une valeur positive dans son ensemble, en parcourant les lignes puis les colonnes.\n",
    "\n",
    "<details>\n",
    "\n",
    "<summary>\n",
    "\n",
    "Aide\n",
    "\n",
    "</summary>\n",
    "\n",
    "Jetez un oeil au paramètre `axis` en vous documentant sur internet. Par exemple [ici](https://www.sharpsightlabs.com/blog/numpy-axes-explained/).\n",
    "\n",
    "</details>\n",
    "\n",
    "</div>\n",
    "\n",
    "# 4. Manipuler un *array*\n",
    "\n",
    "## 4.1 Fonctions de manipulation\n",
    "\n",
    "`Numpy` propose des méthodes ou des fonctions standardisées pour\n",
    "modifier un array, voici un tableau en présentant quelques-unes:\n",
    "\n",
    "| Opération | Implémentation |\n",
    "|------------------------------|------------------------------------------|\n",
    "| Aplatir un array | `x.flatten()` (méthode) |\n",
    "| Transposer un array | `x.T` (méthode) ou `np.transpose(x)` (fonction) |\n",
    "| Ajouter des éléments à la fin | `np.append(x, [1,2])` |\n",
    "| Ajouter des éléments à un endroit donné (aux positions 1 et 2) | `np.insert(x, [1,2], 3)` |\n",
    "| Supprimer des éléments (aux positions 0 et 3) | `np.delete(x, [0,3])` |\n",
    "\n",
    "Pour combiner des array, on peut utiliser, selon les cas,\n",
    "les fonctions `np.concatenate`, `np.vstack` ou la méthode `.r_` (concaténation *rowwise*).\n",
    "`np.hstack` ou la méthode `.column_stack` ou `.c_` (concaténation *column-wise*)"
   ]
  },
  {
   "cell_type": "code",
   "execution_count": 27,
   "id": "e5515ef1",
   "metadata": {},
   "outputs": [],
   "source": [
    "x = np.random.normal(size=10)\n"
   ]
  },
  {
   "cell_type": "markdown",
   "id": "07ba9f97-b621-471b-a4a0-c121611f2b04",
   "metadata": {},
   "source": [
    "Pour ordonner un array, on utilise `np.sort`"
   ]
  },
  {
   "cell_type": "code",
   "execution_count": 28,
   "id": "c9a517de",
   "metadata": {},
   "outputs": [
    {
     "data": {
      "text/plain": [
       "array([1, 2, 3, 4, 5, 6, 7])"
      ]
     },
     "metadata": {},
     "output_type": "display_data"
    }
   ],
   "source": [
    "x = np.array([7, 2, 3, 1, 6, 5, 4])\n",
    "\n",
    "np.sort(x)\n"
   ]
  },
  {
   "cell_type": "markdown",
   "id": "94ca6d0c-114c-4700-b89e-1fdbe98a033b",
   "metadata": {},
   "source": [
    "Si on désire faire un ré-ordonnement partiel pour trouver les *k* valeurs les plus petites d’un `array` sans les ordonner, on utilise `partition`:"
   ]
  },
  {
   "cell_type": "code",
   "execution_count": 29,
   "id": "08b7c990",
   "metadata": {},
   "outputs": [
    {
     "data": {
      "text/plain": [
       "array([2, 1, 3, 4, 6, 5, 7])"
      ]
     },
     "metadata": {},
     "output_type": "display_data"
    }
   ],
   "source": [
    "np.partition(x, 3)\n"
   ]
  },
  {
   "cell_type": "markdown",
   "id": "37cfe951-f661-4635-a299-50bf8b6b04d9",
   "metadata": {},
   "source": [
    "## 4.2 Statistiques sur un *array*\n",
    "\n",
    "Pour les statistiques descriptives classiques,\n",
    "`Numpy` propose un certain nombre de fonctions déjà implémentées,\n",
    "qui peuvent être combinées avec l’argument `axis`"
   ]
  },
  {
   "cell_type": "code",
   "execution_count": 30,
   "id": "e162a06d",
   "metadata": {},
   "outputs": [],
   "source": [
    "x = np.random.normal(0, size=(3, 4))\n"
   ]
  },
  {
   "cell_type": "markdown",
   "id": "7c32f7bf-9236-48a2-9075-65aadde4c5f4",
   "metadata": {},
   "source": [
    "<div class=\"alert alert-success\" role=\"alert\">\n",
    "<h3 class=\"alert-heading\"><i class=\"fa-solid fa-pencil\"></i> Exercice 5</h3>\n",
    "\n",
    "1.  Faire la somme de tous les éléments d’un `array`, des éléments en ligne et des éléments en colonne. Vérifier\n",
    "    la cohérence.\n",
    "2.  Ecrire une fonction `statdesc` pour renvoyer les valeurs suivantes : moyenne, médiane, écart-type, minimum et maximum.\n",
    "    L’appliquer sur `x` en jouant avec l’argument *axis*\n",
    "\n",
    "</div>\n",
    "\n",
    "# 5. *Broadcasting*\n",
    "\n",
    "Le *broadcasting* désigne un ensemble de règles permettant\n",
    "d’appliquer des opérations sur des tableaux de dimensions différentes. En pratique,\n",
    "cela consiste généralement à appliquer une seule opération à l’ensemble des membres d’un tableau `numpy`.\n",
    "\n",
    "La différence peut être comprise à partir de l’exemple suivant. Le *broadcasting* permet\n",
    "de transformer le scalaire `5` en *array* de dimension 3:"
   ]
  },
  {
   "cell_type": "code",
   "execution_count": 35,
   "id": "d39c83ac",
   "metadata": {},
   "outputs": [
    {
     "data": {
      "text/plain": [
       "array([5, 6, 7])"
      ]
     },
     "metadata": {},
     "output_type": "display_data"
    }
   ],
   "source": [
    "a = np.array([0, 1, 2])\n",
    "b = np.array([5, 5, 5])\n",
    "\n",
    "a + b\n",
    "a + 5\n"
   ]
  },
  {
   "cell_type": "markdown",
   "id": "cb10c0c3-be5f-49dd-96ee-002011eeb303",
   "metadata": {},
   "source": [
    "Le *broadcasting* peut être très pratique pour effectuer de manière efficace des opérations sur des données à\n",
    "la structure complexe. Pour plus de détails, se rendre\n",
    "[ici](https://jakevdp.github.io/PythonDataScienceHandbook/02.05-computation-on-arrays-broadcasting.html) ou [ici](https://stackoverflow.com/questions/47435526/what-is-the-meaning-of-axis-1-in-keras-argmax).\n",
    "\n",
    "## 5.1 Une application: programmer ses propres k-nearest neighbors\n",
    "\n",
    "<div class=\"alert alert-success\" role=\"alert\">\n",
    "<h3 class=\"alert-heading\"><i class=\"fa-solid fa-pencil\"></i> Exercice (un peu plus corsé)</h3>\n",
    "\n",
    "1.  Créer `X` un tableau à deux dimensions (i.e. une matrice) comportant 10 lignes\n",
    "    et 2 colonnes. Les nombres dans le tableau sont aléatoires.\n",
    "2.  Importer le module `matplotlib.pyplot` sous le nom `plt`. Utiliser\n",
    "    `plt.scatter` pour représenter les données sous forme de nuage de points.\n",
    "3.  Constuire une matrice 10x10 stockant, à l’élément $(i,j)$, la distance euclidienne entre les points $X[i,]$ et $X[j,]$. Pour cela, il va falloir jouer avec les dimensions en créant des tableaux emboîtés à partir par des appels à `np.newaxis` :\n",
    "\n",
    "-   En premier lieu, utiliser `X1 = X[:, np.newaxis, :]` pour transformer la matrice en tableau emboîté. Vérifier les dimensions\n",
    "-   Créer `X2` de dimension `(1, 10, 2)` à partir de la même logique\n",
    "-   En déduire, pour chaque point, la distance avec les autres points pour chaque coordonnées. Elever celle-ci au carré\n",
    "-   A ce stade, vous devriez avoir un tableau de dimension `(10, 10, 2)`. La réduction à une matrice s’obtient en sommant sur le dernier axe. Regarder dans l’aide de `np.sum` comme effectuer une somme sur le dernier axe.\n",
    "-   Enfin, appliquer la racine carrée pour obtenir une distance euclidienne en bonne et due forme.\n",
    "\n",
    "1.  Vérifier que les termes diagonaux sont bien nuls (distance d’un point à lui-même…)\n",
    "2.  Il s’agit maintenant de classer, pour chaque point, les points dont les valeurs sont les plus similaires. Utiliser `np.argsort` pour obtenir, pour chaque ligne, le classement des points les plus proches\n",
    "3.  On va s’intéresser aux k-plus proches voisins. Pour le moment, fixons k=2. Utiliser `argpartition` pour réordonner chaque ligne de manière à avoir les 2 plus proches voisins de chaque point d’abord et le reste de la ligne ensuite\n",
    "4.  Utiliser le morceau de code ci-dessous\n",
    "\n",
    "</div>"
   ]
  },
  {
   "cell_type": "markdown",
   "id": "b443f9c9-f535-479c-bc35-b5aa0f03ec26",
   "metadata": {},
   "source": [
    "<details><summary>Un indice pour représenter graphiquement les plus proches voisins</summary>\n",
    "\n",
    "``` python\n",
    "plt.scatter(X[:, 0], X[:, 1], s=100)\n",
    "\n",
    "# draw lines from each point to its two nearest neighbors\n",
    "K = 2\n",
    "\n",
    "for i in range(X.shape[0]):\n",
    "    for j in nearest_partition[i, : K + 1]:\n",
    "        # plot a line from X[i] to X[j]\n",
    "        # use some zip magic to make it happen:\n",
    "        plt.plot(*zip(X[j], X[i]), color=\"black\")\n",
    "```\n",
    "\n",
    "</details>"
   ]
  },
  {
   "cell_type": "markdown",
   "id": "8247b6ba-7361-4050-8c1e-1ddd1f5599a0",
   "metadata": {},
   "source": [
    "Pour la question 2, vous devriez obtenir un graphique ayant cet aspect\n",
    "\n",
    "For question 2, you should get a graph that looks like this:"
   ]
  },
  {
   "cell_type": "code",
   "execution_count": 39,
   "id": "43101266",
   "metadata": {},
   "outputs": [
    {
     "data": {
      "image/png": "[encoded data removed]"
     },
     "metadata": {},
     "output_type": "display_data"
    }
   ],
   "source": []
  },
  {
   "cell_type": "markdown",
   "id": "d45fcb40-ed8a-4488-b9fb-6eaf5262b410",
   "metadata": {},
   "source": [
    "Le résultat de la question 7 est le suivant :"
   ]
  },
  {
   "cell_type": "code",
   "execution_count": 41,
   "id": "f8154bd4",
   "metadata": {},
   "outputs": [
    {
     "data": {
      "image/png": "[encoded data removed]"
     },
     "metadata": {},
     "output_type": "display_data"
    }
   ],
   "source": []
  },
  {
   "cell_type": "markdown",
   "id": "3bcea4b2-89b4-4737-8407-3213a49c62fc",
   "metadata": {},
   "source": [
    "Ai-je inventé cet exercice corsé ? Pas du tout, il vient de l’ouvrage [*Python Data Science Handbook*](https://jakevdp.github.io/PythonDataScienceHandbook/02.08-sorting.html#Example:-k-Nearest-Neighbors). Mais, si je vous l’avais indiqué immédiatement, auriez-vous cherché à répondre aux questions ?\n",
    "\n",
    "Par ailleurs, il ne serait pas une bonne idée de généraliser cet algorithme à de grosses données. La complexité de notre approche est $O(N^2)$. L’algorithme implémenté par `Scikit-Learn` est\n",
    "en $O[NlogN]$.\n",
    "\n",
    "De plus, le calcul de distances matricielles en utilisant la puissance des cartes graphiques serait plus rapide. A cet égard, la librairie [faiss](https://github.com/facebookresearch/faiss) ou les *frameworks* spécialisés dans le calcul de distance entre des vecteurs à haute dimension comme [ChromaDB](https://www.trychroma.com/)\n",
    "offrent des performances beaucoup plus satisfaisantes que celles que permettraient `Numpy` sur ce problème précis.\n",
    "\n",
    "# 6. Exercices supplémentaires\n",
    "\n",
    "<div class=\"alert alert-success\" role=\"alert\">\n",
    "<h3 class=\"alert-heading\"><i class=\"fa-solid fa-pencil\"></i> Comprendre le principe de l’algorithme PageRank</h3>\n",
    "\n",
    "`Google` est devenu célèbre grâce à son algorithme `PageRank`. Celui-ci permet, à partir\n",
    "de liens entre sites *web*, de donner un score d’importance à un site *web* qui va\n",
    "être utilisé pour évaluer sa centralité dans un réseau.\n",
    "L’objectif de cet exercice est d’utiliser `Numpy` pour mettre en oeuvre un tel\n",
    "algorithme à partir d’une matrice d’adjacence qui relie les sites entre eux.\n",
    "\n",
    "1.  Créer la matrice suivante avec `numpy`. L’appeler `M`:\n",
    "\n",
    "$$\n",
    "\\begin{bmatrix}\n",
    "0 & 0 & 0 & 0 & 1 \\\\\n",
    "0.5 & 0 & 0 & 0 & 0 \\\\\n",
    "0.5 & 0 & 0 & 0 & 0 \\\\\n",
    "0 & 1 & 0.5 & 0 & 0 \\\\\n",
    "0 & 0 & 0.5 & 1 & 0\n",
    "\\end{bmatrix}\n",
    "$$\n",
    "\n",
    "1.  Pour représenter visuellement ce *web* minimaliste,\n",
    "    convertir en objet `networkx` (une librairie spécialisée\n",
    "    dans l’analyse de réseau) et utiliser la fonction `draw`\n",
    "    de ce package.\n",
    "\n",
    "Il s’agit de la transposée de la matrice d’adjacence\n",
    "qui permet de relier les sites entre eux. Par exemple,\n",
    "le site 1 (première colonne) est référencé par\n",
    "les sites 2 et 3. Celui-ci ne référence que le site 5.\n",
    "\n",
    "1.  A partir de la page wikipedia anglaise de `PageRank`, tester\n",
    "    sur votre matrice.\n",
    "\n",
    "</div>"
   ]
  },
  {
   "cell_type": "code",
   "execution_count": 48,
   "id": "f2aa1623",
   "metadata": {},
   "outputs": [
    {
     "data": {
      "image/png": "[encoded data removed]"
     },
     "metadata": {},
     "output_type": "display_data"
    }
   ],
   "source": []
  },
  {
   "cell_type": "markdown",
   "id": "8483ea91-2555-4cfc-8a11-05b930db83b6",
   "metadata": {},
   "source": [
    "Le site 1 est assez central car il est référencé 2 fois. Le site\n",
    "5 est lui également central puisqu’il est référencé par le site 1."
   ]
  },
  {
   "cell_type": "code",
   "execution_count": 50,
   "id": "a04b6b8f",
   "metadata": {},
   "outputs": [
    {
     "data": {
      "text/plain": [
       "array([[0.25419178],\n",
       "       [0.13803151],\n",
       "       [0.13803151],\n",
       "       [0.20599017],\n",
       "       [0.26375504]])"
      ]
     },
     "metadata": {},
     "output_type": "display_data"
    }
   ],
   "source": []
  }
 ],
 "metadata": {
  "kernelspec": {
   "display_name": "Python 3",
   "language": "python",
   "name": "python3"
  },
  "language_info": {
   "codemirror_mode": {
    "name": "ipython",
    "version": 3
   },
   "file_extension": ".py",
   "mimetype": "text/x-python",
   "name": "python",
   "nbconvert_exporter": "python",
   "pygments_lexer": "ipython3",
   "version": "3.8.10"
  }
 },
 "nbformat": 4,
 "nbformat_minor": 5
}
