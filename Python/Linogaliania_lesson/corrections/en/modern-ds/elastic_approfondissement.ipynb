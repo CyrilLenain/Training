{
  "cells": [
    {
      "cell_type": "markdown",
      "metadata": {},
      "source": [
        "# Approfondissement ElasticSearch pour des recherches de proximité\n",
        "\n",
        "géographique\n",
        "\n",
        "Lino Galiana  \n",
        "2024-10-31\n",
        "\n",
        "Pour essayer les exemples présents dans ce tutoriel :\n",
        "\n",
        "Ce chapitre est issu du travail produit\n",
        "dans le cadre d’un hackathon de l’Insee avec\n",
        "[Raphaële Adjerad](https://github.com/raphaeleadjerad)\n",
        "et présente quelques éléments qui peuvent être utiles\n",
        "pour l’enrichissement de données d’entreprises\n",
        "à partir d’un répertoire officiel.\n",
        "\n",
        ":warning: Il nécessite une version particulière du package `elasticsearch` pour tenir compte de l’héritage de la version 7 du moteur Elastic. Pour cela, faire\n",
        "\n",
        "``` python\n",
        "pip install elasticsearch==8.2.0\n",
        "```\n",
        "\n",
        "# 1. Introduction\n",
        "\n",
        "Dans le cadre particulier de l’identification des entreprises, Elasticsearch fait partie de la solution retenue par\n",
        "l’API “Sirene données ouvertes” (DINUM) (cf https://annuaire-entreprises.data.gouv.fr/) l’API de recherche d’entreprises Française de la Fabrique numérique des Ministères Sociaux (cf https://api.recherche-entreprises.fabrique.social.gouv.fr/)le projet de l’Insee “Amélioration de l’identification de l’employeur dans le recensement”, pour faire une première sélection des établissements pertinents pour un bulletin de recensement donné.\n",
        "Dans le cadre de l’identification des individus, Elasticsearch fait partie de la solution envisagée pour l’identification des individus au RNIPP (Répertoire national des personnes physiques) pour le projet CSNS (Code statistique non signifiant), et est la solution technique sous-jacente au projet matchID du ministère de l’intérieur.\n",
        "\n",
        "Au delà du secteur public, on peut citer qu’Amazon AWS fait partie des utilisateurs historiques d’Elasticsearch.\n",
        "\n",
        "## 1.1 Objectif\n",
        "\n",
        "Ce chapitre vise à approfondir les éléments présentés sur Elastic précédemment. L’idée\n",
        "est de se placer dans un contexte opérationnel où on reçoit des informations\n",
        "sur des entreprises telles que l’adresse et la localisation et qu’on\n",
        "désire associer à des données administratives considérées plus fliables.\n",
        "\n",
        "## 1.2 Réplication de ce chapitre\n",
        "\n",
        "Comme le précédent, ce chapitre est plus exigeant en termes d’infrastructures que les précédents.\n",
        "Il nécessite un serveur Elastic. Les utilisateurs du\n",
        "[SSP Cloud](datalab.sspcloud.fr/) pourront répliquer les exemples de ce cours\n",
        "car cette technologie est disponible (que ce soit pour indexer une base ou\n",
        "pour requêter une base existante).\n",
        "\n",
        "La première partie de ce tutoriel, qui consiste à créer une base Sirene géolocalisée\n",
        "à partir des données *open-data* ne nécessite pas d’architecture particulière et\n",
        "peut ainsi être exécutée en utilisant les packages suivants :"
      ],
      "id": "db619239-a716-45ba-842d-2e1da3148950"
    },
    {
      "cell_type": "code",
      "execution_count": 1,
      "metadata": {},
      "outputs": [],
      "source": [
        "import numpy as np\n",
        "import pandas as pd\n"
      ],
      "id": "2bf85998"
    },
    {
      "cell_type": "markdown",
      "metadata": {},
      "source": [
        "## 1.3 Sources\n",
        "\n",
        "Ce chapitre va utiliser plusieurs sources de diffusion de\n",
        "l’Insee:\n",
        "\n",
        "-   Le stock des établissements présents dans les [données de diffusion Sirene](https://www.insee.fr/fr/information/3591226) ;\n",
        "-   Les [données Sirene géolocalisées](https://www.data.gouv.fr/fr/datasets/geolocalisation-des-etablissements-du-repertoire-sirene-pour-les-etudes-statistiques/)\n",
        "\n",
        "Les données à siretiser sont celles du registre Français des émissions polluantes\n",
        "établi par le Ministère de la Transition Energétique. Le jeu de données\n",
        "est disponible sur [data.gouv](https://www.data.gouv.fr/fr/datasets/registre-francais-des-emissions-polluantes/)\n",
        "\n",
        "# 2. Préparation des données à identifier\n",
        "\n",
        "Le jeu de données présente déjà\n",
        "l’identifiant\n",
        "de l’établissement, dit numéro `siret`.\n",
        "Nous allons faire comme si nous étions\n",
        "en amont de cet appariement et que nous\n",
        "désirons trouver ce numéro. La présence\n",
        "dans la base de ce numéro nous permettra d’évaluer la qualité\n",
        "de notre méthode de recherche avec\n",
        "`Elastic`."
      ],
      "id": "54426d07-9f49-4e8d-8274-d40769588f4e"
    },
    {
      "cell_type": "code",
      "execution_count": 2,
      "metadata": {},
      "outputs": [],
      "source": [
        "import requests\n",
        "import zipfile\n",
        "import pandas as pd\n",
        "\n",
        "url = \"https://www.data.gouv.fr/fr/datasets/r/9af639b9-e2b6-4d7d-8c5f-0c4953c48663\"\n",
        "req = requests.get(url)\n",
        "\n",
        "with open(\"irep.zip\", \"wb\") as f:\n",
        "    f.write(req.content)\n",
        "\n",
        "with zipfile.ZipFile(\"irep.zip\", \"r\") as zip_ref:\n",
        "    zip_ref.extractall(\"irep\")\n",
        "\n",
        "etablissements = pd.read_csv(\"irep/2019/etablissements.csv\", sep=\";\")\n"
      ],
      "id": "c41f4d19"
    },
    {
      "cell_type": "markdown",
      "metadata": {},
      "source": [
        "# 3. Constitution du référentiel administratif géolocalisé\n",
        "\n",
        "Dans un premier temps, on va combiner ensemble les différentes sources\n",
        "*open-data* pour créer un référentiel fiable d’entreprises\n",
        "géolocalisées.\n",
        "\n",
        "## 3.1 Importer la base déjà créée\n",
        "\n",
        "Les données à utiliser pour constuire une base Sirene géolocalisée\n",
        "sont trop volumineuses pour les serveurs mis à disposition\n",
        "gratuitement par `Github` pour la compilation de ce site web.\n",
        "Nous proposons ainsi une version déjà construite, stockée\n",
        "dans l’espace de mise à disposition du SSP Cloud. Ce fichier est\n",
        "au format `parquet` et est ouvert à\n",
        "tous, même pour les personnes ne disposant pas d’un compte.\n",
        "Le code ayant construit cette base est présenté ci-dessous.\n",
        "\n",
        "Pour importer cette base, on utilise les fonctionalités\n",
        "de `pyarrow` qui permettent d’importer un fichier sur\n",
        "un système de stockage *cloud* comme s’il était\n",
        "présent sur le disque :"
      ],
      "id": "2e5f0462-4d11-4ac9-bc2e-804d49f623fe"
    },
    {
      "cell_type": "code",
      "execution_count": 3,
      "metadata": {},
      "outputs": [],
      "source": [
        "from pyarrow import fs\n",
        "import pyarrow as pa\n",
        "import pyarrow.parquet as pq\n",
        "\n",
        "bucket = \"lgaliana\"\n",
        "path = \"diffusion/sirene_geolocalized.parquet\"\n",
        "\n",
        "s3 = fs.S3FileSystem(endpoint_override=\"http://\" + \"minio.lab.sspcloud.fr\")\n",
        "\n",
        "df_geolocalized = (\n",
        "    pq.ParquetDataset(f\"{bucket}/{path}\", filesystem=s3).read_pandas().to_pandas()\n",
        ")\n",
        "df_geolocalized.head(3)\n"
      ],
      "id": "1f1aefde"
    },
    {
      "cell_type": "markdown",
      "metadata": {},
      "source": [
        "## 3.2 Reproduire la construction de la base\n",
        "\n",
        "La première base d’entrée à utiliser est disponible sur\n",
        "[data.gouv](https://www.data.gouv.fr/fr/datasets/base-sirene-des-entreprises-et-de-leurs-etablissements-siren-siret/)"
      ],
      "id": "f88ec016-18c2-4d53-bd32-97718eabc967"
    },
    {
      "cell_type": "code",
      "execution_count": 4,
      "metadata": {},
      "outputs": [],
      "source": [
        "import requests\n",
        "import zipfile\n",
        "\n",
        "url_download = (\n",
        "    \"https://www.data.gouv.fr/fr/datasets/r/0651fb76-bcf3-4f6a-a38d-bc04fa708576\"\n",
        ")\n",
        "req = requests.get(url_download)\n",
        "\n",
        "with open(\"sirene.zip\", \"wb\") as f:\n",
        "    f.write(req.content)\n",
        "\n",
        "with zipfile.ZipFile(\"sirene.zip\", \"r\") as zip_ref:\n",
        "    zip_ref.extractall(\"sirene\")\n"
      ],
      "id": "9bc2ec0f"
    },
    {
      "cell_type": "markdown",
      "metadata": {},
      "source": [
        "On va importer seulement les colonnes utiles et simplifier la structure\n",
        "pour être en mesure de ne garder que les informations qui nous\n",
        "intéressent (nom de l’entreprise, adresse, commune, code postal…)"
      ],
      "id": "eb4dfbd4-e912-438c-98ac-49a078c1031f"
    },
    {
      "cell_type": "code",
      "execution_count": 5,
      "metadata": {},
      "outputs": [],
      "source": [
        "import pandas as pd\n",
        "import numpy as np\n",
        "\n",
        "list_cols = [\n",
        "    \"siren\",\n",
        "    \"siret\",\n",
        "    \"activitePrincipaleRegistreMetiersEtablissement\",\n",
        "    \"complementAdresseEtablissement\",\n",
        "    \"numeroVoieEtablissement\",\n",
        "    \"typeVoieEtablissement\",\n",
        "    \"libelleVoieEtablissement\",\n",
        "    \"codePostalEtablissement\",\n",
        "    \"libelleCommuneEtablissement\",\n",
        "    \"codeCommuneEtablissement\",\n",
        "    \"etatAdministratifEtablissement\",\n",
        "    \"denominationUsuelleEtablissement\",\n",
        "    \"activitePrincipaleEtablissement\",\n",
        "]\n",
        "\n",
        "df = pd.read_csv(\"sirene/StockEtablissement_utf8.csv\", usecols=list_cols)\n",
        "\n",
        "df[\"numero\"] = (\n",
        "    df[\"numeroVoieEtablissement\"]\n",
        "    .replace(\"-\", np.NaN)\n",
        "    .str.split()\n",
        "    .str[0]\n",
        "    .str.extract(\"(\\d+)\", expand=False)\n",
        "    .fillna(\"0\")\n",
        "    .astype(int)\n",
        ")\n",
        "\n",
        "df[\"numero\"] = df[\"numero\"].astype(str).replace(\"0\", \"\")\n",
        "\n",
        "df[\"adresse\"] = (\n",
        "    df[\"numero\"]\n",
        "    + \" \"\n",
        "    + df[\"typeVoieEtablissement\"]\n",
        "    + \" \"\n",
        "    + df[\"libelleVoieEtablissement\"]\n",
        ")\n",
        "\n",
        "df[\"adresse\"] = df[\"adresse\"].replace(np.nan, \"\")\n",
        "\n",
        "df = df.loc[df[\"etatAdministratifEtablissement\"] == \"A\"]\n",
        "\n",
        "df.rename(\n",
        "    {\n",
        "        \"denominationUsuelleEtablissement\": \"denom\",\n",
        "        \"libelleCommuneEtablissement\": \"commune\",\n",
        "        \"codeCommuneEtablissement\": \"code_commune\",\n",
        "        \"codePostalEtablissement\": \"code_postal\",\n",
        "    },\n",
        "    axis=\"columns\",\n",
        "    inplace=True,\n",
        ")\n",
        "\n",
        "df[\"ape\"] = df[\"activitePrincipaleEtablissement\"].str.replace(\"\\.\", \"\", regex=True)\n",
        "df[\"denom\"] = df[\"denom\"].replace(np.nan, \"\")\n",
        "\n",
        "df_siret = df.loc[\n",
        "    :,\n",
        "    [\n",
        "        \"siren\",\n",
        "        \"siret\",\n",
        "        \"adresse\",\n",
        "        \"ape\",\n",
        "        \"denom\",\n",
        "        \"commune\",\n",
        "        \"code_commune\",\n",
        "        \"code_postal\",\n",
        "    ],\n",
        "]\n",
        "df_siret[\"code_postal\"] = (\n",
        "    df_siret[\"code_postal\"]\n",
        "    .replace(np.nan, \"0\")\n",
        "    .astype(int)\n",
        "    .astype(str)\n",
        "    .replace(\"0\", \"\")\n",
        ")\n"
      ],
      "id": "4da66b8f"
    },
    {
      "cell_type": "markdown",
      "metadata": {},
      "source": [
        "On importe ensuite les données géolocalisées"
      ],
      "id": "7c7ac75c-adcb-46a4-acaa-e3714a82bf1d"
    },
    {
      "cell_type": "code",
      "execution_count": 6,
      "metadata": {},
      "outputs": [],
      "source": [
        "import zipfile\n",
        "import shutil\n",
        "import os\n",
        "\n",
        "# os.remove(\"sirene.zip\")\n",
        "# shutil.rmtree('sirene/')\n",
        "\n",
        "url_geoloc = \"https://files.data.gouv.fr/insee-sirene-geo/GeolocalisationEtablissement_Sirene_pour_etudes_statistiques_utf8.zip\"\n",
        "r = requests.get(url_geoloc)\n",
        "\n",
        "with open(\"geoloc.zip\", \"wb\") as f:\n",
        "    f.write(r.content)\n",
        "\n",
        "with zipfile.ZipFile(\"geoloc.zip\", \"r\") as zip_ref:\n",
        "    zip_ref.extractall(\"geoloc\")\n",
        "\n",
        "df_geoloc = pd.read_csv(\n",
        "    \"geoloc/GeolocalisationEtablissement_Sirene_pour_etudes_statistiques_utf8.csv\",\n",
        "    usecols=[\"siret\", \"epsg\", \"x_longitude\", \"y_latitude\"],\n",
        "    sep=\";\",\n",
        ")\n"
      ],
      "id": "f03c27e4"
    },
    {
      "cell_type": "markdown",
      "metadata": {},
      "source": [
        "Il ne reste plus qu’à associer les deux jeux de données"
      ],
      "id": "a560af5d-436c-44cc-a331-cce65e2d9549"
    },
    {
      "cell_type": "code",
      "execution_count": 7,
      "metadata": {},
      "outputs": [],
      "source": [
        "df_geolocalized = df_siret.merge(df_geoloc, on=\"siret\")\n",
        "df_geolocalized[\"code_commune\"] = df_geolocalized[\"code_commune\"].astype(str)\n"
      ],
      "id": "6c12e198"
    },
    {
      "cell_type": "markdown",
      "metadata": {},
      "source": [
        "Si vous avez accès à un espace de stockage cloud de type\n",
        "`S3`, il est possible d’utiliser `pyarrow` pour enregister\n",
        "cette base. Afin de l’enregistrer dans un espace de stockage\n",
        "public, nous allons l’enregistrer dans un dossier `diffusion`[1]\n",
        "\n",
        "[1] Concernant la première piste, il aurait\n",
        "fallu mieux définir notre mapping pour\n",
        "autoriser des *analyzers*. A défaut,\n",
        "nous pourrons\n",
        "utiliser `nltk` ou `spacy` pour transformer\n",
        "les champs textuels avant d’envoyer la requête.\n",
        "Cette solution présente l’inconvénient\n",
        "de ne pas formatter de la même manière l’ensemble\n",
        "indexé mais pourrait malgré tout améliorer la pertinence\n",
        "des recherches."
      ],
      "id": "725eedd0-37a1-4dc9-815c-6ff6d4678633"
    },
    {
      "cell_type": "code",
      "execution_count": 8,
      "metadata": {},
      "outputs": [],
      "source": [
        "from pyarrow import fs\n",
        "import pyarrow as pa\n",
        "import pyarrow.parquet as pq\n",
        "\n",
        "bucket = \"lgaliana\"\n",
        "path = \"diffusion/sirene_geolocalized.parquet\"\n",
        "\n",
        "s3 = fs.S3FileSystem(endpoint_override=\"http://\" + \"minio.lab.sspcloud.fr\")\n",
        "\n",
        "table = pa.Table.from_pandas(df_geolocalized)\n"
      ],
      "id": "817c6d3c"
    },
    {
      "cell_type": "markdown",
      "metadata": {},
      "source": [
        "# 4. Connexion à ElasticSearch\n",
        "\n",
        "On va supposer que l’utilisateur dispose déjà d’un serveur Elastic\n",
        "fonctionnel mais désire créer un nouvel index. Si vous utilisez\n",
        "le SSPCloud, la démarche de création d’un service\n",
        "Elastic est disponible dans le chapitre précédent."
      ],
      "id": "255e72b1-8fa3-4065-91b1-0c2b9bbe32a5"
    },
    {
      "cell_type": "code",
      "execution_count": 9,
      "metadata": {},
      "outputs": [],
      "source": [
        "from elasticsearch import Elasticsearch\n",
        "\n",
        "HOST = \"elasticsearch-master\"\n",
        "\n",
        "\n",
        "def elastic():\n",
        "    \"\"\"Connection avec Elastic sur le data lab\"\"\"\n",
        "    es = Elasticsearch(\n",
        "        [{\"host\": HOST, \"port\": 9200, \"scheme\": \"http\"}],\n",
        "        http_compress=True,\n",
        "        request_timeout=200,\n",
        "    )\n",
        "    return es\n",
        "\n",
        "\n",
        "es = elastic()\n",
        "es\n"
      ],
      "id": "1976aafb"
    },
    {
      "cell_type": "markdown",
      "metadata": {},
      "source": [
        "    <Elasticsearch(['http://elasticsearch-master:9200'])>\n",
        "\n",
        "# 5. Indexation de notre base Sirène géolocalisée\n",
        "\n",
        "## 5.1 Définition du mapping\n",
        "\n",
        "On va procéder par étape en essayant d’utiliser la structure la plus simple\n",
        "possible.\n",
        "\n",
        ":one: On s’occupe d’abord de définir le *mapping*\n",
        "pour les variables textuelles."
      ],
      "id": "14d0a09f-7e76-4c5b-9fc2-bd39d0473776"
    },
    {
      "cell_type": "code",
      "execution_count": 10,
      "metadata": {},
      "outputs": [],
      "source": [
        "string_var = [\"adresse\", \"denom\", \"ape\", \"commune\"]\n",
        "map_string = {\n",
        "    \"type\": \"text\",\n",
        "    \"fields\": {\"keyword\": {\"type\": \"keyword\", \"ignore_above\": 256}},\n",
        "}\n",
        "mapping_string = {l: map_string for l in string_var}\n"
      ],
      "id": "0853e610"
    },
    {
      "cell_type": "markdown",
      "metadata": {},
      "source": [
        ":two: Les variables catégorielles sont utilisées\n",
        "par le biais du type `keyword`:"
      ],
      "id": "4baa8bf2-32f0-4c33-976f-aa24e97102fc"
    },
    {
      "cell_type": "code",
      "execution_count": 11,
      "metadata": {},
      "outputs": [],
      "source": [
        "# keywords\n",
        "keyword_var = [\"siren\", \"siret\", \"code_commune\", \"code_postal\"]\n",
        "map_keywords = {\n",
        "    \"type\": \"text\",\n",
        "    \"fields\": {\"keyword\": {\"type\": \"keyword\", \"ignore_above\": 256}},\n",
        "}\n",
        "mapping_keywords = {l: map_keywords for l in keyword_var}\n"
      ],
      "id": "6e043fe0"
    },
    {
      "cell_type": "markdown",
      "metadata": {},
      "source": [
        ":three: La nouveauté par rapport à la partie\n",
        "précédente est l’utilisation de la\n",
        "dimension géographique. `Elastic` propose\n",
        "le type `geo_point` pour cela."
      ],
      "id": "fa2436fc-59ca-495d-bb9d-0c8285f28b5a"
    },
    {
      "cell_type": "code",
      "execution_count": 12,
      "metadata": {},
      "outputs": [],
      "source": [
        "# geoloc\n",
        "mapping_geoloc = {\"location\": {\"type\": \"geo_point\"}}\n"
      ],
      "id": "b7299e8d"
    },
    {
      "cell_type": "markdown",
      "metadata": {},
      "source": [
        "On collecte tout cela ensemble dans un\n",
        "dictionnaire:"
      ],
      "id": "ee49299a-1706-4cb0-919c-7dce945ae937"
    },
    {
      "cell_type": "code",
      "execution_count": 13,
      "metadata": {},
      "outputs": [],
      "source": [
        "# mapping\n",
        "mapping_elastic = {\n",
        "    \"mappings\": {\"properties\": {**mapping_string, **mapping_geoloc, **mapping_keywords}}\n",
        "}\n"
      ],
      "id": "add3805c"
    },
    {
      "cell_type": "markdown",
      "metadata": {},
      "source": [
        "Il est tout à fait possible de définir un *mapping*\n",
        "plus raffiné. Ici, on va privilégier\n",
        "l’utilisation d’un *mapping* simple pour\n",
        "illustrer la recherche par distance\n",
        "géographique en priorité.\n",
        "\n",
        "## 5.2 Création de l’index\n",
        "\n",
        "Pour créer le nouvel index, on s’assure d’abord de ne pas\n",
        "déjà l’avoir créé et on passe le *mapping* défini\n",
        "précédemment."
      ],
      "id": "9f33e78e-919d-4dc2-a8a1-a61ffab667eb"
    },
    {
      "cell_type": "code",
      "execution_count": 14,
      "metadata": {},
      "outputs": [],
      "source": [
        "if es.indices.exists(\"sirene\"):\n",
        "    es.indices.delete(\"sirene\")\n",
        "\n",
        "es.indices.create(index=\"sirene\", body=mapping_elastic)\n"
      ],
      "id": "d4a6588f"
    },
    {
      "cell_type": "markdown",
      "metadata": {},
      "source": [
        "## 5.3 Indexation de la base géolocalisée\n",
        "\n",
        "Pour le moment, l’index est vide. Il convient de\n",
        "le peupler.\n",
        "\n",
        "Il est néanmoins nécessaire de créer le champ `location`\n",
        "au format attendu par elastic: `lat, lon` à partir\n",
        "de nos colonnes."
      ],
      "id": "fb89f687-e6ed-498e-8998-4b2e3514ec8e"
    },
    {
      "cell_type": "code",
      "execution_count": 15,
      "metadata": {},
      "outputs": [],
      "source": [
        "df_geolocalized[\"location\"] = (\n",
        "    df_geolocalized[\"y_latitude\"].astype(str)\n",
        "    + \", \"\n",
        "    + df_geolocalized[\"x_longitude\"].astype(str)\n",
        ")\n"
      ],
      "id": "026c9c04"
    },
    {
      "cell_type": "markdown",
      "metadata": {},
      "source": [
        "La fonction suivante permet de structurer chaque\n",
        "ligne du `DataFrame` telle qu’Elastic l’attend:"
      ],
      "id": "c7aef97e-977d-47ff-ae5b-e95e83a25418"
    },
    {
      "cell_type": "code",
      "execution_count": 16,
      "metadata": {},
      "outputs": [],
      "source": [
        "def gen_dict_from_pandas(index_name, df):\n",
        "    \"\"\"\n",
        "    Lit un dataframe pandas Open Food Facts, renvoi un itérable = dictionnaire des données à indexer, sous l'index fourni\n",
        "    \"\"\"\n",
        "    for i, row in df.iterrows():\n",
        "        header = {\"_op_type\": \"index\", \"_index\": index_name, \"_id\": i}\n",
        "        yield {**header, **row}\n"
      ],
      "id": "325c921f"
    },
    {
      "cell_type": "markdown",
      "metadata": {},
      "source": [
        "Enfin, on peut industrialiser l’indexation\n",
        "de notre `DataFrame` en faisant tourner de\n",
        "manière successive cette fonction :"
      ],
      "id": "0120fd55-5bcc-4758-815d-0fe74cac4488"
    },
    {
      "cell_type": "code",
      "execution_count": 17,
      "metadata": {},
      "outputs": [],
      "source": [
        "from elasticsearch.helpers import bulk, parallel_bulk\n",
        "from collections import deque\n",
        "\n",
        "deque(\n",
        "    parallel_bulk(\n",
        "        client=es,\n",
        "        actions=gen_dict_from_pandas(\"sirene\", df_geolocalized),\n",
        "        chunk_size=1000,\n",
        "        thread_count=4,\n",
        "    )\n",
        ")\n"
      ],
      "id": "68d62988"
    },
    {
      "cell_type": "code",
      "execution_count": 18,
      "metadata": {},
      "outputs": [],
      "source": [
        "es.count(index=\"sirene\")\n"
      ],
      "id": "9c5c7280"
    },
    {
      "cell_type": "markdown",
      "metadata": {},
      "source": [
        "    ObjectApiResponse({'count': 13059694, '_shards': {'total': 1, 'successful': 1, 'skipped': 0, 'failed': 0}})\n",
        "\n",
        "# 6. Recherche\n",
        "\n",
        "Pour se faciliter la création de cartes\n",
        "réactives, nous allons régulièrement\n",
        "utiliser la fonction suivante qui s’appuie\n",
        "sur un code déjà présenté dans un autre\n",
        "chapitre."
      ],
      "id": "7affff65-347d-494a-908b-e4d60718b03f"
    },
    {
      "cell_type": "code",
      "execution_count": 19,
      "metadata": {},
      "outputs": [],
      "source": [
        "def plot_folium_sirene(df, yvar, xvar):\n",
        "\n",
        "    center = df[[yvar, xvar]].mean().values.tolist()\n",
        "    sw = df[[yvar, xvar]].min().values.tolist()\n",
        "    ne = df[[yvar, xvar]].max().values.tolist()\n",
        "\n",
        "    m = folium.Map(location=center, tiles=\"OpenStreetMap\")\n",
        "\n",
        "    # I can add marker one by one on the map\n",
        "    for i in range(0, len(df)):\n",
        "        folium.Marker(\n",
        "            [df.iloc[i][yvar], df.iloc[i][xvar]],\n",
        "            popup=df.iloc[i][\"_source.denom\"]\n",
        "            + f'<br>(Score: {df.iloc[i][\"_score\"]:.2f})',\n",
        "            icon=folium.Icon(icon=\"home\"),\n",
        "        ).add_to(m)\n",
        "\n",
        "    m.fit_bounds([sw, ne])\n",
        "\n",
        "    return m\n"
      ],
      "id": "2a003ef9"
    },
    {
      "cell_type": "markdown",
      "metadata": {},
      "source": [
        "## 6.1 Premier exemple de requête géographique"
      ],
      "id": "8385007d-e0e6-4085-b610-bef8b5fc1119"
    },
    {
      "cell_type": "code",
      "execution_count": 20,
      "metadata": {},
      "outputs": [],
      "source": [
        "ex1 = es.search(\n",
        "    index=\"sirene\",\n",
        "    body=\"\"\"{\n",
        "  \"query\": {\n",
        "    \"bool\": {\n",
        "      \"must\":\n",
        "      { \"match\": { \"denom\":   \"institut national de la statistique\"}}\n",
        "      }\n",
        "  }\n",
        "}\n",
        "\"\"\",\n",
        ")[\"hits\"][\"hits\"]\n",
        "\n",
        "echo_insee = pd.json_normalize(ex1)\n",
        "echo_insee\n"
      ],
      "id": "5e6b2a04"
    },
    {
      "cell_type": "markdown",
      "metadata": {},
      "source": [
        "On remarque déjà que les intitulés ne sont\n",
        "pas bons. Quand est-il de leurs localisations ?"
      ],
      "id": "488b682b-a810-4385-9872-19bc750e6cb0"
    },
    {
      "cell_type": "code",
      "execution_count": 21,
      "metadata": {},
      "outputs": [],
      "source": [
        "plot_folium_sirene(echo_insee, yvar=\"_source.y_latitude\", xvar=\"_source.x_longitude\")\n"
      ],
      "id": "8b4de1d0"
    },
    {
      "cell_type": "markdown",
      "metadata": {},
      "source": [
        "Ce premier essai nous suggère qu’il est\n",
        "nécessaire d’améliorer notre recherche.\n",
        "Plusieurs voies sont possibles:\n",
        "\n",
        "1.  Améliorer le preprocessing de nos champs\n",
        "    textuels en excluant, par exemple, les\n",
        "    stopwords ;\n",
        "2.  Effectuer une restriction géographique\n",
        "    pour mieux cibler l’ensemble de recherche\n",
        "3.  Trouver une variable catégorielle jouant\n",
        "    le rôle de variable de blocage[1] pour\n",
        "    mieux cibler les paires pertinentes\n",
        "\n",
        "Concernant la restriction\n",
        "géographique, Elastic fournit une approche\n",
        "très efficace de ciblage géographique.\n",
        "En connaissant une position approximative\n",
        "de l’entreprise à rechercher,\n",
        "il est ainsi possible de\n",
        "rechercher dans un rayon\n",
        "d’une taille plus ou moins grande.\n",
        "En supposant qu’on connaisse précisément\n",
        "la localisation de l’Insee, on peut\n",
        "chercher dans un rayon relativement\n",
        "restreint. Si notre position était plus\n",
        "approximative, on pourrait rechercher\n",
        "dans un rayon plus large.\n",
        "\n",
        "[1] Concernant la première piste, il aurait\n",
        "fallu mieux définir notre mapping pour\n",
        "autoriser des *analyzers*. A défaut,\n",
        "nous pourrons\n",
        "utiliser `nltk` ou `spacy` pour transformer\n",
        "les champs textuels avant d’envoyer la requête.\n",
        "Cette solution présente l’inconvénient\n",
        "de ne pas formatter de la même manière l’ensemble\n",
        "indexé mais pourrait malgré tout améliorer la pertinence\n",
        "des recherches."
      ],
      "id": "f802d947-9a11-4bf0-98d5-65790fd36c4f"
    },
    {
      "cell_type": "code",
      "execution_count": 22,
      "metadata": {},
      "outputs": [],
      "source": [
        "ex2 = es.search(\n",
        "    index=\"sirene\",\n",
        "    body=\"\"\"{\n",
        "  \"query\": {\n",
        "    \"bool\": {\n",
        "      \"must\":\n",
        "      { \"match\": { \"denom\":   \"institut national de la statistique\"}}\n",
        "      ,\n",
        "      \"filter\":\n",
        "        {\"geo_distance\": {\n",
        "          \"distance\": \"1km\",\n",
        "          \"location\": {\n",
        "            \"lat\": \"48.8168\",\n",
        "            \"lon\": \"2.3099\"\n",
        "          }\n",
        "        }\n",
        "      }\n",
        "    }\n",
        "  }\n",
        "}\n",
        "\"\"\",\n",
        ")[\"hits\"][\"hits\"]\n",
        "\n",
        "echo_insee = pd.json_normalize(ex2)\n",
        "echo_insee\n"
      ],
      "id": "c3c86607"
    },
    {
      "cell_type": "markdown",
      "metadata": {},
      "source": [
        "<div class=\"alert alert-warning\" role=\"alert\">\n",
        "<h3 class=\"alert-heading\"><i class=\"fa-solid fa-lightbulb\"></i> Hint</h3>\n",
        "\n",
        "Connaître la localisation précise d’une\n",
        "entreprise\n",
        "nécessite déjà une bonne remontée\n",
        "d’information sur celle-ci.\n",
        "Il est plus plausible de supposer\n",
        "qu’on dispose, dans une phase amont\n",
        "de la chaine de production,\n",
        "de l’adresse de celle-ci.\n",
        "Dans ce cas, il est utile\n",
        "d’utiliser un service de géocodage,\n",
        "comme l’[API Adresse](https://adresse.data.gouv.fr/api-doc/adresse)\n",
        "développée par Etalab.\n",
        "\n",
        "</div>"
      ],
      "id": "1cc2d1bc-d3e4-4baa-a856-296a13499614"
    },
    {
      "cell_type": "markdown",
      "metadata": {},
      "source": [
        "Les résultats sont par construction mieux\n",
        "ciblés. Néanmoins ils sont toujours décevants\n",
        "puisqu’on ne parvient pas à identifier l’Insee\n",
        "dans les dix meilleurs échos."
      ],
      "id": "aecbb019-76f0-4163-a3bd-7e8413360d9f"
    },
    {
      "cell_type": "code",
      "execution_count": 23,
      "metadata": {},
      "outputs": [],
      "source": [
        "specificsearch = es.search(\n",
        "    index=\"sirus_2020\",\n",
        "    body=\"\"\"{\n",
        "  \"query\": {\n",
        "    \"bool\": {\n",
        "      \"should\":\n",
        "          { \"match\": { \"rs_denom\":   \"CPCU - CENTRALE DE BERCY\"}},\n",
        "      \"filter\": [\n",
        "          {\"geo_distance\": {\n",
        "                  \"distance\": \"0.5km\",\n",
        "                  \"location\": {\n",
        "                        \"lat\": \"48.84329\", \n",
        "                        \"lon\": \"2.37396\"\n",
        "                              }\n",
        "                            }\n",
        "            }, \n",
        "            { \"prefix\":  { \"apet\": \"3530\" }}\n",
        "                ]\n",
        "            }\n",
        "          }\n",
        "}\"\"\",\n",
        ")\n"
      ],
      "id": "42ef68de"
    }
  ],
  "nbformat": 4,
  "nbformat_minor": 5,
  "metadata": {
    "kernelspec": {
      "name": "python3",
      "display_name": "Python 3 (ipykernel)",
      "language": "python",
      "path": "/opt/conda/share/jupyter/kernels/python3"
    },
    "language_info": {
      "name": "python",
      "codemirror_mode": {
        "name": "ipython",
        "version": "3"
      },
      "file_extension": ".py",
      "mimetype": "text/x-python",
      "nbconvert_exporter": "python",
      "pygments_lexer": "ipython3",
      "version": "3.12.6"
    }
  }
}