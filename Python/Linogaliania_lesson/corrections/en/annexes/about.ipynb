{
  "cells": [
    {
      "cell_type": "markdown",
      "metadata": {},
      "source": [
        "# A propos de ce site\n",
        "\n",
        "Lino Galiana  \n",
        "2024-10-31\n",
        "\n",
        "Course website [*Python for Data Science*](https://www.ensae.fr/courses/1425-python-pour-le-data-scientist)\n",
        "<a href=\"https://github.com/linogaliana/python-datascientist\" class=\"github\"><i class=\"fab fa-python\"></i></a>, an introduction to `Python` for the second year of the engineering curriculum at [`ENSAE`](https://www.ensae.fr/) (Master 1).\n",
        "\n",
        "<br>\n",
        "\n",
        "All content of this group is freely available here or on [`Github`](https://github.com/linogaliana/python-datascientist)\n",
        "<a href=\"https://github.com/linogaliana/python-datascientist\" class=\"github\"><i class=\"fab fa-github\"></i></a> and can be tested in the form of `Jupyter` notebooks.\n",
        "\n",
        "<br>"
      ],
      "id": "67b78ecc-2e66-49f2-8a74-c79e47e7977d"
    },
    {
      "cell_type": "raw",
      "metadata": {
        "raw_mimetype": "text/html"
      },
      "source": [
        "<details>"
      ],
      "id": "6b8b6fb0-fa3b-4b70-a298-72cf2915c3fe"
    },
    {
      "cell_type": "raw",
      "metadata": {
        "raw_mimetype": "text/html"
      },
      "source": [
        "<summary>"
      ],
      "id": "926e1493-fbba-4763-9afb-10bcd12514ad"
    },
    {
      "cell_type": "markdown",
      "metadata": {},
      "source": [
        "Example with the introduction to `Pandas`"
      ],
      "id": "397c32d6-3e97-4269-bb8f-931b13fe8c69"
    },
    {
      "cell_type": "raw",
      "metadata": {
        "raw_mimetype": "text/html"
      },
      "source": [
        "</summary>"
      ],
      "id": "5105366f-474f-4e14-9fd2-1ee444275780"
    },
    {
      "cell_type": "code",
      "execution_count": null,
      "metadata": {},
      "outputs": [
        {
          "output_type": "display_data",
          "metadata": {},
          "data": {}
        }
      ],
      "source": [],
      "id": "02c897ac-1814-4661-b609-cce04fa08287"
    },
    {
      "cell_type": "raw",
      "metadata": {
        "raw_mimetype": "text/html"
      },
      "source": [
        "</details>"
      ],
      "id": "1efc9460-9ad0-48d7-a9a7-35a2f7e1de67"
    },
    {
      "cell_type": "raw",
      "metadata": {
        "raw_mimetype": "text/html"
      },
      "source": [
        "<details>"
      ],
      "id": "31bd747b-027b-41bc-bf97-8b1691b20a18"
    },
    {
      "cell_type": "raw",
      "metadata": {
        "raw_mimetype": "text/html"
      },
      "source": [
        "<summary>"
      ],
      "id": "e14bdd04-bb40-4ee8-a0ef-2d4b448b91f6"
    },
    {
      "cell_type": "markdown",
      "metadata": {},
      "source": [
        "On the agenda:"
      ],
      "id": "b56074f6-02a1-41e1-84b0-1c85d8b04f99"
    },
    {
      "cell_type": "raw",
      "metadata": {
        "raw_mimetype": "text/html"
      },
      "source": [
        "</summary>"
      ],
      "id": "9d543a23-1ced-4bc7-8fce-1bb1281881b8"
    },
    {
      "cell_type": "markdown",
      "metadata": {},
      "source": [
        "Overall, this course offers a comprehensive content that can satisfy both beginners in data science and those looking for more advanced material:\n",
        "<br>\n",
        "\n",
        "1.  **Data Manipulation**: standard data manipulation (`Pandas`), geographic data (`Geopandas`), data retrieval (web scraping, APIs)…\n",
        "2.  **Data Visualization**: classic visualizations (`Matplotlib`, `Seaborn`), cartography, reactive visualizations (`Plotly`, `Folium`)\n",
        "3.  **Modeling**: machine learning (`Scikit`), econometrics\n",
        "4.  **Text Data Processing** (NLP): introduction to tokenization with `NLTK` and `SpaCy`, modeling…\n",
        "5.  **Introduction to Modern Data Science**: cloud computing, `ElasticSearch`, continuous integration…\n",
        "\n",
        "All content on this site relies on open data, whether it is French data (mainly from the central platform [`data.gouv`](https://www.data.gouv.fr) or the Insee website) or American data. The program is presented linearly at the top of this page (👆️) or in a disordered manner below (👇️).\n",
        "\n",
        "A good complement to the website content is the course given with Romain Avouac in the final year at ENSAE, which focuses more on the production of data science projects: [https://ensae-reproductibilite.github.io/](https://ensae-reproductibilite.github.io/website/)"
      ],
      "id": "8ca307a1-a0dd-4816-b0a3-a0fbb3d2b78b"
    },
    {
      "cell_type": "raw",
      "metadata": {
        "raw_mimetype": "text/html"
      },
      "source": [
        "</details>"
      ],
      "id": "d719edd4-c869-44d8-9f92-8003dc35173b"
    },
    {
      "cell_type": "markdown",
      "metadata": {},
      "source": [
        ":::::\n",
        "\n",
        "![](https://minio.lab.sspcloud.fr/lgaliana/generative-art/pythonds/kiddos.png)\n",
        "\n",
        "::::\n",
        "\n",
        ":::"
      ],
      "id": "42b38ebc-f4e7-435e-a5a0-ea7111d44a56"
    }
  ],
  "nbformat": 4,
  "nbformat_minor": 5,
  "metadata": {
    "kernelspec": {
      "display_name": "Python 3",
      "language": "python",
      "name": "python3"
    }
  }
}