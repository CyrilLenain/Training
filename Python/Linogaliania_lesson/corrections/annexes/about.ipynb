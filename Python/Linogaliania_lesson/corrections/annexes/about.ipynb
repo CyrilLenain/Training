{
  "cells": [
    {
      "cell_type": "markdown",
      "metadata": {},
      "source": [
        "# A propos de ce site\n",
        "\n",
        "Lino Galiana  \n",
        "2024-10-31\n",
        "\n",
        "Site web du cours [*Python pour la data science*](https://www.ensae.fr/courses/1425-python-pour-le-data-scientist)\n",
        "<a href=\"https://github.com/linogaliana/python-datascientist\" class=\"github\"><i class=\"fab fa-python\"></i></a>, une introduction à `Python` pour\n",
        "la deuxième année du cursus d’ingénieur de l’[`ENSAE`](https://www.ensae.fr/) (Master 1).\n",
        "\n",
        "<br>\n",
        "\n",
        "L’ensemble du contenu de ce groupe est librement disponible ici\n",
        "ou sur [`Github`](https://github.com/linogaliana/python-datascientist)\n",
        "<a href=\"https://github.com/linogaliana/python-datascientist\" class=\"github\"><i class=\"fab fa-github\"></i></a> et peut être testé\n",
        "sous forme de *notebooks* `Jupyter`.\n",
        "\n",
        "<br>"
      ],
      "id": "3ac55901-2f31-4206-a706-bde94f292c86"
    },
    {
      "cell_type": "raw",
      "metadata": {
        "raw_mimetype": "text/html"
      },
      "source": [
        "<details>"
      ],
      "id": "512bdf5a-ba36-4bd9-b929-a51c0d7ea543"
    },
    {
      "cell_type": "raw",
      "metadata": {
        "raw_mimetype": "text/html"
      },
      "source": [
        "<summary>"
      ],
      "id": "d1581f43-9675-47d6-8003-c80dd0c1f7cb"
    },
    {
      "cell_type": "markdown",
      "metadata": {},
      "source": [
        "Exemple avec l’introduction à `Pandas`"
      ],
      "id": "354ebaa3-5f1f-4555-bf0f-a01921402f58"
    },
    {
      "cell_type": "raw",
      "metadata": {
        "raw_mimetype": "text/html"
      },
      "source": [
        "</summary>"
      ],
      "id": "3476e327-41f4-4814-9714-bc1716c472c3"
    },
    {
      "cell_type": "code",
      "execution_count": null,
      "metadata": {},
      "outputs": [
        {
          "output_type": "display_data",
          "metadata": {},
          "data": {}
        }
      ],
      "source": [],
      "id": "e05eb63e-f161-4eee-8274-5dde881d8acc"
    },
    {
      "cell_type": "raw",
      "metadata": {
        "raw_mimetype": "text/html"
      },
      "source": [
        "</details>"
      ],
      "id": "2d7303e9-880d-43b2-ae5a-fb9cffff896a"
    },
    {
      "cell_type": "raw",
      "metadata": {
        "raw_mimetype": "text/html"
      },
      "source": [
        "<details>"
      ],
      "id": "5f977076-37bd-4dd2-ad06-60c751579308"
    },
    {
      "cell_type": "raw",
      "metadata": {
        "raw_mimetype": "text/html"
      },
      "source": [
        "<summary>"
      ],
      "id": "08ccd603-717d-455c-ad20-e50e6515ba46"
    },
    {
      "cell_type": "markdown",
      "metadata": {},
      "source": [
        "Au programme:"
      ],
      "id": "73197f94-e0c2-48ee-85c5-6563472c8e85"
    },
    {
      "cell_type": "raw",
      "metadata": {
        "raw_mimetype": "text/html"
      },
      "source": [
        "</summary>"
      ],
      "id": "67f00cda-1eb5-4682-82f3-f70feac049e4"
    },
    {
      "cell_type": "markdown",
      "metadata": {},
      "source": [
        "Globalement, ce cours propose un contenu très complet pouvant autant\n",
        "satisfaire des débutants en\n",
        "*data science* que des personnes à la recherche de contenu plus avancé :\n",
        "<br>\n",
        "\n",
        "1.  **Manipulation de données** : manipulation de données standards (`Pandas`), données géographiques (`Geopandas`), récupération de données (webscraping, API)…\n",
        "2.  **Visualisation de données** : visualisations classiques (`Matplotlib`, `Seaborn`), cartographie, visualisations réactives (`Plotly`, `Folium`)\n",
        "3.  **Modélisation** : *machine learning* (`Scikit`), économétrie\n",
        "4.  **Traitement de données textuelles** (NLP): découverte de la tokenisation avec `NLTK` et `SpaCy`, modélisation…\n",
        "5.  **Introduction à la *data science* moderne** : *cloud computing*, `ElasticSearch`, intégration continue…\n",
        "\n",
        "L’ensemble du contenu de ce site s’appuie sur des **données\n",
        "ouvertes**, qu’il s’agisse de données françaises (principalement\n",
        "issues de la plateforme\n",
        "centralisatrice [`data.gouv`](https://www.data.gouv.fr) ou du site\n",
        "*web* de l’[Insee](https://www.insee.fr)) ou de données\n",
        "américaines. Le programme est présenté de manière linéaire dans la partie supérieure de cette page (👆️) ou de manière désordonnée ci-dessous (👇️).\n",
        "\n",
        "Un bon complément du contenu du site web est le cours que nous donnons avec Romain Avouac en dernière année de l’ENSAE plus tourné autour de la mise en production de projets *data science* : [https://ensae-reproductibilite.github.io/](https://ensae-reproductibilite.github.io/website/)"
      ],
      "id": "349460a6-90ee-426e-9aee-40b2ce36d0ee"
    },
    {
      "cell_type": "raw",
      "metadata": {
        "raw_mimetype": "text/html"
      },
      "source": [
        "</details>"
      ],
      "id": "f945ae8e-7b19-4790-af2f-221188738fa7"
    },
    {
      "cell_type": "markdown",
      "metadata": {},
      "source": [
        ":::::\n",
        "\n",
        "![](https://minio.lab.sspcloud.fr/lgaliana/generative-art/pythonds/kiddos.png)\n",
        "\n",
        "::::\n",
        "\n",
        ":::"
      ],
      "id": "5b09d9b2-c97f-4182-aeac-dc08dc7eb395"
    }
  ],
  "nbformat": 4,
  "nbformat_minor": 5,
  "metadata": {
    "kernelspec": {
      "display_name": "Python 3",
      "language": "python",
      "name": "python3"
    }
  }
}