{
  "cells": [
    {
      "cell_type": "markdown",
      "metadata": {},
      "source": [
        "# Quelques exercices de rappels pour se remettre en selle\n",
        "\n",
        "Lino Galiana  \n",
        "2024-10-31\n",
        "\n",
        "Le contenu de cette page est disponible sur [le site web du cours](pythonds.linogaliana.fr/content/getting-started/04_revisions.html)"
      ],
      "id": "9808bd2f-6ce8-4c26-98bb-6c32126285a1"
    }
  ],
  "nbformat": 4,
  "nbformat_minor": 5,
  "metadata": {
    "kernelspec": {
      "display_name": "Python 3",
      "language": "python",
      "name": "python3"
    }
  }
}