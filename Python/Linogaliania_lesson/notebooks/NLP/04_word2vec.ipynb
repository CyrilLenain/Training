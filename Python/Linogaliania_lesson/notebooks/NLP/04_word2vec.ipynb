{
  "cells": [
    {
      "cell_type": "markdown",
      "metadata": {},
      "source": [
        "# Méthodes de vectorisation : comptages et word embeddings\n",
        "\n",
        "Lino Galiana  \n",
        "2024-10-31"
      ],
      "id": "d36d8470-3149-47bc-9261-8d1dbd5e48aa"
    },
    {
      "cell_type": "markdown",
      "metadata": {},
      "source": [
        "<p class=\"badges\">\n",
        "\n",
        "<a href=\"https://github.com/linogaliana/python-datascientist-notebooks/blob/main/notebooks/NLP/04_word2vec.ipynb\" class=\"github\"><i class=\"fab fa-github\"></i></a>\n",
        "<a href=\"https://downgit.github.io/#/home?url=https://github.com/linogaliana/python-datascientist-notebooks/blob/main/notebooks/NLP/04_word2vec.ipynb\" target=\"_blank\" rel=\"noopener\"><img src=\"https://img.shields.io/badge/Download-Notebook-important?logo=Jupyter\" alt=\"Download\"></a>\n",
        "<a href=\"https://nbviewer.jupyter.org/github/linogaliana/python-datascientist-notebooksblob/main/notebooks/NLP/04_word2vec.ipynb\" target=\"_blank\" rel=\"noopener\"><img src=\"https://img.shields.io/badge/Visualize-nbviewer-blue?logo=Jupyter\" alt=\"nbviewer\"></a>\n",
        "<a href=\"https://datalab.sspcloud.fr/launcher/ide/jupyter-pytorch?autoLaunch=true&onyxia.friendlyName=%C2%AB04_word2vec%C2%BB&init.personalInit=%C2%ABhttps%3A%2F%2Fraw.githubusercontent.com%2Flinogaliana%2Fpython-datascientist%2Fmaster%2Fsspcloud%2Finit-jupyter.sh%C2%BB&init.personalInitArgs=%C2%ABNLP%2004_word2vec%C2%BB\" target=\"_blank\" rel=\"noopener\"><img src=\"https://img.shields.io/badge/SSP%20Cloud-Lancer_avec_Jupyter-orange?logo=Jupyter&logoColor=orange\" alt=\"Onyxia\"></a>\n",
        "<a href=\"https://datalab.sspcloud.fr/launcher/ide/vscode-pytorch?autoLaunch=true&onyxia.friendlyName=%C2%AB04_word2vec%C2%BB&init.personalInit=%C2%ABhttps%3A%2F%2Fraw.githubusercontent.com%2Flinogaliana%2Fpython-datascientist%2Fmaster%2Fsspcloud%2Finit-vscode.sh%C2%BB&init.personalInitArgs=%C2%ABNLP%2004_word2vec%C2%BB\" target=\"_blank\" rel=\"noopener\"><img src=\"https://img.shields.io/badge/SSP%20Cloud-Lancer_avec_VSCode-blue?logo=visualstudiocode&logoColor=blue\" alt=\"Onyxia\"></a><br>\n",
        "<a href=\"https://colab.research.google.com/github/linogaliana/python-datascientist-notebooks/blob/main/notebooks/NLP/04_word2vec.ipynb\" target=\"_blank\" rel=\"noopener\"><img src=\"https://colab.research.google.com/assets/colab-badge.svg\" alt=\"Open In Colab\"></a>\n",
        "<a href=\"https://github.dev/linogaliana/python-datascientist-notebooks/notebooks/NLP/04_word2vec.ipynb\" target=\"_blank\" rel=\"noopener\"><img src=\"https://img.shields.io/static/v1?logo=visualstudiocode&label=&message=Open%20in%20Visual%20Studio%20Code&labelColor=2c2c32&color=007acc&logoColor=007acc\" alt=\"githubdev\"></a>\n",
        "\n",
        "</p>\n",
        "\n",
        "</p>"
      ],
      "id": "cc1e4da5-818e-4dca-8eca-9ced5fd98deb"
    },
    {
      "cell_type": "markdown",
      "metadata": {},
      "source": [
        "<div class=\"alert alert-danger\" role=\"alert\">\n",
        "<h3 class=\"alert-heading\"><i class=\"fa-solid fa-triangle-exclamation\"></i> Warning</h3>\n",
        "\n",
        "Ce chapitre va évoluer prochainement.\n",
        "\n",
        "</div>\n",
        "\n",
        "Cette page approfondit certains aspects présentés dans la\n",
        "[partie introductive](../../content/NLP/02_exoclean.qmd). Après avoir travaillé sur le\n",
        "*Comte de Monte Cristo*, on va continuer notre exploration de la littérature\n",
        "avec cette fois des auteurs anglophones :\n",
        "\n",
        "-   Edgar Allan Poe, (EAP) ;\n",
        "-   HP Lovecraft (HPL) ;\n",
        "-   Mary Wollstonecraft Shelley (MWS).\n",
        "\n",
        "Les données sont disponibles sur un CSV mis à disposition sur [`Github`](https://github.com/GU4243-ADS/spring2018-project1-ginnyqg/blob/master/data/spooky.csv). L’URL pour les récupérer directement est\n",
        "<https://github.com/GU4243-ADS/spring2018-project1-ginnyqg/raw/master/data/spooky.csv>.\n",
        "\n",
        "Le but va être dans un premier temps de regarder dans le détail les termes les plus fréquents utilisés par les auteurs et de les représenter graphiquement, puis on va ensuite essayer de prédire quel texte correspond à quel auteur à partir de différents modèles de vectorisation, notamment les *word embeddings*.\n",
        "\n",
        "Ce chapitre s’inspire de plusieurs ressources disponibles en ligne:\n",
        "\n",
        "-   Un [premier *notebook* sur `Kaggle`](https://www.kaggle.com/enerrio/scary-nlp-with-spacy-and-keras)\n",
        "    et un [deuxième](https://www.kaggle.com/meiyizi/spooky-nlp-and-topic-modelling-tutorial/notebook) ;\n",
        "-   Un [dépôt `Github`](https://github.com/GU4243-ADS/spring2018-project1-ginnyqg) ;\n",
        "\n",
        "# 1. Packages à installer\n",
        "\n",
        "Comme dans la [partie précédente](../../content/NLP/02_exoclean.qmd), il faut télécharger des librairies\n",
        "spécialiséees pour le NLP, ainsi que certaines de leurs dépendances."
      ],
      "id": "96427572-f859-4f66-8dea-3f6b326fcca7"
    },
    {
      "cell_type": "code",
      "execution_count": 2,
      "metadata": {},
      "outputs": [],
      "source": [
        "!pip install scipy==1.12 gensim sentence_transformers pandas matplotlib seaborn"
      ],
      "id": "8d2bd94b"
    },
    {
      "cell_type": "markdown",
      "metadata": {},
      "source": [
        "Ensuite, comme nous allons utiliser la librairie `SpaCy` avec un corpus de textes\n",
        "en Anglais, il convient de télécharger le modèle NLP pour l’Anglais. Pour cela,\n",
        "on peut se référer à [la documentation de `SpaCy`](https://spacy.io/usage/models),\n",
        "extrêmement bien faite."
      ],
      "id": "b3b90c55-c0bb-4660-8ef9-e51f8fe78ac3"
    },
    {
      "cell_type": "code",
      "execution_count": 3,
      "metadata": {},
      "outputs": [],
      "source": [
        "!python -m spacy download en_core_web_sm"
      ],
      "id": "a3c768a0"
    },
    {
      "cell_type": "code",
      "execution_count": 4,
      "metadata": {},
      "outputs": [],
      "source": [
        "from collections import Counter\n",
        "\n",
        "import numpy as np\n",
        "import pandas as pd\n",
        "import matplotlib.pyplot as plt\n",
        "import seaborn as sns\n",
        "import gensim\n",
        "\n",
        "from sklearn.preprocessing import LabelEncoder\n",
        "from sklearn.model_selection import train_test_split\n",
        "from sklearn.pipeline import Pipeline\n",
        "from sklearn.preprocessing import StandardScaler\n",
        "from sklearn.svm import LinearSVC\n",
        "from sklearn.feature_extraction.text import CountVectorizer, TfidfVectorizer\n",
        "from sklearn.model_selection import GridSearchCV, cross_val_score\n",
        "\n",
        "from gensim.models.word2vec import Word2Vec\n",
        "import gensim.downloader\n",
        "from sentence_transformers import SentenceTransformer\n"
      ],
      "id": "5c7b2a37"
    },
    {
      "cell_type": "markdown",
      "metadata": {},
      "source": [
        "# 2. Nettoyage des données\n",
        "\n",
        "Nous allons ainsi à nouveau utiliser le jeu de données `spooky` :"
      ],
      "id": "688f6c0b-9cb2-4e1e-828c-9e925af21091"
    },
    {
      "cell_type": "code",
      "execution_count": 5,
      "metadata": {},
      "outputs": [],
      "source": [
        "data_url = \"https://github.com/GU4243-ADS/spring2018-project1-ginnyqg/raw/master/data/spooky.csv\"\n",
        "spooky_df = pd.read_csv(data_url)\n"
      ],
      "id": "af97b532"
    },
    {
      "cell_type": "markdown",
      "metadata": {},
      "source": [
        "Le jeu de données met ainsi en regard un auteur avec une phrase qu’il a écrite :"
      ],
      "id": "2134cb4f-4667-40a3-ae3f-452c094d0007"
    },
    {
      "cell_type": "code",
      "execution_count": 6,
      "metadata": {},
      "outputs": [],
      "source": [
        "spooky_df.head()\n"
      ],
      "id": "4cd6688c"
    },
    {
      "cell_type": "markdown",
      "metadata": {},
      "source": [
        "## 2.1 Preprocessing\n",
        "\n",
        "En NLP, la première étape est souvent celle du *preprocessing*, qui inclut notamment les étapes de tokenization et de nettoyage du texte. Comme celles-ci ont été vues en détail dans le précédent chapitre, on se contentera ici d’un *preprocessing* minimaliste : suppression de la ponctuation et des *stop words* (pour la visualisation et les méthodes de vectorisation basées sur des comptages).\n",
        "\n",
        "Jusqu’à présent, nous avons utilisé principalement `nltk` pour le\n",
        "*preprocessing* de données textuelles. Cette fois, nous proposons\n",
        "d’utiliser la librairie `spaCy` qui permet de mieux automatiser sous forme de\n",
        "*pipelines* de *preprocessing*.\n",
        "\n",
        "Pour initialiser le processus de nettoyage,\n",
        "on va utiliser le corpus `en_core_web_sm` (voir plus\n",
        "haut pour l’installation de ce corpus):"
      ],
      "id": "7fa84faf-93da-47d9-aeda-6d657c7f7888"
    },
    {
      "cell_type": "code",
      "execution_count": 7,
      "metadata": {},
      "outputs": [],
      "source": [
        "import spacy\n",
        "\n",
        "nlp = spacy.load(\"en_core_web_sm\")\n"
      ],
      "id": "faef9fb9"
    },
    {
      "cell_type": "markdown",
      "metadata": {},
      "source": [
        "On va utiliser un `pipe` `spacy` qui permet d’automatiser, et de paralléliser,\n",
        "un certain nombre d’opérations. Les *pipes* sont l’équivalent, en NLP, de\n",
        "nos *pipelines* `scikit` ou des *pipes* `pandas`. Il s’agit donc d’un outil\n",
        "très approprié pour industrialiser un certain nombre d’opérations de\n",
        "*preprocessing* :"
      ],
      "id": "b83d38ca-217d-47ea-88ee-e3ca32045cf3"
    },
    {
      "cell_type": "code",
      "execution_count": 8,
      "metadata": {},
      "outputs": [],
      "source": [
        "def clean_docs(texts, remove_stopwords=False, n_process=4):\n",
        "\n",
        "    docs = nlp.pipe(\n",
        "        texts, n_process=n_process, disable=[\"parser\", \"ner\", \"lemmatizer\", \"textcat\"]\n",
        "    )\n",
        "    stopwords = nlp.Defaults.stop_words\n",
        "\n",
        "    docs_cleaned = []\n",
        "    for doc in docs:\n",
        "        tokens = [tok.text.lower().strip() for tok in doc if not tok.is_punct]\n",
        "        if remove_stopwords:\n",
        "            tokens = [tok for tok in tokens if tok not in stopwords]\n",
        "        doc_clean = \" \".join(tokens)\n",
        "        docs_cleaned.append(doc_clean)\n",
        "\n",
        "    return docs_cleaned\n"
      ],
      "id": "4cb68a7c"
    },
    {
      "cell_type": "markdown",
      "metadata": {},
      "source": [
        "On applique la fonction `clean_docs` à notre colonne `pandas`.\n",
        "Les `pandas.Series` étant itérables, elles se comportent comme des listes et\n",
        "fonctionnent ainsi très bien avec notre `pipe` `spacy`."
      ],
      "id": "a5e9fb8f-d561-4ccd-830d-a30544b325f0"
    },
    {
      "cell_type": "code",
      "execution_count": 9,
      "metadata": {},
      "outputs": [],
      "source": [
        "spooky_df[\"text_clean\"] = clean_docs(spooky_df[\"text\"])\n"
      ],
      "id": "07f15a87"
    },
    {
      "cell_type": "code",
      "execution_count": 10,
      "metadata": {},
      "outputs": [],
      "source": [
        "spooky_df.head()\n"
      ],
      "id": "f2870039"
    },
    {
      "cell_type": "markdown",
      "metadata": {},
      "source": [
        "## 2.2 Encodage de la variable à prédire\n",
        "\n",
        "On réalise un simple encodage de la variable à prédire :\n",
        "il y a trois catégories (auteurs), représentées par des entiers 0, 1 et 2.\n",
        "\n",
        "Pour cela, on utilise le `LabelEncoder` de `scikit` déjà présenté\n",
        "dans la [partie modélisation](#preprocessing). On va utiliser la méthode\n",
        "`fit_transform` qui permet, en un tour de main, d’appliquer à la fois\n",
        "l’entraînement (`fit`), à savoir la création d’une correspondance entre valeurs\n",
        "numériques et *labels*, et l’appliquer (`transform`) à la même colonne."
      ],
      "id": "0ea2e329-8d41-491c-8f8b-eb59ff047233"
    },
    {
      "cell_type": "code",
      "execution_count": 11,
      "metadata": {},
      "outputs": [],
      "source": [
        "le = LabelEncoder()\n",
        "spooky_df[\"author_encoded\"] = le.fit_transform(spooky_df[\"author\"])\n"
      ],
      "id": "0e65864b"
    },
    {
      "cell_type": "markdown",
      "metadata": {},
      "source": [
        "On peut vérifier les classes de notre `LabelEncoder` :"
      ],
      "id": "c00a5c63-fa4e-4e48-818a-ea79fbe0e86d"
    },
    {
      "cell_type": "code",
      "execution_count": 12,
      "metadata": {},
      "outputs": [],
      "source": [
        "le.classes_\n"
      ],
      "id": "9c3608a0"
    },
    {
      "cell_type": "markdown",
      "metadata": {},
      "source": [
        "## 2.3 Construction des bases d’entraînement et de test\n",
        "\n",
        "On met de côté un échantillon de test (20 %) avant toute analyse (même descriptive).\n",
        "Cela permettra d’évaluer nos différents modèles toute à la fin de manière très rigoureuse,\n",
        "puisque ces données n’auront jamais utilisées pendant l’entraînement."
      ],
      "id": "1bf51ea1-06ab-48de-94f6-123dd600abe1"
    },
    {
      "cell_type": "code",
      "execution_count": 13,
      "metadata": {},
      "outputs": [],
      "source": [
        "y = spooky_df[\"author_encoded\"]\n",
        "X = spooky_df[\"text_clean\"]\n",
        "X_train, X_test, y_train, y_test = train_test_split(\n",
        "    X, y, test_size=0.2, stratify=y, random_state=42\n",
        ")\n"
      ],
      "id": "82fada37"
    },
    {
      "cell_type": "markdown",
      "metadata": {},
      "source": [
        "Notre échantillon initial n’est pas équilibré (*balanced*) : on retrouve plus d’oeuvres de\n",
        "certains auteurs que d’autres. Afin d’obtenir un modèle qui soit évalué au mieux, nous allons donc stratifier notre échantillon de manière à obtenir une répartition similaire d’auteurs dans nos\n",
        "ensembles d’entraînement et de test.\n",
        "\n",
        "Aperçu du premier élément de `X_train` :"
      ],
      "id": "8299a975-acb5-4ee5-b583-e3f8b4203916"
    },
    {
      "cell_type": "code",
      "execution_count": 14,
      "metadata": {},
      "outputs": [],
      "source": [
        "X_train[0]\n"
      ],
      "id": "b778b957"
    },
    {
      "cell_type": "markdown",
      "metadata": {},
      "source": [
        "On peut aussi vérifier qu’on est capable de retrouver\n",
        "la correspondance entre nos auteurs initiaux avec\n",
        "la méthode `inverse_transform` :"
      ],
      "id": "b20ea248-37f1-44c6-afef-522aff987b0a"
    },
    {
      "cell_type": "code",
      "execution_count": 15,
      "metadata": {},
      "outputs": [],
      "source": [
        "print(y_train[0], le.inverse_transform([y_train[0]])[0])\n"
      ],
      "id": "a5e3d228"
    },
    {
      "cell_type": "markdown",
      "metadata": {},
      "source": [
        "# 3. Statistiques exploratoires\n",
        "\n",
        "## 3.1 Répartition des labels\n",
        "\n",
        "Refaisons un graphique que nous avons déjà produit précédemment pour voir\n",
        "la répartition de notre corpus entre auteurs :"
      ],
      "id": "2c1af3d5-17f1-45f8-a1e9-bf0bf7642c28"
    },
    {
      "cell_type": "code",
      "execution_count": 16,
      "metadata": {},
      "outputs": [],
      "source": [
        "fig = pd.Series(le.inverse_transform(y_train)).value_counts().plot(kind=\"bar\")\n",
        "fig\n"
      ],
      "id": "cc2ce938"
    },
    {
      "cell_type": "markdown",
      "metadata": {},
      "source": [
        "On observe une petite asymétrie : les passages des livres d’Edgar Allen Poe sont plus nombreux que ceux des autres auteurs dans notre corpus d’entraînement, ce qui peut être problématique dans le cadre d’une tâche de classification.\n",
        "L’écart n’est pas dramatique, mais on essaiera d’en tenir compte dans l’analyse en choisissant une métrique d’évaluation pertinente.\n",
        "\n",
        "## 3.2 Mots les plus fréquemment utilisés par chaque auteur\n",
        "\n",
        "On va supprimer les *stop words* pour réduire le bruit dans notre jeu\n",
        "de données."
      ],
      "id": "100f53ae-d367-403a-8743-eb6549cc00f1"
    },
    {
      "cell_type": "code",
      "execution_count": 18,
      "metadata": {},
      "outputs": [],
      "source": [
        "# Suppression des stop words\n",
        "X_train_no_sw = clean_docs(X_train, remove_stopwords=True)\n",
        "X_train_no_sw = np.array(X_train_no_sw)\n"
      ],
      "id": "c6a2e9c6"
    },
    {
      "cell_type": "markdown",
      "metadata": {},
      "source": [
        "Pour visualiser rapidement nos corpus, on peut utiliser la technique des\n",
        "nuages de mots déjà vue à plusieurs reprises.\n",
        "\n",
        "Vous pouvez essayer de faire vous-même les nuages ci-dessous\n",
        "ou cliquer sur la ligne ci-dessous pour afficher le code ayant\n",
        "généré les figures :"
      ],
      "id": "46fb6c09-0f59-44bb-b3f8-745394d07cf8"
    },
    {
      "cell_type": "markdown",
      "metadata": {},
      "source": [
        "<details><summary><code>Cliquer pour afficher le code</code> 👇</summary>\n",
        "\n",
        "``` python\n",
        "def plot_top_words(initials, ax, n_words=20):\n",
        "    # Calcul des mots les plus fréquemment utilisés par l'auteur\n",
        "    texts = X_train_no_sw[le.inverse_transform(y_train) == initials]\n",
        "    all_tokens = \" \".join(texts).split()\n",
        "    counts = Counter(all_tokens)\n",
        "    top_words = [word[0] for word in counts.most_common(n_words)]\n",
        "    top_words_counts = [word[1] for word in counts.most_common(n_words)]\n",
        "\n",
        "    # Représentation sous forme de barplot\n",
        "    ax = sns.barplot(ax=ax, x=top_words, y=top_words_counts)\n",
        "    ax.set_title(f\"Most Common Words used by {initials_to_author[initials]}\")\n",
        "```\n",
        "\n",
        "``` python\n",
        "initials_to_author = {\n",
        "    \"EAP\": \"Edgar Allen Poe\",\n",
        "    \"HPL\": \"H.P. Lovecraft\",\n",
        "    \"MWS\": \"Mary Wollstonecraft Shelley\",\n",
        "}\n",
        "\n",
        "fig, axs = plt.subplots(3, 1, figsize=(12, 12))\n",
        "\n",
        "plot_top_words(\"EAP\", ax=axs[0])\n",
        "plot_top_words(\"HPL\", ax=axs[1])\n",
        "plot_top_words(\"MWS\", ax=axs[2])\n",
        "```\n",
        "\n",
        "</details>"
      ],
      "id": "26e0e3f5-12bd-4f53-9596-fcbe18d3097a"
    },
    {
      "cell_type": "markdown",
      "metadata": {},
      "source": [
        "Beaucoup de mots se retrouvent très utilisés par les trois auteurs.\n",
        "Il y a cependant des différences notables : le mot *“life”*\n",
        "est le plus employé par MWS, alors qu’il n’apparaît pas dans les deux autres tops.\n",
        "De même, le mot *“old”* est le plus utilisé par HPL\n",
        "là où les deux autres ne l’utilisent pas de manière surreprésentée.\n",
        "\n",
        "Il semble donc qu’il y ait des particularités propres à chacun des auteurs\n",
        "en termes de vocabulaire,\n",
        "ce qui laisse penser qu’il est envisageable de prédire les auteurs à partir\n",
        "de leurs textes dans une certaine mesure.\n",
        "\n",
        "# 4. Prédiction sur le set d’entraînement\n",
        "\n",
        "Nous allons à présent vérifier cette conjecture en comparant\n",
        "plusieurs modèles de vectorisation,\n",
        "*i.e.* de transformation du texte en objets numériques\n",
        "pour que l’information contenue soit exploitable dans un modèle de classification.\n",
        "\n",
        "## 4.1 Démarche\n",
        "\n",
        "Comme nous nous intéressons plus à l’effet de la vectorisation qu’à la tâche de classification en elle-même,\n",
        "nous allons utiliser un algorithme de classification simple (un SVM linéaire), avec des paramètres non fine-tunés (c’est-à-dire des paramètres pas nécessairement choisis pour être les meilleurs de tous)."
      ],
      "id": "f02b42bc-988d-4208-b41b-03e4076a243c"
    },
    {
      "cell_type": "code",
      "execution_count": 22,
      "metadata": {},
      "outputs": [],
      "source": [
        "clf = LinearSVC(max_iter=10000, C=0.1, dual=\"auto\")\n"
      ],
      "id": "7a26c952"
    },
    {
      "cell_type": "markdown",
      "metadata": {},
      "source": [
        "Ce modèle est connu pour être très performant sur les tâches de classification de texte, et nous fournira donc un bon modèle de référence (*baseline*). Cela nous permettra également de comparer de manière objective l’impact des méthodes de vectorisation sur la performance finale.\n",
        "\n",
        "Pour les deux premières méthodes de vectorisation\n",
        "(basées sur des fréquences et fréquences relatives des mots),\n",
        "on va simplement normaliser les données d’entrée, ce qui va permettre au SVM de converger plus rapidement, ces modèles étant sensibles aux différences d’échelle dans les données.\n",
        "\n",
        "On va également *fine-tuner* via *grid-search*\n",
        "certains hyperparamètres liés à ces méthodes de vectorisation :\n",
        "\n",
        "-   on teste différents *ranges* de `n-grams` (unigrammes et unigrammes + bigrammes)\n",
        "-   on teste avec et sans *stop-words*\n",
        "\n",
        "Afin d’éviter le surapprentissage,\n",
        "on va évaluer les différents modèles via validation croisée, calculée sur 4 blocs.\n",
        "\n",
        "On récupère à la fin le meilleur modèle selon une métrique spécifiée.\n",
        "On choisit le `score F1`,\n",
        "moyenne harmonique de la précision et du rappel,\n",
        "qui donne un poids équilibré aux deux métriques, tout en pénalisant fortement le cas où l’une des deux est faible.\n",
        "Précisément, on retient le `score F1 *micro-averaged*` :\n",
        "les contributions des différentes classes à prédire sont agrégées,\n",
        "puis on calcule le `score F1` sur ces données agrégées.\n",
        "L’avantage de ce choix est qu’il permet de tenir compte des différences\n",
        "de fréquences des différentes classes.\n",
        "\n",
        "## 4.2 Pipeline de prédiction\n",
        "\n",
        "On va utiliser un *pipeline* `scikit` ce qui va nous permettre d’avoir\n",
        "un code très concis pour effectuer cet ensemble de tâches cohérentes.\n",
        "De plus, cela va nous assurer de gérer de manière cohérente nos différentes\n",
        "transformations (cf. [partie sur les pipelines](#pipelines))\n",
        "\n",
        "Pour se faciliter la vie, on définit une fonction `fit_vectorizers` qui\n",
        "intègre dans un *pipeline* générique une méthode d’estimation `scikit`\n",
        "et fait de la validation croisée en cherchant le meilleur modèle\n",
        "(en excluant/incluant les *stop words* et avec unigrammes/bigrammes)"
      ],
      "id": "c6dd62c1-6304-44b6-86c8-f8f257d4a7e5"
    },
    {
      "cell_type": "code",
      "execution_count": 23,
      "metadata": {},
      "outputs": [],
      "source": [
        "def fit_vectorizers(vectorizer):\n",
        "    pipeline = Pipeline(\n",
        "        [\n",
        "            (\"vect\", vectorizer()),\n",
        "            (\"scaling\", StandardScaler(with_mean=False)),\n",
        "            (\"clf\", clf),\n",
        "        ]\n",
        "    )\n",
        "\n",
        "    parameters = {\n",
        "        \"vect__ngram_range\": ((1, 1), (1, 2)),  # unigrams or bigrams\n",
        "        \"vect__stop_words\": (\"english\", None),\n",
        "    }\n",
        "\n",
        "    grid_search = GridSearchCV(\n",
        "        pipeline, parameters, scoring=\"f1_micro\", cv=4, n_jobs=4, verbose=1\n",
        "    )\n",
        "    grid_search.fit(X_train, y_train)\n",
        "\n",
        "    best_parameters = grid_search.best_estimator_.get_params()\n",
        "    for param_name in sorted(parameters.keys()):\n",
        "        print(\"\\t%s: %r\" % (param_name, best_parameters[param_name]))\n",
        "\n",
        "    print(f\"CV scores {grid_search.cv_results_['mean_test_score']}\")\n",
        "    print(f\"Mean F1 {np.mean(grid_search.cv_results_['mean_test_score'])}\")\n",
        "\n",
        "    return grid_search\n"
      ],
      "id": "11d48acf"
    },
    {
      "cell_type": "markdown",
      "metadata": {},
      "source": [
        "# 5. Approche *bag-of-words*\n",
        "\n",
        "On commence par une approche **“bag-of-words”**,\n",
        "i.e. qui revient simplement à représenter chaque document par un vecteur\n",
        "qui compte le nombre d’apparitions de chaque mot du vocabulaire dans le document.\n",
        "\n",
        "Illustrons d’abord le principe à l’aide d’un exemple simple."
      ],
      "id": "6ec96c78-99c7-4090-857d-7fa7e0eece84"
    },
    {
      "cell_type": "code",
      "execution_count": 24,
      "metadata": {},
      "outputs": [],
      "source": [
        "corpus = [\n",
        "    \"Un premier document à propos des chats.\",\n",
        "    \"Un second document qui parle des chiens.\",\n",
        "]\n",
        "\n",
        "vectorizer = CountVectorizer()\n",
        "vectorizer.fit(corpus)\n"
      ],
      "id": "93fa2afa"
    },
    {
      "cell_type": "markdown",
      "metadata": {},
      "source": [
        "L’objet `vectorizer` a été “entraîné” (*fit*) sur notre corpus d’exemple contenant deux documents. Il a notamment appris le vocabulaire complet du corpus, dont on peut afficher l’ordre."
      ],
      "id": "b3cd74df-b8e5-45e2-b6df-485075496bfc"
    },
    {
      "cell_type": "code",
      "execution_count": 25,
      "metadata": {},
      "outputs": [],
      "source": [
        "vectorizer.get_feature_names_out()\n"
      ],
      "id": "aaac55d1"
    },
    {
      "cell_type": "markdown",
      "metadata": {},
      "source": [
        "L’objet `vectorizer` entraîné peut maintenant vectoriser le corpus initial, selon l’ordre du vocabulaire affiché ci-dessus."
      ],
      "id": "1d9570e4-a7b2-4a9e-b90a-a471cabc9a19"
    },
    {
      "cell_type": "code",
      "execution_count": 26,
      "metadata": {},
      "outputs": [],
      "source": [
        "X = vectorizer.transform(corpus)\n",
        "print(X.toarray())\n"
      ],
      "id": "343d6382"
    },
    {
      "cell_type": "markdown",
      "metadata": {},
      "source": [
        "Quel score `F1` obtient-on finalement avec cette méthode de vectorisation sur notre problème de classification d’auteurs ?"
      ],
      "id": "bbf11078-a137-4f42-994d-4304e178492f"
    },
    {
      "cell_type": "code",
      "execution_count": 27,
      "metadata": {},
      "outputs": [],
      "source": [
        "cv_bow = fit_vectorizers(CountVectorizer)\n"
      ],
      "id": "032ee752"
    },
    {
      "cell_type": "markdown",
      "metadata": {},
      "source": [
        "# 6. TF-IDF\n",
        "\n",
        "On s’intéresse ensuite à l’approche **TF-IDF**,\n",
        "qui permet de tenir compte des fréquences *relatives* des mots.\n",
        "\n",
        "Ainsi, pour un mot donné, on va multiplier la fréquence d’apparition du mot dans le document (calculé comme dans la méthode précédente) par un terme qui pénalise une fréquence élevée du mot dans le corpus. L’image ci-dessous, empruntée à Chris Albon, illustre cette mesure:\n",
        "\n",
        "![](https://minio.lab.sspcloud.fr/lgaliana/generative-art/pythonds/tfidf.png)\n",
        "\n",
        "*Source: [Towards Data Science](https://towardsdatascience.com/tf-term-frequency-idf-inverse-document-frequency-from-scratch-in-python-6c2b61b78558)*\n",
        "\n",
        "La vectorisation `TF-IDF` permet donc de limiter l’influence des *stop-words*\n",
        "et donc de donner plus de poids aux mots les plus salients d’un document.\n",
        "Illustrons cela à nouveau avec notre corpus d’exemple de deux documents."
      ],
      "id": "ccf484dd-baaa-4cee-8131-9850f0c96434"
    },
    {
      "cell_type": "code",
      "execution_count": 28,
      "metadata": {},
      "outputs": [],
      "source": [
        "corpus = [\n",
        "    \"Un premier document à propos des chats.\",\n",
        "    \"Un second document qui parle des chiens.\",\n",
        "]\n",
        "\n",
        "vectorizer = TfidfVectorizer()\n",
        "vectorizer.fit(corpus)\n"
      ],
      "id": "d6d93fa4"
    },
    {
      "cell_type": "markdown",
      "metadata": {},
      "source": [
        "Là encore, le vectoriseur a “appris” le vocabulaire du corpus."
      ],
      "id": "52ea0167-a36c-436f-b544-4881c20d305a"
    },
    {
      "cell_type": "code",
      "execution_count": 29,
      "metadata": {},
      "outputs": [],
      "source": [
        "vectorizer.get_feature_names_out()\n"
      ],
      "id": "611e3e10"
    },
    {
      "cell_type": "markdown",
      "metadata": {},
      "source": [
        "Et peut être utilisé pour calculer les scores TF-IDF de chacun des termes des documents."
      ],
      "id": "82bdc966-4de9-440a-a71a-f9057494b16c"
    },
    {
      "cell_type": "code",
      "execution_count": 30,
      "metadata": {},
      "outputs": [],
      "source": [
        "X = vectorizer.transform(corpus)\n",
        "print(X.toarray())\n"
      ],
      "id": "ec7ba422"
    },
    {
      "cell_type": "markdown",
      "metadata": {},
      "source": [
        "On remarque que “chats” et “chiens” possèdent les scores les plus élevés, ce sont bien les termes les plus distinctifs. A l’inverse, les termes qui reviennent dans les deux documents (“un”, “document”, “des”) ont un score inférieur, car ils sont beaucoup présents dans le corpus relativement.\n",
        "\n",
        "Quel score `F1` obtient-on avec cette méthode de vectorisation sur notre problème de classification d’auteurs ?"
      ],
      "id": "07e1d01c-7885-47de-aabd-8a58d75f1411"
    },
    {
      "cell_type": "code",
      "execution_count": 31,
      "metadata": {},
      "outputs": [],
      "source": [
        "cv_tfidf = fit_vectorizers(TfidfVectorizer)\n"
      ],
      "id": "37b81564"
    },
    {
      "cell_type": "markdown",
      "metadata": {},
      "source": [
        "On observe clairement que la performance de classification est bien supérieure,\n",
        "ce qui montre la pertinence de cette technique.\n",
        "\n",
        "# 7. Word2vec avec averaging\n",
        "\n",
        "On va maintenant explorer les techniques de vectorisation basées sur les\n",
        "*embeddings* de mots, et notamment la plus populaire : `Word2Vec`.\n",
        "\n",
        "L’idée derrière est simple, mais a révolutionné le NLP :\n",
        "au lieu de représenter les documents par des\n",
        "vecteurs *sparse* de très grande dimension (la taille du vocabulaire)\n",
        "comme on l’a fait jusqu’à présent,\n",
        "on va les représenter par des vecteurs *dense* (continus)\n",
        "de dimension réduite (en général, autour de 100-300).\n",
        "\n",
        "Chacune de ces dimensions va représenter un facteur latent,\n",
        "c’est à dire une variable inobservée,\n",
        "de la même manière que les composantes principales produites par une ACP.\n",
        "\n",
        "![](https://minio.lab.sspcloud.fr/lgaliana/generative-art/pythonds/w2v_vecto.png)\n",
        "\n",
        "*Source: [Medium](https://medium.com/@zafaralibagh6/simple-tutorial-on-word-embedding-and-word2vec-43d477624b6d)*\n",
        "\n",
        "**Pourquoi est-ce intéressant ?**\n",
        "Pour de nombreuses raisons, mais pour résumer :\n",
        "cela permet de beaucoup mieux capturer la similarité sémantique entre les documents.\n",
        "\n",
        "Par exemple, un humain sait qu’un document contenant le mot *“Roi”*\n",
        "et un autre document contenant le mot *“Reine”* ont beaucoup de chance\n",
        "d’aborder des sujets semblables.\n",
        "\n",
        "Pourtant, une vectorisation de type comptage ou TF-IDF\n",
        "ne permet pas de saisir cette similarité :\n",
        "le calcul d’une mesure de similarité (norme euclidienne ou similarité cosinus)\n",
        "entre les deux vecteurs ne prendra en compte la similarité des deux concepts, puisque les mots utilisés sont différents.\n",
        "\n",
        "A l’inverse, un modèle `word2vec` bien entraîné va capter\n",
        "qu’il existe un facteur latent de type *“royauté”*,\n",
        "et la similarité entre les vecteurs associés aux deux mots sera forte.\n",
        "\n",
        "La magie va même plus loin : le modèle captera aussi qu’il existe un\n",
        "facteur latent de type *“genre”*,\n",
        "et va permettre de construire un espace sémantique dans lequel les\n",
        "relations arithmétiques entre vecteurs ont du sens ;\n",
        "par exemple :\n",
        "$$\\text{king} - \\text{man} + \\text{woman} ≈ \\text{queen}$$\n",
        "\n",
        "**Comment ces modèles sont-ils entraînés ?**\n",
        "Via une tâche de prédiction résolue par un réseau de neurones simple.\n",
        "\n",
        "L’idée fondamentale est que la signification d’un mot se comprend\n",
        "en regardant les mots qui apparaissent fréquemment dans son voisinage.\n",
        "\n",
        "Pour un mot donné, on va donc essayer de prédire les mots\n",
        "qui apparaissent dans une fenêtre autour du mot cible.\n",
        "\n",
        "En répétant cette tâche de nombreuses fois et sur un corpus suffisamment varié,\n",
        "on obtient finalement des *embeddings* pour chaque mot du vocabulaire,\n",
        "qui présentent les propriétés discutées précédemment."
      ],
      "id": "7986ca05-7653-4fb5-8c5e-df81d0e55b10"
    },
    {
      "cell_type": "code",
      "execution_count": 32,
      "metadata": {},
      "outputs": [],
      "source": [
        "X_train_tokens = [text.split() for text in X_train]\n",
        "w2v_model = Word2Vec(X_train_tokens, vector_size=200, window=5, min_count=1, workers=4)\n"
      ],
      "id": "c494cf37"
    },
    {
      "cell_type": "code",
      "execution_count": 33,
      "metadata": {},
      "outputs": [],
      "source": [
        "w2v_model.wv.most_similar(\"mother\")\n"
      ],
      "id": "50df95ba"
    },
    {
      "cell_type": "markdown",
      "metadata": {},
      "source": [
        "On voit que les mots les plus similaires à *“mother”*\n",
        "sont souvent des mots liés à la famille, mais pas toujours.\n",
        "\n",
        "C’est lié à la taille très restreinte du corpus sur lequel on entraîne le modèle,\n",
        "qui ne permet pas de réaliser des associations toujours pertinentes.\n",
        "\n",
        "L’*embedding* (la représentation vectorielle) de chaque document correspond à la moyenne des *word-embeddings* des mots qui le composent :"
      ],
      "id": "ab43feca-ec7b-4168-b4cb-021fda43a1a0"
    },
    {
      "cell_type": "code",
      "execution_count": 34,
      "metadata": {},
      "outputs": [],
      "source": [
        "def get_mean_vector(w2v_vectors, words):\n",
        "    words = [word for word in words if word in w2v_vectors]\n",
        "    if words:\n",
        "        avg_vector = np.mean(w2v_vectors[words], axis=0)\n",
        "    else:\n",
        "        avg_vector = np.zeros_like(w2v_vectors[\"hi\"])\n",
        "    return avg_vector\n",
        "\n",
        "\n",
        "def fit_w2v_avg(w2v_vectors):\n",
        "    X_train_vectors = np.array(\n",
        "        [get_mean_vector(w2v_vectors, words) for words in X_train_tokens]\n",
        "    )\n",
        "\n",
        "    scores = cross_val_score(\n",
        "        clf, X_train_vectors, y_train, cv=4, scoring=\"f1_micro\", n_jobs=4\n",
        "    )\n",
        "\n",
        "    print(f\"CV scores {scores}\")\n",
        "    print(f\"Mean F1 {np.mean(scores)}\")\n",
        "    return scores\n"
      ],
      "id": "ff8e9a8c"
    },
    {
      "cell_type": "code",
      "execution_count": 35,
      "metadata": {},
      "outputs": [],
      "source": [
        "cv_w2vec = fit_w2v_avg(w2v_model.wv)\n"
      ],
      "id": "45e88027"
    },
    {
      "cell_type": "markdown",
      "metadata": {},
      "source": [
        "La performance chute fortement ;\n",
        "la faute à la taille très restreinte du corpus, comme annoncé précédemment.\n",
        "\n",
        "# 8. Word2vec pré-entraîné + averaging\n",
        "\n",
        "Quand on travaille avec des corpus de taille restreinte,\n",
        "c’est généralement une mauvaise idée d’entraîner son propre modèle `word2vec`.\n",
        "\n",
        "Heureusement, des modèles pré-entraînés sur de très gros corpus sont disponibles.\n",
        "Ils permettent de réaliser du *transfer learning*,\n",
        "c’est-à-dire de bénéficier de la performance d’un modèle qui a été entraîné sur une autre tâche ou bien sur un autre corpus.\n",
        "\n",
        "L’un des modèles les plus connus pour démarrer est le `glove_model` de\n",
        "`Gensim` (Glove pour *Global Vectors for Word Representation*)[1]:\n",
        "\n",
        "> GloVe is an unsupervised learning algorithm for obtaining vector representations for words. Training is performed on aggregated global word-word co-occurrence statistics from a corpus, and the resulting representations showcase interesting linear substructures of the word vector space.\n",
        ">\n",
        "> *Source* : https://nlp.stanford.edu/projects/glove/\n",
        "\n",
        "On peut le charger directement grâce à l’instruction suivante :\n",
        "\n",
        "[1] Jeffrey Pennington, Richard Socher, and Christopher D. Manning. 2014. *GloVe: Global Vectors for Word Representation*."
      ],
      "id": "15c9b4d6-2aad-4341-919c-42b286028fe9"
    },
    {
      "cell_type": "code",
      "execution_count": 36,
      "metadata": {},
      "outputs": [],
      "source": [
        "glove_model = gensim.downloader.load(\"glove-wiki-gigaword-200\")\n"
      ],
      "id": "e95eb9bb"
    },
    {
      "cell_type": "markdown",
      "metadata": {},
      "source": [
        "Par exemple, la représentation vectorielle de roi est l’objet\n",
        "multidimensionnel suivant :"
      ],
      "id": "dbbdb266-aec6-4b93-aedc-536702426c44"
    },
    {
      "cell_type": "code",
      "execution_count": 37,
      "metadata": {},
      "outputs": [],
      "source": [
        "glove_model[\"king\"]\n"
      ],
      "id": "2efdce75"
    },
    {
      "cell_type": "markdown",
      "metadata": {},
      "source": [
        "Comme elle est peu intelligible, on va plutôt rechercher les termes les\n",
        "plus similaires. Par exemple,"
      ],
      "id": "2704b50f-1339-473d-8445-7c9d17b41fd1"
    },
    {
      "cell_type": "code",
      "execution_count": 38,
      "metadata": {},
      "outputs": [],
      "source": [
        "glove_model.most_similar(\"mother\")\n"
      ],
      "id": "1a863c00"
    },
    {
      "cell_type": "markdown",
      "metadata": {},
      "source": [
        "On peut retrouver notre formule précédente\n",
        "\n",
        "$$\\text{king} - \\text{man} + \\text{woman} ≈ \\text{queen}$$\n",
        "dans ce plongement de mots:"
      ],
      "id": "f6799db8-0763-4214-b3d2-0cd9be6a39d5"
    },
    {
      "cell_type": "code",
      "execution_count": 39,
      "metadata": {},
      "outputs": [],
      "source": [
        "glove_model.most_similar(positive=[\"king\", \"woman\"], negative=[\"man\"])\n"
      ],
      "id": "f1e5812c"
    },
    {
      "cell_type": "markdown",
      "metadata": {},
      "source": [
        "Vous pouvez vous référer à [ce tutoriel](https://jalammar.github.io/illustrated-word2vec/)\n",
        "pour en découvrir plus sur `Word2Vec`.\n",
        "\n",
        "Faisons notre apprentissage par transfert :"
      ],
      "id": "192f03e3-755e-47a4-a610-ee3484b1d823"
    },
    {
      "cell_type": "code",
      "execution_count": 40,
      "metadata": {},
      "outputs": [],
      "source": [
        "cv_w2vec_transfert = fit_w2v_avg(glove_model)\n"
      ],
      "id": "fe4cfaf4"
    },
    {
      "cell_type": "markdown",
      "metadata": {},
      "source": [
        "La performance remonte substantiellement.\n",
        "Cela étant, on ne parvient pas à faire mieux que les approches basiques,\n",
        "on arrive à peine aux performances de la vectorisation par comptage.\n",
        "\n",
        "En effet, pour rappel, les performances sont les suivantes :"
      ],
      "id": "646444bc-c0d0-45d2-bf4e-d6d052eeeb6b"
    },
    {
      "cell_type": "code",
      "execution_count": 41,
      "metadata": {},
      "outputs": [],
      "source": [
        "perfs = pd.DataFrame(\n",
        "    [\n",
        "        np.mean(cv_bow.cv_results_[\"mean_test_score\"]),\n",
        "        np.mean(cv_tfidf.cv_results_[\"mean_test_score\"]),\n",
        "        np.mean(cv_w2vec),\n",
        "        np.mean(cv_w2vec_transfert),\n",
        "    ],\n",
        "    index=[\n",
        "        \"Bag-of-Words\",\n",
        "        \"TF-IDF\",\n",
        "        \"Word2Vec non pré-entraîné\",\n",
        "        \"Word2Vec pré-entraîné\",\n",
        "    ],\n",
        "    columns=[\"Mean F1 score\"],\n",
        ").sort_values(\"Mean F1 score\", ascending=False)\n",
        "perfs\n"
      ],
      "id": "007199f1"
    },
    {
      "cell_type": "markdown",
      "metadata": {},
      "source": [
        "Les performences limitées du modèle *Word2Vec* sont cette fois certainement dues à la manière dont\n",
        "les *word-embeddings* sont exploités : ils sont moyennés pour décrire chaque document.\n",
        "\n",
        "Cela a plusieurs limites :\n",
        "\n",
        "-   on ne tient pas compte de l’ordre et donc du contexte des mots\n",
        "-   lorsque les documents sont longs, la moyennisation peut créer\n",
        "    des représentation bruitées.\n",
        "\n",
        "# 9. Contextual embeddings\n",
        "\n",
        "Les *embeddings* contextuels visent à pallier les limites des *embeddings*\n",
        "traditionnels évoquées précédemment.\n",
        "\n",
        "Cette fois, les mots n’ont plus de représentation vectorielle fixe,\n",
        "celle-ci est calculée dynamiquement en fonction des mots du voisinage, et ainsi de suite.\n",
        "Cela permet de tenir compte de la structure des phrases\n",
        "et de tenir compte du fait que le sens d’un mot est fortement dépendant des mots\n",
        "qui l’entourent.\n",
        "Par exemple, dans les expressions “le président Macron” et “le camembert Président” le mot président n’a pas du tout le même rôle.\n",
        "\n",
        "Ces *embeddings* sont produits par des architectures très complexes,\n",
        "de type Transformer (`BERT`, etc.).\n",
        "\n",
        "*TODO: approfondir le sujet*"
      ],
      "id": "36f8b122-8e0a-4e32-b8ae-de45b4c007c4"
    },
    {
      "cell_type": "code",
      "execution_count": 42,
      "metadata": {},
      "outputs": [],
      "source": [
        "model = SentenceTransformer(\"all-mpnet-base-v2\")\n"
      ],
      "id": "3e584e62"
    },
    {
      "cell_type": "markdown",
      "metadata": {},
      "source": [
        "Verdict : on fait très légèrement mieux que la vectorisation TF-IDF.\n",
        "On voit donc l’importance de tenir compte du contexte.\n",
        "\n",
        "**Mais pourquoi, avec une méthode très compliquée, ne parvenons-nous pas à battre une méthode toute simple ?**\n",
        "\n",
        "On peut avancer plusieurs raisons :\n",
        "\n",
        "-   le `TF-IDF` est un modèle simple, mais toujours très performant\n",
        "    (on parle de *“tough-to-beat baseline”*).\n",
        "-   la classification d’auteurs est une tâche très particulière et très ardue,\n",
        "    qui ne fait pas justice aux *embeddings*. Comme on l’a dit précédemment, ces derniers se révèlent particulièrement pertinents lorsqu’il est question de similarité sémantique entre des textes (*clustering*, etc.).\n",
        "\n",
        "Dans le cas de notre tâche de classification, il est probable que\n",
        "certains mots (noms de personnage, noms de lieux) soient suffisants pour classifier de manière pertinente,\n",
        "ce que ne permettent pas de capter les *embeddings* qui accordent à tous les mots la même importance.\n",
        "\n",
        "# 10. Aller plus loin\n",
        "\n",
        "-   Nous avons entraîné différents modèles sur l’échantillon d’entraînement par validation croisée, mais nous n’avons toujours pas utilisé l’échantillon test que nous avons mis de côté au début. Réaliser la prédiction sur les données de test, et vérifier si l’on obtient le même classement des méthodes de vectorisation.\n",
        "-   Faire un *vrai* split train/test : faire l’entraînement avec des textes de certains auteurs, et faire la prédiction avec des textes d’auteurs différents. Cela permettrait de neutraliser la présence de noms de lieux, de personnages, etc.\n",
        "-   Comparer avec d’autres algorithmes de classification qu’un SVM\n",
        "-   (Avancé) : fine-tuner le modèle d’embeddings contextuels sur la tâche de classification"
      ],
      "id": "e67a331a-bbd9-4d73-9db2-2b0d5ec89fd8"
    }
  ],
  "nbformat": 4,
  "nbformat_minor": 5,
  "metadata": {
    "kernelspec": {
      "name": "python3",
      "display_name": "Python 3 (ipykernel)",
      "language": "python",
      "path": "/opt/conda/share/jupyter/kernels/python3"
    },
    "language_info": {
      "name": "python",
      "codemirror_mode": {
        "name": "ipython",
        "version": "3"
      },
      "file_extension": ".py",
      "mimetype": "text/x-python",
      "nbconvert_exporter": "python",
      "pygments_lexer": "ipython3",
      "version": "3.12.6"
    }
  }
}