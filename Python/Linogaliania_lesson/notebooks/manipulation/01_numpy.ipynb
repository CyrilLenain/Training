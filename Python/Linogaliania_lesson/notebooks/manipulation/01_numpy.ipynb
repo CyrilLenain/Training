{
 "cells": [
  {
   "cell_type": "markdown",
   "id": "b3cef85b-7279-47ad-a2c2-229eb91bd84f",
   "metadata": {},
   "source": [
    "# Numpy, la brique de base de la data science\n",
    "\n",
    "Lino Galiana  \n",
    "2024-10-31\n",
    "\n",
    "<div class=\"badge-container\"><div class=\"badge-text\">Pour essayer les exemples présents dans ce tutoriel :</div><a href=\"https://github.com/linogaliana/python-datascientist-notebooks/blob/main/notebooks/manipulation/01_numpy.ipynb\" target=\"_blank\" rel=\"noopener\"><img src=\"https://img.shields.io/static/v1?logo=github&label=&message=View%20on%20GitHub&color=181717\" alt=\"View on GitHub\"></a>\n",
    "<a href=\"https://datalab.sspcloud.fr/launcher/ide/vscode-python?autoLaunch=true&name=«01_numpy»&init.personalInit=«https%3A%2F%2Fraw.githubusercontent.com%2Flinogaliana%2Fpython-datascientist%2Fmain%2Fsspcloud%2Finit-vscode.sh»&init.personalInitArgs=«manipulation%2001_numpy%20correction»\" target=\"_blank\" rel=\"noopener\"><img src=\"https://img.shields.io/badge/SSP%20Cloud-Lancer_avec_VSCode-blue?logo=visualstudiocode&logoColor=blue\" alt=\"Onyxia\"></a>\n",
    "<a href=\"https://datalab.sspcloud.fr/launcher/ide/jupyter-python?autoLaunch=true&name=«01_numpy»&init.personalInit=«https%3A%2F%2Fraw.githubusercontent.com%2Flinogaliana%2Fpython-datascientist%2Fmain%2Fsspcloud%2Finit-jupyter.sh»&init.personalInitArgs=«manipulation%2001_numpy%20correction»\" target=\"_blank\" rel=\"noopener\"><img src=\"https://img.shields.io/badge/SSP%20Cloud-Lancer_avec_Jupyter-orange?logo=Jupyter&logoColor=orange\" alt=\"Onyxia\"></a>\n",
    "<a href=\"https://colab.research.google.com/github/linogaliana/python-datascientist-notebooks//blob/main//notebooks/manipulation/01_numpy.ipynb\" target=\"_blank\" rel=\"noopener\"><img src=\"https://colab.research.google.com/assets/colab-badge.svg\" alt=\"Open In Colab\"></a><br></div>\n",
    "\n",
    "<div class=\"alert alert-info\" role=\"alert\">\n",
    "<h3 class=\"alert-heading\">Version 🇫🇷</h3>\n",
    "This is the French version 🇫🇷 of that chapter,to see the English version go <a href=\"https://pythonds.linogaliana.fr/content/manipulation/01_numpy.html\">there</a>\n",
    "</div>\n",
    "\n",
    "# 1. Introduction\n",
    "\n",
    "Ce chapitre constitue une introduction à *Numpy* pour\n",
    "s’assurer que les bases du calcul vectoriel avec `Python`\n",
    "soient maîtrisées. La première partie du chapitre\n",
    "présente des petits exercices pour pratiquer\n",
    "quelques fonctions basiques de `Numpy`. La fin du chapitre présente\n",
    "des exercices pratiques d’utilisation de `Numpy` plus approfondis.\n",
    "\n",
    "Il est recommandé de régulièrement se référer à\n",
    "la [*cheatsheet numpy*](https://www.datacamp.com/community/blog/python-numpy-cheat-sheet) et à la\n",
    "[doc officielle](https://numpy.org/doc/stable/) en cas de doute\n",
    "sur une fonction.\n",
    "\n",
    "Dans ce chapitre, on ne dérogera pas à la convention qui s’est imposée\n",
    "d’importer `Numpy` de la\n",
    "manière suivante :"
   ]
  },
  {
   "cell_type": "code",
   "execution_count": 2,
   "id": "import-np",
   "metadata": {},
   "outputs": [],
   "source": [
    "import numpy as np\n"
   ]
  },
  {
   "cell_type": "markdown",
   "id": "7d293216-ec6f-4878-8be5-ebd583d587d5",
   "metadata": {},
   "source": [
    "Nous allons également fixer la racine du générateur aléatoire de nombres\n",
    "afin d’avoir des résultats reproductibles :"
   ]
  },
  {
   "cell_type": "code",
   "execution_count": 3,
   "id": "6a539690",
   "metadata": {},
   "outputs": [],
   "source": [
    "np.random.seed(12345)\n"
   ]
  },
  {
   "cell_type": "markdown",
   "id": "f7554a2a-8acf-4dda-95e1-fde8dc37ebd5",
   "metadata": {},
   "source": [
    "<div class=\"alert alert-info\" role=\"alert\">\n",
    "<h3 class=\"alert-heading\"><i class=\"fa-solid fa-comment\"></i> Note</h3>\n",
    "\n",
    "Les auteurs\n",
    "de `numpy` [préconisent désormais](https://numpy.org/doc/stable/reference/random/index.html)\n",
    "de privilégier l’utilisation de\n",
    "générateurs via la fonction `default_rng()` plutôt que la simple utilisation de `numpy.random`.\n",
    "\n",
    "Afin d’être en phase avec les codes qu’on peut trouver partout sur internet, nous\n",
    "conservons encore `np.random.seed` mais cela peut être amené à évoluer.\n",
    "\n",
    "</div>\n",
    "\n",
    "<div class=\"alert alert-info\" role=\"alert\">\n",
    "<h3 class=\"alert-heading\"><i class=\"fa-solid fa-comment\"></i> Note</h3>\n",
    "\n",
    "The authors of `numpy` [now recommend](https://numpy.org/doc/stable/reference/random/index.html) using generators via the `default_rng()` function rather than simply using `numpy.random`.\n",
    "\n",
    "To stay consistent with the codes found everywhere on the internet, we still use `np.random.seed`, but this may change in the future.\n",
    "\n",
    "</div>\n",
    "\n",
    "# 2. Le concept d’*array*\n",
    "\n",
    "Dans le monde de la science des données, comme cela sera évoqué\n",
    "plus en profondeur dans les prochains chapitres,\n",
    "l’objet central est le tableau à deux dimensions de données.\n",
    "La première correspond aux lignes et la seconde aux colonnes.\n",
    "Si on ne se préoccupe que d’une dimension, on se rapporte\n",
    "à une variable (une colonne) de notre tableau de données.\n",
    "Il est donc naturel de faire le lien entre les\n",
    "tableaux de données et l’objet mathématique\n",
    "que sont les matrices et les vecteurs.\n",
    "\n",
    "`NumPy` (`Numerical Python`) est la brique de base\n",
    "pour traiter des listes numériques ou des chaines\n",
    "de textes comme des matrices.\n",
    "`NumPy` intervient pour proposer\n",
    "ce type d’objets, et\n",
    "les opérations standardisées associées qui n’existent\n",
    "pas dans le langage `Python` de base.\n",
    "\n",
    "L’objet central de `NumPy` est\n",
    "l’**`array`** qui est un tableau de données multidimensionnel.\n",
    "L’array `Numpy` peut être unidimensionnel et s’apparenter à un\n",
    "vecteur (`1d-array`),\n",
    "bidimensionnel et ainsi s’apparenter à une matrice (`2d-array`) ou,\n",
    "de manière plus générale,\n",
    "prendre la forme d’un objet\n",
    "multidimensionnel (`Nd-array`), sorte de tableau emboîté.\n",
    "\n",
    "Les tableaux simples (uni ou bi-dimensionnels) sont faciles à se représenter\n",
    "et représentent la majorité des besoins liés à `Numpy`.\n",
    "Nous découvrirons lors du chapitre suivant, sur `Pandas`, qu’en pratique\n",
    "on manipule rarement directement `Numpy` qui est une librairie\n",
    "bas niveau.\n",
    "Un *DataFrame* `Pandas` sera construit à partir d’une collection\n",
    "d’array uni-dimensionnels (les variables de la table), ce qui permettra d’effectuer des opérations cohérentes\n",
    "(et optimisées) avec le type de la variable.\n",
    "Avoir quelques notions `Numpy` est utile pour comprendre\n",
    "la logique de manipulation vectorielle\n",
    "rendant les traitements sur des données plus lisibles,\n",
    "plus efficaces et plus fiables.\n",
    "\n",
    "Par rapport à une liste,\n",
    "\n",
    "-   un *array* ne peut contenir qu’un type de données (`integer`, `string`, etc.),\n",
    "    contrairement à une liste.\n",
    "-   les opérations implémentées par `Numpy` seront plus efficaces et demanderont moins\n",
    "    de mémoire\n",
    "\n",
    "Les données géographiques constitueront une construction un peu plus complexe qu’un `DataFrame` traditionnel.\n",
    "La dimension géographique prend la forme d’un tableau plus profond, au moins bidimensionnel\n",
    "(coordonnées d’un point). Néanmoins, les librairies de manipulation\n",
    "de données géographiques permettront de ne pas se préoccuper de\n",
    "cette complexité accrue.\n",
    "\n",
    "## 2.1 Créer un array\n",
    "\n",
    "On peut créer un *array* de plusieurs manières. Pour créer un *array* à partir d’une liste,\n",
    "il suffit d’utiliser la méthode `array`:"
   ]
  },
  {
   "cell_type": "code",
   "execution_count": 4,
   "id": "0fff2f86",
   "metadata": {},
   "outputs": [
    {
     "data": {
      "text/plain": [
       "array([1, 2, 5])"
      ]
     },
     "execution_count": 4,
     "metadata": {},
     "output_type": "execute_result"
    }
   ],
   "source": [
    "np.array([1, 2, 5])\n"
   ]
  },
  {
   "cell_type": "markdown",
   "id": "bd5d2178-a87b-4863-b93f-3ad9d1823d9d",
   "metadata": {},
   "source": [
    "Il est possible d’ajouter un argument `dtype` pour contraindre le type du *array* :"
   ]
  },
  {
   "cell_type": "code",
   "execution_count": 5,
   "id": "5af1368a",
   "metadata": {},
   "outputs": [
    {
     "data": {
      "text/plain": [
       "array([list(['a', 'z', 'e']), list(['r', 't']), list(['y'])], dtype=object)"
      ]
     },
     "execution_count": 5,
     "metadata": {},
     "output_type": "execute_result"
    }
   ],
   "source": [
    "np.array([[\"a\", \"z\", \"e\"], [\"r\", \"t\"], [\"y\"]], dtype=\"object\")\n"
   ]
  },
  {
   "cell_type": "markdown",
   "id": "096e554c-9782-480d-84c3-476c182fa4c0",
   "metadata": {},
   "source": [
    "Il existe aussi des méthodes pratiques pour créer des array:\n",
    "\n",
    "-   séquences logiques : `np.arange` (suite) ou `np.linspace` (interpolation linéaire entre deux bornes)\n",
    "-   séquences ordonnées : *array* rempli de zéros, de 1 ou d’un nombre désiré : `np.zeros`, `np.ones` ou `np.full`\n",
    "-   séquences aléatoires : fonctions de génération de nombres aléatoires : `np.rand.uniform`, `np.rand.normal`, etc.\n",
    "-   tableau sous forme de matrice identité : `np.eye`\n",
    "\n",
    "Ceci donne ainsi, pour les séquences logiques:"
   ]
  },
  {
   "cell_type": "code",
   "execution_count": 6,
   "id": "19fd299a",
   "metadata": {},
   "outputs": [
    {
     "data": {
      "text/plain": [
       "array([0, 1, 2, 3, 4, 5, 6, 7, 8, 9])"
      ]
     },
     "execution_count": 6,
     "metadata": {},
     "output_type": "execute_result"
    }
   ],
   "source": [
    "np.arange(0, 10)\n"
   ]
  },
  {
   "cell_type": "code",
   "execution_count": 7,
   "id": "0b793f7a",
   "metadata": {},
   "outputs": [
    {
     "data": {
      "text/plain": [
       "array([0, 3, 6, 9])"
      ]
     },
     "execution_count": 7,
     "metadata": {},
     "output_type": "execute_result"
    }
   ],
   "source": [
    "np.arange(0, 10, 3)\n"
   ]
  },
  {
   "cell_type": "code",
   "execution_count": 8,
   "id": "ec49324f",
   "metadata": {},
   "outputs": [
    {
     "data": {
      "text/plain": [
       "array([0.  , 0.25, 0.5 , 0.75, 1.  ])"
      ]
     },
     "execution_count": 8,
     "metadata": {},
     "output_type": "execute_result"
    }
   ],
   "source": [
    "np.linspace(0, 1, 5)\n"
   ]
  },
  {
   "cell_type": "markdown",
   "id": "cbce1b3f-3caa-49bb-b61f-f35107fe8b8e",
   "metadata": {},
   "source": [
    "Pour un *array* initialisé à 0:"
   ]
  },
  {
   "cell_type": "code",
   "execution_count": 9,
   "id": "1deceddc",
   "metadata": {},
   "outputs": [
    {
     "data": {
      "text/plain": [
       "array([0, 0, 0, 0, 0, 0, 0, 0, 0, 0])"
      ]
     },
     "execution_count": 9,
     "metadata": {},
     "output_type": "execute_result"
    }
   ],
   "source": [
    "np.zeros(10, dtype=int)\n"
   ]
  },
  {
   "cell_type": "markdown",
   "id": "b12ad55c-4da7-4b29-871d-80526880f3b9",
   "metadata": {},
   "source": [
    "ou initialisé à 1:"
   ]
  },
  {
   "cell_type": "code",
   "execution_count": 10,
   "id": "2724f3ff",
   "metadata": {},
   "outputs": [
    {
     "data": {
      "text/plain": [
       "array([[1., 1., 1., 1., 1.],\n",
       "       [1., 1., 1., 1., 1.],\n",
       "       [1., 1., 1., 1., 1.]])"
      ]
     },
     "execution_count": 10,
     "metadata": {},
     "output_type": "execute_result"
    }
   ],
   "source": [
    "np.ones((3, 5), dtype=float)\n"
   ]
  },
  {
   "cell_type": "markdown",
   "id": "f342b28b-fbd6-4d4c-aaf0-4801e8642149",
   "metadata": {},
   "source": [
    "ou encore initialisé à 3.14:"
   ]
  },
  {
   "cell_type": "code",
   "execution_count": 11,
   "id": "74cbe6f7",
   "metadata": {},
   "outputs": [
    {
     "data": {
      "text/plain": [
       "array([[3.14, 3.14, 3.14, 3.14, 3.14],\n",
       "       [3.14, 3.14, 3.14, 3.14, 3.14],\n",
       "       [3.14, 3.14, 3.14, 3.14, 3.14]])"
      ]
     },
     "execution_count": 11,
     "metadata": {},
     "output_type": "execute_result"
    }
   ],
   "source": [
    "np.full((3, 5), 3.14)\n"
   ]
  },
  {
   "cell_type": "markdown",
   "id": "10a465c8-9f4b-469c-8382-bef5a1e0ac0c",
   "metadata": {},
   "source": [
    "Enfin, pour créer la matrice $I_3$:"
   ]
  },
  {
   "cell_type": "code",
   "execution_count": 12,
   "id": "b1040db4",
   "metadata": {},
   "outputs": [
    {
     "data": {
      "text/plain": [
       "array([[1., 0., 0.],\n",
       "       [0., 1., 0.],\n",
       "       [0., 0., 1.]])"
      ]
     },
     "execution_count": 12,
     "metadata": {},
     "output_type": "execute_result"
    }
   ],
   "source": [
    "np.eye(3)\n"
   ]
  },
  {
   "cell_type": "markdown",
   "id": "454e88f0",
   "metadata": {},
   "source": [
    "Exercice 1 : "
   ]
  },
  {
   "cell_type": "code",
   "execution_count": 13,
   "id": "20ad8e6a",
   "metadata": {},
   "outputs": [
    {
     "data": {
      "text/plain": [
       "array([9.29616093e-01, 3.16375555e-01, 1.83918812e-01, 2.04560279e-01,\n",
       "       5.67725029e-01, 5.95544703e-01, 9.64514520e-01, 6.53177097e-01,\n",
       "       7.48906638e-01, 6.53569871e-01, 7.47714809e-01, 9.61306736e-01,\n",
       "       8.38829794e-03, 1.06444377e-01, 2.98703714e-01, 6.56411183e-01,\n",
       "       8.09812553e-01, 8.72175914e-01, 9.64647597e-01, 7.23685347e-01,\n",
       "       6.42475328e-01, 7.17453621e-01, 4.67599007e-01, 3.25584678e-01,\n",
       "       4.39644606e-01, 7.29689083e-01, 9.94014586e-01, 6.76873712e-01,\n",
       "       7.90822518e-01, 1.70914258e-01, 2.68492758e-02, 8.00370244e-01,\n",
       "       9.03722538e-01, 2.46762104e-02, 4.91747318e-01, 5.26255167e-01,\n",
       "       5.96366010e-01, 5.19575451e-02, 8.95089528e-01, 7.28266180e-01,\n",
       "       8.18350011e-01, 5.00222753e-01, 8.10189409e-01, 9.59685257e-02,\n",
       "       2.18950044e-01, 2.58719062e-01, 4.68105754e-01, 4.59373203e-01,\n",
       "       7.09509780e-01, 1.78053006e-01, 5.31449884e-01, 1.67742229e-01,\n",
       "       7.68813918e-01, 9.28170549e-01, 6.09493658e-01, 1.50183495e-01,\n",
       "       4.89626704e-01, 3.77344954e-01, 8.48601412e-01, 9.11097229e-01,\n",
       "       3.83848721e-01, 3.15495903e-01, 5.68394153e-01, 1.87818035e-01,\n",
       "       1.25841544e-01, 6.87595805e-01, 7.99606718e-01, 5.73536565e-01,\n",
       "       9.73229982e-01, 6.34054377e-01, 8.88421725e-01, 4.95414759e-01,\n",
       "       3.51616530e-01, 7.14230369e-01, 5.03929116e-01, 2.25637607e-01,\n",
       "       2.44974440e-01, 7.92800700e-01, 4.95172415e-01, 9.15093673e-01,\n",
       "       9.45371834e-01, 5.33232230e-01, 2.52492595e-01, 7.20862058e-01,\n",
       "       3.67438764e-01, 4.98648443e-01, 2.26575047e-01, 3.53565647e-01,\n",
       "       6.50851787e-01, 3.12932895e-01, 7.68735447e-01, 7.81837103e-01,\n",
       "       8.52409483e-01, 9.49905740e-01, 1.07322912e-01, 9.10725356e-01,\n",
       "       3.36055162e-01, 8.26380427e-01, 8.98100635e-01, 4.27153043e-02,\n",
       "       1.95794999e-01, 2.94501322e-01, 6.26999881e-01, 8.62231051e-02,\n",
       "       1.42945020e-01, 5.15826519e-01, 6.89341330e-01, 8.56625811e-01,\n",
       "       6.47361683e-01, 5.81618676e-01, 7.11115955e-01, 2.52416857e-01,\n",
       "       9.00159683e-01, 4.42293693e-01, 2.05208247e-02, 9.59661014e-01,\n",
       "       6.52225422e-01, 5.13206250e-01, 6.82356383e-01, 4.89540391e-01,\n",
       "       9.26490171e-01, 5.15879772e-01, 7.21598817e-02, 5.67508298e-01,\n",
       "       6.15243184e-01, 9.41546294e-01, 4.15363355e-01, 2.64439975e-01,\n",
       "       9.73931654e-02, 4.85844222e-01, 4.64662863e-01, 2.97593170e-02,\n",
       "       6.94277462e-01, 7.16947112e-01, 7.29811423e-01, 4.14351017e-01,\n",
       "       1.50988448e-02, 9.08975157e-01, 7.89378718e-01, 1.65199169e-01,\n",
       "       3.12785961e-01, 6.10945306e-01, 3.64490287e-01, 1.56038589e-01,\n",
       "       1.77303813e-01, 8.67889671e-01, 2.90094668e-01, 5.85179621e-01,\n",
       "       4.53994876e-01, 4.11178132e-01, 8.82634445e-01, 6.92708015e-01,\n",
       "       2.79273355e-01, 6.44402312e-02, 1.98623614e-01, 9.31682745e-01,\n",
       "       8.54413568e-01, 9.54734735e-01, 5.22533482e-02, 5.79471681e-01,\n",
       "       4.80496267e-01, 2.17089790e-02, 3.73620464e-01, 4.14091801e-01,\n",
       "       6.03907234e-01, 6.71748727e-01, 8.38865700e-01, 7.79526208e-01,\n",
       "       4.00701044e-01, 7.94529231e-01, 8.93124310e-01, 2.62489691e-01,\n",
       "       9.89197007e-01, 8.53307099e-01, 7.31477156e-01, 3.55565625e-01,\n",
       "       8.83289491e-01, 8.67959091e-01, 9.55766446e-01, 1.07256520e-04,\n",
       "       1.65410419e-02, 3.14070057e-01, 9.95316175e-01, 1.48844223e-01,\n",
       "       1.67377119e-01, 7.58572037e-01, 6.95296662e-02, 7.05473439e-01,\n",
       "       4.69165282e-01, 1.01882161e-02, 7.74823863e-01, 7.94201008e-01,\n",
       "       1.49569452e-01, 2.37036318e-02, 7.62063771e-01, 2.23670180e-01,\n",
       "       2.62174398e-01, 4.56869503e-01, 2.49926919e-01, 5.68283562e-01,\n",
       "       8.46942997e-01, 3.78099537e-01, 4.32465116e-01, 8.32619176e-01,\n",
       "       3.71131936e-01, 4.05532719e-02, 5.54671486e-01, 4.51246243e-01,\n",
       "       7.25300977e-01, 3.78450522e-01, 8.40662496e-01, 4.69314694e-01,\n",
       "       5.62643429e-01, 6.61199339e-01, 4.62241868e-01, 6.23636945e-01,\n",
       "       2.21880631e-01, 7.32863117e-01, 3.81682089e-01, 1.94834542e-01,\n",
       "       2.71162775e-01, 2.49225052e-01, 1.52139062e-01, 7.71373704e-01,\n",
       "       2.55411732e-01, 1.27543405e-01, 6.65167153e-01, 4.12804949e-01,\n",
       "       6.67767766e-01, 6.59813517e-01, 3.05377672e-01, 2.01224241e-01,\n",
       "       2.22027126e-01, 1.19970863e-01, 3.71454410e-02, 3.41315835e-02,\n",
       "       2.30496548e-01, 2.28353706e-01, 6.24910622e-01, 8.92561185e-01,\n",
       "       7.79728016e-01, 7.21451269e-01, 3.10442159e-01, 3.63083416e-01,\n",
       "       1.96081784e-01, 9.35491798e-01, 5.61734000e-01, 8.17291537e-01,\n",
       "       3.48913981e-01, 7.99714263e-01, 1.04104463e-01, 7.12120165e-01,\n",
       "       9.17448496e-01, 8.03585369e-01, 3.27113146e-01, 2.55107179e-01,\n",
       "       4.95002174e-01, 4.13610954e-01, 4.24937095e-01, 7.43783048e-02,\n",
       "       6.03390651e-01, 7.47199734e-01, 7.97576227e-01, 3.81500523e-01,\n",
       "       7.97158153e-01, 4.71797370e-01, 7.21399171e-01, 1.89212689e-01,\n",
       "       4.34595709e-01, 8.23468109e-01, 8.26272628e-01, 1.89525483e-01,\n",
       "       2.01021702e-02, 7.03491386e-01, 3.47270119e-01, 4.19503816e-01,\n",
       "       7.68088903e-01, 9.62878066e-01, 8.92565307e-01, 1.34942267e-01,\n",
       "       7.97804715e-01, 6.82090608e-01, 5.30052887e-01, 8.65981655e-01,\n",
       "       7.53248095e-01, 9.32025868e-02, 3.29439432e-01, 4.12362696e-01,\n",
       "       9.64607766e-04, 5.97563563e-01, 6.82561542e-01, 3.66280762e-01,\n",
       "       3.96498857e-01, 4.75359146e-01, 5.81079901e-01, 1.37137128e-01,\n",
       "       9.99414173e-01, 5.07327209e-01, 4.93066705e-01, 1.86874755e-01,\n",
       "       2.96088015e-01, 7.98515059e-01, 2.94778293e-01, 6.97121593e-01,\n",
       "       2.72959229e-01, 9.12528451e-01, 2.98539234e-01, 8.89859772e-01,\n",
       "       9.46722294e-01, 1.68912823e-01, 3.59291406e-01, 6.82177303e-01,\n",
       "       9.21391970e-01, 1.44924344e-01, 9.98743850e-02, 4.11602777e-01,\n",
       "       9.75125371e-01, 4.15065409e-02, 1.86914295e-01, 6.08767988e-01,\n",
       "       8.72187151e-02, 3.16288154e-01, 6.10135777e-01, 2.01194713e-01,\n",
       "       6.91897716e-01, 2.44626971e-01, 6.80371696e-01, 4.85937729e-01,\n",
       "       2.60494812e-01, 2.82740319e-01, 9.05451620e-01, 2.75842687e-01,\n",
       "       8.41148043e-01, 1.96424375e-01, 3.30583429e-01, 9.46629885e-01,\n",
       "       5.06071850e-01, 4.03415858e-01, 2.70615384e-02, 6.21773689e-01,\n",
       "       3.47348507e-01, 2.76799228e-01, 6.40547739e-02, 3.34390519e-01,\n",
       "       6.77099425e-02, 3.82424826e-03, 4.09678034e-02, 3.48954866e-01,\n",
       "       9.19543108e-02, 5.20315726e-01, 2.15749813e-01, 9.91666545e-01,\n",
       "       2.67187161e-01, 6.80168053e-01, 5.26246119e-01, 4.39923070e-01,\n",
       "       6.61555246e-01, 1.34785175e-01, 7.87849005e-01, 1.37977701e-01,\n",
       "       6.32923298e-01, 2.13665358e-01, 2.33753147e-02, 6.26933973e-01,\n",
       "       6.42163727e-01, 6.42103337e-01, 8.64620900e-01, 3.37201403e-01,\n",
       "       4.10958387e-01, 6.10318684e-01, 9.40843191e-01, 1.52077270e-01,\n",
       "       1.84058006e-01, 1.54438288e-01, 7.12824326e-01, 9.27983161e-01,\n",
       "       4.22687180e-01, 5.45177264e-01, 3.22388965e-01, 1.60704683e-01,\n",
       "       7.03152025e-01, 7.30248406e-01, 9.60404538e-01, 3.70490571e-01,\n",
       "       7.16698392e-01, 9.86061218e-01, 1.10767559e-01, 7.58228549e-01,\n",
       "       1.57554121e-01, 8.16435255e-01, 5.54106546e-01, 5.81710221e-01,\n",
       "       9.36145583e-01, 4.34347755e-01, 4.89127186e-01, 6.66130467e-01,\n",
       "       6.30154001e-01, 1.30204751e-01, 3.53843971e-01, 6.35123385e-01,\n",
       "       9.18955861e-01, 9.12667206e-02, 7.10821250e-02, 4.13711636e-01,\n",
       "       2.15641169e-01, 5.19698632e-01, 5.58514022e-01, 4.73700164e-01,\n",
       "       2.15872122e-01, 2.39438885e-01, 2.16738253e-01, 6.55690378e-01,\n",
       "       8.46393450e-01, 9.30464393e-01, 8.00305517e-01, 6.80725845e-01,\n",
       "       2.07256958e-01, 7.41659725e-01, 6.96904586e-01, 3.81759474e-01,\n",
       "       8.50119125e-01, 5.28111181e-01, 8.93009069e-01, 8.20559375e-01,\n",
       "       2.28578619e-01, 8.20623969e-01, 1.38561425e-01, 4.82467495e-01,\n",
       "       1.48810556e-01, 4.48294055e-01, 6.65956472e-01, 7.89032425e-01,\n",
       "       6.62020758e-01, 7.11512429e-01, 8.87923662e-01, 1.41675291e-01,\n",
       "       1.47570124e-01, 3.25930843e-01, 3.18738295e-02, 6.87762895e-01,\n",
       "       7.64730045e-01, 3.50009419e-01, 6.16007611e-01, 9.58499859e-01,\n",
       "       2.91052617e-01, 6.86678463e-01, 4.22282303e-02, 6.25036317e-02,\n",
       "       8.14398696e-01, 4.36618362e-01, 3.92068432e-01, 3.30647680e-01,\n",
       "       4.57658828e-01, 8.35352152e-01, 4.66768876e-01, 4.21285988e-01,\n",
       "       5.70851553e-01, 7.39055957e-01, 5.50834086e-02, 6.24180649e-01,\n",
       "       6.21060328e-01, 1.11053182e-03, 6.02893506e-01, 4.01854121e-02,\n",
       "       5.85750367e-01, 4.48379425e-01, 3.53730268e-01, 9.33525234e-01,\n",
       "       2.67255932e-01, 2.81299380e-01, 5.04905964e-01, 6.46806119e-01,\n",
       "       9.70573429e-01, 3.58754794e-02, 4.23199866e-01, 5.88312089e-01,\n",
       "       7.31702283e-01, 1.75511073e-01, 5.10538785e-01, 5.00284596e-01,\n",
       "       8.92767632e-01, 3.82682708e-01, 6.62863837e-01, 4.68115597e-02,\n",
       "       7.51223284e-01, 3.68785292e-01, 9.48028637e-01, 3.47225218e-01,\n",
       "       6.83893199e-01, 8.24634882e-01, 4.86252994e-01, 9.84175871e-01,\n",
       "       6.03814038e-01, 7.59624832e-01, 6.84516695e-01, 9.32416227e-01,\n",
       "       9.49785472e-01, 9.90111128e-01, 1.26155383e-01, 9.76600617e-01,\n",
       "       2.29105656e-01, 1.86056423e-01, 5.09211422e-01, 5.30497683e-01,\n",
       "       2.82639242e-01, 3.10161535e-01, 3.09884376e-01, 2.66388886e-01,\n",
       "       5.93431151e-01, 2.17134372e-01, 4.02382918e-01, 2.88561239e-01,\n",
       "       1.73840815e-01, 2.25713523e-01, 9.88641418e-01, 4.34051353e-01,\n",
       "       8.28189276e-01, 5.72512832e-01, 6.51900278e-01, 7.29738156e-01,\n",
       "       3.91283651e-01, 3.92862457e-01, 8.59551230e-01, 8.10019611e-01,\n",
       "       8.36543884e-01, 1.87987924e-01, 3.59596747e-01, 4.81983983e-01,\n",
       "       9.66072646e-01, 5.63313184e-01, 8.27504863e-01, 7.61076099e-02,\n",
       "       5.53137945e-01, 5.47940460e-01, 9.05443598e-01, 3.69488675e-01,\n",
       "       9.01162642e-01, 1.40631025e-01, 9.91737253e-02, 9.73183260e-01,\n",
       "       9.42045020e-01, 5.90946960e-01, 5.19578645e-02, 5.01516977e-02,\n",
       "       3.24602177e-01, 3.75749762e-01, 7.64149319e-01, 8.59265843e-01,\n",
       "       5.45708274e-01, 3.23854983e-01, 4.05814867e-01, 1.09667773e-01,\n",
       "       1.37291317e-01, 7.45388969e-01, 8.76415541e-01, 2.58989343e-01,\n",
       "       6.85601661e-01, 3.59111476e-01, 6.01712546e-03, 7.61180857e-01,\n",
       "       4.14022393e-01, 3.33891974e-01, 2.78043083e-01, 5.92514159e-01,\n",
       "       3.25100642e-01, 9.36805341e-01, 9.59829754e-02, 8.83295746e-01,\n",
       "       5.68017733e-01, 6.19234745e-02, 8.74988665e-01, 2.24852767e-01,\n",
       "       7.99383281e-01, 8.01874983e-01, 2.89545197e-02, 6.27099003e-01,\n",
       "       6.04639261e-01, 7.82075249e-02, 7.72953563e-01, 1.43316624e-01,\n",
       "       4.63684608e-01, 9.71106760e-02, 5.69854216e-01, 4.03766958e-01,\n",
       "       5.86578705e-01, 7.48706375e-01, 8.89613833e-01, 3.79390155e-01,\n",
       "       2.92436262e-01, 5.09290240e-01, 5.32813600e-01, 1.05421621e-01,\n",
       "       4.59410035e-02, 6.21993149e-01, 8.22444922e-01, 5.50635699e-02,\n",
       "       7.97973445e-01, 2.44244922e-01, 8.03537742e-01, 2.98175065e-01,\n",
       "       4.67270963e-01, 9.32819658e-01, 9.09756785e-01, 1.29927724e-01,\n",
       "       5.29497701e-01, 6.19165778e-01, 6.24615218e-01, 6.46808836e-01,\n",
       "       3.32076473e-01, 1.14222337e-01, 5.71104491e-01, 3.01991479e-01,\n",
       "       1.93505606e-01, 5.64705692e-01, 6.10482652e-01, 4.53297806e-02,\n",
       "       9.85375641e-01, 1.03727037e-01, 4.05897342e-01, 6.65559084e-01,\n",
       "       1.97012046e-01, 2.41780460e-01, 6.23172453e-01, 7.98738351e-01,\n",
       "       5.44636367e-01, 1.97587369e-01, 7.84121741e-01, 8.14333822e-01,\n",
       "       7.10889017e-01, 9.44042740e-01, 8.54947591e-01, 9.63576306e-01,\n",
       "       4.64639198e-01, 4.84995245e-01, 5.86468746e-01, 9.41988877e-01,\n",
       "       3.72283243e-01, 5.98242252e-01, 6.13612301e-01, 5.60064115e-01,\n",
       "       1.18517847e-01, 4.02912045e-01, 2.21498855e-01, 7.88278695e-01,\n",
       "       7.63987643e-01, 1.74378008e-01, 7.23853792e-01, 9.24562138e-01,\n",
       "       4.75934951e-01, 9.12938890e-01, 4.37421966e-01, 6.58605272e-02,\n",
       "       3.63705658e-01, 1.89448876e-01, 1.48332600e-01, 2.11080622e-01,\n",
       "       8.79559564e-01, 8.17746106e-01, 6.31563681e-01, 9.55282489e-01,\n",
       "       1.19050297e-01, 6.02272191e-01, 3.31424643e-01, 8.21530661e-01,\n",
       "       6.59788738e-01, 4.22571058e-01, 7.16082915e-01, 2.15288881e-01,\n",
       "       1.68328775e-02, 2.80730631e-01, 6.01721086e-01, 4.60555913e-01,\n",
       "       7.10666809e-01, 1.64675861e-01, 9.40236062e-01, 9.55448372e-01,\n",
       "       9.80730819e-01, 5.88299235e-02, 7.40370148e-01, 6.00652088e-01,\n",
       "       8.89533263e-02, 9.89341051e-01, 5.48842302e-01, 6.74467909e-01,\n",
       "       7.24892971e-01, 5.68494456e-01, 5.27487861e-01, 1.50752946e-01,\n",
       "       2.40284498e-01, 4.02581291e-01, 6.78373031e-02, 7.58384900e-01,\n",
       "       3.42692103e-01, 9.89738840e-01, 8.88561193e-01, 9.38541238e-01,\n",
       "       7.39100789e-01, 2.69468383e-02, 3.82395886e-01, 1.05263960e-02,\n",
       "       6.52320702e-02, 6.81392696e-01, 9.86659476e-01, 6.66250630e-01,\n",
       "       4.15103017e-01, 4.11607032e-02, 8.94286858e-01, 7.06786973e-01,\n",
       "       4.78899324e-01, 2.15612493e-01, 8.17660639e-02, 6.73202204e-01,\n",
       "       9.94779189e-01, 5.93532317e-01, 8.40182449e-01, 1.52978058e-01,\n",
       "       8.76141573e-01, 5.44835597e-01, 9.83642276e-01, 7.35702141e-01,\n",
       "       9.30831996e-02, 2.92224017e-01, 2.73048167e-01, 7.11664134e-02,\n",
       "       6.80022893e-01, 2.24723063e-01, 5.51499725e-01, 7.69742334e-01,\n",
       "       2.11718017e-01, 2.92788540e-01, 3.56417292e-01, 9.56367490e-01,\n",
       "       6.60243862e-01, 9.50512404e-01, 9.68675912e-02, 2.64526483e-01,\n",
       "       2.72138001e-01, 8.35087174e-01, 8.12852388e-01, 2.93744157e-01,\n",
       "       6.49709940e-01, 4.20994638e-01, 7.46516747e-02, 7.38806855e-01,\n",
       "       5.85370043e-01, 3.44670598e-01, 2.58003178e-01, 2.91818033e-01,\n",
       "       7.69730418e-01, 4.24315441e-01, 2.88571836e-01, 2.64181592e-01,\n",
       "       2.76918935e-01, 8.42356010e-01, 1.69622287e-01, 2.52086626e-01,\n",
       "       5.91875201e-01, 9.75359718e-01, 4.13115858e-03, 2.40016121e-01,\n",
       "       7.26516100e-01, 2.50724527e-01, 9.18158136e-01, 5.08151908e-01,\n",
       "       5.02532073e-01, 7.12303868e-01, 6.39768031e-01, 2.84302642e-01,\n",
       "       9.78332059e-03, 5.94739565e-01, 8.41014982e-01, 4.86590257e-01,\n",
       "       7.80795137e-01, 4.12534863e-01, 3.79805563e-01, 8.98445509e-01,\n",
       "       8.96726126e-01, 7.20446749e-01, 2.84851739e-01, 3.39899166e-01,\n",
       "       2.85171026e-01, 7.79610791e-01, 4.57287438e-03, 8.46875756e-02,\n",
       "       4.41357265e-01, 2.51067321e-01, 9.05872597e-01, 8.80882678e-01,\n",
       "       7.16520379e-01, 2.38676311e-01, 9.25290928e-01, 9.69618444e-01,\n",
       "       5.78239010e-01, 2.69027627e-01, 3.00909446e-01, 6.25332267e-01,\n",
       "       7.79844070e-01, 4.21103377e-01, 6.56979718e-01, 4.23619920e-01,\n",
       "       3.51725869e-01, 6.24628337e-01, 8.11498341e-01, 4.93718117e-01,\n",
       "       5.31506688e-02, 4.83134319e-01, 5.04634105e-01, 4.36917808e-01,\n",
       "       3.76015722e-01, 7.77878038e-01, 1.00077711e-01, 1.64794342e-02,\n",
       "       7.82376004e-01, 8.53158702e-01, 2.23701755e-01, 6.26922568e-01,\n",
       "       6.46702905e-02, 2.38920802e-01, 4.59773036e-01, 6.62682570e-01,\n",
       "       2.17701620e-01, 4.69947009e-01, 9.78290985e-01, 5.13053739e-01,\n",
       "       4.70131321e-01, 6.66141019e-01, 5.21220471e-01, 2.57269108e-01,\n",
       "       8.24167913e-01, 1.28785131e-01, 1.71943782e-01, 1.74911925e-01,\n",
       "       3.81940556e-01, 1.01593250e-01, 3.89796608e-01, 8.09914425e-01,\n",
       "       3.53751795e-01, 8.76517803e-01, 9.58832394e-01, 8.38728422e-01,\n",
       "       1.15045383e-01, 5.62411664e-01, 1.08438010e-01, 8.75868423e-01,\n",
       "       3.50007813e-01, 8.97715086e-01, 1.24177392e-01, 6.37861829e-01,\n",
       "       8.72525150e-01, 1.06556463e-03, 3.04719850e-01, 2.88246711e-02,\n",
       "       5.49729503e-01, 1.75191385e-01, 5.90025529e-01, 5.12061292e-03,\n",
       "       2.82022774e-01, 7.59797919e-01, 8.71945014e-01, 5.05421230e-01,\n",
       "       4.83744669e-01, 4.77582157e-02, 7.50804918e-01, 8.31334315e-01,\n",
       "       8.66033846e-01, 8.26781980e-01, 4.99580234e-01, 8.76602834e-03,\n",
       "       3.41194078e-01, 7.40122855e-01, 9.10788140e-01, 2.93958043e-01,\n",
       "       1.86707290e-01, 8.84216960e-01, 3.84067793e-01, 6.16906181e-01,\n",
       "       5.96975617e-01, 3.23300613e-01, 6.40036576e-01, 4.48590616e-01,\n",
       "       6.98459961e-01, 1.61937718e-01, 1.95358109e-01, 4.82792003e-01,\n",
       "       5.00062659e-01, 7.68094333e-01, 1.92860137e-01, 9.92169356e-01,\n",
       "       3.25299591e-01, 8.46000468e-01, 8.18142113e-01, 9.06571978e-01,\n",
       "       7.39445937e-01, 3.16660586e-01, 2.75581079e-02, 5.63038643e-01,\n",
       "       9.56673698e-01, 1.56008523e-01, 7.57734685e-01, 4.13429119e-02,\n",
       "       1.94548649e-01, 5.20256267e-01, 4.64897763e-01, 7.89509668e-01,\n",
       "       1.28058460e-01, 8.92415328e-01, 1.76392096e-01, 4.34880696e-01,\n",
       "       1.49353373e-01, 6.88764574e-01, 8.14003601e-01, 1.92549662e-01,\n",
       "       5.78138988e-01, 7.20866573e-01, 4.75132487e-01, 2.61951142e-01,\n",
       "       7.34129433e-01, 3.49206952e-01, 6.71464426e-01, 5.50583542e-02,\n",
       "       8.97045485e-01, 5.21645153e-01, 2.75223050e-01, 8.43500697e-01,\n",
       "       4.42473532e-01, 6.69249888e-01, 9.92646698e-01, 8.52669047e-01,\n",
       "       9.33548116e-01, 8.62127893e-01, 6.70494099e-02, 2.91815001e-01,\n",
       "       1.96329173e-01, 4.11010643e-01, 4.19182987e-01, 9.58267569e-01,\n",
       "       9.24082047e-01, 9.83669073e-01, 3.81332339e-01, 9.64087337e-01,\n",
       "       5.90315111e-01, 5.01065688e-01, 2.82097053e-01, 1.62366107e-01,\n",
       "       4.48787518e-01, 3.47297267e-01, 5.23855654e-01, 5.43829719e-01,\n",
       "       1.07891842e-02, 2.96556130e-01, 1.68280674e-01, 9.58508319e-01,\n",
       "       2.36431725e-01, 8.32655323e-01, 7.07755236e-01, 5.60658862e-01,\n",
       "       7.01118012e-01, 2.12004260e-01, 6.91039621e-01, 6.21605802e-01,\n",
       "       7.17449309e-01, 1.52697269e-01, 9.42533736e-02, 9.51184450e-01,\n",
       "       4.03948003e-01, 6.43424756e-01, 9.60491562e-01, 8.37317428e-01,\n",
       "       1.30633738e-01, 5.00974360e-01, 1.81722349e-01, 5.03767684e-02,\n",
       "       8.95067571e-01, 2.66036954e-01, 5.37635845e-02, 4.99346801e-01,\n",
       "       7.80111123e-01, 5.56947979e-01, 1.35053499e-01, 3.88576738e-01,\n",
       "       2.57673160e-01, 5.27324604e-01, 9.02670839e-01, 8.53113758e-01,\n",
       "       8.36823265e-01, 2.15878507e-01, 1.33549821e-01, 1.20242021e-01,\n",
       "       8.74624381e-01, 8.00284056e-02, 3.89413954e-01, 1.81818725e-01,\n",
       "       4.11153296e-01, 8.33383229e-01, 9.78448158e-01, 4.24935533e-03,\n",
       "       5.59856420e-01, 7.51779812e-01, 3.90044814e-01, 3.08605200e-01])"
      ]
     },
     "execution_count": 13,
     "metadata": {},
     "output_type": "execute_result"
    }
   ],
   "source": [
    "import numpy as np\n",
    "np.random.uniform(0,1,1000)"
   ]
  },
  {
   "cell_type": "code",
   "execution_count": 14,
   "id": "1b9dd724",
   "metadata": {},
   "outputs": [
    {
     "name": "stdout",
     "output_type": "stream",
     "text": [
      "variance :  0.9998575379251486\n",
      "moy: 0.0014550974093255628  sig:  0.9999287664254632\n"
     ]
    },
    {
     "data": {
      "image/png": "[encoded data removed]",
      "text/plain": [
       "<Figure size 640x480 with 1 Axes>"
      ]
     },
     "metadata": {},
     "output_type": "display_data"
    }
   ],
   "source": [
    "import numpy as np\n",
    "import matplotlib.pyplot as plt\n",
    "import scipy.stats as stats\n",
    "\n",
    "data = np.random.normal(0,1,1000000)\n",
    "variance = np.var(data)\n",
    "print(\"variance : \", np.var(data))\n",
    "counts, bins, _= plt.hist(data, bins=150, color='skyblue')\n",
    "plt.title(\"Normal Distribution Generated\")\n",
    "\n",
    "mu, std = stats.norm.fit(data)\n",
    "print(\"moy:\",mu,\" sig: \", std)\n",
    "xmin, xmax = plt.xlim()\n",
    "bin_width = bins[1] - bins[0]\n",
    "\n",
    "x = np.linspace(xmin,xmax,100)\n",
    "p = stats.norm.pdf(x, mu, std) * len(data) * bin_width\n",
    "plt.plot(x,p,'k', linewidth=2)\n",
    "plt.title(\"Histogramme et distribution normale ajustée\\nVariance: {:.2f}\".format(variance))\n",
    "plt.xlabel(\"Valeur\")\n",
    "plt.ylabel(\"Densité\")\n",
    "plt.show()\n"
   ]
  },
  {
   "cell_type": "markdown",
   "id": "ab184dd0-aa19-4786-b30e-192126b3387f",
   "metadata": {},
   "source": [
    "<div class=\"alert alert-success\" role=\"alert\">\n",
    "<h3 class=\"alert-heading\"><i class=\"fa-solid fa-pencil\"></i> Exercice 1</h3>\n",
    "\n",
    "Générer:\n",
    "\n",
    "-   $X$ une variable aléatoire, 1000 répétitions d’une loi $U(0,1)$\n",
    "-   $Y$ une variable aléatoire, 1000 répétitions d’une loi normale de moyenne nulle et de variance égale à 2\n",
    "-   Vérifier la variance de $Y$ avec `np.var`\n",
    "\n",
    "</div>\n",
    "\n",
    "# 3. Indexation et *slicing*\n",
    "\n",
    "## 3.1 Logique dans le cas d’un array unidimensionnel\n",
    "\n",
    "La structure la plus simple est l’*array* unidimensionnel:"
   ]
  },
  {
   "cell_type": "code",
   "execution_count": 15,
   "id": "58c0b56c",
   "metadata": {},
   "outputs": [
    {
     "name": "stdout",
     "output_type": "stream",
     "text": [
      "[0 1 2 3 4 5 6 7 8 9]\n"
     ]
    }
   ],
   "source": [
    "x = np.arange(10)\n",
    "print(x)\n"
   ]
  },
  {
   "cell_type": "markdown",
   "id": "bb7a6ab0-3fba-45fa-b157-05f1c09aebdc",
   "metadata": {},
   "source": [
    "L’indexation est dans ce cas similaire à celle d’une liste:\n",
    "\n",
    "-   le premier élément est 0\n",
    "-   le énième élément est accessible à la position $n-1$\n",
    "\n",
    "La logique d’accès aux éléments est ainsi la suivante :\n",
    "\n",
    "``` python\n",
    "x[start:stop:step]\n",
    "```\n",
    "\n",
    "Avec un *array* unidimensionnel, l’opération de *slicing* (garder une coupe du *array*) est très simple.\n",
    "Par exemple, pour garder les *K* premiers éléments d’un *array*, on fera:\n",
    "\n",
    "``` python\n",
    "x[: (K - 1)]\n",
    "```\n",
    "\n",
    "En l’occurrence, on sélectionne le K$^{eme}$ élément en utilisant\n",
    "\n",
    "``` python\n",
    "x[K - 1]\n",
    "```\n",
    "\n",
    "Pour sélectionner uniquement un élément, on fera ainsi:"
   ]
  },
  {
   "cell_type": "code",
   "execution_count": 16,
   "id": "51623647",
   "metadata": {},
   "outputs": [
    {
     "data": {
      "text/plain": [
       "2"
      ]
     },
     "execution_count": 16,
     "metadata": {},
     "output_type": "execute_result"
    }
   ],
   "source": [
    "x = np.arange(10)\n",
    "x[2]\n"
   ]
  },
  {
   "cell_type": "markdown",
   "id": "5f38d2f5-d6d3-43e0-963a-56dd1ae73101",
   "metadata": {},
   "source": [
    "Les syntaxes qui permettent de sélectionner des indices particuliers d’une liste fonctionnent également\n",
    "avec les *arrays*.\n",
    "\n",
    "<div class=\"alert alert-success\" role=\"alert\">\n",
    "<h3 class=\"alert-heading\"><i class=\"fa-solid fa-pencil\"></i> Exercice 2</h3>\n",
    "\n",
    "Prenez `x = np.arange(10)` et…\n",
    "\n",
    "-   Sélectionner les éléments 0, 3, 5 de `x`\n",
    "-   Sélectionner les éléments pairs\n",
    "-   Sélectionner tous les éléments sauf le premier\n",
    "-   Sélectionner les 5 premiers éléments\n",
    "\n",
    "</div>"
   ]
  },
  {
   "cell_type": "code",
   "execution_count": 17,
   "id": "52b0b3c7",
   "metadata": {},
   "outputs": [
    {
     "name": "stdout",
     "output_type": "stream",
     "text": [
      "0 3 5\n",
      "method 1 :  [0, 2, 4, 6, 8]\n",
      "method 2 :  [0, 2, 4, 6, 8]\n"
     ]
    }
   ],
   "source": [
    "x= np.arange(10)\n",
    "print(x[0],x[3],x[5])\n",
    "\n",
    "pairs = [x for x in x if x%2==0]\n",
    "print(\"method 1 : \", pairs)\n",
    "pairs2= []\n",
    "for x in x:\n",
    "    if x % 2 ==0:\n",
    "        pairs2.append(x)\n",
    "print(\"method 2 : \", pairs2)\n"
   ]
  },
  {
   "cell_type": "markdown",
   "id": "d1aa97c0-bd9a-478c-bce1-9572f56451a2",
   "metadata": {},
   "source": [
    "## 3.2 Sur la performance\n",
    "\n",
    "Un élément déterminant dans la performance de `Numpy` par rapport aux listes,\n",
    "lorsqu’il est question de\n",
    "*slicing* est qu’un array ne renvoie pas une\n",
    "copie de l’élément en question (copie qui coûte de la mémoire et du temps)\n",
    "mais simplement une vue de celui-ci.\n",
    "\n",
    "Lorsqu’il est nécessaire d’effectuer une copie,\n",
    "par exemple pour ne pas altérer l’*array* sous-jacent, on peut\n",
    "utiliser la méthode `copy`:\n",
    "\n",
    "``` python\n",
    "x_sub_copy = x[:2, :2].copy()\n",
    "```\n",
    "\n",
    "## 3.3 Filtres logiques\n",
    "\n",
    "Il est également possible, et plus pratique, de sélectionner des données à partir de conditions logiques\n",
    "(opération qu’on appelle un ***boolean mask***).\n",
    "Cette fonctionalité servira principalement à\n",
    "effectuer des opérations de filtre sur les données.\n",
    "\n",
    "Pour des opérations de comparaison simples, les comparateurs logiques peuvent être suffisants.\n",
    "Ces comparaisons fonctionnent aussi sur les tableaux multidimensionnels grâce au\n",
    "*broadcasting* sur lequel nous reviendrons :"
   ]
  },
  {
   "cell_type": "code",
   "execution_count": 18,
   "id": "f486c3f6",
   "metadata": {},
   "outputs": [
    {
     "name": "stdout",
     "output_type": "stream",
     "text": [
      "9\n",
      "[[-1  1 -2]\n",
      " [-3  2  0]]\n"
     ]
    }
   ],
   "source": [
    "# x = np.arange(10)\n",
    "x2 = np.array([[-1, 1, -2], [-3, 2, 0]])\n",
    "print(x)\n",
    "print(x2)\n"
   ]
  },
  {
   "cell_type": "code",
   "execution_count": 19,
   "id": "c6ab48ac",
   "metadata": {},
   "outputs": [
    {
     "name": "stdout",
     "output_type": "stream",
     "text": [
      "[False False  True False False False False False False False]\n",
      "[[ True False  True]\n",
      " [ True False False]]\n",
      "[0, 1]\n",
      "[-1  1 -2 -3  2  0]\n"
     ]
    }
   ],
   "source": [
    "x = np.arange(10)\n",
    "\n",
    "print(x == 2)\n",
    "print(x2 < 0)\n",
    "\n",
    "list = [val for val in x if val<2]\n",
    "print([val for val in x if val<2])\n",
    "list2 = x[x<2]\n",
    "print(x2[x2<5])"
   ]
  },
  {
   "cell_type": "code",
   "execution_count": 20,
   "id": "21e10fad",
   "metadata": {},
   "outputs": [
    {
     "name": "stdout",
     "output_type": "stream",
     "text": [
      "proportion  0.05079\n",
      "11882.454511043588\n",
      "-126.6286901514871\n",
      "0.14848376812901162\n"
     ]
    },
    {
     "data": {
      "image/png": "[encoded data removed]",
      "text/plain": [
       "<Figure size 640x480 with 1 Axes>"
      ]
     },
     "metadata": {},
     "output_type": "display_data"
    }
   ],
   "source": [
    "x = np.random.normal(size=100000)\n",
    "list1 = x[np.abs(x)>1.96]\n",
    "plt.hist(list1,100)\n",
    "prop = list1.size/x.size\n",
    "print(\"proportion \", prop)\n",
    "sum = np.sum(abs(list1))\n",
    "print(sum)\n",
    "sum2 = np.sum(list1)\n",
    "print(sum2)\n",
    "prop2 = sum / np.sum(np.abs(x))\n",
    "print(prop2)"
   ]
  },
  {
   "cell_type": "markdown",
   "id": "1a1e6896-08d0-4fbe-aa41-fa62b948da2e",
   "metadata": {},
   "source": [
    "Pour sélectionner les observations relatives à la condition logique,\n",
    "il suffit d’utiliser la logique de *slicing* de `numpy` qui fonctionne avec les conditions logiques\n",
    "\n",
    "<div class=\"alert alert-success\" role=\"alert\">\n",
    "<h3 class=\"alert-heading\"><i class=\"fa-solid fa-pencil\"></i> Exercice 3</h3>\n",
    "\n",
    "Soit\n",
    "\n",
    "``` python\n",
    "x = np.random.normal(size=10000)\n",
    "```\n",
    "\n",
    "1.  Ne conserver que les valeurs dont la valeur absolue est supérieure à 1.96\n",
    "2.  Compter le nombre de valeurs supérieures à 1.96 en valeur absolue et leur proportion dans l’ensemble\n",
    "3.  Sommer les valeurs absolues de toutes les observations supérieures (en valeur absolue) à 1.96\n",
    "    et rapportez les à la somme des valeurs de `x` (en valeur absolue)\n",
    "\n",
    "</div>\n",
    "\n",
    "Lorsque c’est possible, il est recommandé d’utiliser les fonctions logiques de `numpy` (optimisées et\n",
    "qui gèrent bien la dimension).\n",
    "Parmi elles, on peut retrouver:\n",
    "\n",
    "-   `count_nonzero` ;\n",
    "-   `isnan` ;\n",
    "-   `any` ou `all`, notamment avec l’argument `axis` ;\n",
    "-   `np.array_equal` pour vérifier, élément par élément, l’égalité.\n",
    "\n",
    "Soient `x` un *array* multidimensionnel et `y` un *array* unidimensionnel présentant une valeur manquante."
   ]
  },
  {
   "cell_type": "code",
   "execution_count": 62,
   "id": "6128fbfb",
   "metadata": {},
   "outputs": [
    {
     "name": "stdout",
     "output_type": "stream",
     "text": [
      "[[ 1.20293937  1.40152769  0.47261813 -0.05219105]\n",
      " [ 1.12802882  0.99016833 -1.49724247  1.21925101]\n",
      " [-1.04955958 -1.78579707  0.59209213 -0.3273993 ]]\n",
      "[ True  True  True  True]\n",
      "True\n",
      "True\n"
     ]
    }
   ],
   "source": [
    "x = np.random.normal(0, size=(3, 4))\n",
    "y = np.array([np.nan,0, 1])\n",
    "\n",
    "np.count_nonzero(y)\n",
    "y.size - y[np.isnan(y)].size\n",
    "np.array_equal(x,1) # vérifie si chaque élément vaut 1\n",
    "print(x)\n",
    "print(np.any(x>0, axis=0)) # test case par case si x > 0\n",
    "print(np.any(np.any(x>0, axis=0))) # test s'il y a au moins case où x > 0 (axis =0 -> le long des colones)\n",
    "\n",
    "print(np.any(np.any(x>0, axis=0))) # test s'il y a au moins case où x > 0 (axis =0 -> le long des lignes)"
   ]
  },
  {
   "cell_type": "markdown",
   "id": "2c0c18c2-f455-42bc-8cb0-c5c3888525ef",
   "metadata": {},
   "source": [
    "<div class=\"alert alert-success\" role=\"alert\">\n",
    "<h3 class=\"alert-heading\"><i class=\"fa-solid fa-pencil\"></i> Exercice 4</h3>\n",
    "\n",
    "1.  Utiliser `count_nonzero` sur `y`\n",
    "2.  Utiliser `isnan` sur `y` et compter le nombre de valeurs non NaN\n",
    "3.  Vérifier que `x` comporte au moins une valeur positive dans son ensemble, en parcourant les lignes puis les colonnes.\n",
    "\n",
    "<details>\n",
    "\n",
    "<summary>\n",
    "\n",
    "Aide\n",
    "\n",
    "</summary>\n",
    "\n",
    "Jetez un oeil au paramètre `axis` en vous documentant sur internet. Par exemple [ici](https://www.sharpsightlabs.com/blog/numpy-axes-explained/).\n",
    "\n",
    "</details>\n",
    "\n",
    "</div>\n",
    "\n",
    "# 4. Manipuler un *array*\n",
    "\n",
    "## 4.1 Fonctions de manipulation\n",
    "\n",
    "`Numpy` propose des méthodes ou des fonctions standardisées pour\n",
    "modifier un array, voici un tableau en présentant quelques-unes:\n",
    "\n",
    "| Opération | Implémentation |\n",
    "|------------------------------|------------------------------------------|\n",
    "| Aplatir un array | `x.flatten()` (méthode) |\n",
    "| Transposer un array | `x.T` (méthode) ou `np.transpose(x)` (fonction) |\n",
    "| Ajouter des éléments à la fin | `np.append(x, [1,2])` |\n",
    "| Ajouter des éléments à un endroit donné (aux positions 1 et 2) | `np.insert(x, [1,2], 3)` |\n",
    "| Supprimer des éléments (aux positions 0 et 3) | `np.delete(x, [0,3])` |\n",
    "\n",
    "Pour combiner des array, on peut utiliser, selon les cas,\n",
    "les fonctions `np.concatenate`, `np.vstack` ou la méthode `.r_` (concaténation *rowwise*).\n",
    "`np.hstack` ou la méthode `.column_stack` ou `.c_` (concaténation *column-wise*)"
   ]
  },
  {
   "cell_type": "code",
   "execution_count": 63,
   "id": "e5515ef1",
   "metadata": {},
   "outputs": [],
   "source": [
    "x = np.random.normal(size=10)\n"
   ]
  },
  {
   "cell_type": "markdown",
   "id": "07ba9f97-b621-471b-a4a0-c121611f2b04",
   "metadata": {},
   "source": [
    "Pour ordonner un array, on utilise `np.sort`"
   ]
  },
  {
   "cell_type": "code",
   "execution_count": 23,
   "id": "c9a517de",
   "metadata": {},
   "outputs": [
    {
     "data": {
      "text/plain": [
       "array([1, 2, 3, 4, 5, 6, 7])"
      ]
     },
     "execution_count": 23,
     "metadata": {},
     "output_type": "execute_result"
    }
   ],
   "source": [
    "x = np.array([7, 2, 3, 1, 6, 5, 4])\n",
    "\n",
    "np.sort(x)\n"
   ]
  },
  {
   "cell_type": "markdown",
   "id": "94ca6d0c-114c-4700-b89e-1fdbe98a033b",
   "metadata": {},
   "source": [
    "Si on désire faire un ré-ordonnement partiel pour trouver les *k* valeurs les plus petites d’un `array` sans les ordonner, on utilise `partition`:"
   ]
  },
  {
   "cell_type": "code",
   "execution_count": 24,
   "id": "08b7c990",
   "metadata": {},
   "outputs": [
    {
     "data": {
      "text/plain": [
       "array([2, 1, 3, 4, 6, 5, 7])"
      ]
     },
     "execution_count": 24,
     "metadata": {},
     "output_type": "execute_result"
    }
   ],
   "source": [
    "np.partition(x, 3)\n"
   ]
  },
  {
   "cell_type": "markdown",
   "id": "37cfe951-f661-4635-a299-50bf8b6b04d9",
   "metadata": {},
   "source": [
    "## 4.2 Statistiques sur un *array*\n",
    "\n",
    "Pour les statistiques descriptives classiques,\n",
    "`Numpy` propose un certain nombre de fonctions déjà implémentées,\n",
    "qui peuvent être combinées avec l’argument `axis`"
   ]
  },
  {
   "cell_type": "code",
   "execution_count": null,
   "id": "e162a06d",
   "metadata": {},
   "outputs": [
    {
     "name": "stdout",
     "output_type": "stream",
     "text": [
      "[[ 0.31431465  0.49678846  0.11745732  0.05179242]\n",
      " [-0.44578262  0.80628525 -0.41166924  0.97462235]\n",
      " [ 1.42239021 -1.74832139  0.59558052  0.03064624]]\n",
      "[ 1.29092224 -0.44524768  0.3013686   1.057061  ]\n",
      "2.204104159933052\n",
      "[0.98035284 0.92345573 0.30029558]\n",
      "2.2041041599330526\n"
     ]
    }
   ],
   "source": [
    "x = np.random.normal(0, size=(3, 4))\n",
    "print(x)\n",
    "\n",
    "print(np.sum(x,axis=0))\n",
    "print(np.sum(np.sum(x,axis=0)))\n",
    "\n",
    "print(np.sum(x,axis=1))\n",
    "print(np.sum(np.sum(x,axis=1)))\n",
    "\n",
    "np.sum(x)\n",
    "\n",
    "\n",
    "def statdesc(x):\n",
    "    moy = np.mean(x)\n",
    "    var = np.var(x)\n",
    "    print(\"moy : \", moy, \"\")\n"
   ]
  },
  {
   "cell_type": "markdown",
   "id": "7c32f7bf-9236-48a2-9075-65aadde4c5f4",
   "metadata": {},
   "source": [
    "<div class=\"alert alert-success\" role=\"alert\">\n",
    "<h3 class=\"alert-heading\"><i class=\"fa-solid fa-pencil\"></i> Exercice 5</h3>\n",
    "\n",
    "1.  Faire la somme de tous les éléments d’un `array`, des éléments en ligne et des éléments en colonne. Vérifier\n",
    "    la cohérence.\n",
    "2.  Ecrire une fonction `statdesc` pour renvoyer les valeurs suivantes : moyenne, médiane, écart-type, minimum et maximum.\n",
    "    L’appliquer sur `x` en jouant avec l’argument *axis*\n",
    "\n",
    "</div>\n",
    "\n",
    "# 5. *Broadcasting*\n",
    "\n",
    "Le *broadcasting* désigne un ensemble de règles permettant\n",
    "d’appliquer des opérations sur des tableaux de dimensions différentes. En pratique,\n",
    "cela consiste généralement à appliquer une seule opération à l’ensemble des membres d’un tableau `numpy`.\n",
    "\n",
    "La différence peut être comprise à partir de l’exemple suivant. Le *broadcasting* permet\n",
    "de transformer le scalaire `5` en *array* de dimension 3:"
   ]
  },
  {
   "cell_type": "code",
   "execution_count": 26,
   "id": "d39c83ac",
   "metadata": {},
   "outputs": [
    {
     "data": {
      "text/plain": [
       "array([5, 6, 7])"
      ]
     },
     "execution_count": 26,
     "metadata": {},
     "output_type": "execute_result"
    }
   ],
   "source": [
    "a = np.array([0, 1, 2])\n",
    "b = np.array([5, 5, 5])\n",
    "\n",
    "a + b\n",
    "a + 5\n"
   ]
  },
  {
   "cell_type": "markdown",
   "id": "cb10c0c3-be5f-49dd-96ee-002011eeb303",
   "metadata": {},
   "source": [
    "Le *broadcasting* peut être très pratique pour effectuer de manière efficace des opérations sur des données à\n",
    "la structure complexe. Pour plus de détails, se rendre\n",
    "[ici](https://jakevdp.github.io/PythonDataScienceHandbook/02.05-computation-on-arrays-broadcasting.html) ou [ici](https://stackoverflow.com/questions/47435526/what-is-the-meaning-of-axis-1-in-keras-argmax).\n",
    "\n",
    "## 5.1 Une application: programmer ses propres k-nearest neighbors\n",
    "\n",
    "<div class=\"alert alert-success\" role=\"alert\">\n",
    "<h3 class=\"alert-heading\"><i class=\"fa-solid fa-pencil\"></i> Exercice (un peu plus corsé)</h3>\n",
    "\n",
    "1.  Créer `X` un tableau à deux dimensions (i.e. une matrice) comportant 10 lignes\n",
    "    et 2 colonnes. Les nombres dans le tableau sont aléatoires.\n",
    "2.  Importer le module `matplotlib.pyplot` sous le nom `plt`. Utiliser\n",
    "    `plt.scatter` pour représenter les données sous forme de nuage de points.\n",
    "3.  Constuire une matrice 10x10 stockant, à l’élément $(i,j)$, la distance euclidienne entre les points $X[i,]$ et $X[j,]$. Pour cela, il va falloir jouer avec les dimensions en créant des tableaux emboîtés à partir par des appels à `np.newaxis` :\n",
    "\n",
    "-   En premier lieu, utiliser `X1 = X[:, np.newaxis, :]` pour transformer la matrice en tableau emboîté. Vérifier les dimensions\n",
    "-   Créer `X2` de dimension `(1, 10, 2)` à partir de la même logique\n",
    "-   En déduire, pour chaque point, la distance avec les autres points pour chaque coordonnées. Elever celle-ci au carré\n",
    "-   A ce stade, vous devriez avoir un tableau de dimension `(10, 10, 2)`. La réduction à une matrice s’obtient en sommant sur le dernier axe. Regarder dans l’aide de `np.sum` comme effectuer une somme sur le dernier axe.\n",
    "-   Enfin, appliquer la racine carrée pour obtenir une distance euclidienne en bonne et due forme.\n",
    "\n",
    "1.  Vérifier que les termes diagonaux sont bien nuls (distance d’un point à lui-même…)\n",
    "2.  Il s’agit maintenant de classer, pour chaque point, les points dont les valeurs sont les plus similaires. Utiliser `np.argsort` pour obtenir, pour chaque ligne, le classement des points les plus proches\n",
    "3.  On va s’intéresser aux k-plus proches voisins. Pour le moment, fixons k=2. Utiliser `argpartition` pour réordonner chaque ligne de manière à avoir les 2 plus proches voisins de chaque point d’abord et le reste de la ligne ensuite\n",
    "4.  Utiliser le morceau de code ci-dessous\n",
    "\n",
    "</div>"
   ]
  },
  {
   "cell_type": "markdown",
   "id": "b443f9c9-f535-479c-bc35-b5aa0f03ec26",
   "metadata": {},
   "source": [
    "<details><summary>Un indice pour représenter graphiquement les plus proches voisins</summary>\n",
    "\n",
    "``` python\n",
    "plt.scatter(X[:, 0], X[:, 1], s=100)\n",
    "\n",
    "# draw lines from each point to its two nearest neighbors\n",
    "K = 2\n",
    "\n",
    "for i in range(X.shape[0]):\n",
    "    for j in nearest_partition[i, : K + 1]:\n",
    "        # plot a line from X[i] to X[j]\n",
    "        # use some zip magic to make it happen:\n",
    "        plt.plot(*zip(X[j], X[i]), color=\"black\")\n",
    "```\n",
    "\n",
    "</details>"
   ]
  },
  {
   "cell_type": "markdown",
   "id": "8247b6ba-7361-4050-8c1e-1ddd1f5599a0",
   "metadata": {},
   "source": [
    "Pour la question 2, vous devriez obtenir un graphique ayant cet aspect\n",
    "\n",
    "For question 2, you should get a graph that looks like this:"
   ]
  },
  {
   "cell_type": "code",
   "execution_count": null,
   "id": "43101266",
   "metadata": {},
   "outputs": [],
   "source": []
  },
  {
   "cell_type": "markdown",
   "id": "d45fcb40-ed8a-4488-b9fb-6eaf5262b410",
   "metadata": {},
   "source": [
    "Le résultat de la question 7 est le suivant :"
   ]
  },
  {
   "cell_type": "code",
   "execution_count": null,
   "id": "f8154bd4",
   "metadata": {},
   "outputs": [],
   "source": []
  },
  {
   "cell_type": "markdown",
   "id": "3bcea4b2-89b4-4737-8407-3213a49c62fc",
   "metadata": {},
   "source": [
    "Ai-je inventé cet exercice corsé ? Pas du tout, il vient de l’ouvrage [*Python Data Science Handbook*](https://jakevdp.github.io/PythonDataScienceHandbook/02.08-sorting.html#Example:-k-Nearest-Neighbors). Mais, si je vous l’avais indiqué immédiatement, auriez-vous cherché à répondre aux questions ?\n",
    "\n",
    "Par ailleurs, il ne serait pas une bonne idée de généraliser cet algorithme à de grosses données. La complexité de notre approche est $O(N^2)$. L’algorithme implémenté par `Scikit-Learn` est\n",
    "en $O[NlogN]$.\n",
    "\n",
    "De plus, le calcul de distances matricielles en utilisant la puissance des cartes graphiques serait plus rapide. A cet égard, la librairie [faiss](https://github.com/facebookresearch/faiss) ou les *frameworks* spécialisés dans le calcul de distance entre des vecteurs à haute dimension comme [ChromaDB](https://www.trychroma.com/)\n",
    "offrent des performances beaucoup plus satisfaisantes que celles que permettraient `Numpy` sur ce problème précis.\n",
    "\n",
    "# 6. Exercices supplémentaires\n",
    "\n",
    "<div class=\"alert alert-success\" role=\"alert\">\n",
    "<h3 class=\"alert-heading\"><i class=\"fa-solid fa-pencil\"></i> Comprendre le principe de l’algorithme PageRank</h3>\n",
    "\n",
    "`Google` est devenu célèbre grâce à son algorithme `PageRank`. Celui-ci permet, à partir\n",
    "de liens entre sites *web*, de donner un score d’importance à un site *web* qui va\n",
    "être utilisé pour évaluer sa centralité dans un réseau.\n",
    "L’objectif de cet exercice est d’utiliser `Numpy` pour mettre en oeuvre un tel\n",
    "algorithme à partir d’une matrice d’adjacence qui relie les sites entre eux.\n",
    "\n",
    "1.  Créer la matrice suivante avec `numpy`. L’appeler `M`:\n",
    "\n",
    "$$\n",
    "\\begin{bmatrix}\n",
    "0 & 0 & 0 & 0 & 1 \\\\\n",
    "0.5 & 0 & 0 & 0 & 0 \\\\\n",
    "0.5 & 0 & 0 & 0 & 0 \\\\\n",
    "0 & 1 & 0.5 & 0 & 0 \\\\\n",
    "0 & 0 & 0.5 & 1 & 0\n",
    "\\end{bmatrix}\n",
    "$$\n",
    "\n",
    "1.  Pour représenter visuellement ce *web* minimaliste,\n",
    "    convertir en objet `networkx` (une librairie spécialisée\n",
    "    dans l’analyse de réseau) et utiliser la fonction `draw`\n",
    "    de ce package.\n",
    "\n",
    "Il s’agit de la transposée de la matrice d’adjacence\n",
    "qui permet de relier les sites entre eux. Par exemple,\n",
    "le site 1 (première colonne) est référencé par\n",
    "les sites 2 et 3. Celui-ci ne référence que le site 5.\n",
    "\n",
    "1.  A partir de la page wikipedia anglaise de `PageRank`, tester\n",
    "    sur votre matrice.\n",
    "\n",
    "</div>"
   ]
  },
  {
   "cell_type": "code",
   "execution_count": null,
   "id": "f2aa1623",
   "metadata": {},
   "outputs": [],
   "source": []
  },
  {
   "cell_type": "markdown",
   "id": "8483ea91-2555-4cfc-8a11-05b930db83b6",
   "metadata": {},
   "source": [
    "Le site 1 est assez central car il est référencé 2 fois. Le site\n",
    "5 est lui également central puisqu’il est référencé par le site 1."
   ]
  },
  {
   "cell_type": "code",
   "execution_count": null,
   "id": "a04b6b8f",
   "metadata": {},
   "outputs": [],
   "source": []
  }
 ],
 "metadata": {
  "kernelspec": {
   "display_name": "Python 3",
   "language": "python",
   "name": "python3"
  },
  "language_info": {
   "codemirror_mode": {
    "name": "ipython",
    "version": 3
   },
   "file_extension": ".py",
   "mimetype": "text/x-python",
   "name": "python",
   "nbconvert_exporter": "python",
   "pygments_lexer": "ipython3",
   "version": "3.8.10"
  }
 },
 "nbformat": 4,
 "nbformat_minor": 5
}
