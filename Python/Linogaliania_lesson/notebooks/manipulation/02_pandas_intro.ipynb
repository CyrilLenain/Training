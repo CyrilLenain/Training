{
  "cells": [
    {
      "cell_type": "markdown",
      "metadata": {},
      "source": [
        "# Introduction à Pandas\n",
        "\n",
        "Lino Galiana  \n",
        "2024-10-31\n",
        "\n",
        "<div class=\"badge-container\"><div class=\"badge-text\">Pour essayer les exemples présents dans ce tutoriel :</div><a href=\"https://github.com/linogaliana/python-datascientist-notebooks/blob/main/notebooks/manipulation/02_pandas_intro.ipynb\" target=\"_blank\" rel=\"noopener\"><img src=\"https://img.shields.io/static/v1?logo=github&label=&message=View%20on%20GitHub&color=181717\" alt=\"View on GitHub\"></a>\n",
        "<a href=\"https://datalab.sspcloud.fr/launcher/ide/vscode-python?autoLaunch=true&name=«02_pandas_intro»&init.personalInit=«https%3A%2F%2Fraw.githubusercontent.com%2Flinogaliana%2Fpython-datascientist%2Fmain%2Fsspcloud%2Finit-vscode.sh»&init.personalInitArgs=«manipulation%2002_pandas_intro%20correction»\" target=\"_blank\" rel=\"noopener\"><img src=\"https://img.shields.io/badge/SSP%20Cloud-Lancer_avec_VSCode-blue?logo=visualstudiocode&logoColor=blue\" alt=\"Onyxia\"></a>\n",
        "<a href=\"https://datalab.sspcloud.fr/launcher/ide/jupyter-python?autoLaunch=true&name=«02_pandas_intro»&init.personalInit=«https%3A%2F%2Fraw.githubusercontent.com%2Flinogaliana%2Fpython-datascientist%2Fmain%2Fsspcloud%2Finit-jupyter.sh»&init.personalInitArgs=«manipulation%2002_pandas_intro%20correction»\" target=\"_blank\" rel=\"noopener\"><img src=\"https://img.shields.io/badge/SSP%20Cloud-Lancer_avec_Jupyter-orange?logo=Jupyter&logoColor=orange\" alt=\"Onyxia\"></a>\n",
        "<a href=\"https://colab.research.google.com/github/linogaliana/python-datascientist-notebooks//blob/main//notebooks/manipulation/02_pandas_intro.ipynb\" target=\"_blank\" rel=\"noopener\"><img src=\"https://colab.research.google.com/assets/colab-badge.svg\" alt=\"Open In Colab\"></a><br></div>\n",
        "\n",
        "<div class=\"alert alert-info\" role=\"alert\">\n",
        "<h3 class=\"alert-heading\">Version 🇫🇷</h3>\n",
        "This is the French version 🇫🇷 of that chapter,to see the English version go <a href=\"https://pythonds.linogaliana.fr/content/manipulation/02_pandas_intro.html\">there</a>\n",
        "</div>\n",
        "\n",
        "<div class=\"alert alert-success\" role=\"alert\">\n",
        "<h3 class=\"alert-heading\"><i class=\"fa-solid fa-lightbulb\"></i> Compétences à l’issue de ce chapitre</h3>\n",
        "\n",
        "-   Importer un jeu de données sous forme de *dataframe* `Pandas` et explorer sa structure ;\n",
        "-   Effectuer des manipulations sur les colonnes et les lignes ;\n",
        "-   Construire des statistiques agrégées et chaîner les opérations ;\n",
        "-   Utiliser les méthodes graphiques de `Pandas` pour se représenter rapidement la distribution des données.\n",
        "\n",
        "</div>\n",
        "\n",
        "# 1. Introduction\n",
        "\n",
        "Le *package* `Pandas` est l’une des briques centrales de l’écosystème de\n",
        "la *data science* depuis une dizaine d’années. Le *DataFrame*,\n",
        "objet central dans des langages comme `R`\n",
        "ou `Stata`, a longtemps était un grand absent dans l’écosystème `Python`.\n",
        "Pourtant, grâce à `Numpy`, toutes les briques de base étaient présentes\n",
        "mais méritaient d’être réagencées pour convenir aux besoins\n",
        "des *data scientists*.\n",
        "\n",
        "Wes McKinney, lorsqu’il a construit `Pandas`\n",
        "pour proposer un *dataframe* s’appuyant, en arrière-plan, sur la librairie\n",
        "de calcul numérique `Numpy`, a permis un grand bond en avant pour `Python`\n",
        "dans l’analyse de données qui explique sa popularité dans l’écosystème\n",
        "de la *data science*. `Pandas` n’est pas sans limite[1], nous aurons l’occasion\n",
        "d’en évoquer quelques unes, mais la grande richesse des méthodes d’analyses\n",
        "proposées simplifie énormément le travail d’analyse de données.\n",
        "Pour en savoir plus sur ce *package*, l’ouvrage\n",
        "de référence de McKinney (2012) présente de nombreuses fonctionnalités du *package*.\n",
        "\n",
        "Nous nous concentrerons dans ce chapitre sur les éléments les plus pertinents\n",
        "dans le cadre d’une introduction à la *data science* et laisserons\n",
        "les utilisateurs intéressés approfondir leurs connaissances\n",
        "dans les ressources foisonnantes qu’il existe sur le sujet.\n",
        "\n",
        "Comme les jeux de données prennent généralement de la valeur\n",
        "en associant plusieurs sources, par exemple pour mettre en relation\n",
        "un enregistrement avec une donnée contextuelle ou pour lier deux bases\n",
        "clients afin d’avoir une donnée faisant sens, le chapitre suivant présentera\n",
        "la manière d’associer des jeux de données\n",
        "différents avec `Pandas`.\n",
        "A l’issue du chapitre suivant, grâce à des croisements\n",
        "de données, nous diposerons d’une base fine sur les empreintes\n",
        "carbone des Français[2].\n",
        "\n",
        "## 1.1 Données\n",
        "\n",
        "Dans ce tutoriel `Pandas`, nous allons utiliser :\n",
        "\n",
        "-   Les émissions de gaz à effet de serre estimées au niveau communal par l’ADEME. Le jeu de données est\n",
        "    disponible sur [data.gouv](https://www.data.gouv.fr/fr/datasets/inventaire-de-gaz-a-effet-de-serre-territorialise/#_)\n",
        "    et requêtable directement dans `Python` avec\n",
        "    [cet url](https://koumoul.com/s/data-fair/api/v1/datasets/igt-pouvoir-de-rechauffement-global/convert) ;\n",
        "\n",
        "Le [chapitre suivant](../../content/manipulation/02_pandas_suite.qmd) permettra de mettre en application des éléments présents dans ce chapitre avec\n",
        "les données ci-dessus associées à des données de contexte au niveau communal.\n",
        "\n",
        "## 1.2 Environnement\n",
        "\n",
        "Nous suivrons les conventions habituelles dans l’import des packages :\n",
        "\n",
        "[1] The equivalent ecosystem in `R`, the [`tidyverse`](https://www.tidyverse.org/), developed by *Posit*, is of more recent design than `Pandas`. Its philosophy could thus draw inspiration from `Pandas` while addressing some limitations of the `Pandas` syntax. Since both syntaxes are an implementation in `Python` or `R` of the `SQL` philosophy, it is natural that they resemble each other and that it is pertinent for data scientists to know both languages.\n",
        "\n",
        "[2] Actually, it is not the carbon footprint but the **national inventory** since the database corresponds to a production view, not consumption. Emissions made in one municipality to satisfy the consumption of another will be attributed to the former where the carbon footprint concept would attribute it to the latter. Moreover, the emissions presented here do not include those produced by goods made abroad. This exercise is not about constructing a reliable statistic but rather understanding the logic of data merging to construct descriptive statistics."
      ],
      "id": "cb9703bb-006b-4840-9573-6cc5e7a66636"
    },
    {
      "cell_type": "code",
      "execution_count": 1,
      "metadata": {},
      "outputs": [],
      "source": [
        "import numpy as np\n",
        "import pandas as pd\n",
        "import matplotlib.pyplot as plt\n"
      ],
      "id": "dd28dfb0"
    },
    {
      "cell_type": "markdown",
      "metadata": {},
      "source": [
        "Pour obtenir des résultats reproductibles, on peut fixer la racine du générateur\n",
        "pseudo-aléatoire."
      ],
      "id": "a48d9035-fb9e-4892-b499-820542d8531a"
    },
    {
      "cell_type": "code",
      "execution_count": 2,
      "metadata": {},
      "outputs": [],
      "source": [
        "np.random.seed(123)\n"
      ],
      "id": "8a62295b"
    },
    {
      "cell_type": "markdown",
      "metadata": {},
      "source": [
        "Au cours de cette démonstration des principales fonctionalités de `Pandas`, et\n",
        "lors du chapitre suivant,\n",
        "je recommande de se référer régulièrement aux ressources suivantes :\n",
        "\n",
        "-   L’[aide officielle de `Pandas`](https://pandas.pydata.org/docs/user_guide/index.html).\n",
        "    Notamment, la\n",
        "    [page de comparaison des langages](https://pandas.pydata.org/pandas-docs/stable/getting_started/comparison/index.html)\n",
        "    qui est très utile ;\n",
        "-   [Ce tutoriel](https://observablehq.com/@observablehq/data-wrangling-translations),\n",
        "    pensé certes pour les utilisateurs d’[`Observable Javascript`](https://observablehq.com),\n",
        "    mais qui offre de nombreux exemples intéressants pour les afficionados de `Pandas` ;\n",
        "-   La *cheatsheet suivante*, [issue de ce post](https://becominghuman.ai/cheat-sheets-for-ai-neural-networks-machine-learning-deep-learning-big-data-678c51b4b463)\n",
        "\n",
        "Pour rappel, afin d’exécuter les exemples de code dans un *notebook* interactif, vous pouvez utiliser les raccourcis en haut de la page pour lancer celui-ci dans votre environnement de prédilection.\n",
        "\n",
        "# 2. Logique de `Pandas`\n",
        "\n",
        "## 2.1 Anatomie d’une table `Pandas`\n",
        "\n",
        "L’objet central dans la logique `Pandas` est le `DataFrame`.\n",
        "Il s’agit d’une structure particulière de données\n",
        "à deux dimensions, structurées en alignant des lignes et colonnes.\n",
        "Contrairement à une matrice, les colonnes\n",
        "peuvent être de types différents.\n",
        "\n",
        "Un `DataFrame` est composé des éléments suivants :\n",
        "\n",
        "-   l’indice de la ligne ;\n",
        "-   le nom de la colonne ;\n",
        "-   la valeur de la donnée ;\n",
        "\n",
        "<figure>\n",
        "<img src=\"https://minio.lab.sspcloud.fr/lgaliana/python-ENSAE/inputs/merge_pandas/pandasDF.png\" alt=\"Structuration d’un DataFrame Pandas, empruntée à https://x.com/epfl_exts/status/997506000600084480\" />\n",
        "<figcaption aria-hidden=\"true\">Structuration d’un <em>DataFrame</em> <code>Pandas</code>,\n",
        "empruntée à <a href=\"https://x.com/epfl_exts/status/997506000600084480\" class=\"uri\">https://x.com/epfl_exts/status/997506000600084480</a></figcaption>\n",
        "</figure>\n",
        "\n",
        "## 2.2 Avant le `DataFrame`, la `Serie`\n",
        "\n",
        "En fait, un *DataFrame* est une collection d’objets appelés `pandas.Series`.\n",
        "Ces `Series` sont des objets d’une dimension qui sont des extensions des\n",
        "array-unidimensionnels `Numpy`[1]. En particulier, pour faciliter le traitement\n",
        "de données catégorielles ou temporelles, des types de variables\n",
        "supplémentaires sont disponibles dans `Pandas` par rapport à\n",
        "`Numpy` (`categorical`, `datetime64` et `timedelta64`). Ces\n",
        "types sont associés à des méthodes optimisées pour faciliter le traitement\n",
        "de ces données.\n",
        "\n",
        "Il existe plusieurs types possibles pour un `pandas.Series`, extension des types de données de base en `Python` qui détermineront ensuite le comportement de cette variable. En effet, de nombreuses opérations n’ont pas le même sens selon qu’on a une valeur numérique ou non.\n",
        "\n",
        "Les types les plus simples (`int` ou `float`) correspondent aux valeurs numériques:\n",
        "\n",
        "[1] The original goal of `Pandas` is to provide a high-level library for more abstract low-level layers, such as `Numpy` arrays. `Pandas` is gradually changing these low-level layers to favor `Arrow` over `Numpy` without destabilizing the high-level commands familiar to `Pandas` users. This shift is due to the fact that `Arrow`, a low-level computation library, is more powerful and flexible than `Numpy`. For example, `Numpy` offers limited textual types, whereas `Arrow` provides greater freedom."
      ],
      "id": "d0b70e69-8027-4901-b1f1-43b72d3c745a"
    },
    {
      "cell_type": "code",
      "execution_count": 3,
      "metadata": {},
      "outputs": [
        {
          "output_type": "display_data",
          "metadata": {},
          "data": {
            "text/plain": [
              "0     3\n",
              "1     7\n",
              "2    12\n",
              "dtype: int64"
            ]
          }
        }
      ],
      "source": [
        "poids = pd.Series([3, 7, 12])\n",
        "poids\n"
      ],
      "id": "4c9b87a0"
    },
    {
      "cell_type": "markdown",
      "metadata": {},
      "source": [
        "<div class=\"alert alert-danger\" role=\"alert\">\n",
        "<h3 class=\"alert-heading\"><i class=\"fa-solid fa-triangle-exclamation\"></i> Attention aux valeurs manquantes !</h3>\n",
        "\n",
        "De manière générale, si `Pandas` détecte exclusivement des valeurs entières dans une variable, il utilisera le type `int` pour optimiser la mémoire. Ce choix fait sens. Il a néanmoins un inconvénient: `Numpy`, et donc par extension `Pandas`, ne sait se représenter des valeurs manquantes pour le type `int` (plus d’éléments sur les valeurs manquantes ci-dessous).\n",
        "\n",
        "En attendant le changement de couche basse en faveur d’`Arrow`, qui lui sait gérer les valeurs manquantes dans les `int`, la méthode à mettre en oeuvre est de convertir au type `float` si la variable sera amenée à avoir des valeurs manquantes, ce qui est assez simple:\n",
        "\n",
        "</div>\n",
        "\n",
        "Pour des données textuelles, c’est tout aussi simple:"
      ],
      "id": "df167fce-f2e2-4cfc-b486-ea633831e480"
    },
    {
      "cell_type": "code",
      "execution_count": 4,
      "metadata": {},
      "outputs": [
        {
          "output_type": "display_data",
          "metadata": {},
          "data": {
            "text/plain": [
              "0     chat\n",
              "1    chien\n",
              "2    koala\n",
              "dtype: object"
            ]
          }
        }
      ],
      "source": [
        "animal = pd.Series([\"chat\", \"chien\", \"koala\"])\n",
        "animal\n"
      ],
      "id": "e2b90fae"
    },
    {
      "cell_type": "markdown",
      "metadata": {},
      "source": [
        "Le type `object` correspond est une voiture-balais pour les types de données exclusivement textuelles (type `str`) ou mélangeant données textuelles et numériques (type `mixed`). Historiquement, c’était un type intermédiaire entre le `factor` et le `character` de `R`. Cependant, depuis quelques temps, il existe un type équivalent au `factor` de `R` dans `Pandas` pour\n",
        "les variables dont le nombre de valeurs\n",
        "est une liste finie et relativement courte, le type `category`. Le type `object` pouvant provoquer des erreurs inattendues par sa nature mixte, il est recommandé, lorsqu’on désire se concentrer sur une variable, de faire un choix sur la nature de celle-ci et de la convertir:"
      ],
      "id": "fc73f115-01b2-41aa-b281-5f77ccea453b"
    },
    {
      "cell_type": "code",
      "execution_count": 5,
      "metadata": {},
      "outputs": [
        {
          "output_type": "display_data",
          "metadata": {},
          "data": {
            "text/plain": [
              "0     chat\n",
              "1    chien\n",
              "2    koala\n",
              "dtype: object"
            ]
          }
        }
      ],
      "source": [
        "animal.astype(\"category\")\n",
        "animal.astype(str)"
      ],
      "id": "53c757a6"
    },
    {
      "cell_type": "markdown",
      "metadata": {},
      "source": [
        "Il faut bien examiner les types de ses objets `Pandas` et les convertir s’ils ne font pas sens ; `Pandas` fait certes des choix optimisés mais il est parfois nécessaire de les corriger car `Pandas` ne connaît pas vos usages ultérieurs des données. C’est l’une des opérations à faire lors\n",
        "du *feature engineering*, ensemble des étapes de préparation des données pour un usage ultérieur.\n",
        "\n",
        "# 3. De la `Serie` au `DataFrame`\n",
        "\n",
        "Nous avons crée deux séries indépendantes, `animal`\n",
        "et `poids` qui sont pourtant reliées. Dans le monde matriciel, cela correspondrait à passer du vecteur à la matrice. Dans le monde de `Pandas`, cela veut dire passer de la `Serie` au `DataFrame`.\n",
        "\n",
        "Cela se fait naturellement avec `Pandas`:"
      ],
      "id": "af702845-8c35-44a2-8b86-90a56b39747f"
    },
    {
      "cell_type": "code",
      "execution_count": 6,
      "metadata": {},
      "outputs": [
        {
          "output_type": "display_data",
          "metadata": {},
          "data": {
            "text/html": [
              "\n",
              "</div>"
            ]
          }
        }
      ],
      "source": [
        "animaux = pd.DataFrame(zip(animal, poids), columns=[\"animal\", \"poids\"])\n",
        "animaux"
      ],
      "id": "58fcfd42"
    },
    {
      "cell_type": "markdown",
      "metadata": {},
      "source": [
        "1.  On doit utiliser `zip` ici car `Pandas` attend une structure du type `{\"var1\": [val1, val2], \"var2\": [val1, val2]}` qui n’est pas celle que nous avons préparé précédemment. Nous verrons néanmoins que cette approche n’est pas la plus usuelle pour créer un `DataFrame`\n",
        "\n",
        "## 3.1 L’indexation\n",
        "\n",
        "La différence essentielle entre une `Series` et un objet `Numpy` est l’indexation.\n",
        "Dans `Numpy`,\n",
        "l’indexation est implicite ; elle permet d’accéder à une donnée (celle à\n",
        "l’index situé à la position *i*).\n",
        "Avec une `Series`, on peut bien sûr utiliser un indice de position mais on peut\n",
        "surtout faire appel à des indices plus explicites.\n",
        "\n",
        "Ceci permet d’accéder à la donnée de manière plus naturelle, en utilisant les noms de colonne par exemple:"
      ],
      "id": "f72eb2e0-7022-4c82-9476-c183676eec50"
    },
    {
      "cell_type": "code",
      "execution_count": 7,
      "metadata": {},
      "outputs": [
        {
          "output_type": "display_data",
          "metadata": {},
          "data": {
            "text/plain": [
              "0     3\n",
              "1     7\n",
              "2    12\n",
              "Name: poids, dtype: int64"
            ]
          }
        }
      ],
      "source": [
        "animaux[\"poids\"]\n"
      ],
      "id": "436ce5c4"
    },
    {
      "cell_type": "markdown",
      "metadata": {},
      "source": [
        "L’existence d’indice rend le *subsetting*, c’est-à-dire\n",
        "la sélection de lignes ou de colonnes, particulièrement aisé. Les *DataFrames* pendant présentent deux indices: ceux des lignes et ceux des colonnes. On pourra faire des sélections sur ces deux dimensions.\n",
        "En anticipant sur les exercices\n",
        "ultérieurs, on peut voir que cela va nous faciliter la sélection de ligne:"
      ],
      "id": "c4f10414-2ef9-41f3-b1df-740de78c38de"
    },
    {
      "cell_type": "code",
      "execution_count": 8,
      "metadata": {},
      "outputs": [
        {
          "output_type": "display_data",
          "metadata": {},
          "data": {
            "text/plain": [
              "0    3\n",
              "Name: poids, dtype: int64"
            ]
          }
        }
      ],
      "source": [
        "animaux.loc[animaux[\"animal\"] == \"chat\", \"poids\"]\n"
      ],
      "id": "06560287"
    },
    {
      "cell_type": "markdown",
      "metadata": {},
      "source": [
        "Cette instruction est équivalente à la commande `SQL`:\n",
        "\n",
        "``` sql\n",
        "SELECT poids FROM animaux WHERE animal == \"chat\"\n",
        "```\n",
        "\n",
        "Si on revient sur notre jeu de données `animaux`,\n",
        "on peut voir sur la gauche l’affichage du numéro de la ligne:"
      ],
      "id": "14e47ca3-16c2-4045-9eea-d31b6da5b072"
    },
    {
      "cell_type": "code",
      "execution_count": 9,
      "metadata": {},
      "outputs": [
        {
          "output_type": "display_data",
          "metadata": {},
          "data": {
            "text/html": [
              "\n",
              "</div>"
            ]
          }
        }
      ],
      "source": [
        "animaux\n"
      ],
      "id": "8f3c6ab1"
    },
    {
      "cell_type": "markdown",
      "metadata": {},
      "source": [
        "Il s’agit de l’indice par défaut pour la dimension ligne car nous n’en n’avons pas configuré un. Ce n’est pas obligatoire, il est tout à fait possible d’avoir un indice correspondant à une variable d’intérêt (nous découvrirons cela lorsque nous explorerons `groupby` dans le prochain chapitre). Cependant, cela peut être piégeux et il est recommandé que cela ne soit que transitoire, d’où l’intérêt de faire régulièrement des `reset_index`.\n",
        "\n",
        "## 3.2 Le concept de *tidy data*\n",
        "\n",
        "Le concept de ***tidy*** data, popularisé par Hadley Wickham via ses packages `R` (voir Wickham, Çetinkaya-Rundel, et Grolemund (2023)),\n",
        "est parfaitement pertinent pour décrire la structure d’un *DataFrame* `Pandas`.\n",
        "Les trois règles des données *tidy* sont les suivantes :\n",
        "\n",
        "-   Chaque **variable** possède sa propre colonne ;\n",
        "-   Chaque **observation** possède sa propre ligne ;\n",
        "-   Une **valeur**, matérialisant une observation d’une variable,\n",
        "    se trouve sur une unique cellule.\n",
        "\n",
        "<figure>\n",
        "<img src=\"https://d33wubrfki0l68.cloudfront.net/6f1ddb544fc5c69a2478e444ab8112fb0eea23f8/91adc/images/tidy-1.png\" alt=\"Illustration du concept de tidy data (emprunté à H. Wickham)\" />\n",
        "<figcaption aria-hidden=\"true\">Illustration du concept de <em>tidy data</em> (emprunté à H. Wickham)</figcaption>\n",
        "</figure>\n",
        "\n",
        "Ces principes peuvent vous apparaître de bon sens mais vous découvrirez que de nombreux formats de données ne correspondent pas à ce principe. Par exemple, des tableurs Excel proposent régulièrement des valeurs à cheval sur plusieurs colonnes ou plusieurs lignes fusionnées. Restructurer cette donnée selon le principe des *tidy data* sera un enjeu pour être en mesure d’effectuer des traitements sur celle-ci.\n",
        "\n",
        "# 4. Importer des données avec `Pandas`\n",
        "\n",
        "S’il fallait créer à la main tous ses *DataFrames*\n",
        "à partir de vecteurs, `Pandas` ne serait pas pratique. `Pandas` propose de nombreuses fonctions pour lire\n",
        "des données stockées dans des formats différents.\n",
        "\n",
        "Les données les plus simples à lire sont les données tabulaires stockées dans un format adéquat. Les deux principaux formats à connaître sont le `CSV` et le format `Parquet`. Le premier présente l’avantage de la simplicité - il est universel, connu de tous et est lisible par n’importe quel éditeur de texte. Le second gagne en popularité dans l’écosystème de la donnée, car il règle certaines limites du CSV (stockage optimisé, types des variables prédéfénis…) mais présente l’inconvénient de ne pas être lisible sans un outil adéquat (qui heureusement sont de plus en plus présents dans les éditeurs de code standard comme `VSCode`). Pour en savoir plus sur la différence entre `CSV` et `Parquet`, se reporter aux [chapitre d’approfondissement](../../content/modern-ds/s3.qmd) sur le sujet.\n",
        "\n",
        "Les donées stockées dans les autres formats textes dérivés du `CSV` (`.txt`, `.tsv`…) ou les formats type `JSON` sont lisibles avec `Pandas` mais il faut parfois itérer pour trouver les bons paramètres de lecture. Nous découvrirons dans d’autres chapitres que d’autres formats de données liés à des structures de données différentes sont tout aussi lisibles avec `Python`.\n",
        "\n",
        "Les formats plats (`.csv`, `.txt`…) et le format `Parquet` sont simples à utiliser avec `Pandas` parce que d’une part ils ne sont pas propriétaires et d’autre part ils stockent la donnée sous\n",
        "une forme *tidy*. Les données issues de tableurs, `Excel` ou `LibreOffice`, sont plus ou moins compliquées\n",
        "à importer selon qu’elles suivent ce schéma ou non.\n",
        "Cela vient du fait que ces outils sont utilisés à tord et à travers. Alors que dans le monde de la *data science* ceux-ci devraient servir principalement à diffuser des tableaux finaux pour du *reporting*, ils servent souvent à diffuser une donnée brute qui pourrait l’être par des canaux plus adaptés.\n",
        "L’une des principales difficultés liées aux tableurs vient du fait que les données sont généralement associées à de la documentation dans le même onglet - par exemple le tableur comporte quelques lignes décrivant les sources avant le tableau - ce qui nécessite de l’intelligence humaine pour assister `Pandas` lors de la phase d’import. Celle-ci sera toujours possible mais lorsqu’il existe une alternative sous forme de fichier plat, il n’y a pas d’hésitation à avoir.\n",
        "\n",
        "## 4.1 Lire des données depuis un chemin local\n",
        "\n",
        "Cet exercice vise à présenter l’intérêt d’utiliser un chemin relatif\n",
        "plutôt qu’un chemin absolu pour favoriser la reproductibilité du code. Nous préconiserons néanmoins par la suite de privilégier directement la lecture depuis internet lorsqu’elle est possible et n’implique pas le téléchargement récurrent d’un fichier volumineux.\n",
        "\n",
        "Pour préparer cet exercice, le code suivant permettra de\n",
        "télécharger des données qu’on va écrire en local"
      ],
      "id": "769afc05-036d-42a7-9897-29d1fae6df39"
    },
    {
      "cell_type": "code",
      "execution_count": 11,
      "metadata": {},
      "outputs": [
        {
          "output_type": "stream",
          "name": "stdout",
          "text": [
            "Error : ('Connection aborted.', ConnectionResetError(104, 'Connection reset by peer'))"
          ]
        }
      ],
      "source": [
        "import requests\n",
        "\n",
        "url = \"https://www.insee.fr/fr/statistiques/fichier/6800675/v_commune_2023.csv\"\n",
        "url_backup = \"https://minio.lab.sspcloud.fr/lgaliana/data/python-ENSAE/cog_2023.csv\"\n",
        "\n",
        "try:\n",
        "    response = requests.get(url)\n",
        "except requests.exceptions.RequestException as e:\n",
        "    print(f\"Error : {e}\")\n",
        "    response = requests.get(url_backup)\n",
        "\n",
        "# Only download if one of the request succeeded\n",
        "if response.status_code == 200:\n",
        "    with open(\"cog_2023.csv\", \"wb\") as file:\n",
        "        file.write(response.content)\n"
      ],
      "id": "0e90d610"
    },
    {
      "cell_type": "markdown",
      "metadata": {},
      "source": [
        "<div class=\"alert alert-success\" role=\"alert\">\n",
        "<h3 class=\"alert-heading\"><i class=\"fa-solid fa-pencil\"></i> Exercice préliminaire: Importer un CSV (optionnel)</h3>\n",
        "\n",
        "1.  Utiliser le code ci-dessus ☝️ pour télécharger les données. Utiliser `Pandas` pour lire le fichier téléchargé.\n",
        "2.  Chercher où les données ont été écrites. Observer la structure de ce dossier.\n",
        "3.  Créer un dossier depuis l’explorateur de fichiers (à gauche dans `Jupyter` ou `VSCode`). Déplacer le CSV et le *notebook*. Redémarrer le kernel et adaptez votre code si besoin. Refaire cette manipulation plusieurs fois avec des dossiers différents. Quel peut être le problème rencontré ?\n",
        "\n",
        "</div>"
      ],
      "id": "e37bb218-688e-4066-bb50-49323f288855"
    },
    {
      "cell_type": "code",
      "execution_count": 12,
      "metadata": {},
      "outputs": [
        {
          "output_type": "display_data",
          "metadata": {},
          "data": {
            "text/html": [
              "\n",
              "</div>"
            ]
          }
        }
      ],
      "source": [],
      "id": "4e6171d5"
    },
    {
      "cell_type": "markdown",
      "metadata": {},
      "source": [
        "Le principal problème de la lecture depuis des\n",
        "fichiers stockés en local est le risque de\n",
        "se rendre adhérant à un système de fichier\n",
        "qui n’est pas forcément partagé. Il vaut mieux,\n",
        "lorsque c’est possible, directement lire la donnée\n",
        "avec un lien `HTTPS`, ce que `Pandas` sait faire.\n",
        "De plus, lorsqu’on travaille sur de l’*open data* cela assure qu’on utilise la dernière donnée\n",
        "disponible et non une duplication en local qui peut ne pas être à jour.\n",
        "\n",
        "## 4.2 Lecture depuis un CSV disponible sur internet\n",
        "\n",
        "L’URL d’accès aux données peut être conservé dans une variable *ad hoc* :"
      ],
      "id": "a756c3ff-2e06-461d-b5ec-77467099ede6"
    },
    {
      "cell_type": "code",
      "execution_count": 17,
      "metadata": {},
      "outputs": [],
      "source": [
        "url = \"https://koumoul.com/s/data-fair/api/v1/datasets/igt-pouvoir-de-rechauffement-global/convert\"\n"
      ],
      "id": "2d918394"
    },
    {
      "cell_type": "markdown",
      "metadata": {},
      "source": [
        "L’objectif du prochain exercice est de se familiariser à l’import et l’affichage de données\n",
        "avec `Pandas` et à l’affichage de quelques observations.\n",
        "\n",
        "<div class=\"alert alert-success\" role=\"alert\">\n",
        "<h3 class=\"alert-heading\"><i class=\"fa-solid fa-pencil\"></i> Exercice 1: Importer un CSV et explorer la structure de données</h3>\n",
        "\n",
        "1.  Importer les données de l’Ademe à l’aide du package `Pandas` et de la commande consacrée pour l’import de csv. Nommer le `DataFrame` obtenu `emissions`[1].\n",
        "2.  Utiliser les méthodes adéquates afin d’afficher pour les 10 premières valeurs, les 15 dernières et un échantillon aléatoire de 10 valeurs grâce aux méthodes adéquates du *package* `Pandas`.\n",
        "3.  Tirer 5 pourcents de l’échantillon sans remise.\n",
        "4.  Ne conserver que les 10 premières lignes et tirer aléatoirement dans celles-ci pour obtenir un DataFrame de 100 données.\n",
        "5.  Faire 100 tirages à partir des 6 premières lignes avec une probabilité de 1/2 pour la première observation et une probabilité uniforme pour les autres.\n",
        "\n",
        "<details>\n",
        "\n",
        "<summary>\n",
        "\n",
        "En cas de blocage à la question 1\n",
        "\n",
        "</summary>\n",
        "\n",
        "Lire la documentation de `read_csv` (très bien faite) ou chercher des exemples\n",
        "en ligne pour découvrir cette fonction.\n",
        "\n",
        "</details>\n",
        "\n",
        "</div>\n",
        "\n",
        "Comme l’illustre cet exercice, l’affichage des *DataFrames* dans les *notebooks* est assez ergonomique.\n",
        "Les premières et dernières lignes s’affichent\n",
        "automatiquement. Pour des tables de valorisation présentes dans un\n",
        "rapport ou un article de recherche, le chapitre suivant\n",
        "présente `great_tables` qui offre de très riches\n",
        "fonctionnalités de mise en forme des tableaux.\n",
        "\n",
        "<div class=\"alert alert-danger\" role=\"alert\">\n",
        "<h3 class=\"alert-heading\"><i class=\"fa-solid fa-triangle-exclamation\"></i> Warning</h3>\n",
        "\n",
        "Il faut faire attention au `display` et aux\n",
        "commandes qui révèlent des données (`head`, `tail`, etc.)\n",
        "dans un *notebook* qui exploite\n",
        "des données confidentielles lorsqu’on utilise\n",
        "le logiciel de contrôle de version `Git` (cf. chapitres dédiés).\n",
        "\n",
        "En effet, on peut se\n",
        "retrouver à partager des données, involontairement, dans l’historique\n",
        "`Git`. Comme cela sera expliqué dans le chapitre dédié à `Git`,\n",
        "un fichier, nommé le `.gitignore`, suffit pour créer quelques règles\n",
        "évitant le partage involontaire de données avec `Git`.\n",
        "\n",
        "</div>\n",
        "\n",
        "# 5. Explorer la structure d’un *DataFrame*\n",
        "\n",
        "`Pandas` propose donc un schéma de données assez familier aux utilisateurs\n",
        "de logiciels statistiques comme `R`. A l’instar des\n",
        "principaux paradigmes de traitement de la données comme le *tidyverse* (`R`),\n",
        "la grammaire de `Pandas` est héritière de la logique `SQL`.\n",
        "La philosophie est très proche : on effectue des opérations\n",
        "de sélection de ligne, de colonne, des tris de ligne en fonction\n",
        "de valeurs de certaines colonnes, des traitements standardisés sur des\n",
        "variables, etc. De manière générale, on privilégie les traitements\n",
        "faisant appel à des noms de variables à des numéros de ligne ou de\n",
        "colonne.\n",
        "\n",
        "Que vous soyez familiers de `SQL` ou de `R`, vous retrouverez une logique\n",
        "similaire à celle que vous connaissez quoique les noms puissent diverger:\n",
        "`df.loc[df['y']=='b']` s’écrira peut-être `df %>% filter(y=='b')` (`R`)\n",
        "ou `SELECT * FROM df WHERE y == 'b'` (`SQL`) mais la logique\n",
        "est la même.\n",
        "\n",
        "`Pandas` propose énormément de fonctionnalités pré-implémentées.\n",
        "Il est vivement recommandé, avant de se lancer dans l’écriture d’une\n",
        "fonction, de se poser la question de son implémentation native dans `Numpy`, `Pandas`, etc.\n",
        "La plupart du temps, s’il existe une solution implémentée dans une librairie, il convient\n",
        "de l’utiliser car elle sera plus efficace que celle que vous mettrez en oeuvre.\n",
        "\n",
        "Pour présenter les méthodes les plus pratiques pour l’analyse de données,\n",
        "on peut partir de l’exemple des consommations de CO2 communales issues\n",
        "des données de l’Ademe auquel les exercices précédents\n",
        "étaient dédiés.\n",
        "\n",
        "[1] Due to a lack of imagination, we are often tempted to call our main *dataframe* `df` or `data`. This is often a bad idea because the name is not very informative when you read the code a few weeks later. Self-documenting code, an approach that consists of having code that is self-explanatory, is a good practice, and it is recommended to give a simple yet effective name to know the nature of the dataset in question."
      ],
      "id": "60e88b67-9966-4af7-9a9a-0d518c29a964"
    },
    {
      "cell_type": "code",
      "execution_count": 21,
      "metadata": {},
      "outputs": [
        {
          "output_type": "display_data",
          "metadata": {},
          "data": {
            "text/html": [
              "\n",
              "<p>35798 rows × 12 columns</p>\n",
              "</div>"
            ]
          }
        }
      ],
      "source": [
        "df = pd.read_csv(\n",
        "    \"https://koumoul.com/s/data-fair/api/v1/datasets/igt-pouvoir-de-rechauffement-global/convert\"\n",
        ")\n",
        "df\n"
      ],
      "id": "216d0e79"
    },
    {
      "cell_type": "markdown",
      "metadata": {},
      "source": [
        "## 5.1 Dimensions et structure d’un *DataFrame*\n",
        "\n",
        "Les premières méthodes utiles permettent d’afficher quelques\n",
        "attributs d’un `DataFrame`."
      ],
      "id": "d73399e2-7225-40d8-84d0-c568461de3ca"
    },
    {
      "cell_type": "code",
      "execution_count": 22,
      "metadata": {},
      "outputs": [
        {
          "output_type": "display_data",
          "metadata": {},
          "data": {
            "text/plain": [
              "[RangeIndex(start=0, stop=35798, step=1),\n",
              " Index(['INSEE commune', 'Commune', 'Agriculture', 'Autres transports',\n",
              "        'Autres transports international', 'CO2 biomasse hors-total', 'Déchets',\n",
              "        'Energie', 'Industrie hors-énergie', 'Résidentiel', 'Routier',\n",
              "        'Tertiaire'],\n",
              "       dtype='object')]"
            ]
          }
        }
      ],
      "source": [
        "df.axes\n"
      ],
      "id": "745ac1c9"
    },
    {
      "cell_type": "code",
      "execution_count": 23,
      "metadata": {},
      "outputs": [
        {
          "output_type": "display_data",
          "metadata": {},
          "data": {
            "text/plain": [
              "Index(['INSEE commune', 'Commune', 'Agriculture', 'Autres transports',\n",
              "       'Autres transports international', 'CO2 biomasse hors-total', 'Déchets',\n",
              "       'Energie', 'Industrie hors-énergie', 'Résidentiel', 'Routier',\n",
              "       'Tertiaire'],\n",
              "      dtype='object')"
            ]
          }
        }
      ],
      "source": [
        "df.columns\n"
      ],
      "id": "0f00940f"
    },
    {
      "cell_type": "code",
      "execution_count": 24,
      "metadata": {},
      "outputs": [
        {
          "output_type": "display_data",
          "metadata": {},
          "data": {
            "text/plain": [
              "RangeIndex(start=0, stop=35798, step=1)"
            ]
          }
        }
      ],
      "source": [
        "df.index\n"
      ],
      "id": "27798da2"
    },
    {
      "cell_type": "markdown",
      "metadata": {},
      "source": [
        "Pour connaître les dimensions d’un DataFrame, on peut utiliser quelques méthodes\n",
        "pratiques :"
      ],
      "id": "3d4240e9-2c1c-432f-88d1-6145031ddf71"
    },
    {
      "cell_type": "code",
      "execution_count": 25,
      "metadata": {},
      "outputs": [
        {
          "output_type": "display_data",
          "metadata": {},
          "data": {
            "text/plain": [
              "2"
            ]
          }
        }
      ],
      "source": [
        "df.ndim\n"
      ],
      "id": "949c225f"
    },
    {
      "cell_type": "code",
      "execution_count": 26,
      "metadata": {},
      "outputs": [
        {
          "output_type": "display_data",
          "metadata": {},
          "data": {
            "text/plain": [
              "(35798, 12)"
            ]
          }
        }
      ],
      "source": [
        "df.shape\n"
      ],
      "id": "c7b6fdb1"
    },
    {
      "cell_type": "code",
      "execution_count": 27,
      "metadata": {},
      "outputs": [
        {
          "output_type": "display_data",
          "metadata": {},
          "data": {
            "text/plain": [
              "429576"
            ]
          }
        }
      ],
      "source": [
        "df.size\n"
      ],
      "id": "f5765106"
    },
    {
      "cell_type": "markdown",
      "metadata": {},
      "source": [
        "Pour déterminer le nombre de valeurs uniques d’une variable, plutôt que chercher à écrire soi-même une fonction,\n",
        "on utilise la\n",
        "méthode `nunique`. Par exemple,"
      ],
      "id": "be4830ce-f98b-4073-b88a-ffcac2d8aa60"
    },
    {
      "cell_type": "code",
      "execution_count": 28,
      "metadata": {},
      "outputs": [
        {
          "output_type": "display_data",
          "metadata": {},
          "data": {
            "text/plain": [
              "33338"
            ]
          }
        }
      ],
      "source": [
        "df[\"Commune\"].nunique()\n"
      ],
      "id": "baf250c2"
    },
    {
      "cell_type": "markdown",
      "metadata": {},
      "source": [
        "`Pandas` propose énormément de méthodes utiles.\n",
        "Voici un premier résumé de celles relatives à la structure des données, accompagné d’un comparatif avec `R` :\n",
        "\n",
        "| Opération | pandas | dplyr (`R`) | data.table (`R`) |\n",
        "|-------------------------|------------|--------------|-----------------------|\n",
        "| Récupérer le nom des colonnes | `df.columns` | `colnames(df)` | `colnames(df)` |\n",
        "| Récupérer les dimensions | `df.shape` | `dim(df)` | `dim(df)` |\n",
        "| Récupérer le nombre de valeurs uniques d’une variable | `df['myvar'].nunique()` | `df %>%  summarise(distinct(myvar))` | `df[,uniqueN(myvar)]` |\n",
        "\n",
        "## 5.2 Accéder à des éléments d’un DataFrame\n",
        "\n",
        "En SQL, effectuer des opérations sur les colonnes se fait avec la commande\n",
        "`SELECT`. Avec `Pandas`,\n",
        "pour accéder à une colonne dans son ensemble on peut\n",
        "utiliser plusieurs approches :\n",
        "\n",
        "-   `dataframe.variable`, par exemple `df.Energie`.\n",
        "    Cette méthode requiert néanmoins d’avoir des\n",
        "    noms de colonnes sans espace ou caractères spéciaux, ce qui exclut\n",
        "    souvent des jeux de données réels. Elle n’est pas recommandée. ;\n",
        "-   `dataframe[['variable']]` pour renvoyer la variable sous\n",
        "    forme de `DataFrame`. Cette méthode peut être assez piégeuse pour une variable seule, il vaut mieux lui privilégier `dataframe.loc[:,['variable']]` qui est plus explicite sur la nature de l’objet qu’on désire en sortie ;\n",
        "-   `dataframe['variable']` pour\n",
        "    renvoyer la variable sous forme de `Series`. Par exemple, `df[['Autres transports']]`\n",
        "    ou `df['Autres transports']`. C’est une manière préférable de procéder.\n",
        "\n",
        "Pour récupérer plusieurs colonnes à la fois, il y a deux approches, la seconde étant préférable :\n",
        "\n",
        "-   `dataframe[['variable1', 'variable2']]` ;\n",
        "-   `dataframe.loc[:, ['variable1', 'variable2']]`\n",
        "\n",
        "Cela est équivalent à `SELECT variable1, variable2 FROM dataframe` en SQL.\n",
        "\n",
        "Le `.loc` peut apparaître excessivement verbeux. Il permet néanmoins de s’assurer qu’on effectue bien un *subset* sur la dimension des colonnes. Les *DataFrame* ayant deux indices, ceux des lignes et des colonnes, on peut avoir parfois des surprises avec l’implicite, il est plus fiable d’être explicite.\n",
        "\n",
        "## 5.3 Accéder à des lignes\n",
        "\n",
        "Pour accéder à une ou plusieurs valeurs d’un `DataFrame`,\n",
        "il existe deux manières conseillées de procéder, selon la\n",
        "forme des indices de lignes ou colonnes utilisées :\n",
        "\n",
        "-   `df.iloc` : utilise les indices. C’est une méthode moyennement fiable car les indices d’un *DataFrame* peuvent évoluer au cours d’un traitement (notamment lorsqu’on fait des opérations par groupe).\n",
        "-   `df.loc` : utilise les labels. Cette méthode est recommandée.\n",
        "\n",
        "<div class=\"alert alert-danger\" role=\"alert\">\n",
        "<h3 class=\"alert-heading\"><i class=\"fa-solid fa-triangle-exclamation\"></i> Warning</h3>\n",
        "\n",
        "Les bouts de code utilisant la structure `df.ix`\n",
        "sont à bannir car la fonction est *deprecated* et peut\n",
        "ainsi disparaître à tout moment.\n",
        "\n",
        "</div>\n",
        "\n",
        "`iloc` va se référer à l’indexation de 0 à *N* où *N* est égal à `df.shape[0]` d’un\n",
        "`pandas.DataFrame`. `loc` va se référer aux valeurs de l’index\n",
        "de `df`.\n",
        "Par exemple, avec le `pandas.DataFrame` `df_example`:"
      ],
      "id": "db1e8045-06cf-4f55-b2c4-4ce3d3046e95"
    },
    {
      "cell_type": "code",
      "execution_count": 33,
      "metadata": {},
      "outputs": [
        {
          "output_type": "display_data",
          "metadata": {},
          "data": {
            "text/html": [
              "\n",
              "</div>"
            ]
          }
        }
      ],
      "source": [
        "df_example = pd.DataFrame(\n",
        "    {\"month\": [1, 4, 7, 10], \"year\": [2012, 2014, 2013, 2014], \"sale\": [55, 40, 84, 31]}\n",
        ")\n",
        "df_example = df_example.set_index(\"month\")\n",
        "df_example\n"
      ],
      "id": "73ad43a3"
    },
    {
      "cell_type": "markdown",
      "metadata": {},
      "source": [
        "-   `df_example.loc[1, :]` donnera la première ligne de `df` (ligne où l’indice `month` est égal à 1) ;\n",
        "-   `df_example.iloc[1, :]` donnera la deuxième ligne (puisque l’indexation en `Python` commence à 0) ;\n",
        "-   `df_example.iloc[:, 1]` donnera la deuxième colonne, suivant le même principe.\n",
        "\n",
        "Les exercices ultérieurs permettront de pratiquer cette syntaxe sur notre jeu de données des émissions de gaz carbonique.\n",
        "\n",
        "# 6. Principales manipulations de données\n",
        "\n",
        "Les opérations les plus fréquentes en `SQL` sont résumées par le tableau suivant.\n",
        "Il est utile de les connaître (beaucoup de syntaxes de maniement de données\n",
        "reprennent ces termes) car, d’une\n",
        "manière ou d’une autre, elles couvrent la plupart\n",
        "des usages de manipulation des données. Nous allons en décrire, par le suite, quelques unes:\n",
        "\n",
        "| Opération | SQL | pandas | dplyr (`R`) | data.table (`R`) |\n",
        "|--------|---------------|-----------|-----------------|-----------------------|\n",
        "| Sélectionner des variables par leur nom | `SELECT` | `df[['Autres transports','Energie']]` | `df %>% select(Autres transports, Energie)` | `df[, c('Autres transports','Energie')]` |\n",
        "| Sélectionner des observations selon une ou plusieurs conditions; | `FILTER` | `df[df['Agriculture']>2000]` | `df %>% filter(Agriculture>2000)` | `df[Agriculture>2000]` |\n",
        "| Trier la table selon une ou plusieurs variables | `SORT BY` | `df.sort_values(['Commune','Agriculture'])` | `df %>% arrange(Commune, Agriculture)` | `df[order(Commune, Agriculture)]` |\n",
        "| Ajouter des variables qui sont fonction d’autres variables; | `SELECT *, LOG(Agriculture) AS x FROM df` | `df['x'] = np.log(df['Agriculture'])` | `df %>% mutate(x = log(Agriculture))` | `df[,x := log(Agriculture)]` |\n",
        "| Effectuer une opération par groupe | `GROUP BY` | `df.groupby('Commune').mean()` | `df %>% group_by(Commune) %>% summarise(m = mean)` | `df[,mean(Commune), by = Commune]` |\n",
        "| Joindre deux bases de données (*inner join*) | `SELECT * FROM table1 INNER JOIN table2 ON table1.id = table2.x` | `table1.merge(table2, left_on = 'id', right_on = 'x')` | `table1 %>% inner_join(table2, by = c('id'='x'))` | `merge(table1, table2, by.x = 'id', by.y = 'x')` |\n",
        "\n",
        "## 6.1 Opérations sur les colonnes : ajouter ou retirer des variables, les renommer, etc.\n",
        "\n",
        "Sur le plan technique, les `DataFrames` `Pandas` sont des objets *mutables* en langage `Python`,\n",
        "c’est-à-dire qu’il est possible de faire évoluer le `DataFrame` au grès\n",
        "des opérations mises en oeuvre.\n",
        "\n",
        "L’opération la plus classique consiste à ajouter ou retirer des variables à la table de données.\n",
        "La manière la plus simple d’opérer pour ajouter des colonnes est\n",
        "d’utiliser la réassignation. Par exemple, pour créer une variable `dep` qui correspond aux deux premiers numéros du code commune (code Insee), il suffit de prendre la variable et lui appliquer le traitement adapté (en l’occurrence ne garder que ses deux premières caractères):"
      ],
      "id": "7bae5fa5-1d79-4849-872c-9215915a6965"
    },
    {
      "cell_type": "code",
      "execution_count": 34,
      "metadata": {},
      "outputs": [
        {
          "output_type": "display_data",
          "metadata": {},
          "data": {
            "text/html": [
              "\n",
              "</div>"
            ]
          }
        }
      ],
      "source": [
        "df[\"dep\"] = df[\"INSEE commune\"].str[:2]\n",
        "df.head(3)\n"
      ],
      "id": "d65bda50"
    },
    {
      "cell_type": "markdown",
      "metadata": {},
      "source": [
        "En SQL, la manière de procéder dépend du moteur d’exécution. En pseudo-code cela donne\n",
        "\n",
        "``` sql\n",
        "SELECT everything(), SUBSTR(\"code_insee\", 2) AS dep FROM df\n",
        "```\n",
        "\n",
        "Il est possible d’appliquer cette approche de création de colonnes sur plusieurs colonnes. Un des\n",
        "intérêts de cette approche est qu’elle permet de recycler le nom de colonnes."
      ],
      "id": "99756a2c-6157-458c-809c-3d5e09e43d32"
    },
    {
      "cell_type": "code",
      "execution_count": 36,
      "metadata": {},
      "outputs": [
        {
          "output_type": "display_data",
          "metadata": {},
          "data": {
            "text/html": [
              "\n",
              "</div>"
            ]
          }
        }
      ],
      "source": [
        "vars = [\"Agriculture\", \"Déchets\", \"Energie\"]\n",
        "\n",
        "df[[v + \"_log\" for v in vars]] = np.log(df.loc[:, vars])\n",
        "df.head(3)\n"
      ],
      "id": "4b379f38"
    },
    {
      "cell_type": "markdown",
      "metadata": {},
      "source": [
        "La requête équivalente en SQL serait assez fastidieuse à écrire. Sur ce genre d’opérations, on voit bien l’intérêt d’avoir une librairie haut niveau comme `Pandas`.\n",
        "\n",
        "<div class=\"alert alert-danger\" role=\"alert\">\n",
        "<h3 class=\"alert-heading\"><i class=\"fa-solid fa-triangle-exclamation\"></i> Warning</h3>\n",
        "\n",
        "Cela est possible grâce à la vectorisation native des opérations de `Numpy` et à la magie `Pandas` qui réarrange tout ceci. Ce n’est pas utilisable avec n’importe quelle fonction. Pour d’autres fonctions, il faudra utiliser `assign`, généralement par le biais de *lambda functions*, des fonctions temporaires faisant office de passe plat. Par exemple, pour créer une variable selon cette approche, il faudrait faire:\n",
        "\n",
        "``` python\n",
        "df.assign(Energie_log=lambda x: np.log(x[\"Energie\"]))\n",
        "```\n",
        "\n",
        "<div>\n",
        "<style scoped>\n",
        "    .dataframe tbody tr th:only-of-type {\n",
        "        vertical-align: middle;\n",
        "    }\n",
        "\n",
        "    .dataframe tbody tr th {\n",
        "        vertical-align: top;\n",
        "    }\n",
        "\n",
        "    .dataframe thead th {\n",
        "        text-align: right;\n",
        "    }\n",
        "</style>\n",
        "\n",
        "|  | INSEE commune | Commune | Agriculture | Autres transports | Autres transports international | CO2 biomasse hors-total | Déchets | Energie | Industrie hors-énergie | Résidentiel | Routier | Tertiaire | dep | Agriculture_log | Déchets_log | Energie_log |\n",
        "|----|----|----|----|----|----|----|----|----|----|----|----|----|----|----|----|----|\n",
        "| 0 | 01001 | L'ABERGEMENT-CLEMENCIAT | 3711.425991 | NaN | NaN | 432.751835 | 101.430476 | 2.354558 | 6.911213 | 309.358195 | 793.156501 | 367.036172 | 01 | 8.219171 | 4.619374 | 0.856353 |\n",
        "| 1 | 01002 | L'ABERGEMENT-DE-VAREY | 475.330205 | NaN | NaN | 140.741660 | 140.675439 | 2.354558 | 6.911213 | 104.866444 | 348.997893 | 112.934207 | 01 | 6.164010 | 4.946455 | 0.856353 |\n",
        "| 2 | 01004 | AMBERIEU-EN-BUGEY | 499.043526 | 212.577908 | NaN | 10313.446515 | 5314.314445 | 998.332482 | 2930.354461 | 16616.822534 | 15642.420313 | 10732.376934 | 01 | 6.212693 | 8.578159 | 6.906086 |\n",
        "| 3 | 01005 | AMBERIEUX-EN-DOMBES | 1859.160954 | NaN | NaN | 1144.429311 | 216.217508 | 94.182310 | 276.448534 | 663.683146 | 1756.341319 | 782.404357 | 01 | 7.527881 | 5.376285 | 4.545232 |\n",
        "| 4 | 01006 | AMBLEON | 448.966808 | NaN | NaN | 77.033834 | 48.401549 | NaN | NaN | 43.714019 | 398.786800 | 51.681756 | 01 | 6.106949 | 3.879532 | NaN |\n",
        "| ... | ... | ... | ... | ... | ... | ... | ... | ... | ... | ... | ... | ... | ... | ... | ... | ... |\n",
        "| 35793 | 95676 | VILLERS-EN-ARTHIES | 1628.065094 | NaN | NaN | 165.045396 | 65.063617 | 11.772789 | 34.556067 | 176.098160 | 309.627908 | 235.439109 | 95 | 7.395148 | 4.175366 | 2.465791 |\n",
        "| 35794 | 95678 | VILLIERS-ADAM | 698.630772 | NaN | NaN | 1331.126598 | 111.480954 | 2.354558 | 6.911213 | 1395.529811 | 18759.370071 | 403.404815 | 95 | 6.549122 | 4.713854 | 0.856353 |\n",
        "| 35795 | 95680 | VILLIERS-LE-BEL | 107.564967 | NaN | NaN | 8367.174532 | 225.622903 | 534.484607 | 1568.845431 | 22613.830247 | 12217.122402 | 13849.512001 | 95 | 4.678095 | 5.418865 | 6.281303 |\n",
        "| 35796 | 95682 | VILLIERS-LE-SEC | 1090.890170 | NaN | NaN | 326.748418 | 108.969749 | 2.354558 | 6.911213 | 67.235487 | 4663.232127 | 85.657725 | 95 | 6.994749 | 4.691070 | 0.856353 |\n",
        "| 35797 | 95690 | WY-DIT-JOLI-VILLAGE | 1495.103542 | NaN | NaN | 125.236417 | 97.728612 | 4.709115 | 13.822427 | 117.450851 | 504.400972 | 147.867245 | 95 | 7.309951 | 4.582194 | 1.549500 |\n",
        "\n",
        "<p>35798 rows × 16 columns</p>\n",
        "</div>\n",
        "\n",
        "Avec des méthodes de `Pandas` ou de `Numpy` comme ici, cela n’a pas d’intérêt, c’est même contreproductif car cela ralentit le code.\n",
        "\n",
        "</div>\n",
        "\n",
        "On peut facilement renommer des variables avec la méthode `rename` qui\n",
        "fonctionne bien avec des dictionnaires. Pour renommer des colonnes il faut\n",
        "préciser le paramètre `axis = 'columns'` ou `axis=1`. Le paramètre `axis` est souvent nécessaire car par défaut de nombreuses méthodes de `Pandas` supposent que l’indice sur lequel les opérations sont faites est l’indice des lignes :"
      ],
      "id": "b28b7b52-031f-4361-a28f-44a945781097"
    },
    {
      "cell_type": "code",
      "execution_count": 39,
      "metadata": {},
      "outputs": [
        {
          "output_type": "display_data",
          "metadata": {},
          "data": {
            "text/html": [
              "\n",
              "</div>"
            ]
          }
        }
      ],
      "source": [
        "df = df.rename({\"Energie\": \"eneg\", \"Agriculture\": \"agr\"}, axis=1)\n",
        "df.head()\n"
      ],
      "id": "bb836c53"
    },
    {
      "cell_type": "markdown",
      "metadata": {},
      "source": [
        "Enfin, pour effacer des colonnes, on utilise la méthode `drop` avec l’argument\n",
        "`columns`:"
      ],
      "id": "65acd328-d72d-4496-ad15-5d0d0cb9e74b"
    },
    {
      "cell_type": "code",
      "execution_count": 40,
      "metadata": {},
      "outputs": [],
      "source": [
        "df = df.drop(columns=[\"eneg\", \"agr\"])\n"
      ],
      "id": "0bad0657"
    },
    {
      "cell_type": "markdown",
      "metadata": {},
      "source": [
        "## 6.2 Réordonner les observations\n",
        "\n",
        "La méthode `sort_values` permet de réordonner les observations d’un `DataFrame`, en laissant l’ordre des colonnes identiques.\n",
        "\n",
        "Par exemple,\n",
        "si on désire classer par ordre décroissant de consommation de CO2 du secteur\n",
        "résidentiel, on fera"
      ],
      "id": "4dc6e470-04b4-4f1f-93c7-d6edce5ac7cd"
    },
    {
      "cell_type": "code",
      "execution_count": 41,
      "metadata": {},
      "outputs": [
        {
          "output_type": "display_data",
          "metadata": {},
          "data": {
            "text/html": [
              "\n",
              "</div>"
            ]
          }
        }
      ],
      "source": [
        "df = df.sort_values(\"Résidentiel\", ascending=False)\n",
        "df.head(3)\n"
      ],
      "id": "2ab2bd4c"
    },
    {
      "cell_type": "markdown",
      "metadata": {},
      "source": [
        "Ainsi, en une ligne de code, on identifie les villes où le secteur\n",
        "résidentiel consomme le plus. En SQL on ferait\n",
        "\n",
        "``` sql\n",
        "SELECT * FROM df ORDER BY DESC \"Résidentiel\"\n",
        "```\n",
        "\n",
        "## 6.3 Filter\n",
        "\n",
        "L’opération de sélection de lignes s’appelle `FILTER` en SQL. Elle s’utilise\n",
        "en fonction d’une condition logique (clause `WHERE`). On sélectionne les\n",
        "données sur une condition logique.\n",
        "\n",
        "Il existe plusieurs méthodes en `Pandas`. La plus simple est d’utiliser les *boolean mask*, déjà vus dans le chapitre\n",
        "[`numpy`](../../content/manipulation/01_numpy.qmd).\n",
        "\n",
        "Par exemple, pour sélectionner les communes dans les Hauts-de-Seine, on\n",
        "peut commencer par utiliser le résultat de la méthode `str.startswith` (qui renvoie\n",
        "`True` ou `False`) :"
      ],
      "id": "5e6fd057-e65a-457a-af63-969a50cb3095"
    },
    {
      "cell_type": "code",
      "execution_count": 43,
      "metadata": {},
      "outputs": [
        {
          "output_type": "display_data",
          "metadata": {},
          "data": {
            "text/plain": [
              "12167    False\n",
              "16774    False\n",
              "27294    False\n",
              "12729    False\n",
              "22834    False\n",
              "         ...  \n",
              "20742    False\n",
              "20817    False\n",
              "20861    False\n",
              "20898    False\n",
              "20957    False\n",
              "Name: INSEE commune, Length: 35798, dtype: bool"
            ]
          }
        }
      ],
      "source": [
        "df[\"INSEE commune\"].str.startswith(\"92\")\n"
      ],
      "id": "cd540699"
    },
    {
      "cell_type": "markdown",
      "metadata": {},
      "source": [
        "`str.` est une méthode particulière en `Pandas` qui permet de traiter chaque valeur d’un vecteur comme un `string` natif en `Python` sur lequel appliquer une méthode ultérieure (en l’occurrence `startswith`).\n",
        "\n",
        "L’instruction ci-dessus renvoie un vecteur de booléens. Nous avons vu précédemment que la méthode `loc` servait à faire du *subsetting* sur l’indice des lignes comme des colonnes. Elle fonctionne avec des vecteurs booléens. Dans ce cas, si on fait un *subsetting* sur la dimension ligne (resp. colonne), elle va renvoyer toutes les observations (resp. variable) qui\n",
        "satisfont cette condition.\n",
        "\n",
        "Ainsi, en mettant bout à bout ces deux élements, on peut filter nos données pour n’avoir que les résultats\n",
        "du 92:"
      ],
      "id": "6c861f4c-6f87-4be8-a2e3-1d5ced1fcee1"
    },
    {
      "cell_type": "code",
      "execution_count": 44,
      "metadata": {},
      "outputs": [
        {
          "output_type": "display_data",
          "metadata": {},
          "data": {
            "text/html": [
              "\n",
              "</div>"
            ]
          }
        }
      ],
      "source": [
        "df.loc[df[\"INSEE commune\"].str.startswith(\"92\")].head(2)\n"
      ],
      "id": "e4094dd0"
    },
    {
      "cell_type": "markdown",
      "metadata": {},
      "source": [
        "Le code SQL équivalent peu varier selon le moteur d’exécution (`DuckDB`, `PostGre`, `MySQL`) mais prendrait une forme similaire à celle-ci:\n",
        "\n",
        "``` sql\n",
        "SELECT * FROM df WHERE STARTSWITH(\"INSEE commune\", \"92\")\n",
        "```\n",
        "\n",
        "## 6.4 Résumé des principales opérations\n",
        "\n",
        "Les principales manipulations sont les suivantes:\n",
        "\n",
        "<table>\n",
        "<colgroup>\n",
        "<col style=\"width: 50%\" />\n",
        "<col style=\"width: 50%\" />\n",
        "</colgroup>\n",
        "<tbody>\n",
        "<tr class=\"odd\">\n",
        "<td style=\"text-align: left;\"><div width=\"50.0%\" data-layout-align=\"left\">\n",
        "<p><img src=\"https://minio.lab.sspcloud.fr/lgaliana/generative-art/pythonds/select_pandas.png\" alt=\"Sélectionner des colonnes\" />\n",
        "<img src=\"https://minio.lab.sspcloud.fr/lgaliana/generative-art/pythonds/rename_pandas.png\" alt=\"Renommer des colonnes\" /></p>\n",
        "</div></td>\n",
        "<td style=\"text-align: left;\"><div width=\"50.0%\" data-layout-align=\"left\">\n",
        "<p><img src=\"https://minio.lab.sspcloud.fr/lgaliana/generative-art/pythonds/mutate_pandas.png\" alt=\"Créer de nouvelles colonnes\" />\n",
        "<img src=\"https://minio.lab.sspcloud.fr/lgaliana/generative-art/pythonds/filter_pandas.png\" alt=\"Sélectionner des lignes\" /></p>\n",
        "</div></td>\n",
        "</tr>\n",
        "</tbody>\n",
        "</table>\n",
        "\n",
        "<table style=\"width:50%;\">\n",
        "<colgroup>\n",
        "<col style=\"width: 50%\" />\n",
        "</colgroup>\n",
        "<tbody>\n",
        "<tr class=\"odd\">\n",
        "<td style=\"text-align: left;\"><div width=\"50.0%\" data-layout-align=\"left\">\n",
        "<figure>\n",
        "<img src=\"https://minio.lab.sspcloud.fr/lgaliana/generative-art/pythonds/arrange_pandas.png\" alt=\"Réordonner le DataFrame\" />\n",
        "<figcaption aria-hidden=\"true\">Réordonner le <em>DataFrame</em></figcaption>\n",
        "</figure>\n",
        "</div></td>\n",
        "</tr>\n",
        "</tbody>\n",
        "</table>\n",
        "\n",
        "# 7. Statistiques descriptives\n",
        "\n",
        "Pour repartir de la source brute, recréeons notre jeu de données pour les exemples:"
      ],
      "id": "d8467da8-19e2-4fc7-a110-a4e152ad7863"
    },
    {
      "cell_type": "code",
      "execution_count": 47,
      "metadata": {},
      "outputs": [
        {
          "output_type": "display_data",
          "metadata": {},
          "data": {
            "text/html": [
              "\n",
              "</div>"
            ]
          }
        }
      ],
      "source": [
        "df = pd.read_csv(\n",
        "    \"https://koumoul.com/s/data-fair/api/v1/datasets/igt-pouvoir-de-rechauffement-global/convert\"\n",
        ")\n",
        "df.head(3)\n"
      ],
      "id": "40945667"
    },
    {
      "cell_type": "markdown",
      "metadata": {},
      "source": [
        "`Pandas` embarque plusieurs méthodes pour construire des statistiques agrégées: somme, nombre de valeurs unique, nombre de valeurs non manquantes, moyenne, variance, etc.\n",
        "\n",
        "La méthode la plus générique est `describe`"
      ],
      "id": "7049dd71-64f7-476b-895c-259586e9b566"
    },
    {
      "cell_type": "code",
      "execution_count": 48,
      "metadata": {},
      "outputs": [
        {
          "output_type": "display_data",
          "metadata": {},
          "data": {
            "text/html": [
              "\n",
              "</div>"
            ]
          }
        }
      ],
      "source": [
        "df.describe()\n"
      ],
      "id": "b24df412"
    },
    {
      "cell_type": "markdown",
      "metadata": {},
      "source": [
        "qui ressemble à la méthode éponyme en `Stata` ou à la `PROC FREQ` de `SAS`, deux langages propriétaires.\n",
        "Elle nous donne néanmoins beaucoup d’information et on est souvent noyé par celle-ci. Il est donc plus pratique de directement travailler sur quelques colonnes ou de choisir soi-même les statistiques qu’on désire utiliser.\n",
        "\n",
        "## 7.1 Comptages\n",
        "\n",
        "Le premier type de statistiques qu’on peut vouloir mettre en oeuvre relève du comptage ou dénombrement des valeurs.\n",
        "\n",
        "Si on désire, par exemple, connaître le nombre de communes dans notre jeu de données, on pourra utiliser la méthode `count` ou alors `nunique` si on s’intéresse aux valeurs non dupliquées."
      ],
      "id": "2deac5c0-5d05-4c53-b23f-942feb980e9d"
    },
    {
      "cell_type": "code",
      "execution_count": 50,
      "metadata": {},
      "outputs": [
        {
          "output_type": "display_data",
          "metadata": {},
          "data": {
            "text/plain": [
              "35798"
            ]
          }
        }
      ],
      "source": [
        "df[\"Commune\"].count()\n"
      ],
      "id": "10632552"
    },
    {
      "cell_type": "code",
      "execution_count": 51,
      "metadata": {},
      "outputs": [
        {
          "output_type": "display_data",
          "metadata": {},
          "data": {
            "text/plain": [
              "33338"
            ]
          }
        }
      ],
      "source": [
        "df[\"Commune\"].nunique()\n"
      ],
      "id": "5bf1a6c4"
    },
    {
      "cell_type": "markdown",
      "metadata": {},
      "source": [
        "En SQL, la première instruction serait `SELECT COUNT(Commune) FROM df`, la seconde `SELECT COUNT DISTINCT Commune FROM df`.\n",
        "Ici, cela ne permet donc de comprendre qu’il peut y avoir des doublons dans la colonne `Commune`, ce dont il faudra tenir compte si on désire identifier nos communes de manière unique (ce sera un sujet lorsque le prochain chapitre abordera la question du croisement des données).\n",
        "\n",
        "La cohérence de la syntaxe `Pandas` permet de faire cela pour plusieurs colonnes de manière simultanée. En SQL cela serait possible mais le code à mettre en oeuvre commence à devenir assez verbeux:"
      ],
      "id": "e05f1b86-0b2b-4b2d-92a5-857f04ed8f95"
    },
    {
      "cell_type": "code",
      "execution_count": 52,
      "metadata": {},
      "outputs": [
        {
          "output_type": "display_data",
          "metadata": {},
          "data": {
            "text/plain": [
              "Commune          35798\n",
              "INSEE commune    35798\n",
              "dtype: int64"
            ]
          }
        }
      ],
      "source": [
        "df.loc[:, [\"Commune\", \"INSEE commune\"]].count()\n"
      ],
      "id": "24ed3392"
    },
    {
      "cell_type": "code",
      "execution_count": 53,
      "metadata": {},
      "outputs": [
        {
          "output_type": "display_data",
          "metadata": {},
          "data": {
            "text/plain": [
              "Commune          33338\n",
              "INSEE commune    35798\n",
              "dtype: int64"
            ]
          }
        }
      ],
      "source": [
        "df.loc[:, [\"Commune\", \"INSEE commune\"]].nunique()\n"
      ],
      "id": "bf25090c"
    },
    {
      "cell_type": "markdown",
      "metadata": {},
      "source": [
        "Avec ces deux commandes simples, on comprend donc\n",
        "que notre variable `INSEE commune` (le code Insee)\n",
        "sera plus fiable pour identifier des communes\n",
        "que les noms, qui ne sont pas forcément uniques. C’est justement l’objectif du code Insee de proposer\n",
        "un identifiant unique, a contrario du code postal qui peut\n",
        "être partagé par plusieurs communes.\n",
        "\n",
        "## 7.2 Statistiques agrégées\n",
        "\n",
        "`Pandas` embarque plusieurs méthodes pour construire des statistiques sur plusieurs colonnes: somme, moyenne, variance, etc.\n",
        "\n",
        "Les méthodes sont assez transparentes:"
      ],
      "id": "58c99109-a88c-4f15-a012-98bd394a5d18"
    },
    {
      "cell_type": "code",
      "execution_count": 54,
      "metadata": {},
      "outputs": [
        {
          "output_type": "display_data",
          "metadata": {},
          "data": {
            "text/plain": [
              "2459.975759687974"
            ]
          }
        }
      ],
      "source": [
        "df[\"Agriculture\"].sum()\n",
        "df[\"Agriculture\"].mean()\n"
      ],
      "id": "554774b5"
    },
    {
      "cell_type": "markdown",
      "metadata": {},
      "source": [
        "Là encore, la cohérence de `Pandas` nous permet de généraliser le calcul de statistiques à plusieurs colonnes"
      ],
      "id": "9eb22869-9351-4856-ac11-dda09501e4b8"
    },
    {
      "cell_type": "code",
      "execution_count": 55,
      "metadata": {},
      "outputs": [
        {
          "output_type": "display_data",
          "metadata": {},
          "data": {
            "text/plain": [
              "Agriculture    2459.975760\n",
              "Résidentiel    1783.677872\n",
              "dtype: float64"
            ]
          }
        }
      ],
      "source": [
        "df.loc[:, [\"Agriculture\", \"Résidentiel\"]].sum()\n",
        "df.loc[:, [\"Agriculture\", \"Résidentiel\"]].mean()\n"
      ],
      "id": "7c9c299c"
    },
    {
      "cell_type": "markdown",
      "metadata": {},
      "source": [
        "Il est possible de généraliser ceci à toutes les colonnes.\n",
        "Cependant, il est nécessaire d’introduire le paramètre `numeric_only` pour ne faire la tâche d’agrégation que sur les variables pertinentes"
      ],
      "id": "76a6e171-a709-4d6d-9a76-34ea38a0bfcf"
    },
    {
      "cell_type": "code",
      "execution_count": 56,
      "metadata": {},
      "outputs": [
        {
          "output_type": "display_data",
          "metadata": {},
          "data": {
            "text/plain": [
              "Agriculture                        2459.975760\n",
              "Autres transports                   654.919940\n",
              "Autres transports international    7692.344960\n",
              "CO2 biomasse hors-total            1774.381550\n",
              "Déchets                             410.806329\n",
              "Energie                             662.569846\n",
              "Industrie hors-énergie             2423.127789\n",
              "Résidentiel                        1783.677872\n",
              "Routier                            3535.501245\n",
              "Tertiaire                          1105.165915\n",
              "dtype: float64"
            ]
          }
        }
      ],
      "source": [
        "df.mean(numeric_only=True)\n"
      ],
      "id": "111e62c8"
    },
    {
      "cell_type": "markdown",
      "metadata": {},
      "source": [
        "<div class=\"alert alert-danger\" role=\"alert\">\n",
        "<h3 class=\"alert-heading\"><i class=\"fa-solid fa-triangle-exclamation\"></i> Warning</h3>\n",
        "\n",
        "La version 2.0 de `Pandas` a introduit un changement\n",
        "de comportement dans les méthodes d’agrégation.\n",
        "\n",
        "Il est dorénavant nécessaire de préciser quand on désire\n",
        "effectuer des opérations si on désire ou non le faire\n",
        "exclusivement sur les colonnes numériques. C’est pour cette\n",
        "raison qu’on explicite ici l’argument `numeric_only = True`.\n",
        "Ce comportement\n",
        "était par le passé implicite.\n",
        "\n",
        "</div>\n",
        "\n",
        "La méthode pratique à connaître est `agg`. Celle-ci permet de définir les statistiques qu’on désire calculer pour chaque variable"
      ],
      "id": "2edcb436-55ac-4ccf-b03d-8223c4536f6a"
    },
    {
      "cell_type": "code",
      "execution_count": 60,
      "metadata": {},
      "outputs": [
        {
          "output_type": "display_data",
          "metadata": {},
          "data": {
            "text/html": [
              "\n",
              "</div>"
            ]
          }
        }
      ],
      "source": [
        "df.agg(\n",
        "    {\n",
        "        \"Agriculture\": [\"sum\", \"mean\"],\n",
        "        \"Résidentiel\": [\"mean\", \"std\"],\n",
        "        \"Commune\": \"nunique\",\n",
        "    }\n",
        ")\n"
      ],
      "id": "58fbfcf6"
    },
    {
      "cell_type": "markdown",
      "metadata": {},
      "source": [
        "La sortie des méthodes d’agrégation est une `Serie` indexée (les méthodes du type `df.sum()`) ou directement un `DataFrame` (la méthode `agg`). Il est en général plus pratique d’avoir un `DataFrame` qu’une `Serie` indexée si on désire retravailler le tableau pour en tirer des conclusions. Il est donc utile de transformer les sorties sous forme de `Serie` en `DataFrame` puis appliquer la méthode `reset_index` pour transformer l’indice en colonne. A partir de là, il sera possible de modifier le `DataFrame` pour rendre celui-ci plus lisible.\n",
        "\n",
        "Par exemple si on s’intéresse à la part de chaque secteur dans les émissions totales, on pourra procéder en deux temps.\n",
        "D’abord on va créer une observation par secteur représentant les émissions totales de celui-ci:"
      ],
      "id": "6c1f270e-1e60-46ac-8205-6ce97cd07dce"
    },
    {
      "cell_type": "code",
      "execution_count": 61,
      "metadata": {},
      "outputs": [
        {
          "output_type": "display_data",
          "metadata": {},
          "data": {
            "text/html": [
              "\n",
              "</div>"
            ]
          }
        }
      ],
      "source": [
        "# Etape 1: création d'un DataFrame propre\n",
        "emissions_totales = pd.DataFrame(\n",
        "    df.sum(numeric_only=True), columns=[\"emissions\"]\n",
        ").reset_index(names=\"secteur\")\n",
        "emissions_totales\n"
      ],
      "id": "26385975"
    },
    {
      "cell_type": "markdown",
      "metadata": {},
      "source": [
        "Il ne reste plus qu’à travailler *a minima* le jeu de données afin d’avoir déjà quelques conclusions intéressantes sur la structure des émissions en France:"
      ],
      "id": "d80a7ecd-371b-4def-99f4-a84aba783170"
    },
    {
      "cell_type": "code",
      "execution_count": 62,
      "metadata": {},
      "outputs": [
        {
          "output_type": "display_data",
          "metadata": {},
          "data": {
            "text/html": [
              "\n",
              "</div>"
            ]
          }
        }
      ],
      "source": [
        "emissions_totales[\"emissions (%)\"] = (\n",
        "    100 * emissions_totales[\"emissions\"] / emissions_totales[\"emissions\"].sum()\n",
        ")\n",
        "(emissions_totales.sort_values(\"emissions\", ascending=False).round())\n"
      ],
      "id": "1d1cda2e"
    },
    {
      "cell_type": "markdown",
      "metadata": {},
      "source": [
        "Ce tableau n’est pas vraiment mis en forme donc encore loin d’être communiquable mais il présente déjà un intérêt dans une perspective exploratoire. Il nous permet de comprendre les secteurs les plus émetteurs, à savoir le transport, l’agriculture et l’industrie, hors énergie. Le fait que l’énergie soit relativement peu émettrice s’explique bien du fait du *mix énergétique* français où le nucléaire représente une majorité de la production électrique.\n",
        "\n",
        "Pour aller plus loin dans la mise en forme de ce tableau afin d’avoir des statistiques communiquables en dehors de `Python`, nous découvrirons au prochain chapitre `great_tables`.\n",
        "\n",
        "<div class=\"alert alert-info\" role=\"alert\">\n",
        "<h3 class=\"alert-heading\"><i class=\"fa-solid fa-comment\"></i> Note</h3>\n",
        "\n",
        "La structure de données issue de `df.sum` est assez pratique (elle est *tidy*). On pourrait faire exactement la même opération que `df.sum(numeric_only = True)` avec le code suivant:\n",
        "\n",
        "``` python\n",
        "df.select_dtypes(include=\"number\").agg(func=sum)\n",
        "```\n",
        "\n",
        "    /tmp/ipykernel_4634/2580944462.py:1: FutureWarning:\n",
        "\n",
        "    The provided callable <built-in function sum> is currently using DataFrame.sum. In a future version of pandas, the provided callable will be used directly. To keep current behavior pass the string \"sum\" instead.\n",
        "\n",
        "    Agriculture                        8.790969e+07\n",
        "    Autres transports                  6.535446e+06\n",
        "    Autres transports international    2.223857e+07\n",
        "    CO2 biomasse hors-total            6.351931e+07\n",
        "    Déchets                            1.470358e+07\n",
        "    Energie                            2.285203e+07\n",
        "    Industrie hors-énergie             8.357368e+07\n",
        "    Résidentiel                        6.384140e+07\n",
        "    Routier                            1.264932e+08\n",
        "    Tertiaire                          3.956273e+07\n",
        "    dtype: float64\n",
        "\n",
        "</div>\n",
        "\n",
        "## 7.3 Valeurs manquantes\n",
        "\n",
        "Jusqu’à présent nous n’avons pas évoqué ce qui pourrait être un caillou dans la chaussure du *data scientist*, les valeurs manquantes.\n",
        "\n",
        "Les jeux de données réels sont rarement complets et les valeurs manquantes peuvent refléter de nombreuses réalités: problème de remontée d’information, variable non pertinente pour cette observation…\n",
        "\n",
        "Sur le plan technique, `Pandas` ne rencontre pas de problème à gérer les valeurs manquantes (sauf pour les variables `int` mais c’est une exception).\n",
        "Par défaut, les valeurs manquantes sont affichées `NaN` et sont de type `np.nan` (pour\n",
        "les valeurs temporelles, i.e. de type `datatime64`, les valeurs manquantes sont\n",
        "`NaT`).\n",
        "On a un comportement cohérent d’agrégation lorsqu’on combine deux colonnes dont l’une comporte des valeurs manquantes."
      ],
      "id": "469008ca-f18c-4d30-b207-84890fd9b382"
    },
    {
      "cell_type": "code",
      "execution_count": 65,
      "metadata": {},
      "outputs": [
        {
          "output_type": "display_data",
          "metadata": {},
          "data": {
            "text/html": [
              "\n",
              "</div>"
            ]
          }
        }
      ],
      "source": [
        "ventes = pd.DataFrame(\n",
        "    {\n",
        "        \"prix\": np.random.uniform(size=5),\n",
        "        \"client1\": [i + 1 for i in range(5)],\n",
        "        \"client2\": [i + 1 for i in range(4)] + [np.nan],\n",
        "        \"produit\": [np.nan] + [\"yaourt\", \"pates\", \"riz\", \"tomates\"],\n",
        "    }\n",
        ")\n",
        "ventes\n"
      ],
      "id": "052d45f2"
    },
    {
      "cell_type": "markdown",
      "metadata": {},
      "source": [
        "`Pandas` va bien refuser de faire l’agrégation car pour lui une valeur manquante n’est pas un zéro:"
      ],
      "id": "64ba8c2a-562f-42db-b591-27a9451a222d"
    },
    {
      "cell_type": "code",
      "execution_count": 66,
      "metadata": {},
      "outputs": [
        {
          "output_type": "display_data",
          "metadata": {},
          "data": {
            "text/plain": [
              "0    2.0\n",
              "1    4.0\n",
              "2    6.0\n",
              "3    8.0\n",
              "4    NaN\n",
              "dtype: float64"
            ]
          }
        }
      ],
      "source": [
        "ventes[\"client1\"] + ventes[\"client2\"]\n"
      ],
      "id": "0f378b03"
    },
    {
      "cell_type": "markdown",
      "metadata": {},
      "source": [
        "Il est possible de supprimer les valeurs manquantes grâce à `dropna()`.\n",
        "Cette méthode va supprimer toutes les lignes où il y a au moins une valeur manquante."
      ],
      "id": "255921ab-c436-43b0-b85c-051d612f7b65"
    },
    {
      "cell_type": "code",
      "execution_count": 67,
      "metadata": {},
      "outputs": [
        {
          "output_type": "display_data",
          "metadata": {},
          "data": {
            "text/html": [
              "\n",
              "</div>"
            ]
          }
        }
      ],
      "source": [
        "ventes.dropna()\n"
      ],
      "id": "e9ff0f62"
    },
    {
      "cell_type": "markdown",
      "metadata": {},
      "source": [
        "En l’occurrence, on perd deux lignes. Il est aussi possible de supprimer seulement les colonnes où il y a des valeurs manquantes\n",
        "dans un DataFrame avec `dropna()` en utilisant le paramètre `subset`."
      ],
      "id": "374c0200-930a-4afa-aa60-98d11ead7692"
    },
    {
      "cell_type": "code",
      "execution_count": 68,
      "metadata": {},
      "outputs": [
        {
          "output_type": "display_data",
          "metadata": {},
          "data": {
            "text/html": [
              "\n",
              "</div>"
            ]
          }
        }
      ],
      "source": [
        "ventes.dropna(subset=[\"produit\"])\n"
      ],
      "id": "acad86f2"
    },
    {
      "cell_type": "markdown",
      "metadata": {},
      "source": [
        "Cette fois on ne perd plus qu’une ligne, celle où `produit` est manquant.\n",
        "\n",
        "`Pandas` donne la possibilité d’imputer les valeurs manquantes grâce à la méthode `fillna()`. Par exemple, si on pense que les valeurs manquantes dans `produit` sont des valeurs nulles, on pourra faire"
      ],
      "id": "1417e495-4d88-4aea-b6ee-8a5236eb98ca"
    },
    {
      "cell_type": "code",
      "execution_count": 69,
      "metadata": {},
      "outputs": [
        {
          "output_type": "display_data",
          "metadata": {},
          "data": {
            "text/html": [
              "\n",
              "</div>"
            ]
          }
        }
      ],
      "source": [
        "ventes.dropna(subset=[\"produit\"]).fillna(0)\n"
      ],
      "id": "78c8c3db"
    },
    {
      "cell_type": "markdown",
      "metadata": {},
      "source": [
        "Si on désire faire une imputation à la médiane pour la variable `client2`, on changera marginalement ce code\n",
        "en encapsulant à l’intérieur le calcul de la médiane"
      ],
      "id": "3dec306d-ec7e-4f02-a87f-f962a2e5bb4b"
    },
    {
      "cell_type": "code",
      "execution_count": 70,
      "metadata": {},
      "outputs": [
        {
          "output_type": "display_data",
          "metadata": {},
          "data": {
            "text/plain": [
              "0    1.0\n",
              "1    2.0\n",
              "2    3.0\n",
              "3    4.0\n",
              "4    2.5\n",
              "Name: client2, dtype: float64"
            ]
          }
        }
      ],
      "source": [
        "(ventes[\"client2\"].fillna(ventes[\"client2\"].median()))\n"
      ],
      "id": "702e4b96"
    },
    {
      "cell_type": "markdown",
      "metadata": {},
      "source": [
        "Sur des jeux de données du monde réel, il est utile d’utiliser la méthode `isna` (ou `isnull`) combinées avec `sum` ou `mean` pour connaître l’ampleur des valeurs manquantes dans un jeu de données."
      ],
      "id": "ea1f3aa8-3d83-444d-8b03-eaafb3a577c3"
    },
    {
      "cell_type": "code",
      "execution_count": 71,
      "metadata": {},
      "outputs": [
        {
          "output_type": "display_data",
          "metadata": {},
          "data": {
            "text/plain": [
              "Autres transports international    0.919241\n",
              "Autres transports                  0.721241\n",
              "Energie                            0.036538\n",
              "Industrie hors-énergie             0.036538\n",
              "Agriculture                        0.001732\n",
              "Routier                            0.000559\n",
              "Déchets                            0.000168\n",
              "Résidentiel                        0.000168\n",
              "INSEE commune                      0.000000\n",
              "Commune                            0.000000\n",
              "CO2 biomasse hors-total            0.000000\n",
              "Tertiaire                          0.000000\n",
              "dtype: float64"
            ]
          }
        }
      ],
      "source": [
        "df.isnull().mean().sort_values(ascending=False)\n"
      ],
      "id": "e84ca73a"
    },
    {
      "cell_type": "markdown",
      "metadata": {},
      "source": [
        "Cette étape préparatoire est utile pour anticiper la question de l’imputation ou du filtre sur les valeurs manquantes: sont-elles *missing at random* ou reflètent-elles un sujet sur la remontée des données ? Les choix relatifs au traitement des valeurs manquantes ne sont pas des choix méthodologiques neutres. `Pandas` donne les outils techniques\n",
        "pour faire ceci mais la question de la légitimité de ces choix et de la pertinence est propre à chaque donnée. Les explorations sur les données visent à détecter des indices pour faire un choix éclairé.\n",
        "\n",
        "# 8. Représentations graphiques rapides\n",
        "\n",
        "Les tableaux de nombre sont certes une informations utile\n",
        "pour comprendre la structure d’un jeu de données mais dont\n",
        "l’aspect dense rend l’appropriation difficile. Avoir un graphique simplement peut être utile pour se représenter, en un coup d’oeil, la distribution des données et ainsi connaître le caractère plus ou moins normal d’une observation.\n",
        "\n",
        "`Pandas` embarque des méthodes graphiques rudimentaires pour répondre à ce besoin. Elles sont pratiques pour\n",
        "produire rapidement un graphique, notamment après des opérations\n",
        "complexes de maniement de données.\n",
        "Nous approfondirons cette problématique des visualisations de données dans la partie [Communiquer](../../content/visualisation.qmd).\n",
        "\n",
        "On peut appliquer la méthode `plot()` directement à une `Serie` :"
      ],
      "id": "9ad3df9c-cc96-4e11-9e66-acd9455eab44"
    },
    {
      "cell_type": "code",
      "execution_count": 72,
      "metadata": {},
      "outputs": [
        {
          "output_type": "display_data",
          "metadata": {},
          "data": {
            "image/png": "[encoded data removed]"
          }
        }
      ],
      "source": [
        "df[\"Déchets\"].plot()\n"
      ],
      "id": "efa85b6b"
    },
    {
      "cell_type": "markdown",
      "metadata": {},
      "source": [
        "Le code équivalent avec `matplotlib` serait:"
      ],
      "id": "77855755-c8d6-43a2-ab3f-ef7640d47426"
    },
    {
      "cell_type": "code",
      "execution_count": 73,
      "metadata": {},
      "outputs": [
        {
          "output_type": "display_data",
          "metadata": {},
          "data": {
            "image/png": "[encoded data removed]"
          }
        }
      ],
      "source": [
        "import matplotlib.pyplot as plt\n",
        "\n",
        "plt.plot(df.index, df[\"Déchets\"])\n"
      ],
      "id": "0eaec9b0"
    },
    {
      "cell_type": "markdown",
      "metadata": {},
      "source": [
        "Par défaut, la visualisation obtenue est une série. Ce n’est\n",
        "pas forcément celle attendue puisqu’elle n’a de sens que pour des séries temporelles. En tant que *data scientist* sur microdonnées, on s’intéresse plus fréquemment à un histogramme pour avoir une idée de la distribution des données.\n",
        "Pour cela, il suffit d’ajouter l’argument `kind = 'hist'`:"
      ],
      "id": "f5cfb239-3713-49be-a3fb-601210f177dd"
    },
    {
      "cell_type": "code",
      "execution_count": 74,
      "metadata": {},
      "outputs": [
        {
          "output_type": "display_data",
          "metadata": {},
          "data": {
            "image/png": "[encoded data removed]"
          }
        }
      ],
      "source": [
        "df[\"Déchets\"].hist()\n"
      ],
      "id": "fed8c2ad"
    },
    {
      "cell_type": "markdown",
      "metadata": {},
      "source": [
        "Avec des données dont la distribution est non normalisée,\n",
        "ce qui représente de nombreuses variables du monde réel,\n",
        "les histogrammes sont généralement peu instructifs. Le *log* peut être une solution\n",
        "pour remettre à une échelle comparable certaines valeurs extrêmes:"
      ],
      "id": "818ae060-9e65-45ac-8cf0-44c891cd39b7"
    },
    {
      "cell_type": "code",
      "execution_count": 75,
      "metadata": {},
      "outputs": [
        {
          "output_type": "display_data",
          "metadata": {},
          "data": {
            "image/png": "[encoded data removed]"
          }
        }
      ],
      "source": [
        "df[\"Déchets\"].plot(kind=\"hist\", logy=True)\n"
      ],
      "id": "af7588e8"
    },
    {
      "cell_type": "markdown",
      "metadata": {},
      "source": [
        "La sortie est un objet `matplotlib`. La *customisation* de ces\n",
        "figures est ainsi\n",
        "possible (et même désirable car les graphiques `matplotlib`\n",
        "sont, par défaut, assez rudimentaires).\n",
        "Cependant, il s’agit d’une méthode rapide pour la construction\n",
        "de figures qui nécessite du travail pour une visualisation\n",
        "finalisée. Cela passe par un travail approfondi sur l’objet\n",
        "`matplotlib` ou l’utilisation d’une librairie plus haut\n",
        "niveau pour la représentation graphique (`seaborn`, `plotnine`, `plotly`, etc.).\n",
        "\n",
        "La partie de ce cours consacrée à la visualisation de données présentera succinctement ces différents\n",
        "paradigmes de visualisation. Ceux-ci ne dispensent pas de faire\n",
        "preuve de bon sens dans le choix du graphique utilisé\n",
        "pour représenter une statistique descriptive (cf. [cette conférence d’Eric Mauvière](https://ssphub.netlify.app/talk/2024-02-29-mauviere/) ).\n",
        "\n",
        "# 9. Exercice de synthèse\n",
        "\n",
        "Cette exercice synthétise plusieurs étapes de préparation et d’exploration de données pour mieux comprendre la structure\n",
        "du phénomène qu’on désire étudier à savoir les émissions de gaz carbonique en France.\n",
        "\n",
        "Il est recommandé de repartir d’une session vierge (dans un *notebook* il faut faire `Restart Kernel`) pour ne pas avoir un environnement pollué par d’autres objets. Vous pouvez ensuite exécuter le code suivant pour avoir la base nécessaire:"
      ],
      "id": "ba2d252b-e719-400a-a3e5-bed5f9dfba9d"
    },
    {
      "cell_type": "code",
      "execution_count": 76,
      "metadata": {},
      "outputs": [
        {
          "output_type": "display_data",
          "metadata": {},
          "data": {
            "text/html": [
              "\n",
              "</div>"
            ]
          }
        }
      ],
      "source": [
        "import pandas as pd\n",
        "\n",
        "emissions = pd.read_csv(\n",
        "    \"https://koumoul.com/s/data-fair/api/v1/datasets/igt-pouvoir-de-rechauffement-global/convert\"\n",
        ")\n",
        "emissions.head(2)\n"
      ],
      "id": "b17be778"
    },
    {
      "cell_type": "markdown",
      "metadata": {},
      "source": [
        "<div class=\"alert alert-success\" role=\"alert\">\n",
        "<h3 class=\"alert-heading\"><i class=\"fa-solid fa-pencil\"></i> Exercice 2: Découverte des verbes de Pandas pour manipuler des données</h3>\n",
        "\n",
        "En premier lieu, on propose de se familiariser avec les opérations sur\n",
        "les colonnes.\n",
        "\n",
        "1.  Créer un *dataframe* `emissions_copy` ne conservant que les colonnes\n",
        "    `INSEE commune`, `Commune`, `Autres transports` et `Autres transports international`\n",
        "\n",
        "<details>\n",
        "\n",
        "<summary>\n",
        "\n",
        "Indice pour cette question\n",
        "\n",
        "</summary>\n",
        "\n",
        "![](https://minio.lab.sspcloud.fr/lgaliana/generative-art/pythonds/select_pandas.png)\n",
        "\n",
        "</details>\n",
        "\n",
        "1.  Comme les noms de variables sont peu pratiques, les renommer de la\n",
        "    manière suivante :\n",
        "    -   `INSEE commune` $\\to$ `code_insee`\n",
        "    -   `Autres transports` $\\to$ `transports`\n",
        "    -   `Autres transports international` $\\to$ `transports_international`\n",
        "\n",
        "<details>\n",
        "\n",
        "<summary>\n",
        "\n",
        "Indice pour cette question\n",
        "\n",
        "</summary>\n",
        "\n",
        "![](https://minio.lab.sspcloud.fr/lgaliana/generative-art/pythonds/rename_pandas.png)\n",
        "\n",
        "</details>\n",
        "\n",
        "1.  On propose, pour simplifier, de remplacer les valeurs manquantes (`NA`)\n",
        "    par la valeur 0. Utiliser la\n",
        "    méthode [`fillna`](https://pandas.pydata.org/docs/reference/api/pandas.DataFrame.fillna.html)\n",
        "    pour transformer les valeurs manquantes en 0.\n",
        "\n",
        "2.  Créer les variables suivantes :\n",
        "\n",
        "    -   `dep`: le département. Celui-ci peut être créé grâce aux deux premiers caractères de `code_insee` en appliquant la méthode `str` ;\n",
        "    -   `transports_total`: les émissions du secteur transports (somme des deux variables)\n",
        "\n",
        "<details>\n",
        "\n",
        "<summary>\n",
        "\n",
        "Indice pour cette question\n",
        "\n",
        "</summary>\n",
        "\n",
        "![](https://minio.lab.sspcloud.fr/lgaliana/generative-art/pythonds/mutate_pandas.png)\n",
        "\n",
        "</details>\n",
        "\n",
        "1.  Ordonner les données du plus gros pollueur au plus petit\n",
        "    puis ordonner les données\n",
        "    du plus gros pollueur au plus petit par département (du 01 au 95).\n",
        "\n",
        "<details>\n",
        "\n",
        "<summary>\n",
        "\n",
        "Indice pour cette question\n",
        "\n",
        "</summary>\n",
        "\n",
        "![](https://minio.lab.sspcloud.fr/lgaliana/generative-art/pythonds/arrange_pandas.png)\n",
        "\n",
        "</details>\n",
        "\n",
        "1.  Ne conserver que les communes appartenant aux départements 13 ou 31.\n",
        "    Ordonner ces communes du plus gros pollueur au plus petit.\n",
        "\n",
        "<details>\n",
        "\n",
        "<summary>\n",
        "\n",
        "Indice pour cette question\n",
        "\n",
        "</summary>\n",
        "\n",
        "![](https://minio.lab.sspcloud.fr/lgaliana/generative-art/pythonds/filter_pandas.png)\n",
        "\n",
        "</details>\n",
        "\n",
        "Revenir au jeu `emission` initial\n",
        "\n",
        "1.  Calculer les émissions totales par secteur. Calculer la part de chaque secteur dans les émissions totales. Transformer en tonnes les volumes avant d’afficher les résultats\n",
        "\n",
        "2.  Calculer pour chaque commune les émissions totales après avoir imputé les valeurs manquantes à 0. Garder les 100 communes les plus émettrices. Calculer la part de chaque secteur dans cette émission. Comprendre les facteurs pouvant expliquer ce classement.\n",
        "\n",
        "<details>\n",
        "\n",
        "<summary>\n",
        "\n",
        "Aide si vous êtes en difficulté sur la question 8\n",
        "\n",
        "</summary>\n",
        "\n",
        "Jouer avec le paramètre `axis` lors de la construction d’une statistique agrégée.\n",
        "\n",
        "</details>\n",
        "\n",
        "</div>\n",
        "\n",
        "A la question 5, quand on ordonne les communes exclusivement à partir de la variable `transports_total`, on obtient ainsi:"
      ],
      "id": "666ce016-4b23-47f2-beef-628b446823cd"
    },
    {
      "cell_type": "code",
      "execution_count": 78,
      "metadata": {},
      "outputs": [
        {
          "output_type": "display_data",
          "metadata": {},
          "data": {
            "text/html": [
              "\n",
              "</div>"
            ]
          }
        }
      ],
      "source": [],
      "id": "96f49f95"
    },
    {
      "cell_type": "markdown",
      "metadata": {},
      "source": [
        "A la question 6, on obtient ce classement :"
      ],
      "id": "82a8897b-b6b8-465d-abdb-dd32a36443ea"
    },
    {
      "cell_type": "code",
      "execution_count": 79,
      "metadata": {},
      "outputs": [
        {
          "output_type": "display_data",
          "metadata": {},
          "data": {
            "text/html": [
              "\n",
              "</div>"
            ]
          }
        }
      ],
      "source": [],
      "id": "a09af436"
    },
    {
      "cell_type": "markdown",
      "metadata": {},
      "source": [
        "A la question 7, le tableau obtenu ressemble à"
      ],
      "id": "9d370f2f-908e-47ef-9859-ee358e9cff28"
    },
    {
      "cell_type": "code",
      "execution_count": 80,
      "metadata": {},
      "outputs": [
        {
          "output_type": "display_data",
          "metadata": {},
          "data": {
            "text/html": [
              "\n",
              "</div>"
            ]
          }
        }
      ],
      "source": [],
      "id": "71df6516"
    },
    {
      "cell_type": "code",
      "execution_count": 81,
      "metadata": {},
      "outputs": [
        {
          "output_type": "display_data",
          "metadata": {},
          "data": {
            "text/html": [
              "\n",
              "<p>100 rows × 12 columns</p>\n",
              "</div>"
            ]
          }
        }
      ],
      "source": [],
      "id": "ec573304"
    },
    {
      "cell_type": "markdown",
      "metadata": {},
      "source": [
        "A l’issue de la question 8, on comprend un peu mieux les facteurs qui peuvent expliquer une forte émission au niveau communal. Si on regarde les trois principales communes émettrices, on peut remarquer qu’il s’agit de villes avec des raffineries:"
      ],
      "id": "5b3dc69e-4114-4ee1-904b-51ae404620c2"
    },
    {
      "cell_type": "code",
      "execution_count": 83,
      "metadata": {},
      "outputs": [
        {
          "output_type": "display_data",
          "metadata": {},
          "data": {
            "text/html": [
              "\n",
              "<p>3 rows × 24 columns</p>\n",
              "</div>"
            ]
          }
        }
      ],
      "source": [],
      "id": "351d545b"
    },
    {
      "cell_type": "markdown",
      "metadata": {},
      "source": [
        "Grâce à nos explorations minimales avec `Pandas`, on voit que ce jeu de données nous donne donc une information sur la nature du tissu productif français et des conséquences environnementales de certaines activités.\n",
        "\n",
        "# Références\n",
        "\n",
        "-   Le site\n",
        "    [pandas.pydata](https://pandas.pydata.org/pandas-docs/stable/user_guide/basics.html)\n",
        "    fait office de référence\n",
        "\n",
        "-   Le livre `Modern Pandas` de Tom Augspurger : https://tomaugspurger.github.io/modern-1-intro.html\n",
        "\n",
        "McKinney, Wes. 2012. *Python for data analysis: Data wrangling with Pandas, NumPy, and IPython*. \" O’Reilly Media, Inc.\".\n",
        "\n",
        "Wickham, Hadley, Mine Çetinkaya-Rundel, et Garrett Grolemund. 2023. *R for data science*. \" O’Reilly Media, Inc.\"."
      ],
      "id": "0a53fa7e-c181-4990-b0b6-004089b52f09"
    }
  ],
  "nbformat": 4,
  "nbformat_minor": 5,
  "metadata": {
    "kernelspec": {
      "name": "python3",
      "display_name": "Python 3 (ipykernel)",
      "language": "python",
      "path": "/opt/conda/share/jupyter/kernels/python3"
    },
    "language_info": {
      "name": "python",
      "codemirror_mode": {
        "name": "ipython",
        "version": "3"
      },
      "file_extension": ".py",
      "mimetype": "text/x-python",
      "nbconvert_exporter": "python",
      "pygments_lexer": "ipython3",
      "version": "3.12.6"
    }
  }
}