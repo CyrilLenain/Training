{
  "cells": [
    {
      "cell_type": "markdown",
      "metadata": {},
      "source": [
        "# A propos de ce site\n",
        "\n",
        "Lino Galiana  \n",
        "2024-10-31\n",
        "\n",
        "Site web du cours [*Python pour la data science*](https://www.ensae.fr/courses/1425-python-pour-le-data-scientist)\n",
        "<a href=\"https://github.com/linogaliana/python-datascientist\" class=\"github\"><i class=\"fab fa-python\"></i></a>, une introduction à `Python` pour\n",
        "la deuxième année du cursus d’ingénieur de l’[`ENSAE`](https://www.ensae.fr/) (Master 1).\n",
        "\n",
        "<br>\n",
        "\n",
        "L’ensemble du contenu de ce groupe est librement disponible ici\n",
        "ou sur [`Github`](https://github.com/linogaliana/python-datascientist)\n",
        "<a href=\"https://github.com/linogaliana/python-datascientist\" class=\"github\"><i class=\"fab fa-github\"></i></a> et peut être testé\n",
        "sous forme de *notebooks* `Jupyter`.\n",
        "\n",
        "<br>"
      ],
      "id": "ee5fc484-afc2-4b36-b24b-dd621186ac30"
    },
    {
      "cell_type": "raw",
      "metadata": {
        "raw_mimetype": "text/html"
      },
      "source": [
        "<details>"
      ],
      "id": "664639d3-416c-40d0-b323-36d0f97b3307"
    },
    {
      "cell_type": "raw",
      "metadata": {
        "raw_mimetype": "text/html"
      },
      "source": [
        "<summary>"
      ],
      "id": "e8d7745b-b6da-4a66-9723-d377c9c29161"
    },
    {
      "cell_type": "markdown",
      "metadata": {},
      "source": [
        "Exemple avec l’introduction à `Pandas`"
      ],
      "id": "dc0148f2-b79a-4b99-831b-d56e9aa3c4d9"
    },
    {
      "cell_type": "raw",
      "metadata": {
        "raw_mimetype": "text/html"
      },
      "source": [
        "</summary>"
      ],
      "id": "adabe647-4f2a-43db-8cde-58c40997618f"
    },
    {
      "cell_type": "code",
      "execution_count": null,
      "metadata": {},
      "outputs": [
        {
          "output_type": "display_data",
          "metadata": {},
          "data": {}
        }
      ],
      "source": [],
      "id": "25211af2-b701-4dc7-b913-0f11b3e3ccd6"
    },
    {
      "cell_type": "raw",
      "metadata": {
        "raw_mimetype": "text/html"
      },
      "source": [
        "</details>"
      ],
      "id": "04990a4f-a232-4f6f-857f-5bdaa784fa1d"
    },
    {
      "cell_type": "raw",
      "metadata": {
        "raw_mimetype": "text/html"
      },
      "source": [
        "<details>"
      ],
      "id": "ff9d2ca2-4bb7-45ce-9473-5ebda64fa595"
    },
    {
      "cell_type": "raw",
      "metadata": {
        "raw_mimetype": "text/html"
      },
      "source": [
        "<summary>"
      ],
      "id": "20b56de9-f635-496a-bed1-3dcb60124581"
    },
    {
      "cell_type": "markdown",
      "metadata": {},
      "source": [
        "Au programme:"
      ],
      "id": "36816b73-2f38-4b77-82ed-e38dcafcade9"
    },
    {
      "cell_type": "raw",
      "metadata": {
        "raw_mimetype": "text/html"
      },
      "source": [
        "</summary>"
      ],
      "id": "55dc8b53-5b50-4d46-b93d-106647bdade4"
    },
    {
      "cell_type": "markdown",
      "metadata": {},
      "source": [
        "Globalement, ce cours propose un contenu très complet pouvant autant\n",
        "satisfaire des débutants en\n",
        "*data science* que des personnes à la recherche de contenu plus avancé :\n",
        "<br>\n",
        "\n",
        "1.  **Manipulation de données** : manipulation de données standards (`Pandas`), données géographiques (`Geopandas`), récupération de données (webscraping, API)…\n",
        "2.  **Visualisation de données** : visualisations classiques (`Matplotlib`, `Seaborn`), cartographie, visualisations réactives (`Plotly`, `Folium`)\n",
        "3.  **Modélisation** : *machine learning* (`Scikit`), économétrie\n",
        "4.  **Traitement de données textuelles** (NLP): découverte de la tokenisation avec `NLTK` et `SpaCy`, modélisation…\n",
        "5.  **Introduction à la *data science* moderne** : *cloud computing*, `ElasticSearch`, intégration continue…\n",
        "\n",
        "L’ensemble du contenu de ce site s’appuie sur des **données\n",
        "ouvertes**, qu’il s’agisse de données françaises (principalement\n",
        "issues de la plateforme\n",
        "centralisatrice [`data.gouv`](https://www.data.gouv.fr) ou du site\n",
        "*web* de l’[Insee](https://www.insee.fr)) ou de données\n",
        "américaines. Le programme est présenté de manière linéaire dans la partie supérieure de cette page (👆️) ou de manière désordonnée ci-dessous (👇️).\n",
        "\n",
        "Un bon complément du contenu du site web est le cours que nous donnons avec Romain Avouac en dernière année de l’ENSAE plus tourné autour de la mise en production de projets *data science* : [https://ensae-reproductibilite.github.io/](https://ensae-reproductibilite.github.io/website/)"
      ],
      "id": "3341a1ae-678f-4355-8e03-0f886213ce47"
    },
    {
      "cell_type": "raw",
      "metadata": {
        "raw_mimetype": "text/html"
      },
      "source": [
        "</details>"
      ],
      "id": "43839389-8f85-4977-bf6f-da27403baa1f"
    },
    {
      "cell_type": "markdown",
      "metadata": {},
      "source": [
        ":::::\n",
        "\n",
        "![](https://minio.lab.sspcloud.fr/lgaliana/generative-art/pythonds/kiddos.png)\n",
        "\n",
        "::::\n",
        "\n",
        ":::"
      ],
      "id": "7765c34f-a8a0-406c-a478-cc1f98c1042e"
    }
  ],
  "nbformat": 4,
  "nbformat_minor": 5,
  "metadata": {
    "kernelspec": {
      "display_name": "Python 3",
      "language": "python",
      "name": "python3"
    }
  }
}