{
  "cells": [
    {
      "cell_type": "markdown",
      "metadata": {},
      "source": [
        "# Corrections\n",
        "\n",
        "Lino Galiana  \n",
        "2024-10-31\n",
        "\n",
        "Se rendre sur la page en question sur <https://pythonds.linogaliana.fr> pour consulter le contenu."
      ],
      "id": "900d24f5-3bb5-4ab1-9b55-e85cd79fa1e9"
    }
  ],
  "nbformat": 4,
  "nbformat_minor": 5,
  "metadata": {
    "kernelspec": {
      "display_name": "Python 3",
      "language": "python",
      "name": "python3"
    }
  }
}