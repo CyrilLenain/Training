{
  "cells": [
    {
      "cell_type": "markdown",
      "metadata": {},
      "source": [
        "# Mastering regular expressions\n",
        "\n",
        "Lino Galiana  \n",
        "2024-10-31\n",
        "\n",
        "<div class=\"badge-container\"><div class=\"badge-text\">If you want to try the examples in this tutorial:</div><a href=\"https://github.com/linogaliana/python-datascientist-notebooks/blob/main/notebooks/en/manipulation/04b_regex_TP.ipynb\" target=\"_blank\" rel=\"noopener\"><img src=\"https://img.shields.io/static/v1?logo=github&label=&message=View%20on%20GitHub&color=181717\" alt=\"View on GitHub\"></a>\n",
        "<a href=\"https://datalab.sspcloud.fr/launcher/ide/vscode-python?autoLaunch=true&name=«04b_regex_TP»&init.personalInit=«https%3A%2F%2Fraw.githubusercontent.com%2Flinogaliana%2Fpython-datascientist%2Fmain%2Fsspcloud%2Finit-vscode.sh»&init.personalInitArgs=«en/manipulation%2004b_regex_TP%20correction»\" target=\"_blank\" rel=\"noopener\"><img src=\"https://img.shields.io/badge/SSP%20Cloud-Lancer_avec_VSCode-blue?logo=visualstudiocode&logoColor=blue\" alt=\"Onyxia\"></a>\n",
        "<a href=\"https://datalab.sspcloud.fr/launcher/ide/jupyter-python?autoLaunch=true&name=«04b_regex_TP»&init.personalInit=«https%3A%2F%2Fraw.githubusercontent.com%2Flinogaliana%2Fpython-datascientist%2Fmain%2Fsspcloud%2Finit-jupyter.sh»&init.personalInitArgs=«en/manipulation%2004b_regex_TP%20correction»\" target=\"_blank\" rel=\"noopener\"><img src=\"https://img.shields.io/badge/SSP%20Cloud-Lancer_avec_Jupyter-orange?logo=Jupyter&logoColor=orange\" alt=\"Onyxia\"></a>\n",
        "<a href=\"https://colab.research.google.com/github/linogaliana/python-datascientist-notebooks//en/blob/main//notebooks/en/manipulation/04b_regex_TP.ipynb\" target=\"_blank\" rel=\"noopener\"><img src=\"https://colab.research.google.com/assets/colab-badge.svg\" alt=\"Open In Colab\"></a><br></div>\n",
        "\n",
        "<div class=\"alert alert-info\" role=\"alert\">\n",
        "<h3 class=\"alert-heading\">Version 🇫🇷</h3>\n",
        "This is the French version 🇫🇷 of that chapter,to see the English version go <a href=\"https://pythonds.linogaliana.fr/content/manipulation/04b_regex_TP.html\">there</a>\n",
        "</div>\n",
        "\n",
        "# 1. Introduction\n",
        "\n",
        "`Python` offers a lot of very useful functionalities for handling textual data. This is one of the reasons for its success in the natural language processing (NLP) community (see the dedicated section).\n",
        "\n",
        "In previous chapters, we sometimes needed to search for basic textual elements. This was possible with the `str.find` method from the `Pandas` package, which is a vectorized version of the basic `find` method. We could also use the basic method directly, especially when performing *web scraping*.\n",
        "\n",
        "However, this search function quickly reaches its limits. For instance, if we want to find both the singular and plural occurrences of a term, we will need to use the `find` method at least twice. For conjugated verbs, it becomes even more complex, especially if their form changes according to the subject.\n",
        "\n",
        "For complicated expressions, it is advisable to use **regular expressions** or *“regex”*. This is a feature found in many programming languages. It is a form of grammar that allows for searching for patterns.\n",
        "\n",
        "Part of the content in this section is an adaptation of the\n",
        "[collaborative documentation on `R` called `utilitR`](https://www.book.utilitr.org/03_fiches_thematiques/fiche_donnees_textuelles#regex) to which I contributed. This chapter also draws from the book [*R for Data Science*](https://r4ds.hadley.nz/regexps.html) which presents a very pedagogical chapter on regex.\n",
        "\n",
        "We will use the *package* `re` to illustrate our examples of regular expressions. This is the reference package used by `Pandas` in the background to vectorize text searches."
      ],
      "id": "790a1adb-2f24-40d7-9100-40297e3d42a4"
    },
    {
      "cell_type": "code",
      "execution_count": 1,
      "metadata": {},
      "outputs": [],
      "source": [
        "import re\n",
        "import pandas as pd\n"
      ],
      "id": "687e7ff2"
    },
    {
      "cell_type": "markdown",
      "metadata": {},
      "source": [
        "<div class=\"alert alert-success\" role=\"alert\">\n",
        "<h3 class=\"alert-heading\"><i class=\"fa-solid fa-lightbulb\"></i> Tip</h3>\n",
        "\n",
        "**Regular expressions (*regex*) are notoriously difficult to master.** There are tools that make working with regular expressions easier.\n",
        "\n",
        "-   The reference tool for this is \\[https://regex101.com/\\] which allows you to test `regex` in `Python` with an explanation accompanying the test.\n",
        "\n",
        "-   Similarly, [this site](https://ole.michelsen.dk/tools/regex/) has a cheat sheet at the bottom of the page.\n",
        "\n",
        "-   The [Regex Crossword](https://regexcrossword.com/) games allow you to learn regular expressions while having fun.\n",
        "\n",
        "It can be useful to ask assistant AIs, such as `Github Copilot` or `ChatGPT`, for a first version of a regex by explaining the content you want to extract. This can save a lot of time, except when the AI is overconfident and offers you a completely wrong regex…\n",
        "\n",
        "</div>\n",
        "\n",
        "# 2. Principle\n",
        "\n",
        "**Regular expressions are a tool used to describe a set of possible strings according to a precise syntax, and thus define a `pattern`.** Regular expressions are used, for example, when you want to extract a part of a string or replace a part of a string. A regular expression takes the form of a string, which can contain both literal elements and special characters with logical meaning.\n",
        "\n",
        "For example, `\"ch.+n\"` is a regular expression that describes the following pattern: the literal string `ch`, followed by any string of at least one character (`.+`), followed by the letter `n`. In the string `\"J'ai un chien.\"`, the substring `\"chien\"` matches this pattern. The same goes for `\"chapeau ron\"` in `\"J'ai un chapeau rond\"`. In contrast, in the string `\"La soupe est chaude.\"`, no substring matches this pattern (because no `n` appears after the `ch`).\n",
        "\n",
        "To convince ourselves, we can look at the first two cases:"
      ],
      "id": "e1a4a8ca-803a-425e-b75c-c8d584b1aaf7"
    },
    {
      "cell_type": "code",
      "execution_count": 2,
      "metadata": {},
      "outputs": [
        {
          "output_type": "stream",
          "name": "stdout",
          "text": [
            "None"
          ]
        }
      ],
      "source": [
        "pattern = \"ch.+n\"\n",
        "print(re.search(pattern, \"La soupe est chaude.\"))\n"
      ],
      "id": "c5fb5aba"
    },
    {
      "cell_type": "markdown",
      "metadata": {},
      "source": [
        "In the previous example, we had two adjacent quantifiers `.+`. The first (`.`) means any character[1]. The second (`+`) means *“repeat the previous pattern”*. In our case, the combination `.+` allows us to repeat any character before finding an *n*. The number of times is indeterminate: it may not be necessary to intersperse characters before the *n* or it may be necessary to capture several:\n",
        "\n",
        "[1] Any character except for the newline (`\\n`). Keep this in mind; I have already spent hours trying to understand why my `.` did not capture what I wanted spanning multiple lines…"
      ],
      "id": "4878df8b-8669-4ce3-b212-416a0fb3526a"
    },
    {
      "cell_type": "code",
      "execution_count": 3,
      "metadata": {},
      "outputs": [
        {
          "output_type": "stream",
          "name": "stdout",
          "text": [
            "<re.Match object; span=(8, 12), match='chin'>\n",
            "<re.Match object; span=(8, 25), match='chiot très mignon'>"
          ]
        }
      ],
      "source": [
        "print(re.search(pattern, \"J'ai un chino\"))\n",
        "print(re.search(pattern, \"J'ai un chiot très mignon.\"))\n"
      ],
      "id": "36d40153"
    },
    {
      "cell_type": "markdown",
      "metadata": {},
      "source": [
        "## 2.1 Character classes\n",
        "\n",
        "When searching, we are interested in characters and often in character classes: we look for a digit, a letter, a character in a specific set, or a character that does not belong to a specific set. Some sets are predefined, others must be defined using brackets.\n",
        "\n",
        "To define a character set, you need to write this set within brackets. For example, `[0123456789]` denotes a digit. Since it is a sequence of consecutive characters, we can summarize this notation as `[0-9]`.\n",
        "\n",
        "For example, if we want to find all patterns that start with a `c` followed by an `h` and then a vowel (a, e, i, o, u), we can try this regular expression:"
      ],
      "id": "bc7f2379-f64a-4edd-a70c-354dc4033196"
    },
    {
      "cell_type": "code",
      "execution_count": 4,
      "metadata": {},
      "outputs": [
        {
          "output_type": "display_data",
          "metadata": {},
          "data": {
            "text/plain": [
              "['cha', 'chi', 'che']"
            ]
          }
        }
      ],
      "source": [
        "re.findall(\"[c][h][aeiou]\", \"chat, chien, veau, vache, chèvre\")\n"
      ],
      "id": "db94b883"
    },
    {
      "cell_type": "markdown",
      "metadata": {},
      "source": [
        "It would be more practical to use `Pandas` in this case to isolate the lines that meet the logical condition (by adding the accents that are otherwise not included):"
      ],
      "id": "ca8c2212-642e-418e-a00c-6c6c9bee36a9"
    },
    {
      "cell_type": "code",
      "execution_count": 5,
      "metadata": {},
      "outputs": [
        {
          "output_type": "display_data",
          "metadata": {},
          "data": {
            "text/plain": [
              "0     True\n",
              "1     True\n",
              "2    False\n",
              "3    False\n",
              "4     True\n",
              "dtype: bool"
            ]
          }
        }
      ],
      "source": [
        "import pandas as pd\n",
        "\n",
        "txt = pd.Series(\"chat, chien, veau, vache, chèvre\".split(\", \"))\n",
        "txt.str.match(\"ch[aeéèiou]\")\n"
      ],
      "id": "9eb57bae"
    },
    {
      "cell_type": "markdown",
      "metadata": {},
      "source": [
        "However, the usage of character classes as shown above is not the most common. They are preferred for identifying complex patterns rather than a sequence of literal characters. Memory aid tables illustrate some of the most common character classes (`[:digit:]` or `\\d`…)\n",
        "\n",
        "## 2.2 Quantifiers\n",
        "\n",
        "We encountered quantifiers with our first regular expression. They control the number of times a pattern is matched.\n",
        "\n",
        "The most common are:\n",
        "\n",
        "-   `?` : 0 or 1 match;\n",
        "-   `+` : 1 or more matches;\n",
        "-   `*` : 0 or more matches.\n",
        "\n",
        "For example, `colou?r` will match both the American and British spellings:"
      ],
      "id": "cd1f6fcf-c9c2-46aa-875d-51cdfca35da6"
    },
    {
      "cell_type": "code",
      "execution_count": 6,
      "metadata": {},
      "outputs": [
        {
          "output_type": "display_data",
          "metadata": {},
          "data": {
            "text/plain": [
              "['color', 'colour']"
            ]
          }
        }
      ],
      "source": [
        "re.findall(\"colou?r\", \"Did you write color or colour?\")\n"
      ],
      "id": "a603041a"
    },
    {
      "cell_type": "markdown",
      "metadata": {},
      "source": [
        "These quantifiers can of course be combined with other types of characters, especially character classes. This can be extremely useful. For example, `\\d+` will capture one or more digits, `\\s?` will optionally add a space, `[\\w]{6,8}` will match a word between six and eight letters.\n",
        "\n",
        "It is also possible to define the number of repetitions with `{}`:\n",
        "\n",
        "-   `{n}` matches exactly *n* times;\n",
        "-   `{n,}` matches at least *n* times;\n",
        "-   `{n,m}` matches between *n* and *m* times.\n",
        "\n",
        "However, the repetition of terms by default only applies to the last character preceding the quantifier. We can confirm this with the example above:"
      ],
      "id": "dc0cc7ba-4b1e-42ea-8756-577536758174"
    },
    {
      "cell_type": "code",
      "execution_count": 7,
      "metadata": {},
      "outputs": [
        {
          "output_type": "stream",
          "name": "stdout",
          "text": [
            "None"
          ]
        }
      ],
      "source": [
        "print(re.match(\"toc{4}\", \"toctoctoctoc\"))\n"
      ],
      "id": "f3303ecc"
    },
    {
      "cell_type": "markdown",
      "metadata": {},
      "source": [
        "To address this issue, parentheses are used. The principle is the same as with numeric rules: parentheses allow for introducing hierarchy. To revisit the previous example, we get the expected result thanks to the parentheses:"
      ],
      "id": "4d5d52d6-ac00-4ee5-9bd8-5ba84dfc8f3a"
    },
    {
      "cell_type": "code",
      "execution_count": 8,
      "metadata": {},
      "outputs": [
        {
          "output_type": "stream",
          "name": "stdout",
          "text": [
            "<re.Match object; span=(0, 12), match='toctoctoctoc'>\n",
            "None\n",
            "<re.Match object; span=(0, 12), match='toctoctoctoc'>"
          ]
        }
      ],
      "source": [
        "print(re.match(\"(toc){4}\", \"toctoctoctoc\"))\n",
        "print(re.match(\"(toc){5}\", \"toctoctoctoc\"))\n",
        "print(re.match(\"(toc){2,4}\", \"toctoctoctoc\"))\n"
      ],
      "id": "bbac7535"
    },
    {
      "cell_type": "markdown",
      "metadata": {},
      "source": [
        "<div class=\"alert alert-info\" role=\"alert\">\n",
        "<h3 class=\"alert-heading\"><i class=\"fa-solid fa-comment\"></i> Note</h3>\n",
        "\n",
        "The regular expression algorithm always tries to match the largest piece to the regular expression.\n",
        "\n",
        "For example, consider an HTML string:\n",
        "\n",
        "``` python\n",
        "s = \"<h1>Super titre HTML</h1>\"\n",
        "```\n",
        "\n",
        "The regular expression `re.findall(\"<.*>\", s)` potentially matches three pieces:\n",
        "\n",
        "-   `<h1>`\n",
        "-   `</h1>`\n",
        "-   `<h1>Super titre HTML</h1>`\n",
        "\n",
        "It is the last one that will be chosen, as it is the largest. To select the smallest, you need to write the quantifiers like this: `*?`, `+?`. Here are a few examples:\n",
        "\n",
        "``` python\n",
        "s = \"<h1>Super titre HTML</h1>\\n<p><code>Python</code> est un langage très flexible</p>\"\n",
        "print(re.findall(\"<.*>\", s))\n",
        "print(re.findall(\"<p>.*</p>\", s))\n",
        "print(re.findall(\"<p>.*?</p>\", s))\n",
        "print(re.compile(\"<.*?>\").findall(s))\n",
        "```\n",
        "\n",
        "    ['<h1>Super titre HTML</h1>', '<p><code>Python</code> est un langage très flexible</p>']\n",
        "    ['<p><code>Python</code> est un langage très flexible</p>']\n",
        "    ['<p><code>Python</code> est un langage très flexible</p>']\n",
        "    ['<h1>', '</h1>', '<p>', '<code>', '</code>', '</p>']\n",
        "\n",
        "</div>\n",
        "\n",
        "## 2.3 Cheat sheet\n",
        "\n",
        "The table below serves as a cheat sheet for regex:\n",
        "\n",
        "| Regular expression | Meaning |\n",
        "|--------------------------|----------------------------------------------|\n",
        "| `\"^\"` | Start of the string |\n",
        "| `\"$\"` | End of the string |\n",
        "| `\"\\\\.\"` | A dot |\n",
        "| `\".\"` | Any character |\n",
        "| `\".+\"` | Any non-empty sequence of characters |\n",
        "| `\".*\"` | Any sequence of characters, possibly empty |\n",
        "| `\"[:alnum:]\"` | An alphanumeric character |\n",
        "| `\"[:alpha:]\"` | A letter |\n",
        "| `\"[:digit:]\"` | A digit |\n",
        "| `\"[:lower:]\"` | A lowercase letter |\n",
        "| `\"[:punct:]\"` | A punctuation mark |\n",
        "| `\"[:space:]\"` | A space |\n",
        "| `\"[:upper:]\"` | An uppercase letter |\n",
        "| `\"[[:alnum:]]+\"` | A sequence of at least one alphanumeric character |\n",
        "| `\"[[:alpha:]]+\"` | A sequence of at least one letter |\n",
        "| `\"[[:digit:]]+\"` | A sequence of at least one digit |\n",
        "| `\"[[:lower:]]+\"` | A sequence of at least one lowercase letter |\n",
        "| `\"[[:punct:]]+\"` | A sequence of at least one punctuation mark |\n",
        "| `\"[[:space:]]+\"` | A sequence of at least one space |\n",
        "| `\"[[:upper:]]+\"` | A sequence of at least one uppercase letter |\n",
        "| `\"[[:alnum:]]*\"` | A sequence of alphanumeric characters, possibly empty |\n",
        "| `\"[[:alpha:]]*\"` | A sequence of letters, possibly empty |\n",
        "| `\"[[:digit:]]*\"` | A sequence of digits, possibly empty |\n",
        "| `\"[[:lower:]]*\"` | A sequence of lowercase letters, possibly empty |\n",
        "| `\"[[:upper:]]*\"` | A sequence of uppercase letters, possibly empty |\n",
        "| `\"[[:punct:]]*\"` | A sequence of punctuation marks, possibly empty |\n",
        "| `\"[^[:alpha:]]+\"` | A sequence of at least one character that is not a letter |\n",
        "| `\"[^[:digit:]]+\"` | A sequence of at least one character that is not a digit |\n",
        "| `\"\\|\"` | Either the expression `x` or `y` is present |\n",
        "| `[abyz]` | One of the specified characters |\n",
        "| `[abyz]+` | One or more of the specified characters (possibly repeated) |\n",
        "| `[^abyz]` | None of the specified characters are present |\n",
        "\n",
        "Some character classes have lighter syntax because they are very common. Among them:\n",
        "\n",
        "| Regular expression | Meaning                                      |\n",
        "|--------------------|----------------------------------------------|\n",
        "| `\\d`               | Any digit                                    |\n",
        "| `\\D`               | Any character that is not a digit            |\n",
        "| `\\s`               | Any space (space, tab, newline)              |\n",
        "| `\\S`               | Any character that is not a space            |\n",
        "| `\\w`               | Any word character (letters and numbers)     |\n",
        "| `\\W`               | Any non-word character (letters and numbers) |\n",
        "\n",
        "In the following exercise, you will be able to practice the previous examples on a slightly more complete `regex`. This exercise does not require knowledge of the nuances of the `re` package; you will only need `re.findall`.\n",
        "\n",
        "This exercise will use the following string:"
      ],
      "id": "f94d6265-12b2-47e0-925e-08586be5719a"
    },
    {
      "cell_type": "code",
      "execution_count": 11,
      "metadata": {},
      "outputs": [
        {
          "output_type": "display_data",
          "metadata": {},
          "data": {
            "text/plain": [
              "'date 0 : 14/9/2000\\ndate 1 : 20/04/1971     date 2 : 14/09/1913     date 3 : 2/3/1978\\ndate 4 : 1/7/1986     date 5 : 7/3/47     date 6 : 15/10/1914\\ndate 7 : 08/03/1941     date 8 : 8/1/1980     date 9 : 30/6/1976'"
            ]
          }
        }
      ],
      "source": [
        "s = \"\"\"date 0 : 14/9/2000\n",
        "date 1 : 20/04/1971     date 2 : 14/09/1913     date 3 : 2/3/1978\n",
        "date 4 : 1/7/1986     date 5 : 7/3/47     date 6 : 15/10/1914\n",
        "date 7 : 08/03/1941     date 8 : 8/1/1980     date 9 : 30/6/1976\"\"\"\n",
        "s\n"
      ],
      "id": "8a1fa051"
    },
    {
      "cell_type": "markdown",
      "metadata": {},
      "source": [
        "<div class=\"alert alert-success\" role=\"alert\">\n",
        "<h3 class=\"alert-heading\"><i class=\"fa-solid fa-pencil\"></i> Exercise 1</h3>\n",
        "\n",
        "1.  First, extract the day of birth.\n",
        "    -   The first digit of the day is 0, 1, 2, or 3. Translate this into a `[X-X]` sequence.\n",
        "    -   The second digit of the day is between 0 and 9. Translate this into the appropriate sequence.\n",
        "    -   Note that the first digit of the day is optional. Insert the appropriate quantifier between the two character classes.\n",
        "    -   Add the slash after the pattern.\n",
        "    -   Test with `re.findall`. You should get many more matches than needed. This is normal; at this stage, the regex is not yet finalized.\n",
        "2.  Follow the same logic for the months, noting that Gregorian calendar months never exceed the first dozen. Test with `re.findall`.\n",
        "3.  Do the same for the birth years, noting that, unless proven otherwise, for people alive today, the relevant millennia are limited. Test with `re.findall`.\n",
        "4.  This regex is not natural; one could be satisfied with generic character classes `\\d`, even though they might practically select impossible birth dates (e.g., `43/78/4528`). This would simplify the regex, making it more readable. Don’t forget the usefulness of quantifiers.\n",
        "5.  How can the regex be adapted to always be valid for our cases but also capture dates of the type `YYYY/MM/DD`? Test with `1998/07/12`.\n",
        "\n",
        "</div>\n",
        "\n",
        "At the end of question 1, you should have this result:"
      ],
      "id": "9bfdf762-3275-45b2-a7a7-446c325cbd34"
    },
    {
      "cell_type": "code",
      "execution_count": 21,
      "metadata": {},
      "outputs": [
        {
          "output_type": "display_data",
          "metadata": {},
          "data": {
            "text/plain": [
              "['14/',\n",
              " '9/',\n",
              " '20/',\n",
              " '04/',\n",
              " '14/',\n",
              " '09/',\n",
              " '2/',\n",
              " '3/',\n",
              " '1/',\n",
              " '7/',\n",
              " '7/',\n",
              " '3/',\n",
              " '15/',\n",
              " '10/',\n",
              " '08/',\n",
              " '03/',\n",
              " '8/',\n",
              " '1/',\n",
              " '30/',\n",
              " '6/']"
            ]
          }
        }
      ],
      "source": [],
      "id": "96ad5b5e"
    },
    {
      "cell_type": "markdown",
      "metadata": {},
      "source": [
        "At the end of question 2, you should have this result, which is starting to take shape:"
      ],
      "id": "54712235-cc59-4033-9c0f-2fefb42b4505"
    },
    {
      "cell_type": "code",
      "execution_count": 22,
      "metadata": {},
      "outputs": [
        {
          "output_type": "display_data",
          "metadata": {},
          "data": {
            "text/plain": [
              "['14/9',\n",
              " '20/04',\n",
              " '14/09',\n",
              " '2/3',\n",
              " '1/7',\n",
              " '7/3',\n",
              " '15/10',\n",
              " '08/03',\n",
              " '8/1',\n",
              " '30/6']"
            ]
          }
        }
      ],
      "source": [],
      "id": "74713f0c"
    },
    {
      "cell_type": "markdown",
      "metadata": {},
      "source": [
        "At the end of question 3, you should be able to extract the dates:"
      ],
      "id": "2b9f0303-e45f-45f8-85b0-36f5f259e475"
    },
    {
      "cell_type": "code",
      "execution_count": 23,
      "metadata": {},
      "outputs": [
        {
          "output_type": "display_data",
          "metadata": {},
          "data": {
            "text/plain": [
              "['14/9/2000',\n",
              " '20/04/1971',\n",
              " '14/09/1913',\n",
              " '2/3/1978',\n",
              " '1/7/1986',\n",
              " '7/3/47',\n",
              " '15/10/1914',\n",
              " '08/03/1941',\n",
              " '8/1/1980',\n",
              " '30/6/1976']"
            ]
          }
        }
      ],
      "source": [],
      "id": "8a0be9a0"
    },
    {
      "cell_type": "markdown",
      "metadata": {},
      "source": [
        "If all goes well, by question 5, your regex should work:"
      ],
      "id": "0c1d18d8-2b2b-456f-97d0-1be890093680"
    },
    {
      "cell_type": "code",
      "execution_count": 24,
      "metadata": {},
      "outputs": [
        {
          "output_type": "display_data",
          "metadata": {},
          "data": {
            "text/plain": [
              "['14/9/2000',\n",
              " '20/04/1971',\n",
              " '14/09/1913',\n",
              " '2/3/1978',\n",
              " '1/7/1986',\n",
              " '7/3/47',\n",
              " '15/10/1914',\n",
              " '08/03/1941',\n",
              " '8/1/1980',\n",
              " '30/6/1976',\n",
              " '1998/07/12']"
            ]
          }
        }
      ],
      "source": [],
      "id": "9e91bbe8"
    },
    {
      "cell_type": "markdown",
      "metadata": {},
      "source": [
        "# 3. Main `re` functions\n",
        "\n",
        "Here is a summary table of the main functions of the `re` package with examples.\n",
        "\n",
        "We have mainly used `re.findall` so far, which is one of the most practical functions in the package. `re.sub` and `re.search` are also quite useful. The others are less critical but can be helpful in specific cases.\n",
        "\n",
        "| Function | Purpose |\n",
        "|-------------------------------------|-----------------------------------|\n",
        "| `re.match(<regex>, s)` | Find and return the **first** match of the regular expression `<regex>` **from the beginning** of the string `s` |\n",
        "| `re.search(<regex>, s)` | Find and return the **first** match of the regular expression `<regex>` **regardless of its position** in the string `s` |\n",
        "| `re.finditer(<regex>, s)` | Find and return an iterator storing all matches of the regular expression `<regex>` **regardless of their position(s)** in the string `s`. Typically, a loop is performed over this iterator |\n",
        "| `re.findall(<regex>, s)` | Find and return **all matches** of the regular expression `<regex>` **regardless of their position(s)** in the string `s` as a **list** |\n",
        "| `re.sub(<regex>, new_text, s)` | Find and **replace all** matches of the regular expression `<regex>` **regardless of their position(s)** in the string `s` |\n",
        "\n",
        "To illustrate these functions, here are some examples:"
      ],
      "id": "67588422-e7c8-48e2-bfb9-b6f2c5eeeb9f"
    },
    {
      "cell_type": "markdown",
      "metadata": {},
      "source": [
        "<details><summary>Example of <code>re.match</code> 👇</summary>\n",
        "\n",
        "`re.match` can only capture a pattern at the start of a string. Its utility is thus limited. Let’s capture `toto`:\n",
        "\n",
        "``` python\n",
        "re.match(\"(to){2}\", \"toto at the beach\")\n",
        "```\n",
        "\n",
        "    <re.Match object; span=(0, 4), match='toto'>\n",
        "\n",
        "</details>"
      ],
      "id": "6565dd74-1a8c-4b43-b597-9e22184b07da"
    },
    {
      "cell_type": "markdown",
      "metadata": {},
      "source": [
        "<details><summary>Example of <code>re.search</code> 👇</summary>\n",
        "\n",
        "`re.search` is more powerful than `re.match`, allowing capture of terms regardless of their position in a string. For example, to capture *age*:\n",
        "\n",
        "``` python\n",
        "re.search(\"age\", \"toto is of age to go to the beach\")\n",
        "```\n",
        "\n",
        "    <re.Match object; span=(11, 14), match='age'>\n",
        "\n",
        "And to capture exclusively *“age”* at the end of the string:\n",
        "\n",
        "``` python\n",
        "re.search(\"age$\", \"toto is of age to go to the beach\")\n",
        "```\n",
        "\n",
        "</details>"
      ],
      "id": "d19ab643-7247-46fd-afed-b8d82ee215f1"
    },
    {
      "cell_type": "markdown",
      "metadata": {},
      "source": [
        "<details><summary>Example of <code>re.finditer</code> 👇</summary>\n",
        "\n",
        "`re.finditer` is, in my opinion, less practical than `re.findall`. Its main use compared to `re.findall` is capturing the position within a text field:\n",
        "\n",
        "``` python\n",
        "s = \"toto is of age to go to the beach\"\n",
        "for match in re.finditer(\"age\", s):\n",
        "    start = match.start()\n",
        "    end = match.end()\n",
        "    print(f'String match \"{s[start:end]}\" at {start}:{end}')\n",
        "```\n",
        "\n",
        "    String match \"age\" at 11:14\n",
        "\n",
        "</details>"
      ],
      "id": "bfc199bd-ab8b-4014-8bc9-12eab531f8e9"
    },
    {
      "cell_type": "markdown",
      "metadata": {},
      "source": [
        "<details><summary>Example of <code>re.sub</code> 👇</summary>\n",
        "\n",
        "`re.sub` allows capturing and replacing expressions. For example, let’s replace *“age”* with *“âge”*. But be careful, you don’t want to do this when the pattern is present in *“beach”*. So, we’ll add a negative condition: capture *“age”* only if it is not at the end of the string (which translates to regex as `?!$`).\n",
        "\n",
        "``` python\n",
        "re.sub(\"age(?!$)\", \"âge\", \"toto a l'age d'aller à la plage\")\n",
        "```\n",
        "\n",
        "    \"toto a l'âge d'aller à la plage\"\n",
        "\n",
        "</details>"
      ],
      "id": "5aafb64a-f21d-4f2c-b794-88f79bb5a07c"
    },
    {
      "cell_type": "markdown",
      "metadata": {},
      "source": [
        "<div class=\"alert alert-success\" role=\"alert\">\n",
        "<h3 class=\"alert-heading\"><i class=\"fa-solid fa-lightbulb\"></i> When to use re.compile and raw strings?</h3>\n",
        "\n",
        "`re.compile` can be useful when you use a regular expression multiple times in your code. It allows you to compile the regular expression into an object recognized by `re`, which can be more efficient in terms of performance when the regular expression is used repeatedly or on large data sets.\n",
        "\n",
        "Raw strings (`raw string`) are special strings in `Python` that start with `r`. For example, `r\"toto at the beach\"`. They can be useful to prevent escape characters from being interpreted by `Python`. For instance, if you want to search for a string containing a backslash `\\` in a string, you need to use a raw string to prevent the backslash from being interpreted as an escape character (`\\t`, `\\n`, etc.). The tester <https://regex101.com/> also assumes you are using raw strings, so it can be useful to get used to them.\n",
        "\n",
        "</div>\n",
        "\n",
        "# 4. Generalization with `Pandas`\n",
        "\n",
        "`Pandas` methods are extensions of those in `re` that avoid looping to check each line with a regex. In practice, when working with `DataFrames`, the `pandas` API is preferred over `re`. Code of the form `df.apply(lambda x: re.<function>(<regex>,x), axis = 1)` should be avoided as it is very inefficient.\n",
        "\n",
        "The names sometimes change slightly compared to their `re` equivalents.\n",
        "\n",
        "| Method | Description |\n",
        "|-----------------------------------------|-------------------------------|\n",
        "| `str.count()` | Count the number of occurrences of the pattern in each line |\n",
        "| `str.replace()` | Replace the pattern with another value. Vectorized version of `re.sub()` |\n",
        "| `str.contains()` | Test if the pattern appears, line by line. Vectorized version of `re.search()` |\n",
        "| `str.extract()` | Extract groups that match a pattern and return them in a column |\n",
        "| `str.findall()` | Find and return all occurrences of a pattern. If a line contains multiple matches, a list is returned. Vectorized version of `re.findall()` |\n",
        "\n",
        "Additionally, there are `str.split()` and `str.rsplit()` methods which are quite useful."
      ],
      "id": "81ee4b9d-feb3-4ee0-aea8-0e23405cba80"
    },
    {
      "cell_type": "markdown",
      "metadata": {},
      "source": [
        "<details><summary>Example of <code>str.count</code> 👇</summary>\n",
        "\n",
        "You can count the number of times a pattern appears with `str.count`:\n",
        "\n",
        "``` python\n",
        "df = pd.DataFrame({\"a\": [\"toto\", \"titi\"]})\n",
        "df[\"a\"].str.count(\"to\")\n",
        "```\n",
        "\n",
        "    0    2\n",
        "    1    0\n",
        "    Name: a, dtype: int64\n",
        "\n",
        "</details>"
      ],
      "id": "bbaef31a-bdc9-41c0-be01-620dac108f80"
    },
    {
      "cell_type": "markdown",
      "metadata": {},
      "source": [
        "<details><summary>Example of <code>str.replace</code> 👇</summary>\n",
        "\n",
        "Replace the pattern *“ti”* at the end of the string:\n",
        "\n",
        "``` python\n",
        "df = pd.DataFrame({\"a\": [\"toto\", \"titi\"]})\n",
        "df[\"a\"].str.replace(\"ti$\", \" punch\")\n",
        "```\n",
        "\n",
        "    0    toto\n",
        "    1    titi\n",
        "    Name: a, dtype: object\n",
        "\n",
        "</details>"
      ],
      "id": "1b42d0c1-8db4-4367-ba2b-b817f531bd31"
    },
    {
      "cell_type": "markdown",
      "metadata": {},
      "source": [
        "<details><summary>Example of <code>str.contains</code> 👇</summary>\n",
        "\n",
        "Check the cases where our line ends with *“ti”*:\n",
        "\n",
        "``` python\n",
        "df = pd.DataFrame({\"a\": [\"toto\", \"titi\"]})\n",
        "df[\"a\"].str.contains(\"ti$\")\n",
        "```\n",
        "\n",
        "    0    False\n",
        "    1     True\n",
        "    Name: a, dtype: bool\n",
        "\n",
        "</details>"
      ],
      "id": "b2b6bc73-4865-4412-9bc9-483ee1c6430e"
    },
    {
      "cell_type": "markdown",
      "metadata": {},
      "source": [
        "<details><summary>Example of <code>str.findall</code> 👇</summary>\n",
        "\n",
        "``` python\n",
        "df = pd.DataFrame({\"a\": [\"toto\", \"titi\"]})\n",
        "df[\"a\"].str.findall(\"to\")\n",
        "```\n",
        "\n",
        "    0    [to, to]\n",
        "    1          []\n",
        "    Name: a, dtype: object\n",
        "\n",
        "</details>"
      ],
      "id": "c1d7165f-eb34-444c-962f-eacf48ba015a"
    },
    {
      "cell_type": "markdown",
      "metadata": {},
      "source": [
        "<div class=\"alert alert-danger\" role=\"alert\">\n",
        "<h3 class=\"alert-heading\"><i class=\"fa-solid fa-triangle-exclamation\"></i> Warning</h3>\n",
        "\n",
        "Currently, it is not necessary to add the `regex = True` argument, but this should be the case in a future version of `pandas`. It might be worth getting into the habit of adding it.\n",
        "\n",
        "</div>\n",
        "\n",
        "# 5. For more information\n",
        "\n",
        "-   [Collaborative documentation on `R` named `utilitR`](https://www.book.utilitr.org/03_fiches_thematiques/fiche_donnees_textuelles#regex)\n",
        "-   [*R for Data Science*](https://r4ds.hadley.nz/regexps.html)\n",
        "-   [*Regular Expression HOWTO* in the official `Python` documentation](https://docs.python.org/3/howto/regex.html)\n",
        "-   The reference tool \\[https://regex101.com/\\] for testing regular expressions\n",
        "-   [This site](https://ole.michelsen.dk/tools/regex/) which has a cheat sheet at the bottom of the page.\n",
        "-   The games on [Regex Crossword](https://regexcrossword.com/) allow you to learn regular expressions while having fun\n",
        "\n",
        "# 6. Additional exercises\n",
        "\n",
        "## 6.1 Extracting email addresses\n",
        "\n",
        "This is a classic use of *regex*"
      ],
      "id": "85d4fd43-0b17-4553-a774-132961565c7e"
    },
    {
      "cell_type": "code",
      "execution_count": 43,
      "metadata": {},
      "outputs": [],
      "source": [
        "text_emails = (\n",
        "    \"Hello from toto@gmail.com to titi.grominet@yahoo.com about the meeting @2PM\"\n",
        ")\n"
      ],
      "id": "06073639"
    },
    {
      "cell_type": "markdown",
      "metadata": {},
      "source": [
        "<div class=\"alert alert-success\" role=\"alert\">\n",
        "<h3 class=\"alert-heading\"><i class=\"fa-solid fa-pencil\"></i> Exercise 2: Extracting email addresses</h3>\n",
        "\n",
        "Use the structure of an email address `[XXXX]@[XXXX]` to retrieve this content.\n",
        "\n",
        "</div>"
      ],
      "id": "3c70b134-a57b-4c9a-b1fa-8775a1de3cf0"
    },
    {
      "cell_type": "code",
      "execution_count": 45,
      "metadata": {},
      "outputs": [
        {
          "output_type": "display_data",
          "metadata": {},
          "data": {
            "text/plain": [
              "['toto@gmail.com', 'titi.grominet@yahoo.com']"
            ]
          }
        }
      ],
      "source": [],
      "id": "b9095782"
    },
    {
      "cell_type": "markdown",
      "metadata": {},
      "source": [
        "## 6.2 Extracting years from a `pandas` `DataFrame`\n",
        "\n",
        "The general objective of the exercise is to clean columns in a DataFrame using regular expressions.\n",
        "\n",
        "<div class=\"alert alert-success\" role=\"alert\">\n",
        "<h3 class=\"alert-heading\"><i class=\"fa-solid fa-pencil\"></i> Exercise 3</h3>\n",
        "\n",
        "The dataset in question contains books from the British Library and some related information. The dataset is available here: https://raw.githubusercontent.com/realpython/python-data-cleaning/master/Datasets/BL-Flickr-Images-Book.csv\n",
        "\n",
        "The “Date of Publication” column is not always a year; sometimes there are other details. The goal of the exercise is to have **a clean book publication date** and to examine the **distribution of publication years**.\n",
        "\n",
        "To do this, you can:\n",
        "\n",
        "-   Either choose to perform the exercise without help. Your **reading of the instructions ends here**. You should carefully examine the dataset and transform it yourself.\n",
        "\n",
        "-   Or follow the step-by-step instructions below.\n",
        "\n",
        "<details><summary>Guided version 👇</summary>\n",
        "\n",
        "1.  Read the data from the URL `https://raw.githubusercontent.com/realpython/python-data-cleaning/master/Datasets/BL-Flickr-Images-Book.csv`. Be careful with the separator.\n",
        "2.  Keep only the columns `['Identifier', 'Place of Publication', 'Date of Publication', 'Publisher', 'Title', 'Author']`.\n",
        "3.  Observe the *‘Date of Publication’* column and note the issues with some rows (e.g., row 13).\n",
        "4.  Start by looking at the number of missing values. We cannot do better after regex, and normally we should not have fewer…\n",
        "5.  Determine the regex pattern for a publication date. Presumably, there are 4 digits forming a year. Use the `str.extract()` method with the `expand = False` argument (to keep only the first date matching our pattern)?\n",
        "6.  We have 2 `NaN` values that were not present at the start of the exercise. What are they and why?\n",
        "7.  What is the distribution of publication dates in the dataset? You can, for example, display a histogram using the `plot` method with the `kind = \"hist\"` argument.\n",
        "\n",
        "</summary>\n",
        "\n",
        "</div>\n",
        "\n",
        "Here is an example of the problem to detect in question 3:"
      ],
      "id": "e2cf55cd-b95f-4caf-a770-ed751b40fb66"
    },
    {
      "cell_type": "code",
      "execution_count": 48,
      "metadata": {},
      "outputs": [
        {
          "output_type": "display_data",
          "metadata": {},
          "data": {
            "text/html": [
              "\n",
              "</div>"
            ]
          }
        }
      ],
      "source": [],
      "id": "c8ab6a69"
    },
    {
      "cell_type": "markdown",
      "metadata": {},
      "source": [
        "Question 4 answer should be"
      ],
      "id": "97beb0b2-2a9d-4a2d-80ce-38cb13580fbd"
    },
    {
      "cell_type": "code",
      "execution_count": 49,
      "metadata": {},
      "outputs": [
        {
          "output_type": "display_data",
          "metadata": {},
          "data": {
            "text/plain": [
              "181"
            ]
          }
        }
      ],
      "source": [],
      "id": "65168c81"
    },
    {
      "cell_type": "markdown",
      "metadata": {},
      "source": [
        "With our regex (question 5), we obtain a `DataFrame` that is more in line with our expectations:"
      ],
      "id": "7416b437-3f0f-4872-a2fe-76193477956b"
    },
    {
      "cell_type": "code",
      "execution_count": 51,
      "metadata": {},
      "outputs": [
        {
          "output_type": "display_data",
          "metadata": {},
          "data": {
            "text/html": [
              "\n",
              "<p>1759 rows × 2 columns</p>\n",
              "</div>"
            ]
          }
        }
      ],
      "source": [],
      "id": "7f14862b"
    },
    {
      "cell_type": "markdown",
      "metadata": {},
      "source": [
        "As for the new `NaN` values, they are rows that did not contain any strings resembling years:"
      ],
      "id": "3b3980bf-4d65-4481-af19-8c8c4a9331e3"
    },
    {
      "cell_type": "code",
      "execution_count": 52,
      "metadata": {},
      "outputs": [
        {
          "output_type": "display_data",
          "metadata": {},
          "data": {
            "text/html": [
              "\n",
              "</div>"
            ]
          }
        }
      ],
      "source": [],
      "id": "eb97801e"
    },
    {
      "cell_type": "markdown",
      "metadata": {},
      "source": [
        "Finally, we obtain the following histogram of publication dates:"
      ],
      "id": "a33ce63f-d778-4d9f-9c89-9af4b4618a6e"
    },
    {
      "cell_type": "code",
      "execution_count": 53,
      "metadata": {},
      "outputs": [
        {
          "output_type": "display_data",
          "metadata": {},
          "data": {
            "image/png": "[encoded data removed]"
          }
        }
      ],
      "source": [],
      "id": "112a9af4"
    }
  ],
  "nbformat": 4,
  "nbformat_minor": 5,
  "metadata": {
    "kernelspec": {
      "name": "python3",
      "display_name": "Python 3 (ipykernel)",
      "language": "python",
      "path": "/opt/conda/share/jupyter/kernels/python3"
    },
    "language_info": {
      "name": "python",
      "codemirror_mode": {
        "name": "ipython",
        "version": "3"
      },
      "file_extension": ".py",
      "mimetype": "text/x-python",
      "nbconvert_exporter": "python",
      "pygments_lexer": "ipython3",
      "version": "3.12.6"
    }
  }
}