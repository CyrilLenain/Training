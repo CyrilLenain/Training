{
  "cells": [
    {
      "cell_type": "markdown",
      "metadata": {},
      "source": [
        "# Exercices supplémentaires\n",
        "\n",
        "Lino Galiana  \n",
        "2024-10-31\n",
        "\n",
        "Cette page approfondit certains aspects présentés dans les autres tutoriels.\n",
        "Il s’agit d’une suite d’exercice, avec corrections, pour présenter d’autres aspects du NLP ou pratiquer sur des données différentes.\n",
        "\n",
        "# 1. NLP & Sentiment Analysis : Analyse textuelle des commentaires Trustpilot\n",
        "\n",
        "Pour en savoir plus sur le sentiment analysis, vous pouvez regarder le sujet 5 de l’édition 2023 du Funathon, disponible sur [Github](https://github.com/InseeFrLab/funathon2023_sujet5/) ou sur le [SSP Cloud](https://datalab.sspcloud.fr/launcher/ide/jupyter-python?autoLaunch=true&init.personalInit=%C2%ABhttps%3A%2F%2Fraw.githubusercontent.com%2FInseeFrLab%2Ffunathon2023_sujet5%2Fmain%2Finit.sh%C2%BB). Très guidé, ce sujet vous permettra d’avoir les bases sur un projet lié à de l’analyse textuelle.\n",
        "\n",
        "Là où la première partie consiste en quelques petits rappels sur le web scraping, la seconde consiste à analyser les données collectées.\n",
        "En particulier, étant donné que l’on dispose des commentaires laissés par les clients ainsi que leur note, il est intéressant de se demander dans quelle mesure il est possible de prédire la note laissée par un client selon l’évaluation associée.\n",
        "Pour ce faire, on va devoir coupler les méthodes de traitement du langage naturel (NLP) et celles d’apprentissage statistique (machine learning).\n",
        "\n",
        "# 2. Exploration des libellés de l’openfood database\n",
        "\n",
        "{{% box status=“exercise” title=“Exercise: les noms de produits dans l’openfood database” icon=“fas fa-pencil-alt” %}}\n",
        "L’objectif de cet exercice est d’analyser les termes les plus fréquents\n",
        "dans les noms de produits de l’openfood database. Au passage, cela permet de réviser les étapes de *preprocessing* (LIEN XXXXX) et d’explorer les enjeux de reconnaissance d’entités nommées.\n",
        "{{% /box %}}\n",
        "\n",
        "Dans cet exercice:\n",
        "\n",
        "-   tokenisation (`nltk`)\n",
        "-   retrait des stop words (`nltk`)\n",
        "-   nuage de mots (`wordcloud`)\n",
        "-   reconnaissance du langage (`fasttext`)\n",
        "-   reconnaissance d’entités nommées (`spacy`)\n",
        "\n",
        "le tout sur l’OpenFood Database, une base de données alimentaire qui est enrichie de manière collaborative.\n",
        "\n",
        "{{% box status=“hint” title=“Hint” icon=“fa fa-lightbulb” %}}\n",
        "Pour pouvoir utiliser les modèles pré-entraînés de `spaCy`, il faut les télécharger. La méthode préconisée est d’utiliser, depuis un terminal, la commande suivante\n",
        "\n",
        "``` python\n",
        "python -m spacy download fr_core_news_sm\n",
        "```\n",
        "\n",
        "Dans un notebook jupyter, il se peut qu’il soit nécessaire de relancer le kernel.\n",
        "\n",
        "Si l’accès à la ligne de commande n’est pas possible, ou si la commande échoue, il est possible de télécharger le modèle pré-entraîné directement depuis une session `Python`\n",
        "\n",
        "``` python\n",
        "import spacy\n",
        "\n",
        "spacy.cli.download(\"fr_core_news_sm\")\n",
        "```\n",
        "\n",
        "{{% /box %}}\n",
        "\n",
        "1.  Importer le modèle de reconnaissance de langage qui sera utilisé par la suite\n",
        "    ainsi que le corpus Français utilisé par `spacy`"
      ],
      "id": "319373e4-7242-4380-a2dc-6236cfb33ddd"
    },
    {
      "cell_type": "code",
      "execution_count": 1,
      "metadata": {},
      "outputs": [],
      "source": [
        "import tempfile\n",
        "import os\n",
        "import spacy\n",
        "\n",
        "temp_dir = tempfile.NamedTemporaryFile()\n",
        "temp_dir = temp_dir.name\n",
        "\n",
        "os.system(\n",
        "    \"wget -O {} https://dl.fbaipublicfiles.com/fasttext/supervised-models/lid.176.bin\".format(\n",
        "        \"%s.model.bin\" % temp_dir\n",
        "    )\n",
        ")\n",
        "spacy.cli.download(\"fr_core_news_sm\")\n"
      ],
      "id": "390b61c7"
    },
    {
      "cell_type": "markdown",
      "metadata": {},
      "source": [
        "1.  Importer les données de l’[openfood database](https://fr.openfoodfacts.org/data) à partir du code suivant"
      ],
      "id": "dca9d026-599b-4e27-81bd-46bcb95002af"
    },
    {
      "cell_type": "code",
      "execution_count": 2,
      "metadata": {},
      "outputs": [],
      "source": [
        "import pandas as pd\n",
        "import urllib.request\n",
        "\n",
        "\n",
        "urllib.request.urlretrieve(\n",
        "    \"https://static.openfoodfacts.org/data/en.openfoodfacts.org.products.csv\",\n",
        "    \"%s.openfood.csv\" % temp_dir,\n",
        ")\n",
        "df_openfood = pd.read_csv(\n",
        "    \"%s.openfood.csv\" % temp_dir,\n",
        "    delimiter=\"\\t\",\n",
        "    usecols=[\"product_name\"],\n",
        "    encoding=\"utf-8\",\n",
        "    dtype=\"str\",\n",
        ")\n"
      ],
      "id": "366df8a7"
    },
    {
      "cell_type": "markdown",
      "metadata": {},
      "source": [
        "Ces données devraient avoir l’aspect suivant :"
      ],
      "id": "577a1754-ace9-491e-adce-1f2c1785ed0f"
    },
    {
      "cell_type": "code",
      "execution_count": 3,
      "metadata": {},
      "outputs": [],
      "source": [
        "df_openfood.iloc[:2, :5]\n"
      ],
      "id": "2f32d9a0"
    },
    {
      "cell_type": "markdown",
      "metadata": {},
      "source": [
        "1.  Créer une fonction de nettoyage des noms de produits effectuant les\n",
        "    étapes suivantes :\n",
        "\n",
        "-   tokeniser le texte en question\n",
        "-   retirer la ponctuation et les *stopwords*\n",
        "\n",
        "Appliquer cette fonction à l’ensemble des noms de produits (variable\n",
        "`product_name`)\n",
        "\n",
        "1.  Effectuer un nuage de mot sur les libellés avant et après nettoyage\n",
        "    pour comprendre la structure du corpus en question.\n",
        "    Le résultat devrait avoir l’apparence suivante"
      ],
      "id": "0820f195-cd3d-4c05-aead-8dc32d90d186"
    },
    {
      "cell_type": "code",
      "execution_count": 5,
      "metadata": {},
      "outputs": [],
      "source": [
        "import wordcloud as wc\n",
        "import matplotlib.pyplot as plt\n",
        "\n",
        "\n",
        "def graph_wordcloud(data, by=None, valueby=None, yvar=\"Text\"):\n",
        "    if (by is not None) & (valueby is not None):\n",
        "        txt = data[data[by] == valueby][yvar].astype(str)\n",
        "    else:\n",
        "        txt = data[yvar].astype(str)\n",
        "    all_text = \" \".join([text for text in txt])\n",
        "    wordcloud = wc.WordCloud(\n",
        "        width=800, height=500, random_state=21, max_words=2000\n",
        "    ).generate(all_text)\n",
        "    return wordcloud\n",
        "\n",
        "\n",
        "def graph_wordcloud_by(data, by, yvar=\"Text\"):\n",
        "    n_topics = data[by].unique().tolist()\n",
        "    width = 20\n",
        "    height = 80\n",
        "    rows = len(n_topics) // 2\n",
        "    cols = 2\n",
        "    fig = plt.figure(figsize=(width, height))\n",
        "    axes = []\n",
        "    for i in range(cols * rows):\n",
        "        b = graph_wordcloud(data, by=by, valueby=n_topics[i], yvar=yvar)\n",
        "        axes.append(fig.add_subplot(rows, cols, i + 1))\n",
        "        axes[-1].set_title(\"{}\".format(n_topics[i]))\n",
        "        plt.imshow(b)\n",
        "        plt.axis(\"off\")\n",
        "        plt.savefig(\"{}.png\".format(yvar), bbox_inches=\"tight\")\n",
        "\n",
        "\n",
        "def wordcount_words(data, yvar, by=None):\n",
        "    plt.figure(figsize=(15, 15))\n",
        "    if by is None:\n",
        "        wordcloud = graph_wordcloud(data, yvar=yvar, by=by)\n",
        "        plt.imshow(wordcloud)\n",
        "        plt.axis(\"off\")\n",
        "        plt.savefig(\"{}.png\".format(yvar), bbox_inches=\"tight\")\n",
        "    else:\n",
        "        graph_wordcloud_by(data, by=by, yvar=yvar)\n",
        "\n",
        "\n",
        "wordcount_words(df_openfood, yvar=\"product_name\")\n",
        "wordcount_words(df_openfood, \"tokenized\")\n"
      ],
      "id": "d0d1646f"
    },
    {
      "cell_type": "markdown",
      "metadata": {},
      "source": [
        "1.  Utiliser la librairie `Fasttext` pour extraire les noms de produits\n",
        "    français\n",
        "\n",
        "-   Appliquer le modèle téléchargé précédemment pour déterminer le langage\n",
        "-   Ne récupérer que les libellés français"
      ],
      "id": "063af503-1fb3-4d3a-8fdb-cc2cc3d05223"
    },
    {
      "cell_type": "code",
      "execution_count": 6,
      "metadata": {},
      "outputs": [],
      "source": [
        "import fasttext\n",
        "\n",
        "PRETRAINED_MODEL_PATH = \"%s.model.bin\" % temp_dir\n",
        "model = fasttext.load_model(PRETRAINED_MODEL_PATH)\n",
        "newcols = [\"language\", \"score_language\"]\n",
        "df_openfood[newcols] = pd.DataFrame(\n",
        "    df_openfood[\"product_name\"]\n",
        "    .astype(str)\n",
        "    .apply(lambda s: list(model.predict(s)))\n",
        "    .apply(lambda l: [l[0][0], l[1][0]])\n",
        "    .tolist(),\n",
        "    columns=newcols,\n",
        ")\n",
        "df_openfood[\"language\"] = df_openfood[\"language\"].str.replace(\"__label__\", \"\")\n",
        "df_openfood_french = df_openfood[df_openfood[\"language\"] == \"fr\"]\n",
        "df_openfood_french.head(2)\n"
      ],
      "id": "d4756822"
    },
    {
      "cell_type": "markdown",
      "metadata": {},
      "source": [
        "1.  Visualiser avec `spacy.displacy` le résultat d’une reconnaissance\n",
        "    d’entités nommées sur 50 données aléatoires. Cela vous semble-t-il satisfaisant ?"
      ],
      "id": "b11f09c4-d9dc-4533-b160-0ddffcd63f00"
    },
    {
      "cell_type": "code",
      "execution_count": 7,
      "metadata": {},
      "outputs": [],
      "source": [
        "import spacy\n",
        "import fr_core_news_sm\n",
        "\n",
        "nlp = fr_core_news_sm.load()\n",
        "\n",
        "example = \" \\n \".join(df_openfood_french[\"product_name\"].astype(\"str\").sample(50))\n",
        "\n",
        "from spacy import displacy\n",
        "\n",
        "html = displacy.render(nlp(example), style=\"ent\", page=True)\n"
      ],
      "id": "d60cbd5a"
    },
    {
      "cell_type": "code",
      "execution_count": 8,
      "metadata": {},
      "outputs": [],
      "source": [
        "print(html)\n"
      ],
      "id": "a97e9095"
    },
    {
      "cell_type": "markdown",
      "metadata": {},
      "source": [
        "1.  Récupérer dans un vecteur les entités nommées reconnues par `spaCy`.\n",
        "    Regarder les entités reconnues dans les 20 premiers libellés de produits"
      ],
      "id": "34fd6062-a683-4b8c-933f-f87bbe0c20e1"
    },
    {
      "cell_type": "code",
      "execution_count": 9,
      "metadata": {},
      "outputs": [],
      "source": [
        "x = []\n",
        "for doc in nlp.pipe(\n",
        "    df_openfood_french.head(20)[\"product_name\"].astype(\"unicode\"),\n",
        "    disable=[\"tok2vec\", \"tagger\", \"parser\", \"attribute_ruler\", \"lemmatizer\"],\n",
        "):\n",
        "    # Do something with the doc here\n",
        "    x.append([(ent.text, ent.label_) for ent in doc.ents])\n",
        "\n",
        "x\n"
      ],
      "id": "2c5e5b22"
    },
    {
      "cell_type": "raw",
      "metadata": {
        "raw_mimetype": "text/html"
      },
      "source": [
        "<!----\n",
        "# State of the union address\n",
        "\n",
        "\n",
        "Un exercice à venir sur l'analyse des discours des présidents américains \n",
        "inspiré de https://github.com/BuzzFeedNews/2018-01-trump-state-of-the-union\n",
        "---->"
      ],
      "id": "5b90167e-73a6-426d-8864-e9361cd6a02e"
    }
  ],
  "nbformat": 4,
  "nbformat_minor": 5,
  "metadata": {
    "kernelspec": {
      "name": "python3",
      "display_name": "Python 3 (ipykernel)",
      "language": "python",
      "path": "/opt/conda/share/jupyter/kernels/python3"
    },
    "language_info": {
      "name": "python",
      "codemirror_mode": {
        "name": "ipython",
        "version": "3"
      },
      "file_extension": ".py",
      "mimetype": "text/x-python",
      "nbconvert_exporter": "python",
      "pygments_lexer": "ipython3",
      "version": "3.12.6"
    }
  }
}