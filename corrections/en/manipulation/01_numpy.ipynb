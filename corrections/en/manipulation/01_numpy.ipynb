{
  "cells": [
    {
      "cell_type": "markdown",
      "metadata": {},
      "source": [
        "# Numpy, the foundation of data science\n",
        "\n",
        "Lino Galiana  \n",
        "2024-10-31\n",
        "\n",
        "<div class=\"badge-container\"><div class=\"badge-text\">If you want to try the examples in this tutorial:</div><a href=\"https://github.com/linogaliana/python-datascientist-notebooks/blob/main/notebooks/en/manipulation/01_numpy.ipynb\" target=\"_blank\" rel=\"noopener\"><img src=\"https://img.shields.io/static/v1?logo=github&label=&message=View%20on%20GitHub&color=181717\" alt=\"View on GitHub\"></a>\n",
        "<a href=\"https://datalab.sspcloud.fr/launcher/ide/vscode-python?autoLaunch=true&name=«01_numpy»&init.personalInit=«https%3A%2F%2Fraw.githubusercontent.com%2Flinogaliana%2Fpython-datascientist%2Fmain%2Fsspcloud%2Finit-vscode.sh»&init.personalInitArgs=«en/manipulation%2001_numpy%20correction»\" target=\"_blank\" rel=\"noopener\"><img src=\"https://img.shields.io/badge/SSP%20Cloud-Lancer_avec_VSCode-blue?logo=visualstudiocode&logoColor=blue\" alt=\"Onyxia\"></a>\n",
        "<a href=\"https://datalab.sspcloud.fr/launcher/ide/jupyter-python?autoLaunch=true&name=«01_numpy»&init.personalInit=«https%3A%2F%2Fraw.githubusercontent.com%2Flinogaliana%2Fpython-datascientist%2Fmain%2Fsspcloud%2Finit-jupyter.sh»&init.personalInitArgs=«en/manipulation%2001_numpy%20correction»\" target=\"_blank\" rel=\"noopener\"><img src=\"https://img.shields.io/badge/SSP%20Cloud-Lancer_avec_Jupyter-orange?logo=Jupyter&logoColor=orange\" alt=\"Onyxia\"></a>\n",
        "<a href=\"https://colab.research.google.com/github/linogaliana/python-datascientist-notebooks//en/blob/main//notebooks/en/manipulation/01_numpy.ipynb\" target=\"_blank\" rel=\"noopener\"><img src=\"https://colab.research.google.com/assets/colab-badge.svg\" alt=\"Open In Colab\"></a><br></div>\n",
        "\n",
        "<div class=\"alert alert-info\" role=\"alert\">\n",
        "<h3 class=\"alert-heading\">Version 🇫🇷</h3>\n",
        "This is the French version 🇫🇷 of that chapter,to see the English version go <a href=\"https://pythonds.linogaliana.fr/content/manipulation/01_numpy.html\">there</a>\n",
        "</div>\n",
        "\n",
        "# 1. Introduction\n",
        "\n",
        "This chapter serves as an introduction to *Numpy* to ensure that the basics of vector calculations with `Python` are mastered. The first part of the chapter presents small exercises to practice some basic functions of `Numpy`. The end of the chapter presents more in-depth practical exercises using `Numpy`.\n",
        "\n",
        "It is recommended to regularly refer to the [*numpy cheatsheet*](https://www.datacamp.com/community/blog/python-numpy-cheat-sheet) and the [official documentation](https://numpy.org/doc/stable/) if you have any doubts about a function.\n",
        "\n",
        "In this chapter, we will adhere to the convention of importing `Numpy` as follows:"
      ],
      "id": "5c43f257-c3a2-4da2-85be-0306dd20ee25"
    },
    {
      "cell_type": "code",
      "execution_count": 1,
      "metadata": {},
      "outputs": [],
      "source": [
        "import numpy as np\n"
      ],
      "id": "import-np"
    },
    {
      "cell_type": "markdown",
      "metadata": {},
      "source": [
        "We will also set the seed of the random number generator to obtain reproducible results:"
      ],
      "id": "520ec0d5-1b29-4534-bb95-fafe16ce35ac"
    },
    {
      "cell_type": "code",
      "execution_count": 2,
      "metadata": {},
      "outputs": [],
      "source": [
        "np.random.seed(12345)\n"
      ],
      "id": "6375b840"
    },
    {
      "cell_type": "markdown",
      "metadata": {},
      "source": [
        "# 2. Concept of *array*\n",
        "\n",
        "In the world of data science, as will be discussed in more depth in the upcoming chapters, the central object is the two-dimensional data table. The first dimension corresponds to rows and the second to columns. If we only consider one dimension, we refer to a variable (a column) of our data table. It is therefore natural to link data tables to the mathematical objects of matrices and vectors.\n",
        "\n",
        "`NumPy` (`Numerical Python`) is the foundational brick for processing numerical lists or strings of text as matrices. `NumPy` comes into play to offer this type of object and the associated standardized operations that do not exist in the basic `Python` language.\n",
        "\n",
        "The central object of `NumPy` is the **`array`**, which is a multidimensional data table. A `Numpy` array can be one-dimensional and considered as a vector (`1d-array`), two-dimensional and considered as a matrix (`2d-array`), or, more generally, take the form of a multidimensional object (`Nd-array`), a sort of nested table.\n",
        "\n",
        "Simple arrays (one or two-dimensional) are easy to represent and cover most of the use-case related to `Numpy`. We will discover in the next chapter on `Pandas` that, in practice, we usually don’t directly use `Numpy` since it is a low-level library. A `Pandas` *DataFrame* is constructed from a collection of one-dimensional arrays (the variables of the table), which allows performing coherent (and optimized) operations with the variable type. Having some `Numpy` knowledge is useful for understanding the logic of vector manipulation, making data processing more readable, efficient, and reliable.\n",
        "\n",
        "Compared to a list,\n",
        "\n",
        "-   an *array* can only contain one type of data (`integer`, `string`, etc.), unlike a list.\n",
        "-   operations implemented by `Numpy` will be more efficient and require less memory.\n",
        "\n",
        "Geographical data will constitute a slightly more complex construction than a traditional `DataFrame`. The geographical dimension takes the form of a deeper table, at least two-dimensional (coordinates of a point). However, geographical data manipulation libraries will handle this increased complexity.\n",
        "\n",
        "## 2.1 Creating an array\n",
        "\n",
        "We can create an array in several ways. To create an array from a list, simply use the `array` method:"
      ],
      "id": "deae9317-bc11-437c-883a-8a9251518b27"
    },
    {
      "cell_type": "code",
      "execution_count": 3,
      "metadata": {},
      "outputs": [
        {
          "output_type": "display_data",
          "metadata": {},
          "data": {
            "text/plain": [
              "array([1, 2, 5])"
            ]
          }
        }
      ],
      "source": [
        "np.array([1, 2, 5])\n"
      ],
      "id": "6b0801a0"
    },
    {
      "cell_type": "markdown",
      "metadata": {},
      "source": [
        "It is possible to add a `dtype` argument to constrain the array type:"
      ],
      "id": "f775b182-3987-45f2-9cf5-9333329b40e7"
    },
    {
      "cell_type": "code",
      "execution_count": 4,
      "metadata": {},
      "outputs": [
        {
          "output_type": "display_data",
          "metadata": {},
          "data": {
            "text/plain": [
              "array([list(['a', 'z', 'e']), list(['r', 't']), list(['y'])], dtype=object)"
            ]
          }
        }
      ],
      "source": [
        "np.array([[\"a\", \"z\", \"e\"], [\"r\", \"t\"], [\"y\"]], dtype=\"object\")\n"
      ],
      "id": "b72392d8"
    },
    {
      "cell_type": "markdown",
      "metadata": {},
      "source": [
        "There are also practical methods for creating arrays:\n",
        "\n",
        "-   Logical sequences: `np.arange` (sequence) or `np.linspace` (linear interpolation between two bounds)\n",
        "-   Ordered sequences: array filled with zeros, ones, or a desired number: `np.zeros`, `np.ones`, or `np.full`\n",
        "-   Random sequences: random number generation functions: `np.rand.uniform`, `np.rand.normal`, etc.\n",
        "-   Matrix in the form of an identity matrix: `np.eye`\n",
        "\n",
        "This gives, for logical sequences:"
      ],
      "id": "a28a5b7b-bc49-4172-8cb1-8d16b2541f70"
    },
    {
      "cell_type": "code",
      "execution_count": 5,
      "metadata": {},
      "outputs": [
        {
          "output_type": "display_data",
          "metadata": {},
          "data": {
            "text/plain": [
              "array([0, 1, 2, 3, 4, 5, 6, 7, 8, 9])"
            ]
          }
        }
      ],
      "source": [
        "np.arange(0, 10)\n"
      ],
      "id": "06337776"
    },
    {
      "cell_type": "code",
      "execution_count": 6,
      "metadata": {},
      "outputs": [
        {
          "output_type": "display_data",
          "metadata": {},
          "data": {
            "text/plain": [
              "array([0, 3, 6, 9])"
            ]
          }
        }
      ],
      "source": [
        "np.arange(0, 10, 3)\n"
      ],
      "id": "2104c5a9"
    },
    {
      "cell_type": "code",
      "execution_count": 7,
      "metadata": {},
      "outputs": [
        {
          "output_type": "display_data",
          "metadata": {},
          "data": {
            "text/plain": [
              "array([0.  , 0.25, 0.5 , 0.75, 1.  ])"
            ]
          }
        }
      ],
      "source": [
        "np.linspace(0, 1, 5)\n"
      ],
      "id": "496fa620"
    },
    {
      "cell_type": "markdown",
      "metadata": {},
      "source": [
        "For an array initialized to 0:"
      ],
      "id": "21dfeef4-4f4e-4313-ab08-28bb54610e17"
    },
    {
      "cell_type": "code",
      "execution_count": 8,
      "metadata": {},
      "outputs": [
        {
          "output_type": "display_data",
          "metadata": {},
          "data": {
            "text/plain": [
              "array([0, 0, 0, 0, 0, 0, 0, 0, 0, 0])"
            ]
          }
        }
      ],
      "source": [
        "np.zeros(10, dtype=int)\n"
      ],
      "id": "3d5d55e8"
    },
    {
      "cell_type": "markdown",
      "metadata": {},
      "source": [
        "or initialized to 1:"
      ],
      "id": "8dc63c2e-63a7-40ee-8997-fdb71b218e7d"
    },
    {
      "cell_type": "code",
      "execution_count": 9,
      "metadata": {},
      "outputs": [
        {
          "output_type": "display_data",
          "metadata": {},
          "data": {
            "text/plain": [
              "array([[1., 1., 1., 1., 1.],\n",
              "       [1., 1., 1., 1., 1.],\n",
              "       [1., 1., 1., 1., 1.]])"
            ]
          }
        }
      ],
      "source": [
        "np.ones((3, 5), dtype=float)\n"
      ],
      "id": "9c1ff297"
    },
    {
      "cell_type": "markdown",
      "metadata": {},
      "source": [
        "or even initialized to 3.14:"
      ],
      "id": "f6a3461c-37b5-47c7-97f1-00706f598066"
    },
    {
      "cell_type": "code",
      "execution_count": 10,
      "metadata": {},
      "outputs": [
        {
          "output_type": "display_data",
          "metadata": {},
          "data": {
            "text/plain": [
              "array([[3.14, 3.14, 3.14, 3.14, 3.14],\n",
              "       [3.14, 3.14, 3.14, 3.14, 3.14],\n",
              "       [3.14, 3.14, 3.14, 3.14, 3.14]])"
            ]
          }
        }
      ],
      "source": [
        "np.full((3, 5), 3.14)\n"
      ],
      "id": "9375cd5f"
    },
    {
      "cell_type": "markdown",
      "metadata": {},
      "source": [
        "Finally, to create the matrix $I_3$:"
      ],
      "id": "fbbe7b87-21e8-454d-87a4-d0bb199657e2"
    },
    {
      "cell_type": "code",
      "execution_count": 11,
      "metadata": {},
      "outputs": [
        {
          "output_type": "display_data",
          "metadata": {},
          "data": {
            "text/plain": [
              "array([[1., 0., 0.],\n",
              "       [0., 1., 0.],\n",
              "       [0., 0., 1.]])"
            ]
          }
        }
      ],
      "source": [
        "np.eye(3)\n"
      ],
      "id": "feaf5f23"
    },
    {
      "cell_type": "markdown",
      "metadata": {},
      "source": [
        "<div class=\"alert alert-success\" role=\"alert\">\n",
        "<h3 class=\"alert-heading\"><i class=\"fa-solid fa-pencil\"></i> Exercise 1</h3>\n",
        "\n",
        "Generate:\n",
        "\n",
        "-   $X$ a random variable, 1000 repetitions of a $U(0,1)$ distribution\n",
        "-   $Y$ a random variable, 1000 repetitions of a normal distribution with zero mean and variance equal to 2\n",
        "-   Verify the variance of $Y$ with `np.var`\n",
        "\n",
        "</div>\n",
        "\n",
        "# 3. Indexing and slicing\n",
        "\n",
        "## 3.1 Logic illustrated with a one-dimensional array\n",
        "\n",
        "The simplest structure is the one-dimensional array:"
      ],
      "id": "df8cd1b6-aece-42d0-947e-b45de7f4b6ac"
    },
    {
      "cell_type": "code",
      "execution_count": 14,
      "metadata": {},
      "outputs": [
        {
          "output_type": "stream",
          "name": "stdout",
          "text": [
            "[0 1 2 3 4 5 6 7 8 9]"
          ]
        }
      ],
      "source": [
        "x = np.arange(10)\n",
        "print(x)\n"
      ],
      "id": "d9115006"
    },
    {
      "cell_type": "markdown",
      "metadata": {},
      "source": [
        "Indexing in this case is similar to that of a list:\n",
        "\n",
        "-   The first element is 0\n",
        "-   The nth element is accessible at position $n-1$\n",
        "\n",
        "The logic for accessing elements is as follows:\n",
        "\n",
        "``` python\n",
        "x[start:stop:step]\n",
        "```\n",
        "\n",
        "With a one-dimensional array, the slicing operation (keeping a slice of the array) is very simple. For example, to keep the first *K* elements of an array, you would do:\n",
        "\n",
        "``` python\n",
        "x[: (K - 1)]\n",
        "```\n",
        "\n",
        "In this case, you select the K$^{th}$ element using:\n",
        "\n",
        "``` python\n",
        "x[K - 1]\n",
        "```\n",
        "\n",
        "To select only one element, you would do:"
      ],
      "id": "ec238e06-aba7-4328-bb7a-112b6526a8ad"
    },
    {
      "cell_type": "code",
      "execution_count": 16,
      "metadata": {},
      "outputs": [
        {
          "output_type": "display_data",
          "metadata": {},
          "data": {
            "text/plain": [
              "2"
            ]
          }
        }
      ],
      "source": [
        "x = np.arange(10)\n",
        "x[2]\n"
      ],
      "id": "c6715d08"
    },
    {
      "cell_type": "markdown",
      "metadata": {},
      "source": [
        "The syntax for selecting particular indices from a list also works with arrays.\n",
        "\n",
        "<div class=\"alert alert-success\" role=\"alert\">\n",
        "<h3 class=\"alert-heading\"><i class=\"fa-solid fa-pencil\"></i> Exercise 2</h3>\n",
        "\n",
        "Take `x = np.arange(10)` and…\n",
        "\n",
        "-   Select elements 0, 3, 5 from `x`\n",
        "-   Select even elements\n",
        "-   Select all elements except the first\n",
        "-   Select the first 5 elements\n",
        "\n",
        "</div>"
      ],
      "id": "f193ef82-0254-4ceb-837e-7619ff136ead"
    },
    {
      "cell_type": "code",
      "execution_count": 19,
      "metadata": {},
      "outputs": [
        {
          "output_type": "display_data",
          "metadata": {},
          "data": {
            "text/plain": [
              "array([0, 1, 2, 3, 4, 5, 6, 7, 8, 9])"
            ]
          }
        }
      ],
      "source": [
        "np.arange(10)\n"
      ],
      "id": "01488b7f"
    },
    {
      "cell_type": "markdown",
      "metadata": {},
      "source": [
        "## 3.2 Regarding performance\n",
        "\n",
        "A key element in the performance of `Numpy` compared to lists, when it comes to slicing, is that an array does not return a copy of the element in question (a copy that costs memory and time) but simply a view of it.\n",
        "\n",
        "When it is necessary to make a copy, for example to avoid altering the underlying array, you can use the `copy` method:\n",
        "\n",
        "``` python\n",
        "x_sub_copy = x[:2, :2].copy()\n",
        "```\n",
        "\n",
        "It is also possible, and more practical, to select data based on logical conditions (an operation called a ***boolean mask***). This functionality will mainly be used to perform data filtering operations.\n",
        "\n",
        "For simple comparison operations, logical comparators may be sufficient. These comparisons also work on multidimensional arrays thanks to broadcasting, which we will discuss later:"
      ],
      "id": "3ee2e524-ce95-4a79-91d9-0cbbea9a6bd7"
    },
    {
      "cell_type": "code",
      "execution_count": 21,
      "metadata": {},
      "outputs": [
        {
          "output_type": "stream",
          "name": "stdout",
          "text": [
            "[0 1 2 3 4 5 6 7 8 9]\n",
            "[[-1  1 -2]\n",
            " [-3  2  0]]"
          ]
        }
      ],
      "source": [
        "x = np.arange(10)\n",
        "x2 = np.array([[-1, 1, -2], [-3, 2, 0]])\n",
        "print(x)\n",
        "print(x2)\n"
      ],
      "id": "1a3d1032"
    },
    {
      "cell_type": "code",
      "execution_count": 22,
      "metadata": {},
      "outputs": [
        {
          "output_type": "display_data",
          "metadata": {},
          "data": {
            "text/plain": [
              "array([[ True, False,  True],\n",
              "       [ True, False, False]])"
            ]
          }
        }
      ],
      "source": [
        "x == 2\n",
        "x2 < 0\n"
      ],
      "id": "2247c260"
    },
    {
      "cell_type": "markdown",
      "metadata": {},
      "source": [
        "To select the observations related to the logical condition, just use the `numpy` slicing logic that works with logical conditions.\n",
        "\n",
        "<div class=\"alert alert-success\" role=\"alert\">\n",
        "<h3 class=\"alert-heading\"><i class=\"fa-solid fa-pencil\"></i> Exercise 3</h3>\n",
        "\n",
        "Given\n",
        "\n",
        "``` python\n",
        "x = np.random.normal(size=10000)\n",
        "```\n",
        "\n",
        "1.  Keep only the values whose absolute value is greater than 1.96\n",
        "2.  Count the number of values greater than 1.96 in absolute value and their proportion in the whole set\n",
        "3.  Sum the absolute values of all observations greater (in absolute value) than 1.96 and relate them to the sum of the values of `x` (in absolute value)\n",
        "\n",
        "</div>\n",
        "\n",
        "Whenever possible, it is recommended to use `numpy`’s logical functions (optimized and well-handling dimensions). Among them are:\n",
        "\n",
        "-   `count_nonzero` ;\n",
        "-   `isnan` ;\n",
        "-   `any` or `all` especially with the `axis` argument ;\n",
        "-   `np.array_equal` to check element-by-element equality.\n",
        "\n",
        "Let’s create `x` a multidimensional array and `y` a one-dimensional array with a missing value."
      ],
      "id": "cc82a91e-cadb-4666-9390-d622d665ef29"
    },
    {
      "cell_type": "code",
      "execution_count": 25,
      "metadata": {},
      "outputs": [],
      "source": [
        "x = np.random.normal(0, size=(3, 4))\n",
        "y = np.array([np.nan, 0, 1])\n"
      ],
      "id": "191940ec"
    },
    {
      "cell_type": "markdown",
      "metadata": {},
      "source": [
        "# 4. Manipulating an array\n",
        "\n",
        "## 4.1 Manipulation functions\n",
        "\n",
        "`Numpy` provides standardized methods or functions for modifying\n",
        "here’s a table showing some of them:\n",
        "\n",
        "Here are some functions to modify an array:\n",
        "\n",
        "| Operation | Implementation |\n",
        "|------------------------------|------------------------------------------|\n",
        "| Flatten an array | `x.flatten()` (method) |\n",
        "| Transpose an array | `x.T` (method) or `np.transpose(x)` (function) |\n",
        "| Append elements to the end | `np.append(x, [1,2])` |\n",
        "| Insert elements at a given position (at positions 1 and 2) | `np.insert(x, [1,2], 3)` |\n",
        "| Delete elements (at positions 0 and 3) | `np.delete(x, [0,3])` |\n",
        "\n",
        "To combine arrays, you can use, depending on the case, the functions `np.concatenate`, `np.vstack` or the method `.r_` (row-wise concatenation). `np.hstack` or the method `.column_stack` or `.c_` (column-wise concatenation)."
      ],
      "id": "422da7f9-cb90-4480-b91a-b82127f648e3"
    },
    {
      "cell_type": "code",
      "execution_count": 27,
      "metadata": {},
      "outputs": [],
      "source": [
        "x = np.random.normal(size=10)\n"
      ],
      "id": "d2176c83"
    },
    {
      "cell_type": "markdown",
      "metadata": {},
      "source": [
        "To sort an array, use `np.sort`"
      ],
      "id": "9825ebad-77a4-485f-8579-cc891a1e2eeb"
    },
    {
      "cell_type": "code",
      "execution_count": 28,
      "metadata": {},
      "outputs": [
        {
          "output_type": "display_data",
          "metadata": {},
          "data": {
            "text/plain": [
              "array([1, 2, 3, 4, 5, 6, 7])"
            ]
          }
        }
      ],
      "source": [
        "x = np.array([7, 2, 3, 1, 6, 5, 4])\n",
        "\n",
        "np.sort(x)\n"
      ],
      "id": "2dbc0833"
    },
    {
      "cell_type": "markdown",
      "metadata": {},
      "source": [
        "If you want to perform a partial reordering to find the *k* smallest values in an `array` without sorting them, use `partition`:"
      ],
      "id": "7bdfdd28-37b5-4837-a8b5-b69db7128298"
    },
    {
      "cell_type": "code",
      "execution_count": 29,
      "metadata": {},
      "outputs": [
        {
          "output_type": "display_data",
          "metadata": {},
          "data": {
            "text/plain": [
              "array([2, 1, 3, 4, 6, 5, 7])"
            ]
          }
        }
      ],
      "source": [
        "np.partition(x, 3)\n"
      ],
      "id": "8de3a655"
    },
    {
      "cell_type": "markdown",
      "metadata": {},
      "source": [
        "For classical descriptive statistics, `Numpy` offers a number of already implemented functions, which can be combined with the `axis` argument."
      ],
      "id": "2d1c6058-310c-4b99-84c5-ee17a8eca59e"
    },
    {
      "cell_type": "code",
      "execution_count": 30,
      "metadata": {},
      "outputs": [],
      "source": [
        "x = np.random.normal(0, size=(3, 4))\n"
      ],
      "id": "0772a937"
    },
    {
      "cell_type": "markdown",
      "metadata": {},
      "source": [
        "<div class=\"alert alert-success\" role=\"alert\">\n",
        "<h3 class=\"alert-heading\"><i class=\"fa-solid fa-pencil\"></i> Exercise 5</h3>\n",
        "\n",
        "1.  Sum all the elements of an `array`, the elements by row, and the elements by column. Verify the consistency.\n",
        "2.  Write a function `statdesc` to return the following values: mean, median, standard deviation, minimum, and maximum. Apply it to `x` using the *axis* argument.\n",
        "\n",
        "</div>\n",
        "\n",
        "# 5. Broadcasting\n",
        "\n",
        "Broadcasting refers to a set of rules for applying operations to arrays of different dimensions. In practice, it generally consists of applying a single operation to all members of a `numpy` array.\n",
        "\n",
        "The difference can be understood from the following example. Broadcasting allows the scalar `5` to be transformed into a 3-dimensional array:"
      ],
      "id": "ce15a62f-ddce-4502-bd0e-fd96fe5d81a3"
    },
    {
      "cell_type": "code",
      "execution_count": 36,
      "metadata": {},
      "outputs": [
        {
          "output_type": "display_data",
          "metadata": {},
          "data": {
            "text/plain": [
              "array([5, 6, 7])"
            ]
          }
        }
      ],
      "source": [
        "a = np.array([0, 1, 2])\n",
        "b = np.array([5, 5, 5])\n",
        "\n",
        "a + b\n",
        "a + 5\n"
      ],
      "id": "f51a2b82"
    },
    {
      "cell_type": "markdown",
      "metadata": {},
      "source": [
        "Broadcasting can be very practical for efficiently performing operations on data with a complex structure. For more details, visit [here](https://jakevdp.github.io/PythonDataScienceHandbook/02.05-computation-on-arrays-broadcasting.html) or [here](https://stackoverflow.com/questions/47435526/what-is-the-meaning-of-axis-1-in-keras-argmax).\n",
        "\n",
        "## 5.1 Application: programming your own k-nearest neighbors\n",
        "\n",
        "<div class=\"alert alert-success\" role=\"alert\">\n",
        "<h3 class=\"alert-heading\"><i class=\"fa-solid fa-pencil\"></i> Exercise (a bit more challenging)</h3>\n",
        "\n",
        "1.  Create `X`, a two-dimensional array (i.e., a matrix) with 10 rows and 2 columns. The numbers in the array are random.\n",
        "2.  Import the `matplotlib.pyplot` module as `plt`. Use `plt.scatter` to plot the data as a scatter plot.\n",
        "3.  Construct a 10x10 matrix storing, at element $(i,j)$, the Euclidean distance between points $X[i,]$ and $X[j,]$. To do this, you will need to work with dimensions by creating nested arrays using `np.newaxis`:\n",
        "\n",
        "-   First, use `X1 = X[:, np.newaxis, :]` to transform the matrix into a nested array. Check the dimensions.\n",
        "-   Create `X2` of dimension `(1, 10, 2)` using the same logic.\n",
        "-   Deduce, for each point, the distance with other points for each coordinate. Square this distance.\n",
        "-   At this stage, you should have an array of dimension `(10, 10, 2)`. The reduction to a matrix is obtained by summing over the last axis. Check the help of `np.sum` on how to sum over the last axis.\n",
        "-   Finally, apply the square root to obtain a proper Euclidean distance.\n",
        "\n",
        "1.  Verify that the diagonal elements are zero (distance of a point to itself…).\n",
        "2.  Now, sort for each point the points with the most similar values. Use `np.argsort` to get the ranking of the closest points for each row.\n",
        "3.  We are interested in the k-nearest neighbors. For now, set k=2. Use `argpartition` to reorder each row so that the 2 closest neighbors of each point come first, followed by the rest of the row.\n",
        "4.  Use the code snippet below to graphically represent the nearest neighbors.\n",
        "\n",
        "</div>"
      ],
      "id": "ab66318e-9183-418b-9a24-dc0502da58a4"
    },
    {
      "cell_type": "markdown",
      "metadata": {},
      "source": [
        "<details><summary>A hint for graphically representing the nearest neighbors</summary>\n",
        "\n",
        "``` python\n",
        "plt.scatter(X[:, 0], X[:, 1], s=100)\n",
        "\n",
        "# draw lines from each point to its two nearest neighbors\n",
        "K = 2\n",
        "\n",
        "for i in range(X.shape[0]):\n",
        "    for j in nearest_partition[i, : K + 1]:\n",
        "        # plot a line from X[i] to X[j]\n",
        "        # use some zip magic to make it happen:\n",
        "        plt.plot(*zip(X[j], X[i]), color=\"black\")\n",
        "```\n",
        "\n",
        "</details>"
      ],
      "id": "13b5db19-a866-4f35-af37-35eee86d9016"
    },
    {
      "cell_type": "code",
      "execution_count": 44,
      "metadata": {},
      "outputs": [
        {
          "output_type": "display_data",
          "metadata": {},
          "data": {
            "image/png": "[encoded data removed]"
          }
        }
      ],
      "source": [],
      "id": "7857fd71"
    },
    {
      "cell_type": "markdown",
      "metadata": {},
      "source": [
        "Question 7 result is :"
      ],
      "id": "e2c211be-350b-4ae1-8d81-6b6403c9160c"
    },
    {
      "cell_type": "code",
      "execution_count": 46,
      "metadata": {},
      "outputs": [
        {
          "output_type": "display_data",
          "metadata": {},
          "data": {
            "image/png": "[encoded data removed]"
          }
        }
      ],
      "source": [],
      "id": "835fc287"
    },
    {
      "cell_type": "markdown",
      "metadata": {},
      "source": [
        "Did I invent this challenging exercise? Not at all, it comes from the book [*Python Data Science Handbook*](https://jakevdp.github.io/PythonDataScienceHandbook/02.08-sorting.html#Example:-k-Nearest-Neighbors). But if I had told you this immediately, would you have tried to answer the questions?\n",
        "\n",
        "Moreover, it would not be a good idea to generalize this algorithm to large datasets. The complexity of our approach is $O(N^2)$. The algorithm implemented by `Scikit-Learn` is $O[NlogN]$.\n",
        "\n",
        "Additionally, computing matrix distances using the power of GPU (graphics cards) would be faster. In this regard, the library [faiss](https://github.com/facebookresearch/faiss), or the dedicated frameworks for computing distance between high-dimensional vectors like [ChromaDB](https://www.trychroma.com/) offer much more satisfactory performance than `Numpy` for this specific problem.\n",
        "\n",
        "# 6. Additional Exercises\n",
        "\n",
        "`Google` became famous thanks to its `PageRank` algorithm. This algorithm allows, from links between websites, to give an importance score to a website which will be used to evaluate its centrality in a network. The objective of this exercise is to use `Numpy` to implement such an algorithm from an adjacency matrix that links the sites together.\n",
        "\n",
        "<div class=\"alert alert-success\" role=\"alert\">\n",
        "<h3 class=\"alert-heading\"><i class=\"fa-solid fa-pencil\"></i> Comprendre le principe de l’algorithme PageRank</h3>\n",
        "\n",
        "`Google` est devenu célèbre grâce à son algorithme `PageRank`. Celui-ci permet, à partir\n",
        "de liens entre sites *web*, de donner un score d’importance à un site *web* qui va\n",
        "être utilisé pour évaluer sa centralité dans un réseau.\n",
        "L’objectif de cet exercice est d’utiliser `Numpy` pour mettre en oeuvre un tel\n",
        "algorithme à partir d’une matrice d’adjacence qui relie les sites entre eux.\n",
        "\n",
        "1.  Créer la matrice suivante avec `numpy`. L’appeler `M`:\n",
        "\n",
        "$$\n",
        "\\begin{bmatrix}\n",
        "0 & 0 & 0 & 0 & 1 \\\\\n",
        "0.5 & 0 & 0 & 0 & 0 \\\\\n",
        "0.5 & 0 & 0 & 0 & 0 \\\\\n",
        "0 & 1 & 0.5 & 0 & 0 \\\\\n",
        "0 & 0 & 0.5 & 1 & 0\n",
        "\\end{bmatrix}\n",
        "$$\n",
        "\n",
        "1.  Pour représenter visuellement ce *web* minimaliste,\n",
        "    convertir en objet `networkx` (une librairie spécialisée\n",
        "    dans l’analyse de réseau) et utiliser la fonction `draw`\n",
        "    de ce package.\n",
        "\n",
        "Il s’agit de la transposée de la matrice d’adjacence\n",
        "qui permet de relier les sites entre eux. Par exemple,\n",
        "le site 1 (première colonne) est référencé par\n",
        "les sites 2 et 3. Celui-ci ne référence que le site 5.\n",
        "\n",
        "1.  A partir de la page wikipedia anglaise de `PageRank`, tester\n",
        "    sur votre matrice.\n",
        "\n",
        "</div>"
      ],
      "id": "6272659c-35f8-4ae8-8a01-ceadb1ac4d07"
    },
    {
      "cell_type": "code",
      "execution_count": 52,
      "metadata": {},
      "outputs": [
        {
          "output_type": "display_data",
          "metadata": {},
          "data": {
            "image/png": "[encoded data removed]"
          }
        }
      ],
      "source": [],
      "id": "7f6a4fa5"
    },
    {
      "cell_type": "markdown",
      "metadata": {},
      "source": [
        "Site 1 is quite central because it is referenced twice. Site 5 is also central since it is referenced by site 1."
      ],
      "id": "2b4a1c50-c96e-4111-858a-f6dc16757ce1"
    },
    {
      "cell_type": "code",
      "execution_count": 54,
      "metadata": {},
      "outputs": [
        {
          "output_type": "display_data",
          "metadata": {},
          "data": {
            "text/plain": [
              "array([[0.25419178],\n",
              "       [0.13803151],\n",
              "       [0.13803151],\n",
              "       [0.20599017],\n",
              "       [0.26375504]])"
            ]
          }
        }
      ],
      "source": [],
      "id": "090d4855"
    }
  ],
  "nbformat": 4,
  "nbformat_minor": 5,
  "metadata": {
    "kernelspec": {
      "name": "python3",
      "display_name": "Python 3 (ipykernel)",
      "language": "python",
      "path": "/opt/conda/share/jupyter/kernels/python3"
    },
    "language_info": {
      "name": "python",
      "codemirror_mode": {
        "name": "ipython",
        "version": "3"
      },
      "file_extension": ".py",
      "mimetype": "text/x-python",
      "nbconvert_exporter": "python",
      "pygments_lexer": "ipython3",
      "version": "3.12.6"
    }
  }
}