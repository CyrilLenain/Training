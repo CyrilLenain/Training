{
  "cells": [
    {
      "cell_type": "markdown",
      "metadata": {},
      "source": [
        "# Données spatiales : découverte de geopandas\n",
        "\n",
        "Lino Galiana  \n",
        "2024-10-31\n",
        "\n",
        "La partie `GeoPandas` a évolué récemment. Vous pouvez retrouver les contenus liés à `GeoPandas` dans le chapitre suivant (éléments magistraux et exercices):\n",
        "\n",
        "-   [Introduction aux données spatiales avec `Geopandas`](../../content/manipulation/03_geopandas_intro.qmd)"
      ],
      "id": "3a0772be-ba79-4014-89ea-3f196a8ad30c"
    }
  ],
  "nbformat": 4,
  "nbformat_minor": 5,
  "metadata": {
    "kernelspec": {
      "display_name": "Python 3",
      "language": "python",
      "name": "python3"
    }
  }
}