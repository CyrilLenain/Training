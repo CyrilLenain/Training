{
  "cells": [
    {
      "cell_type": "markdown",
      "metadata": {},
      "source": [
        "# Maîtriser les expressions régulières\n",
        "\n",
        "Lino Galiana  \n",
        "2024-10-31\n",
        "\n",
        "<div class=\"badge-container\"><div class=\"badge-text\">Pour essayer les exemples présents dans ce tutoriel :</div><a href=\"https://github.com/linogaliana/python-datascientist-notebooks/blob/main/notebooks/manipulation/04b_regex_TP.ipynb\" target=\"_blank\" rel=\"noopener\"><img src=\"https://img.shields.io/static/v1?logo=github&label=&message=View%20on%20GitHub&color=181717\" alt=\"View on GitHub\"></a>\n",
        "<a href=\"https://datalab.sspcloud.fr/launcher/ide/vscode-python?autoLaunch=true&name=«04b_regex_TP»&init.personalInit=«https%3A%2F%2Fraw.githubusercontent.com%2Flinogaliana%2Fpython-datascientist%2Fmain%2Fsspcloud%2Finit-vscode.sh»&init.personalInitArgs=«manipulation%2004b_regex_TP%20correction»\" target=\"_blank\" rel=\"noopener\"><img src=\"https://img.shields.io/badge/SSP%20Cloud-Lancer_avec_VSCode-blue?logo=visualstudiocode&logoColor=blue\" alt=\"Onyxia\"></a>\n",
        "<a href=\"https://datalab.sspcloud.fr/launcher/ide/jupyter-python?autoLaunch=true&name=«04b_regex_TP»&init.personalInit=«https%3A%2F%2Fraw.githubusercontent.com%2Flinogaliana%2Fpython-datascientist%2Fmain%2Fsspcloud%2Finit-jupyter.sh»&init.personalInitArgs=«manipulation%2004b_regex_TP%20correction»\" target=\"_blank\" rel=\"noopener\"><img src=\"https://img.shields.io/badge/SSP%20Cloud-Lancer_avec_Jupyter-orange?logo=Jupyter&logoColor=orange\" alt=\"Onyxia\"></a>\n",
        "<a href=\"https://colab.research.google.com/github/linogaliana/python-datascientist-notebooks//blob/main//notebooks/manipulation/04b_regex_TP.ipynb\" target=\"_blank\" rel=\"noopener\"><img src=\"https://colab.research.google.com/assets/colab-badge.svg\" alt=\"Open In Colab\"></a><br></div>\n",
        "\n",
        "<div class=\"alert alert-info\" role=\"alert\">\n",
        "<h3 class=\"alert-heading\">Version 🇫🇷</h3>\n",
        "This is the French version 🇫🇷 of that chapter,to see the English version go <a href=\"https://pythonds.linogaliana.fr/content/manipulation/04b_regex_TP.html\">there</a>\n",
        "</div>\n",
        "\n",
        "# 1. Introduction\n",
        "\n",
        "`Python` offre énormément de fonctionalités très pratiques pour la manipulation de données\n",
        "textuelles. C’est l’une des raisons de son\n",
        "succès dans la communauté du traitement automatisé du langage (NLP, voir partie dédiée).\n",
        "\n",
        "Dans les chapitres précédents, nous avons parfois été amenés à chercher des éléments textuels basiques. Cela était possible avec la méthode `str.find` du package `Pandas` qui constitue une version vectorisée de la méthode `find`\n",
        "de base. Nous avons d’ailleurs\n",
        "pu utiliser cette dernière directement, notamment lorsqu’on a fait du *web scraping*.\n",
        "\n",
        "Cependant, cette fonction de recherche\n",
        "trouve rapidement ses limites.\n",
        "Par exemple, si on désire trouver à la fois les occurrences d’un terme au singulier\n",
        "et au pluriel, il sera nécessaire d’utiliser\n",
        "au moins deux fois la méthode `find`.\n",
        "Pour des verbes conjugués, cela devient encore plus complexe, en particulier si ceux-ci changent de forme selon le sujet.\n",
        "\n",
        "Pour des expressions compliquées, il est conseillé d’utiliser les **expressions régulières**,\n",
        "ou *“regex”*. C’est une fonctionnalité qu’on retrouve dans beaucoup de langages. C’est une forme de grammaire qui permet de rechercher des expressions.\n",
        "\n",
        "Une partie du contenu de cette partie\n",
        "est une adaptation de la\n",
        "[documentation collaborative sur `R` nommée `utilitR`](https://www.book.utilitr.org/03_fiches_thematiques/fiche_donnees_textuelles#regex) à laquelle j’ai participé. Ce chapitre reprend aussi du contenu du\n",
        "livre [*R for Data Science*](https://r4ds.hadley.nz/regexps.html) qui présente un chapitre\n",
        "très pédagogique sur les regex.\n",
        "\n",
        "Nous allons utiliser le *package* `re` pour illustrer nos exemples d’expressions\n",
        "régulières. Il s’agit du package de référence, qui est utilisé, en arrière-plan,\n",
        "par `Pandas` pour vectoriser les recherches textuelles."
      ],
      "id": "e390490e-d27b-4cd1-bced-7479986e4ca1"
    },
    {
      "cell_type": "code",
      "execution_count": 1,
      "metadata": {},
      "outputs": [],
      "source": [
        "import re\n",
        "import pandas as pd\n"
      ],
      "id": "19304395"
    },
    {
      "cell_type": "markdown",
      "metadata": {},
      "source": [
        "<div class=\"alert alert-success\" role=\"alert\">\n",
        "<h3 class=\"alert-heading\"><i class=\"fa-solid fa-lightbulb\"></i> Tip</h3>\n",
        "\n",
        "**Les expressions régulières (*regex*) sont notoirement difficiles à maîtriser.** Il existe des outils qui facilitent le travail avec les expressions régulières.\n",
        "\n",
        "-   L’outil de référence pour ceci est \\[https://regex101.com/\\] qui permet de tester des `regex` en `Python`\n",
        "    tout en ayant une explication qui accompagne ce test\n",
        "\n",
        "-   De même pour [ce site](https://ole.michelsen.dk/tools/regex/) qui comporte une cheat sheet en bas de la page.\n",
        "\n",
        "-   Les jeux de [Regex Crossword](https://regexcrossword.com/) permettent d’apprendre les expressions régulières en s’amusant\n",
        "\n",
        "Il peut être pratique de demander à des IA assistantes, comme `Github Copilot` ou `ChatGPT`, une\n",
        "première version d’une regex en expliquant le contenu qu’on veut extraire.\n",
        "Cela peut faire économiser pas mal de temps, sauf quand l’IA fait preuve d’une confiance excessive\n",
        "et vous propose avec aplomb une regex totalement fausse…\n",
        "\n",
        "</div>\n",
        "\n",
        "# 2. Principe\n",
        "\n",
        "**Les expressions régulières sont un outil permettant de décrire un ensemble de chaînes de caractères possibles selon une syntaxe précise, et donc de définir un motif (ou `pattern`).** Les expressions régulières servent par exemple lorsqu’on veut extraire une partie d’une chaîne de caractères, ou remplacer une partie d’une chaîne de caractères. Une expression régulière prend la forme d’une chaîne de caractères, qui peut contenir à la fois des éléments littéraux et des caractères spéciaux qui ont un sens logique.\n",
        "\n",
        "Par exemple, `\"ch.+n\"` est une expression régulière qui décrit le motif suivant : la chaîne littérale `ch`, suivi de n’importe quelle chaîne d’au moins un caractère (`.+`), suivie de la lettre `n`. Dans la chaîne `\"J'ai un chien.\"`, la sous-chaîne `\"chien\"` correspond à ce motif. De même pour `\"chapeau ron\"` dans `\"J'ai un chapeau rond\"`. En revanche, dans la chaîne `\"La soupe est chaude.\"`, aucune sous-chaîne ne correpsond à ce motif (car aucun `n` n’apparaît après le `ch`).\n",
        "\n",
        "Pour s’en convaincre, nous pouvons déjà regarder\n",
        "les deux premiers cas:"
      ],
      "id": "a3b011dd-df47-4009-b73f-1fa7e41e03ec"
    },
    {
      "cell_type": "code",
      "execution_count": 2,
      "metadata": {},
      "outputs": [
        {
          "output_type": "stream",
          "name": "stdout",
          "text": [
            "None"
          ]
        }
      ],
      "source": [
        "pattern = \"ch.+n\"\n",
        "print(re.search(pattern, \"La soupe est chaude.\"))\n"
      ],
      "id": "c6d100c0"
    },
    {
      "cell_type": "markdown",
      "metadata": {},
      "source": [
        "La regex précédente comportait deux types de caractères:\n",
        "\n",
        "-   les *caractères littéraux* : lettres et nombres qui sont reconnus de manière littérale\n",
        "-   les *méta-caractères* : symboles qui ont un sens particulier dans les regex.\n",
        "\n",
        "Les principaux *méta-caractères* sont `.`, `+`, `*`, `[`, `]`, `^` et `$` mais il\n",
        "en existe beaucoup d’autres.\n",
        "Parmi cet ensemble, on utilise principalement les quantifieurs (`.`, `+`, `*`…),\n",
        "les classes de caractères (ensemble qui sont délimités par `[` et `]`)\n",
        "ou les ancres (`^`, `$`…)\n",
        "\n",
        "Dans l’exemple précédent,\n",
        "nous retrouvions deux quantifieurs accolés `.+`. Le premier (`.`) signifie n’importe quel caractère[1]. Le deuxième (`+`) signifie *“répète le pattern précédent”*.\n",
        "Dans notre cas, la combinaison `.+` permet ainsi de répéter n’importe quel caractère avant de trouver un *n*.\n",
        "Le nombre de fois est indeterminé : cela peut ne pas être pas nécessaire d’intercaler des caractères avant le *n*\n",
        "ou cela peut être nécessaire d’en intercepter plusieurs :\n",
        "\n",
        "[1] N’importe quel caractère à part le retour à la ligne (`\\n`). Ceci est à garder en tête, j’ai déjà perdu des heures à chercher pourquoi mon `.` ne capturait pas ce que je voulais qui s’étalait sur plusieurs lignes…"
      ],
      "id": "567e4d75-789f-48c0-a970-5c1b1b5377f0"
    },
    {
      "cell_type": "code",
      "execution_count": 3,
      "metadata": {},
      "outputs": [
        {
          "output_type": "stream",
          "name": "stdout",
          "text": [
            "<re.Match object; span=(8, 12), match='chin'>\n",
            "<re.Match object; span=(8, 25), match='chiot très mignon'>"
          ]
        }
      ],
      "source": [
        "print(re.search(pattern, \"J'ai un chino\"))\n",
        "print(re.search(pattern, \"J'ai un chiot très mignon.\"))\n"
      ],
      "id": "5071b810"
    },
    {
      "cell_type": "markdown",
      "metadata": {},
      "source": [
        "## 2.1 Classes de caractères\n",
        "\n",
        "Lors d’une recherche, on s’intéresse aux caractères et souvent aux classes de caractères : on cherche un chiffre, une lettre, un caractère dans un ensemble précis ou un caractère qui n’appartient pas à un ensemble précis. Certains ensembles sont prédéfinis, d’autres doivent être définis à l’aide de crochets.\n",
        "\n",
        "Pour définir un ensemble de caractères, il faut écrire cet ensemble entre crochets. Par exemple, `[0123456789]` désigne un chiffre. Comme c’est une séquence de caractères consécutifs, on peut résumer cette écriture en `[0-9]`.\n",
        "\n",
        "Par\n",
        "exemple, si on désire trouver tous les *pattern* qui commencent par un `c` suivi\n",
        "d’un `h` puis d’une voyelle (a, e, i, o, u), on peut essayer\n",
        "cette expression régulière."
      ],
      "id": "30aeb7fc-631b-4e85-9731-b360c28a05ad"
    },
    {
      "cell_type": "code",
      "execution_count": 4,
      "metadata": {},
      "outputs": [
        {
          "output_type": "display_data",
          "metadata": {},
          "data": {
            "text/plain": [
              "['cha', 'chi', 'che']"
            ]
          }
        }
      ],
      "source": [
        "re.findall(\"[c][h][aeiou]\", \"chat, chien, veau, vache, chèvre\")\n"
      ],
      "id": "6a66c2fb"
    },
    {
      "cell_type": "markdown",
      "metadata": {},
      "source": [
        "Il serait plus pratique d’utiliser `Pandas` dans ce cas pour isoler les\n",
        "lignes qui répondent à la condition logique (en ajoutant les accents\n",
        "qui ne sont pas compris sinon):"
      ],
      "id": "3b9dc905-88d4-4964-a2f2-8da14ec340f5"
    },
    {
      "cell_type": "code",
      "execution_count": 5,
      "metadata": {},
      "outputs": [
        {
          "output_type": "display_data",
          "metadata": {},
          "data": {
            "text/plain": [
              "0     True\n",
              "1     True\n",
              "2    False\n",
              "3    False\n",
              "4     True\n",
              "dtype: bool"
            ]
          }
        }
      ],
      "source": [
        "import pandas as pd\n",
        "\n",
        "txt = pd.Series(\"chat, chien, veau, vache, chèvre\".split(\", \"))\n",
        "txt.str.match(\"ch[aeéèiou]\")\n"
      ],
      "id": "3a14f9f0"
    },
    {
      "cell_type": "markdown",
      "metadata": {},
      "source": [
        "Cependant, l’usage ci-dessus des classes de caractères\n",
        "n’est pas le plus fréquent.\n",
        "On privilégie celles-ci pour identifier des\n",
        "pattern complexe plutôt qu’une suite de caractères littéraux.\n",
        "Les tableaux d’aide mémoire illustrent une partie des\n",
        "classes de caractères les plus fréquentes\n",
        "(`[:digit:]` ou `\\d`…)\n",
        "\n",
        "## 2.2 Quantifieurs\n",
        "\n",
        "Nous avons rencontré les quantifieurs avec notre première expression\n",
        "régulière. Ceux-ci contrôlent le nombre de fois\n",
        "qu’un *pattern* est rencontré.\n",
        "\n",
        "Les plus fréquents sont:\n",
        "\n",
        "-   `?` : 0 ou 1 match ;\n",
        "-   `+` : 1 ou plus de matches ;\n",
        "-   `*` : 0 or more matches.\n",
        "\n",
        "Par exemple, `colou?r` permettra de matcher à la fois l’écriture américaine et anglaise"
      ],
      "id": "428dddcb-1504-4de2-84f6-edf01cb4189c"
    },
    {
      "cell_type": "code",
      "execution_count": 6,
      "metadata": {},
      "outputs": [
        {
          "output_type": "display_data",
          "metadata": {},
          "data": {
            "text/plain": [
              "['color', 'colour']"
            ]
          }
        }
      ],
      "source": [
        "re.findall(\"colou?r\", \"Did you write color or colour?\")\n"
      ],
      "id": "405253d4"
    },
    {
      "cell_type": "markdown",
      "metadata": {},
      "source": [
        "Ces quantifiers peuvent bien sûr être associés à\n",
        "d’autres types de caractères, notamment les classes de caractères.\n",
        "Cela peut être extrêmement pratique.\n",
        "Par exemple, `\\d+` permettra de capturer un ou plusieurs chiffres, `\\s?`\n",
        "permettra d’ajouter en option un espace,\n",
        "`[\\w]{6,8}` un mot entre six et huit lettres qu’on écrira…\n",
        "\n",
        "Il est aussi possible de définir le nombre de répétitions\n",
        "avec `{}`:\n",
        "\n",
        "-   `{n}` matche exactement *n* fois ;\n",
        "-   `{n,}` matche au moins *n* fois ;\n",
        "-   `{n,m}` matche entre *n* et *m* fois.\n",
        "\n",
        "Cependant, la répétition des termes\n",
        "ne s’applique par défaut qu’au dernier\n",
        "caractère précédent le quantifier.\n",
        "On peut s’en convaincre avec l’exemple ci-dessus:"
      ],
      "id": "e2450b79-6fa4-4b96-90dd-3261c738a9bc"
    },
    {
      "cell_type": "code",
      "execution_count": 7,
      "metadata": {},
      "outputs": [
        {
          "output_type": "stream",
          "name": "stdout",
          "text": [
            "None"
          ]
        }
      ],
      "source": [
        "print(re.match(\"toc{4}\", \"toctoctoctoc\"))\n"
      ],
      "id": "b4730aae"
    },
    {
      "cell_type": "markdown",
      "metadata": {},
      "source": [
        "Pour pallier ce problème, il existe les parenthèses.\n",
        "Le principe est le même qu’avec les règles numériques:\n",
        "les parenthèses permettent d’introduire une hiérarchie.\n",
        "Pour reprendre l’exemple précédent, on obtient\n",
        "bien le résultat attendu grâce aux parenthèses:"
      ],
      "id": "82ecc2d4-dbb1-4d3d-ba64-4bfc13146488"
    },
    {
      "cell_type": "code",
      "execution_count": 8,
      "metadata": {},
      "outputs": [
        {
          "output_type": "stream",
          "name": "stdout",
          "text": [
            "<re.Match object; span=(0, 12), match='toctoctoctoc'>\n",
            "None\n",
            "<re.Match object; span=(0, 12), match='toctoctoctoc'>"
          ]
        }
      ],
      "source": [
        "print(re.match(\"(toc){4}\", \"toctoctoctoc\"))\n",
        "print(re.match(\"(toc){5}\", \"toctoctoctoc\"))\n",
        "print(re.match(\"(toc){2,4}\", \"toctoctoctoc\"))\n"
      ],
      "id": "0fcf7d6a"
    },
    {
      "cell_type": "markdown",
      "metadata": {},
      "source": [
        "<div class=\"alert alert-info\" role=\"alert\">\n",
        "<h3 class=\"alert-heading\"><i class=\"fa-solid fa-comment\"></i> Note</h3>\n",
        "\n",
        "L’algorithme des expressions régulières essaye toujours de faire correspondre le plus grand morceau à l’expression régulière.\n",
        "\n",
        "Par exemple, soit une chaine de caractère HTML:\n",
        "\n",
        "``` python\n",
        "s = \"<h1>Super titre HTML</h1>\"\n",
        "```\n",
        "\n",
        "L’expression régulière `re.findall(\"<.*>\", s)` correspond, potentiellement,\n",
        "à trois morceaux :\n",
        "\n",
        "-   `<h1>`\n",
        "-   `</h1>`\n",
        "-   `<h1>Super titre HTML</h1>`\n",
        "\n",
        "C’est ce dernier qui sera choisi, car le plus grand. Pour\n",
        "sélectionner le plus petit,\n",
        "il faudra écrire les multiplicateurs comme ceci : `*?`, `+?`.\n",
        "En voici quelques exemples:\n",
        "\n",
        "``` python\n",
        "s = \"<h1>Super titre HTML</h1>\\n<p><code>Python</code> est un langage très flexible</p>\"\n",
        "print(re.findall(\"<.*>\", s))\n",
        "print(re.findall(\"<p>.*</p>\", s))\n",
        "print(re.findall(\"<p>.*?</p>\", s))\n",
        "print(re.compile(\"<.*?>\").findall(s))\n",
        "```\n",
        "\n",
        "    ['<h1>Super titre HTML</h1>', '<p><code>Python</code> est un langage très flexible</p>']\n",
        "    ['<p><code>Python</code> est un langage très flexible</p>']\n",
        "    ['<p><code>Python</code> est un langage très flexible</p>']\n",
        "    ['<h1>', '</h1>', '<p>', '<code>', '</code>', '</p>']\n",
        "\n",
        "</div>\n",
        "\n",
        "## 2.3 Aide-mémoire\n",
        "\n",
        "Le tableau ci-dessous peut servir d’aide-mémoire\n",
        "sur les regex:\n",
        "\n",
        "| Expression régulière | Signification |\n",
        "|--------------------------|----------------------------------------------|\n",
        "| `\"^\"` | Début de la chaîne de caractères |\n",
        "| `\"$\"` | Fin de la chaîne de caractères |\n",
        "| `\"\\\\.\"` | Un point |\n",
        "| `\".\"` | N’importe quel caractère |\n",
        "| `\".+\"` | N’importe quelle suite de caractères non vide |\n",
        "| `\".*\"` | N’importe quelle suite de caractères, éventuellement vi |\n",
        "| `\"[:alnum:]\"` | Un caractère alphanumérique |\n",
        "| `\"[:alpha:]\"` | Une lettre |\n",
        "| `\"[:digit:]\"` | Un chiffre |\n",
        "| `\"[:lower:]\"` | Une lettre minuscule |\n",
        "| `\"[:punct:]\"` | Un signe de ponctuation |\n",
        "| `\"[:space:]\"` | un espace |\n",
        "| `\"[:upper:]\"` | Une lettre majuscule |\n",
        "| `\"[[:alnum:]]+\"` | Une suite d’au moins un caractère alphanumérique |\n",
        "| `\"[[:alpha:]]+\"` | Une suite d’au moins une lettre |\n",
        "| `\"[[:digit:]]+\"` | Une suite d’au moins un chiffre |\n",
        "| `\"[[:lower:]]+\"` | Une suite d’au moins une lettre minuscule |\n",
        "| `\"[[:punct:]]+\"` | Une suite d’au moins un signe de ponctuation |\n",
        "| `\"[[:space:]]+\"` | Une suite d’au moins un espace |\n",
        "| `\"[[:upper:]]+\"` | Une suite d’au moins une lettre majuscule |\n",
        "| `\"[[:alnum:]]*\"` | Une suite de caractères alphanumériques, éventuellement vide |\n",
        "| `\"[[:alpha:]]*\"` | Une suite de lettres, éventuellement vide |\n",
        "| `\"[[:digit:]]*\"` | Une suite de chiffres, éventuellement vide |\n",
        "| `\"[[:lower:]]*\"` | Une suite de lettres minuscules, éventuellement vide |\n",
        "| `\"[[:upper:]]*\"` | Une suite de lettres majuscules, éventuellement vide |\n",
        "| `\"[[:punct:]]*\"` | Une suite de signes de ponctuation, éventuellement vide |\n",
        "| `\"[^[:alpha:]]+\"` | Une suite d’au moins un caractère autre qu’une lettre |\n",
        "| `\"[^[:digit:]]+\"` | Une suite d’au moins un caractère autre qu’un chiffre |\n",
        "| `\"\\|\"` | L’une des expressions `x` ou `y` est présente |\n",
        "| `[abyz]` | Un seul des caractères spécifiés |\n",
        "| `[abyz]+` | Un ou plusieurs des caractères spécifiés (éventuellement répétés) |\n",
        "| `[^abyz]` | Aucun des caractères spécifiés n’est présent |\n",
        "\n",
        "Certaines classes de caractères bénéficient d’une syntaxe plus légère car\n",
        "elles sont très fréquentes. Parmi-celles:\n",
        "\n",
        "| Expression régulière | Signification |\n",
        "|--------------------------|----------------------------------------------|\n",
        "| `\\d` | N’importe quel chiffre |\n",
        "| `\\D` | N’importe quel caractère qui n’est pas un caractère |\n",
        "| `\\s` | N’importe quel espace (espace, tabulation, retour à la ligne) |\n",
        "| `\\S` | N’importe quel caractère qui n’est pas un espace |\n",
        "| `\\w` | N’importe quel type de mot (lettres et nombres) |\n",
        "| `\\W` | N’importe quel ensemble qui n’est pas un mot (lettres et nombres) |\n",
        "\n",
        "Dans l’exercice suivant, vous allez pouvoir mettre en pratique\n",
        "les exemples précédents sur une `regex` un peu plus complète.\n",
        "Cet exercice ne nécessite pas la connaissance des subtilités\n",
        "du *package* `re`, vous n’aurez besoin que de `re.findall`.\n",
        "\n",
        "Cet exercice utilisera la chaine de caractère suivante :"
      ],
      "id": "2a321b9e-08a2-4c72-ab29-ced3e5061915"
    },
    {
      "cell_type": "code",
      "execution_count": 11,
      "metadata": {},
      "outputs": [
        {
          "output_type": "display_data",
          "metadata": {},
          "data": {
            "text/plain": [
              "'date 0 : 14/9/2000\\ndate 1 : 20/04/1971     date 2 : 14/09/1913     date 3 : 2/3/1978\\ndate 4 : 1/7/1986     date 5 : 7/3/47     date 6 : 15/10/1914\\ndate 7 : 08/03/1941     date 8 : 8/1/1980     date 9 : 30/6/1976'"
            ]
          }
        }
      ],
      "source": [
        "s = \"\"\"date 0 : 14/9/2000\n",
        "date 1 : 20/04/1971     date 2 : 14/09/1913     date 3 : 2/3/1978\n",
        "date 4 : 1/7/1986     date 5 : 7/3/47     date 6 : 15/10/1914\n",
        "date 7 : 08/03/1941     date 8 : 8/1/1980     date 9 : 30/6/1976\"\"\"\n",
        "s\n"
      ],
      "id": "181e3144"
    },
    {
      "cell_type": "markdown",
      "metadata": {},
      "source": [
        "<div class=\"alert alert-success\" role=\"alert\">\n",
        "<h3 class=\"alert-heading\"><i class=\"fa-solid fa-pencil\"></i> Exercice 1</h3>\n",
        "\n",
        "1.  On va d’abord s’occuper d’extraire le jour de naissance.\n",
        "    -   Le premier chiffre du jour est 0, 1, 2 ou 3. Traduire cela sous la forme d’une séquence `[X-X]`\n",
        "    -   Le deuxième chiffre du jour est lui entre 0 et 9. Traduire cela sous la séquence adéquate\n",
        "    -   Remarquez que le premier jour est facultatif. Intercaler entre les deux classes de caractère adéquate\n",
        "        le quantifieur qui convient\n",
        "    -   Ajouter le slash à la suite du motif\n",
        "    -   Tester avec `re.findall`. Vous devriez obtenir beaucoup plus d’échos que nécessaire.\n",
        "        C’est normal, à ce stade la\n",
        "        regex n’est pas encore finalisée\n",
        "2.  Suivre la même logique pour les mois en notant que les mois du calendrier grégorien ne dépassent\n",
        "    jamais la première dizaine. Tester avec `re.findall`\n",
        "3.  De même pour les années de naissance en notant que jusqu’à preuve du contraire, pour des personnes vivantes\n",
        "    aujourd’hui, les millénaires concernés sont restreints. Tester avec `re.findall`\n",
        "4.  Cette regex n’est pas naturelle, on pourrait très bien se satisfaire de classes de\n",
        "    caractères génériques `\\d` même si elles pourraient, en pratique, nous sélectionner des\n",
        "    dates de naissance non possibles (`43/78/4528` par exemple). Cela permettrait\n",
        "    d’alléger la regex afin de la rendre plus intelligible. Ne pas oublier l’utilité des quantifieurs.\n",
        "5.  Comment adapter la regex pour qu’elle soit toujours valide pour nos cas mais permette aussi de\n",
        "    capturer les dates de type `YYYY/MM/DD` ? Tester sur `1998/07/12`\n",
        "\n",
        "</div>"
      ],
      "id": "0e042231-c694-4719-ba28-77dfdd4b62cd"
    },
    {
      "cell_type": "code",
      "execution_count": 12,
      "metadata": {},
      "outputs": [],
      "source": [
        "exo1_q1 = re.findall(\"[0-3]?[0-9]/\", s)\n"
      ],
      "id": "ef2484a2"
    },
    {
      "cell_type": "code",
      "execution_count": 13,
      "metadata": {},
      "outputs": [],
      "source": [
        "exo1_q2 = re.findall(\"[0-3]?[0-9]/[0-1]?[0-9]\", s)\n"
      ],
      "id": "4000c6d2"
    },
    {
      "cell_type": "code",
      "execution_count": 14,
      "metadata": {},
      "outputs": [],
      "source": [
        "# Question 3\n",
        "exo1_q3 = re.findall(\"[0-3]?[0-9]/[0-1]?[0-9]/[0-2]?[0-9]?[0-9][0-9]\", s)\n"
      ],
      "id": "829da0de"
    },
    {
      "cell_type": "code",
      "execution_count": 15,
      "metadata": {},
      "outputs": [],
      "source": [
        "# Question 4\n",
        "exo1_q4 = re.findall(\"\\d{1,2}/\\d{1,2}/\\d{2,4}\", s)\n"
      ],
      "id": "be450c20"
    },
    {
      "cell_type": "code",
      "execution_count": 16,
      "metadata": {},
      "outputs": [],
      "source": [
        "# Question 5\n",
        "exo1_q5 = re.findall(\"\\d{1,4}/\\d{1,2}/\\d{1,4}\", s + \"\\n 1998/07/12\")\n"
      ],
      "id": "1529ab56"
    },
    {
      "cell_type": "markdown",
      "metadata": {},
      "source": [
        "A l’issue de la question 1, vous devriez avoir ce résultat :"
      ],
      "id": "f26ae6e2-b7a2-4387-95e8-788a198ac4e2"
    },
    {
      "cell_type": "code",
      "execution_count": 17,
      "metadata": {},
      "outputs": [
        {
          "output_type": "display_data",
          "metadata": {},
          "data": {
            "text/plain": [
              "['14/',\n",
              " '9/',\n",
              " '20/',\n",
              " '04/',\n",
              " '14/',\n",
              " '09/',\n",
              " '2/',\n",
              " '3/',\n",
              " '1/',\n",
              " '7/',\n",
              " '7/',\n",
              " '3/',\n",
              " '15/',\n",
              " '10/',\n",
              " '08/',\n",
              " '03/',\n",
              " '8/',\n",
              " '1/',\n",
              " '30/',\n",
              " '6/']"
            ]
          }
        }
      ],
      "source": [
        "exo1_q1\n"
      ],
      "id": "9164ec5a"
    },
    {
      "cell_type": "markdown",
      "metadata": {},
      "source": [
        "A l’issue de la question 2, vous devriez avoir ce résultat, qui commence à prendre forme:"
      ],
      "id": "5b1902b7-0334-4639-a5c7-45916de3b55d"
    },
    {
      "cell_type": "code",
      "execution_count": 18,
      "metadata": {},
      "outputs": [
        {
          "output_type": "display_data",
          "metadata": {},
          "data": {
            "text/plain": [
              "['14/9',\n",
              " '20/04',\n",
              " '14/09',\n",
              " '2/3',\n",
              " '1/7',\n",
              " '7/3',\n",
              " '15/10',\n",
              " '08/03',\n",
              " '8/1',\n",
              " '30/6']"
            ]
          }
        }
      ],
      "source": [
        "exo1_q2\n"
      ],
      "id": "3431cfb9"
    },
    {
      "cell_type": "markdown",
      "metadata": {},
      "source": [
        "A l’issue de la question 3, on parvient bien à extraire les dates :"
      ],
      "id": "a23531e6-a01f-426f-b74a-4c0221a214cd"
    },
    {
      "cell_type": "code",
      "execution_count": 19,
      "metadata": {},
      "outputs": [
        {
          "output_type": "display_data",
          "metadata": {},
          "data": {
            "text/plain": [
              "['14/9/2000',\n",
              " '20/04/1971',\n",
              " '14/09/1913',\n",
              " '2/3/1978',\n",
              " '1/7/1986',\n",
              " '7/3/47',\n",
              " '15/10/1914',\n",
              " '08/03/1941',\n",
              " '8/1/1980',\n",
              " '30/6/1976']"
            ]
          }
        }
      ],
      "source": [
        "exo1_q3\n"
      ],
      "id": "134c3b7a"
    },
    {
      "cell_type": "markdown",
      "metadata": {},
      "source": [
        "Si tout va bien, à la question 5, votre regex devrait fonctionner:"
      ],
      "id": "1bf11b75-75eb-4275-a645-90b70cd4426b"
    },
    {
      "cell_type": "code",
      "execution_count": 20,
      "metadata": {},
      "outputs": [
        {
          "output_type": "display_data",
          "metadata": {},
          "data": {
            "text/plain": [
              "['14/9/2000',\n",
              " '20/04/1971',\n",
              " '14/09/1913',\n",
              " '2/3/1978',\n",
              " '1/7/1986',\n",
              " '7/3/47',\n",
              " '15/10/1914',\n",
              " '08/03/1941',\n",
              " '8/1/1980',\n",
              " '30/6/1976',\n",
              " '1998/07/12']"
            ]
          }
        }
      ],
      "source": [
        "exo1_q5\n"
      ],
      "id": "fc9a142d"
    },
    {
      "cell_type": "markdown",
      "metadata": {},
      "source": [
        "# 3. Principales fonctions de `re`\n",
        "\n",
        "Voici un tableau récapitulatif des principales\n",
        "fonctions du package `re` suivi d’exemples.\n",
        "\n",
        "Nous avons principalement\n",
        "utilisé jusqu’à présent `re.findall` qui est\n",
        "l’une des fonctions les plus pratiques du *package*.\n",
        "`re.sub` et `re.search` sont également bien pratiques.\n",
        "Les autres sont moins vitales mais peuvent dans des\n",
        "cas précis être utiles.\n",
        "\n",
        "| Fonction | Objectif |\n",
        "|-------------------------------------|-----------------------------------|\n",
        "| `re.match(<regex>, s)` | Trouver et renvoyer le **premier** *match* de l’expression régulière `<regex>` **à partir du début** du *string* `s` |\n",
        "| `re.search(<regex>, s)` | Trouver et renvoyer le **premier** *match* de l’expression régulière `<regex>` **quelle que soit sa position** dans le *string* `s` |\n",
        "| `re.finditer(<regex>, s)` | Trouver et renvoyer un itérateur stockant tous les *matches* de l’expression régulière `<regex>` **quelle que soit leur(s) position(s)** dans le *string* `s`. En général, on effectue ensuite une boucle sur cet itérateur |\n",
        "| `re.findall(<regex>, s)` | Trouver et renvoyer **tous les *matches*** de l’expression régulière `<regex>` **quelle que soit leur(s) position(s)** dans le *string* `s` sous forme de **liste** |\n",
        "| `re.sub(<regex>, new_text, s)` | Trouver et **remplacer tous** les *matches* de l’expression régulière `<regex>` **quelle que soit leur(s) position(s)** dans le *string* `s` |\n",
        "\n",
        "Pour illustrer ces fonctions, voici quelques exemples:"
      ],
      "id": "4408dcc0-1917-45b4-a6eb-5adf6ed5dd04"
    },
    {
      "cell_type": "markdown",
      "metadata": {},
      "source": [
        "<details><summary>Exemple de <code>re.match</code> 👇</summary>\n",
        "\n",
        "`re.match` ne peut servir qu’à capturer un *pattern* en début\n",
        "de *string*. Son utilité est donc limitée.\n",
        "Capturons néanmoins `toto` :\n",
        "\n",
        "``` python\n",
        "re.match(\"(to){2}\", \"toto à la plage\")\n",
        "```\n",
        "\n",
        "    <re.Match object; span=(0, 4), match='toto'>\n",
        "\n",
        "</details>"
      ],
      "id": "11bb484f-777e-4ba0-b96e-a38d359b5b49"
    },
    {
      "cell_type": "markdown",
      "metadata": {},
      "source": [
        "<details><summary>Exemple de <code>re.search</code> 👇</summary>\n",
        "\n",
        "`re.search` est plus puissant que `re.match`, on peut\n",
        "capturer des termes quelle que soit leur position\n",
        "dans un *string*. Par exemple, pour capturer *age* :\n",
        "\n",
        "``` python\n",
        "re.search(\"age\", \"toto a l'age d'aller à la plage\")\n",
        "```\n",
        "\n",
        "    <re.Match object; span=(9, 12), match='age'>\n",
        "\n",
        "Et pour capturer exclusivement *“age”* en fin\n",
        "de *string* :\n",
        "\n",
        "``` python\n",
        "re.search(\"age$\", \"toto a l'age d'aller à la plage\")\n",
        "```\n",
        "\n",
        "    <re.Match object; span=(28, 31), match='age'>\n",
        "\n",
        "</details>"
      ],
      "id": "faec68d8-3de7-48d0-b578-c270eeefc3b7"
    },
    {
      "cell_type": "markdown",
      "metadata": {},
      "source": [
        "<details><summary>Exemple de <code>re.finditer</code> 👇</summary>\n",
        "\n",
        "`re.finditer` est, à mon avis,\n",
        "moins pratique que `re.findall`. Son utilité\n",
        "principale par rapport à `re.findall`\n",
        "est de capturer la position dans un champ textuel:\n",
        "\n",
        "``` python\n",
        "s = \"toto a l'age d'aller à la plage\"\n",
        "for match in re.finditer(\"age\", s):\n",
        "    start = match.start()\n",
        "    end = match.end()\n",
        "    print(f'String match \"{s[start:end]}\" at {start}:{end}')\n",
        "```\n",
        "\n",
        "    String match \"age\" at 9:12\n",
        "    String match \"age\" at 28:31\n",
        "\n",
        "</details>"
      ],
      "id": "d32b3103-bde1-4820-96f4-f959dbfbca43"
    },
    {
      "cell_type": "markdown",
      "metadata": {},
      "source": [
        "<details><summary>Exemple de <code>re.sub</code> 👇</summary>\n",
        "\n",
        "`re.sub` permet de capturer et remplacer des expressions.\n",
        "Par exemple, remplaçons *“age”* par *“âge”*. Mais attention,\n",
        "il ne faut pas le faire lorsque le motif est présent dans *“plage”*.\n",
        "On va donc mettre une condition négative: capturer *“age”* seulement\n",
        "s’il n’est pas en fin de *string* (ce qui se traduit en *regex* par `?!$`)\n",
        "\n",
        "``` python\n",
        "re.sub(\"age(?!$)\", \"âge\", \"toto a l'age d'aller à la plage\")\n",
        "```\n",
        "\n",
        "    \"toto a l'âge d'aller à la plage\"\n",
        "\n",
        "</details>"
      ],
      "id": "779d1fff-ad0d-48c0-8337-e7184fadd0f8"
    },
    {
      "cell_type": "markdown",
      "metadata": {},
      "source": [
        "<div class=\"alert alert-success\" role=\"alert\">\n",
        "<h3 class=\"alert-heading\"><i class=\"fa-solid fa-lightbulb\"></i> Quand utiliser re.compile et les raw strings ?</h3>\n",
        "\n",
        "`re.compile` peut être intéressant lorsque\n",
        "vous utilisez une expression régulière plusieurs fois dans votre code.\n",
        "Cela permet de compiler l’expression régulière en un objet reconnu par `re`,\n",
        "ce qui peut être plus efficace en termes de performance lorsque l’expression régulière\n",
        "est utilisée à plusieurs reprises ou sur des données volumineuses.\n",
        "\n",
        "Les chaînes brutes (*raw string*) sont des chaînes de caractères spéciales en `Python`,\n",
        "qui commencent par `r`. Par exemple `r\"toto à la plage\"`.\n",
        "Elles peuvent être intéressantes\n",
        "pour éviter que les caractères d’échappement ne soient interprétés par `Python`\n",
        "Par exemple, si vous voulez chercher une chaîne qui contient une barre oblique inverse `\\` dans une chaîne, vous devez utiliser une chaîne brute pour éviter que la barre oblique inverse ne soit interprétée comme un caractère d’échappement (`\\t`, `\\n`, etc.).\n",
        "Le testeur <https://regex101.com/> suppose d’ailleurs que\n",
        "vous utilisez des *raw string*, cela peut donc être utile de s’habituer à les utiliser.\n",
        "\n",
        "</div>\n",
        "\n",
        "# 4. Généralisation avec `Pandas`\n",
        "\n",
        "Les méthodes de `Pandas` sont des extensions de celles de `re`\n",
        "qui évitent de faire une boucle pour regarder,\n",
        "ligne à ligne, une regex. En pratique, lorsqu’on traite des\n",
        "`DataFrames`, on utilise plutôt l’API Pandas que `re`. Les\n",
        "codes de la forme `df.apply(lambda x: re.<fonction>(<regex>,x), axis = 1)`\n",
        "sont à bannir car très peu efficaces.\n",
        "\n",
        "Les noms changent parfois légèrement par rapport à leur\n",
        "équivalent `re`.\n",
        "\n",
        "| Méthode | Description |\n",
        "|---------------------------------------|---------------------------------|\n",
        "| `str.count()` | Compter le nombre d’occurrences du *pattern* dans chaque ligne |\n",
        "| `str.replace()` | Remplacer le *pattern* par une autre valeur. Version vectorisée de `re.sub()` |\n",
        "| `str.contains()` | Tester si le *pattern* apparaît, ligne à ligne. Version vectorisée de `re.search()` |\n",
        "| `str.extract()` | Extraire les groupes qui répondent à un *pattern* et les renvoyer dans une colonne |\n",
        "| `str.findall()` | Trouver et renvoyer toutes les occurrences d’un *pattern*. Si une ligne comporte plusieurs échos, une liste est renvoyée. Version vectorisée de `re.findall()` |\n",
        "\n",
        "A ces fonctions, s’ajoutent les méthodes `str.split()` et `str.rsplit()` qui sont bien pratiques."
      ],
      "id": "53523be0-1878-4c92-96d3-1b3aa9a800e9"
    },
    {
      "cell_type": "markdown",
      "metadata": {},
      "source": [
        "<details><summary>Exemple de <code>str.count</code> 👇</summary>\n",
        "\n",
        "On peut compter le nombre de fois qu’un *pattern* apparaît avec\n",
        "`str.count`\n",
        "\n",
        "``` python\n",
        "df = pd.DataFrame({\"a\": [\"toto\", \"titi\"]})\n",
        "df[\"a\"].str.count(\"to\")\n",
        "```\n",
        "\n",
        "    0    2\n",
        "    1    0\n",
        "    Name: a, dtype: int64\n",
        "\n",
        "</details>"
      ],
      "id": "45823640-3d72-4898-b6c2-152092ae22bf"
    },
    {
      "cell_type": "markdown",
      "metadata": {},
      "source": [
        "<details><summary>Exemple de <code>str.replace</code> 👇</summary>\n",
        "\n",
        "Remplaçons le motif *“ti”* en fin de phrase\n",
        "\n",
        "``` python\n",
        "df = pd.DataFrame({\"a\": [\"toto\", \"titi\"]})\n",
        "df[\"a\"].str.replace(\"ti$\", \" punch\")\n",
        "```\n",
        "\n",
        "    0    toto\n",
        "    1    titi\n",
        "    Name: a, dtype: object\n",
        "\n",
        "</details>"
      ],
      "id": "f3fc7cc4-66b4-48fc-a6b2-21af5cce1fb8"
    },
    {
      "cell_type": "markdown",
      "metadata": {},
      "source": [
        "<details><summary>Exemple de <code>str.contains</code> 👇</summary>\n",
        "\n",
        "Vérifions les cas où notre ligne termine par *“ti”* :\n",
        "\n",
        "``` python\n",
        "df = pd.DataFrame({\"a\": [\"toto\", \"titi\"]})\n",
        "df[\"a\"].str.contains(\"ti$\")\n",
        "```\n",
        "\n",
        "    0    False\n",
        "    1     True\n",
        "    Name: a, dtype: bool\n",
        "\n",
        "</details>"
      ],
      "id": "52c8d8ad-a2af-44aa-8b1c-ea81a73112e6"
    },
    {
      "cell_type": "markdown",
      "metadata": {},
      "source": [
        "<details><summary>Exemple de <code>str.findall</code> 👇</summary>\n",
        "\n",
        "``` python\n",
        "df = pd.DataFrame({\"a\": [\"toto\", \"titi\"]})\n",
        "df[\"a\"].str.findall(\"to\")\n",
        "```\n",
        "\n",
        "    0    [to, to]\n",
        "    1          []\n",
        "    Name: a, dtype: object\n",
        "\n",
        "</details>"
      ],
      "id": "f51f9208-6cf1-4543-acf7-3bfc5181accf"
    },
    {
      "cell_type": "markdown",
      "metadata": {},
      "source": [
        "# 5. Pour en savoir plus\n",
        "\n",
        "-   [documentation collaborative sur `R` nommée `utilitR`](https://www.book.utilitr.org/03_fiches_thematiques/fiche_donnees_textuelles#regex)\n",
        "-   [*R for Data Science*](https://r4ds.hadley.nz/regexps.html)\n",
        "-   [*Regular Expression HOWTO* dans la documentation officielle de `Python`](https://docs.python.org/3/howto/regex.html)\n",
        "-   L’outil de référence \\[https://regex101.com/\\] pour tester des expressions régulières\n",
        "-   [Ce site](https://ole.michelsen.dk/tools/regex/) qui comporte une cheat sheet en bas de la page.\n",
        "-   Les jeux de [Regex Crossword](https://regexcrossword.com/) permettent d’apprendre les expressions régulières en s’amusant\n",
        "\n",
        "# 6. Exercices supplémentaires\n",
        "\n",
        "## 6.1 Extraction d’adresses email\n",
        "\n",
        "Il s’agit d’un usage classique des *regex*"
      ],
      "id": "13d56134-455a-401a-b474-56417271e5a2"
    },
    {
      "cell_type": "code",
      "execution_count": 43,
      "metadata": {},
      "outputs": [],
      "source": [
        "text_emails = (\n",
        "    \"Hello from toto@gmail.com to titi.grominet@yahoo.com about the meeting @2PM\"\n",
        ")\n"
      ],
      "id": "9a799ac8"
    },
    {
      "cell_type": "markdown",
      "metadata": {},
      "source": [
        "<div class=\"alert alert-success\" role=\"alert\">\n",
        "<h3 class=\"alert-heading\"><i class=\"fa-solid fa-pencil\"></i> Exercice 2: extraction d’adresses email</h3>\n",
        "\n",
        "Utiliser la structure d’une adresse mail `[XXXX]@[XXXX]` pour récupérer\n",
        "ce contenu\n",
        "\n",
        "</div>"
      ],
      "id": "43d2f7fd-ec68-43f6-8c6e-d092377e3963"
    },
    {
      "cell_type": "code",
      "execution_count": 45,
      "metadata": {},
      "outputs": [
        {
          "output_type": "display_data",
          "metadata": {},
          "data": {
            "text/plain": [
              "['toto@gmail.com', 'titi.grominet@yahoo.com']"
            ]
          }
        }
      ],
      "source": [],
      "id": "3a6b996d"
    },
    {
      "cell_type": "markdown",
      "metadata": {},
      "source": [
        "## 6.2 Extraire des années depuis un `DataFrame` `Pandas`\n",
        "\n",
        "L’objectif général de l’exercice est de nettoyer des colonnes d’un DataFrame en utilisant des expressions régulières.\n",
        "\n",
        "<div class=\"alert alert-success\" role=\"alert\">\n",
        "<h3 class=\"alert-heading\"><i class=\"fa-solid fa-pencil\"></i> Exercice 3</h3>\n",
        "\n",
        "La base en question contient des livres de la British Library et quelques informations les concernant. Le jeu de données est disponible ici : https://raw.githubusercontent.com/realpython/python-data-cleaning/master/Datasets/BL-Flickr-Images-Book.csv\n",
        "\n",
        "La colonne “Date de Publication” n’est pas toujours une année, il y a parfois d’autres informations. Le but de l’exercice est d’avoir **une date de publication du livre propre** et de regarder la **distribution des années de publications**.\n",
        "\n",
        "Pour ce faire, vous pouvez :\n",
        "\n",
        "-   Soit choisir de réaliser l’exercice sans aide. Votre **lecture de l’énoncé s’arrête donc ici**. Vous devez alors faire attention à bien regarder vous-même la base de données et la transformer avec attention.\n",
        "\n",
        "-   Soit suivre les différentes étapes qui suivent pas à pas.\n",
        "\n",
        "<details><summary>Version guidée 👇</summary>\n",
        "\n",
        "1.  Lire les données depuis l’url `https://raw.githubusercontent.com/realpython/python-data-cleaning/master/Datasets/BL-Flickr-Images-Book.csv`. Attention au séparateur\n",
        "2.  Ne garder que les colonnes `['Identifier', 'Place of Publication', 'Date of Publication', 'Publisher', 'Title', 'Author']`\n",
        "3.  Observer la colonne *‘Date of Publication’* et remarquer le problème sur certaines lignes (par exemple la ligne 13)\n",
        "4.  Commencez par regarder le nombre d’informations manquantes. On ne pourra pas avoir mieux après la regex, et normalement on ne devrait pas avoir moins…\n",
        "5.  Déterminer la forme de la regex pour une date de publication. A priori, il y a 4 chiffres qui forment une année.\n",
        "    Utiliser la méthode `str.extract()` avec l’argument `expand = False` (pour ne conserver que la première date concordant avec notre *pattern*)?\n",
        "6.  On a 2 `NaN` qui n’étaient pas présents au début de l’exercice. Quels sont-ils et pourquoi ?\n",
        "7.  Quelle est la répartition des dates de publications dans le jeu de données ? Vous pouvez par exemple afficher un histogramme grâce à la méthode `plot` avec l’argument `kind =\"hist\"`.\n",
        "\n",
        "</summary>\n",
        "\n",
        "</div>"
      ],
      "id": "00e47cc2-e215-4b87-a942-ba4ed30d4151"
    },
    {
      "cell_type": "code",
      "execution_count": 46,
      "metadata": {},
      "outputs": [],
      "source": [
        "# Question 1\n",
        "data_books = pd.read_csv(\n",
        "    \"https://raw.githubusercontent.com/realpython/python-data-cleaning/master/Datasets/BL-Flickr-Images-Book.csv\",\n",
        "    sep=\",\",\n",
        ")\n"
      ],
      "id": "6e0713ed"
    },
    {
      "cell_type": "code",
      "execution_count": 47,
      "metadata": {},
      "outputs": [],
      "source": [
        "# Question 2\n",
        "data_books = data_books.loc[\n",
        "    :,\n",
        "    [\n",
        "        \"Identifier\",\n",
        "        \"Place of Publication\",\n",
        "        \"Date of Publication\",\n",
        "        \"Publisher\",\n",
        "        \"Title\",\n",
        "        \"Author\",\n",
        "    ],\n",
        "]\n"
      ],
      "id": "b211b50d"
    },
    {
      "cell_type": "markdown",
      "metadata": {},
      "source": [
        "Voici par exemple le problème qu’on demande de détecter à la question 3 :"
      ],
      "id": "0007a3da-91ae-4686-9b90-904a3044444f"
    },
    {
      "cell_type": "code",
      "execution_count": 48,
      "metadata": {},
      "outputs": [
        {
          "output_type": "display_data",
          "metadata": {},
          "data": {
            "text/html": [
              "\n",
              "</div>"
            ]
          }
        }
      ],
      "source": [
        "# Question 3\n",
        "(data_books.loc[:, [\"Date of Publication\", \"Title\"]].iloc[13:20])\n"
      ],
      "id": "08fe2ac0"
    },
    {
      "cell_type": "markdown",
      "metadata": {},
      "source": [
        "A la question 4, on obtient la réponse"
      ],
      "id": "4ce8132a-b97f-4104-aa4d-d498625f6fd9"
    },
    {
      "cell_type": "code",
      "execution_count": 49,
      "metadata": {},
      "outputs": [
        {
          "output_type": "display_data",
          "metadata": {},
          "data": {
            "text/plain": [
              "181"
            ]
          }
        }
      ],
      "source": [
        "# Question 4\n",
        "data_books[\"Date of Publication\"].isna().sum()\n"
      ],
      "id": "5ed5a4b5"
    },
    {
      "cell_type": "code",
      "execution_count": 50,
      "metadata": {},
      "outputs": [],
      "source": [
        "# Question 5\n",
        "expression = \"([0-2][0-9][0-9][0-9])\"\n",
        "data_books[\"year\"] = data_books[\"Date of Publication\"].str.extract(\n",
        "    expression, expand=False\n",
        ")\n",
        "\n",
        "answer_q5 = data_books.loc[\n",
        "    ~(data_books[\"Date of Publication\"] == data_books[\"year\"]),\n",
        "    [\"Date of Publication\", \"year\"],\n",
        "]\n"
      ],
      "id": "32e907b1"
    },
    {
      "cell_type": "markdown",
      "metadata": {},
      "source": [
        "Grâce à notre regex (question 5), on obtient ainsi un `DataFrame` plus conforme à nos attentes"
      ],
      "id": "2d22fb6a-efa9-4d2c-ae5d-b20979681ef0"
    },
    {
      "cell_type": "code",
      "execution_count": 51,
      "metadata": {},
      "outputs": [
        {
          "output_type": "display_data",
          "metadata": {},
          "data": {
            "text/html": [
              "\n",
              "<p>1759 rows × 2 columns</p>\n",
              "</div>"
            ]
          }
        }
      ],
      "source": [
        "answer_q5\n"
      ],
      "id": "628d6e69"
    },
    {
      "cell_type": "markdown",
      "metadata": {},
      "source": [
        "Quant aux nouveaux `NaN`,\n",
        "il s’agit de lignes qui ne contenaient pas de chaînes de caractères qui ressemblaient à des années :"
      ],
      "id": "b38b5afd-1d23-4253-8a65-adf63cf4a82d"
    },
    {
      "cell_type": "code",
      "execution_count": 52,
      "metadata": {},
      "outputs": [
        {
          "output_type": "display_data",
          "metadata": {},
          "data": {
            "text/html": [
              "\n",
              "</div>"
            ]
          }
        }
      ],
      "source": [
        "(\n",
        "    data_books.loc[\n",
        "        ~data_books[\"Date of Publication\"].isna() & data_books[\"year\"].isna(),\n",
        "        [\"Date of Publication\", \"year\"],\n",
        "    ]\n",
        ")\n"
      ],
      "id": "949fb7b3"
    },
    {
      "cell_type": "markdown",
      "metadata": {},
      "source": [
        "Enfin, on obtient l’histogramme suivant des dates de publications:"
      ],
      "id": "933360df-a096-48f3-b91a-d8a9ded05acc"
    },
    {
      "cell_type": "code",
      "execution_count": 53,
      "metadata": {},
      "outputs": [
        {
          "output_type": "display_data",
          "metadata": {},
          "data": {
            "image/png": "[encoded data removed]"
          }
        }
      ],
      "source": [
        "pd.to_numeric(data_books[\"year\"], downcast=\"integer\").plot(kind=\"hist\")\n"
      ],
      "id": "ec4f7c3d"
    }
  ],
  "nbformat": 4,
  "nbformat_minor": 5,
  "metadata": {
    "kernelspec": {
      "name": "python3",
      "display_name": "Python 3 (ipykernel)",
      "language": "python",
      "path": "/opt/conda/share/jupyter/kernels/python3"
    },
    "language_info": {
      "name": "python",
      "codemirror_mode": {
        "name": "ipython",
        "version": "3"
      },
      "file_extension": ".py",
      "mimetype": "text/x-python",
      "nbconvert_exporter": "python",
      "pygments_lexer": "ipython3",
      "version": "3.12.6"
    }
  }
}